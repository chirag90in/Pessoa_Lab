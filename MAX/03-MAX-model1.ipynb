{
 "cells": [
  {
   "cell_type": "code",
   "execution_count": 1,
   "metadata": {},
   "outputs": [
    {
     "data": {
      "text/html": [
       "<script>  \n",
       "code_show=true; \n",
       "function code_toggle() {\n",
       "  if (code_show){\n",
       "    $('div.input').hide();\n",
       "  } else {\n",
       "    $('div.input').show();\n",
       "  }\n",
       "  code_show = !code_show\n",
       "}  \n",
       "$( document ).ready(code_toggle);\n",
       "</script>\n",
       "  <form action=\"javascript:code_toggle()\">\n",
       "    <input type=\"submit\" value=\"Click here to toggle on/off the raw code.\">\n",
       " </form>"
      ]
     },
     "metadata": {},
     "output_type": "display_data"
    }
   ],
   "source": [
    "library(IRdisplay)\n",
    "\n",
    "display_html(\n",
    "'<script>  \n",
    "code_show=true; \n",
    "function code_toggle() {\n",
    "  if (code_show){\n",
    "    $(\\'div.input\\').hide();\n",
    "  } else {\n",
    "    $(\\'div.input\\').show();\n",
    "  }\n",
    "  code_show = !code_show\n",
    "}  \n",
    "$( document ).ready(code_toggle);\n",
    "</script>\n",
    "  <form action=\"javascript:code_toggle()\">\n",
    "    <input type=\"submit\" value=\"Click here to toggle on/off the raw code.\">\n",
    " </form>'\n",
    ")"
   ]
  },
  {
   "cell_type": "code",
   "execution_count": 4,
   "metadata": {},
   "outputs": [],
   "source": [
    "library(brms)\n",
    "library(dplyr)\n",
    "library(parallel)"
   ]
  },
  {
   "cell_type": "code",
   "execution_count": 5,
   "metadata": {},
   "outputs": [],
   "source": [
    "df <- read.table('MAX_neutral_early_late.txt',header = TRUE,sep = \",\")\n",
    "# Filter out 'early' data\n",
    "df <-filter(df,Phase=='early')\n",
    "# Create a new column se (standard error) by taking square root of var\n",
    "df$se = sqrt(df$var)"
   ]
  },
  {
   "cell_type": "code",
   "execution_count": 6,
   "metadata": {},
   "outputs": [
    {
     "name": "stdout",
     "output_type": "stream",
     "text": [
      "[1] \"Number of ROIs: 36\"\n",
      "[1] \"Number of subjects: 109\"\n",
      "[1] \"Number of cores available: 16\"\n"
     ]
    },
    {
     "data": {
      "text/html": [
       "<table>\n",
       "<caption>A data.frame: 6 × 7</caption>\n",
       "<thead>\n",
       "\t<tr><th></th><th scope=col>Subj</th><th scope=col>ROI</th><th scope=col>beta</th><th scope=col>se</th><th scope=col>cond</th><th scope=col>TRAIT</th><th scope=col>STATE</th></tr>\n",
       "\t<tr><th></th><th scope=col>&lt;fct&gt;</th><th scope=col>&lt;fct&gt;</th><th scope=col>&lt;dbl&gt;</th><th scope=col>&lt;dbl&gt;</th><th scope=col>&lt;dbl&gt;</th><th scope=col>&lt;dbl&gt;</th><th scope=col>&lt;dbl&gt;</th></tr>\n",
       "</thead>\n",
       "<tbody>\n",
       "\t<tr><th scope=row>1</th><td>MAX101</td><td>ACC                   </td><td>-0.008450</td><td>0.03363034</td><td>-0.5</td><td>-1.164152</td><td>-1.011495</td></tr>\n",
       "\t<tr><th scope=row>2</th><td>MAX101</td><td>Left AntDorsal Insula </td><td>-0.048800</td><td>0.02981610</td><td>-0.5</td><td>-1.164152</td><td>-1.011495</td></tr>\n",
       "\t<tr><th scope=row>3</th><td>MAX101</td><td>Left AntVentral Insula</td><td>-0.129348</td><td>0.04368066</td><td>-0.5</td><td>-1.164152</td><td>-1.011495</td></tr>\n",
       "\t<tr><th scope=row>4</th><td>MAX101</td><td>Left Anterior  Putamen</td><td>-0.014730</td><td>0.04275512</td><td>-0.5</td><td>-1.164152</td><td>-1.011495</td></tr>\n",
       "\t<tr><th scope=row>5</th><td>MAX101</td><td>Left Anterior Caudate </td><td>-0.072463</td><td>0.03974921</td><td>-0.5</td><td>-1.164152</td><td>-1.011495</td></tr>\n",
       "\t<tr><th scope=row>6</th><td>MAX101</td><td>Left Anterior MCC     </td><td> 0.049450</td><td>0.04815600</td><td>-0.5</td><td>-1.164152</td><td>-1.011495</td></tr>\n",
       "</tbody>\n",
       "</table>\n"
      ],
      "text/latex": [
       "A data.frame: 6 × 7\n",
       "\\begin{tabular}{r|lllllll}\n",
       "  & Subj & ROI & beta & se & cond & TRAIT & STATE\\\\\n",
       "  & <fct> & <fct> & <dbl> & <dbl> & <dbl> & <dbl> & <dbl>\\\\\n",
       "\\hline\n",
       "\t1 & MAX101 & ACC                    & -0.008450 & 0.03363034 & -0.5 & -1.164152 & -1.011495\\\\\n",
       "\t2 & MAX101 & Left AntDorsal Insula  & -0.048800 & 0.02981610 & -0.5 & -1.164152 & -1.011495\\\\\n",
       "\t3 & MAX101 & Left AntVentral Insula & -0.129348 & 0.04368066 & -0.5 & -1.164152 & -1.011495\\\\\n",
       "\t4 & MAX101 & Left Anterior  Putamen & -0.014730 & 0.04275512 & -0.5 & -1.164152 & -1.011495\\\\\n",
       "\t5 & MAX101 & Left Anterior Caudate  & -0.072463 & 0.03974921 & -0.5 & -1.164152 & -1.011495\\\\\n",
       "\t6 & MAX101 & Left Anterior MCC      &  0.049450 & 0.04815600 & -0.5 & -1.164152 & -1.011495\\\\\n",
       "\\end{tabular}\n"
      ],
      "text/markdown": [
       "\n",
       "A data.frame: 6 × 7\n",
       "\n",
       "| <!--/--> | Subj &lt;fct&gt; | ROI &lt;fct&gt; | beta &lt;dbl&gt; | se &lt;dbl&gt; | cond &lt;dbl&gt; | TRAIT &lt;dbl&gt; | STATE &lt;dbl&gt; |\n",
       "|---|---|---|---|---|---|---|---|\n",
       "| 1 | MAX101 | ACC                    | -0.008450 | 0.03363034 | -0.5 | -1.164152 | -1.011495 |\n",
       "| 2 | MAX101 | Left AntDorsal Insula  | -0.048800 | 0.02981610 | -0.5 | -1.164152 | -1.011495 |\n",
       "| 3 | MAX101 | Left AntVentral Insula | -0.129348 | 0.04368066 | -0.5 | -1.164152 | -1.011495 |\n",
       "| 4 | MAX101 | Left Anterior  Putamen | -0.014730 | 0.04275512 | -0.5 | -1.164152 | -1.011495 |\n",
       "| 5 | MAX101 | Left Anterior Caudate  | -0.072463 | 0.03974921 | -0.5 | -1.164152 | -1.011495 |\n",
       "| 6 | MAX101 | Left Anterior MCC      |  0.049450 | 0.04815600 | -0.5 | -1.164152 | -1.011495 |\n",
       "\n"
      ],
      "text/plain": [
       "  Subj   ROI                    beta      se         cond TRAIT     STATE    \n",
       "1 MAX101 ACC                    -0.008450 0.03363034 -0.5 -1.164152 -1.011495\n",
       "2 MAX101 Left AntDorsal Insula  -0.048800 0.02981610 -0.5 -1.164152 -1.011495\n",
       "3 MAX101 Left AntVentral Insula -0.129348 0.04368066 -0.5 -1.164152 -1.011495\n",
       "4 MAX101 Left Anterior  Putamen -0.014730 0.04275512 -0.5 -1.164152 -1.011495\n",
       "5 MAX101 Left Anterior Caudate  -0.072463 0.03974921 -0.5 -1.164152 -1.011495\n",
       "6 MAX101 Left Anterior MCC       0.049450 0.04815600 -0.5 -1.164152 -1.011495"
      ]
     },
     "metadata": {},
     "output_type": "display_data"
    }
   ],
   "source": [
    "# Number of iterations for the MCMC sampling\n",
    "iterations <- 20000\n",
    "# Number of chains to run\n",
    "chains <- 4\n",
    "SCALE <- 1\n",
    "ns <- iterations*chains/2\n",
    "\n",
    "# For analysis only following columns are needed: Subj, ROI, beta, se, TRAIT and STATE. \n",
    "# So just select those columns and creata a new dataframe called dataTable\n",
    "dataTable <- select(df,Subj,ROI,beta,se,TvsS,TRAIT,STATE)\n",
    "\n",
    "# Rename TvsS to cond\n",
    "colnames(dataTable)[5] <- \"cond\"\n",
    "\n",
    "# Redefine grouping variables (Subj and ROI) as factors \n",
    "dataTable$Subj <- factor(dataTable$Subj)\n",
    "dataTable$ROI <- factor(dataTable$ROI)\n",
    "\n",
    "# number of ROIs\n",
    "nR <- nlevels(dataTable$ROI)\n",
    "\n",
    "print(paste0('Number of ROIs: ',nR))\n",
    "print(paste0('Number of subjects: ',nlevels(dataTable$Subj)))\n",
    "print(paste0('Number of cores available: ', detectCores(all.tests = FALSE, logical = TRUE)))\n",
    "\n",
    "# number of sigfigs to show on the table\n",
    "nfigs <- 4\n",
    "\n",
    "head(dataTable)"
   ]
  },
  {
   "cell_type": "code",
   "execution_count": 7,
   "metadata": {},
   "outputs": [
    {
     "name": "stdout",
     "output_type": "stream",
     "text": [
      "NULL\n",
      "[1] 16\n"
     ]
    }
   ],
   "source": [
    "# Set nuber of cores to use. \n",
    "# To run each chain on a single core, set number of core to 4\n",
    "print(getOption(\"mc.cores\"))\n",
    "options(mc.cores = parallel::detectCores())\n",
    "print(getOption(\"mc.cores\"))"
   ]
  },
  {
   "cell_type": "markdown",
   "metadata": {},
   "source": [
    "## **1. BML**\n",
    "\n",
    "## Model \n",
    "\n",
    "<center> Y $\\sim$ 1 + cond + state + trait + (1 + cond | SUB) + (1 + cond + state + trait | ROI) </center>"
   ]
  },
  {
   "cell_type": "markdown",
   "metadata": {},
   "source": [
    "$$Y_{s,r} \\sim Student(\\nu,\\mu_{s,r},\\sigma^{2}_{s,r})$$  \n",
    "$$\\mu_{s,r} = \\alpha + \\alpha_{SUB} + \\alpha_{ROI} + (\\beta_{cond} + \\beta_{SUB_{cond}} + \\beta_{ROI_{cond}})*cond + (\\beta_{state} + \\beta_{ROI_{state}})*state + (\\beta_{trait} + \\beta_{ROI_{trait}})*trait $$\n",
    "\n",
    "\n",
    "Where,  \n",
    "$\\mu_{s,r}$: Mean ROI response in the given subject for a particular phase and block type.     \n",
    "_cond_: Threat (0.5) vs. Safe (-0.5)  \n",
    "_state_: Subject's state score  \n",
    "_trait_: Subject's trait score  "
   ]
  },
  {
   "cell_type": "markdown",
   "metadata": {},
   "source": [
    "## Priors\n",
    "\n",
    "$\\alpha \\sim Student(3,0,10)$ [population effect]  \n",
    "$\\alpha_{SUB} \\sim Student(\\nu_{SUB},0,\\sigma_{SUB})$ [Subject effect]    \n",
    "$\\alpha_{ROI} \\sim Student(\\nu_{ROI},0,\\sigma_{ROI})$ [ROI effect]  \n",
    "\n",
    "$\\beta_{cond} \\sim Student(3,0,10)$ [population effect: cond]  \n",
    "$\\beta_{state} \\sim Student(3,0,10)$ [population effect: state]    \n",
    "$\\beta_{trait} \\sim Student(3,0,10)$ [population effect: trait]  \n",
    "\n",
    "$\\begin{bmatrix}\n",
    "  \\alpha_{ROI} \\\\\n",
    "  \\beta_{ROI_{cond}} \\\\\n",
    "  \\beta_{ROI_{state}} \\\\\n",
    "  \\beta_{ROI_{trait}}\n",
    "\\end{bmatrix} \\sim MVNormal(\\begin{bmatrix} 0 \\\\ 0 \\\\ 0 \\\\ 0 \\end{bmatrix},S)$\n",
    "\n",
    "$ S = \\begin{bmatrix} \\sigma_{\\alpha_{ROI}} & & & \\\\ & \\sigma_{\\beta_{ROI_{cond}}} & & \\\\ & & \\sigma_{\\beta_{ROI_{state}}} & \\\\ & & & \\sigma_{\\beta_{ROI_{trait}}} \\end{bmatrix} R \\begin{bmatrix} \\sigma_{\\alpha_{ROI}} & & & \\\\ & \\sigma_{\\beta_{ROI_{cond}}} & & \\\\ & & \\sigma_{\\beta_{ROI_{state}}} & \\\\ & & & \\sigma_{\\beta_{ROI_{trait}}} \\end{bmatrix}$\n",
    "\n",
    "$\\begin{bmatrix}\n",
    "  \\alpha_{SUB} \\\\\n",
    "  \\beta_{SUB_{cond}}\n",
    "\\end{bmatrix} \\sim MVNormal(\\begin{bmatrix} 0 \\\\ 0 \\end{bmatrix},S)$\n",
    "\n",
    "$ S = \\begin{bmatrix} \\sigma_{\\alpha_{SUB}} & \\\\ & \\sigma_{\\beta_{SUB_{cond}}} \\end{bmatrix} R \\begin{bmatrix} \\sigma_{\\alpha_{SUB}} & \\\\ & \\sigma_{\\beta_{SUB_{cond}}} \\end{bmatrix}$\n",
    "\n",
    "\n",
    "$\\sigma_{SUB} \\sim HalfStudent(3,0,10)$ [prior stddev for Subject effect]    \n",
    "$\\sigma_{ROI} \\sim HalfStudent(3,0,10)$ [prior stddev for ROI effect]    \n",
    "$\\nu_{SUB} \\sim \\Gamma(3.325,0.1)$ [Subject effect hyperprior]    \n",
    "$\\nu_{ROI} \\sim \\Gamma(3.325,0.1)$ [ROI effect hyperprior]  \n",
    "\n",
    "$\\sigma_{\\alpha} \\sim HalfStudent(3,0,10)$ [prior stddev among intercepts]  \n",
    "$\\sigma_{\\beta} \\sim HalfStudent(3,0,10)$ [prior stddev among slopes]\n",
    "\n",
    "$R \\sim LKJcorr(2)$ [prior of correlation matix]\n"
   ]
  },
  {
   "cell_type": "code",
   "execution_count": 8,
   "metadata": {},
   "outputs": [
    {
     "name": "stdout",
     "output_type": "stream",
     "text": [
      "                 prior     class      coef group resp dpar nlpar bound\n",
      "1    student_t(3,0,10)         b                                      \n",
      "2                              b      cond                            \n",
      "3                              b     STATE                            \n",
      "4                              b     TRAIT                            \n",
      "5               lkj(2)       cor                                      \n",
      "6                            cor             ROI                      \n",
      "7                            cor            Subj                      \n",
      "8     gamma(3.325,0.1)        df             ROI                      \n",
      "9     gamma(3.325,0.1)        df            Subj                      \n",
      "10 student_t(3, 0, 10) Intercept                                      \n",
      "11    gamma(3.325,0.1)        nu                                      \n",
      "12 student_t(3, 0, 10)        sd                                      \n",
      "13                            sd             ROI                      \n",
      "14                            sd      cond   ROI                      \n",
      "15                            sd Intercept   ROI                      \n",
      "16                            sd     STATE   ROI                      \n",
      "17                            sd     TRAIT   ROI                      \n",
      "18                            sd            Subj                      \n",
      "19                            sd      cond  Subj                      \n",
      "20                            sd Intercept  Subj                      \n"
     ]
    }
   ],
   "source": [
    "mod = '1 + cond + STATE + TRAIT'\n",
    "modelForm = paste('beta | se(se) ~',\n",
    "                  mod,'+ (1 + cond | gr(Subj, dist= \"student\")) +   \n",
    "                         (',mod,'| gr(ROI, dist=\"student\"))')\n",
    "priorRBA <- get_prior(formula = modelForm,data=dataTable,family = 'student')\n",
    "priorRBA$prior[5] <- \"lkj(2)\"\n",
    "priorRBA$prior[8:9] <- \"gamma(3.325,0.1)\"\n",
    "priorRBA$prior[11] <- \"gamma(3.325,0.1)\"\n",
    "\n",
    "# You can assign prior or your choice to any of the parameter in the table below. \n",
    "# For example. If you want to assign a student_t(3,0,10) prior to all parameters of class b, \n",
    "# the following line does that for you. Parameters in class b are the population effects (cond, STATE and TRAIT)\n",
    "priorRBA$prior[1] <- \"student_t(3,0,10)\"\n",
    "\n",
    "# Print the table with priors\n",
    "print(priorRBA)"
   ]
  },
  {
   "cell_type": "code",
   "execution_count": 11,
   "metadata": {},
   "outputs": [],
   "source": [
    "# The following generates the Stan code for your reference\n",
    "stan_code <- make_stancode(modelForm,data=dataTable,chains = chains,family = 'student',prior = priorRBA)\n",
    "cat(stan_code,file = \"03-MAX-model1-brms-stancode.stan\",sep='\\n')"
   ]
  },
  {
   "cell_type": "code",
   "execution_count": null,
   "metadata": {},
   "outputs": [],
   "source": [
    "# Following run the BML model\n",
    "fm <- brm(modelForm,\n",
    "          data=dataTable,\n",
    "          chains = chains,\n",
    "          family = 'student',\n",
    "          prior = priorRBA,\n",
    "          inits=0, iter=iterations, \n",
    "          control = list(adapt_delta = 0.99, max_treedepth = 15))"
   ]
  },
  {
   "cell_type": "code",
   "execution_count": 12,
   "metadata": {},
   "outputs": [
    {
     "name": "stdout",
     "output_type": "stream",
     "text": [
      " Family: student \n",
      "  Links: mu = identity; sigma = identity; nu = identity \n",
      "Formula: beta | se(se) ~ 1 + cond + STATE + TRAIT + (1 + cond | gr(Subj, dist = \"student\")) + (1 + cond + STATE + TRAIT | gr(ROI, dist = \"student\")) \n",
      "   Data: dataTable (Number of observations: 7848) \n",
      "Samples: 4 chains, each with iter = 20000; warmup = 10000; thin = 1;\n",
      "         total post-warmup samples = 40000\n",
      "\n",
      "Group-Level Effects: \n",
      "~ROI (Number of levels: 36) \n",
      "                     Estimate Est.Error l-95% CI u-95% CI Rhat Bulk_ESS\n",
      "df                      31.49     17.54     7.81    74.77 1.00     1358\n",
      "sd(Intercept)            0.05      0.01     0.03     0.06 1.00     5741\n",
      "sd(cond)                 0.05      0.01     0.04     0.07 1.00     8343\n",
      "sd(STATE)                0.01      0.00     0.01     0.02 1.00    16028\n",
      "sd(TRAIT)                0.01      0.00     0.01     0.02 1.00    12986\n",
      "cor(Intercept,cond)      0.48      0.14     0.18     0.71 1.00     8634\n",
      "cor(Intercept,STATE)     0.02      0.20    -0.37     0.41 1.00    18325\n",
      "cor(cond,STATE)          0.55      0.18     0.15     0.84 1.00    21313\n",
      "cor(Intercept,TRAIT)    -0.06      0.20    -0.44     0.34 1.00    20307\n",
      "cor(cond,TRAIT)         -0.44      0.19    -0.76    -0.03 1.00    18530\n",
      "cor(STATE,TRAIT)        -0.59      0.18    -0.87    -0.17 1.00    13742\n",
      "                     Tail_ESS\n",
      "df                       2028\n",
      "sd(Intercept)            9018\n",
      "sd(cond)                15603\n",
      "sd(STATE)               25046\n",
      "sd(TRAIT)               22055\n",
      "cor(Intercept,cond)     16256\n",
      "cor(Intercept,STATE)    25846\n",
      "cor(cond,STATE)         26581\n",
      "cor(Intercept,TRAIT)    26990\n",
      "cor(cond,TRAIT)         26715\n",
      "cor(STATE,TRAIT)        24207\n",
      "\n",
      "~Subj (Number of levels: 109) \n",
      "                    Estimate Est.Error l-95% CI u-95% CI Rhat Bulk_ESS Tail_ESS\n",
      "df                      9.68      6.69     3.59    28.74 1.00      553      595\n",
      "sd(Intercept)           0.09      0.01     0.07     0.11 1.00     1368     4633\n",
      "sd(cond)                0.13      0.01     0.10     0.15 1.00     1264     3297\n",
      "cor(Intercept,cond)     0.26      0.10     0.05     0.46 1.00     3172     7839\n",
      "\n",
      "Population-Level Effects: \n",
      "          Estimate Est.Error l-95% CI u-95% CI Rhat Bulk_ESS Tail_ESS\n",
      "Intercept    -0.01      0.01    -0.04     0.01 1.00     2781     5652\n",
      "cond         -0.00      0.02    -0.03     0.03 1.00     3726     7967\n",
      "STATE        -0.01      0.01    -0.03     0.02 1.00     3592     7040\n",
      "TRAIT         0.00      0.01    -0.02     0.03 1.00     3428     6762\n",
      "\n",
      "Family Specific Parameters: \n",
      "   Estimate Est.Error l-95% CI u-95% CI Rhat Bulk_ESS Tail_ESS\n",
      "nu     2.18      0.06     2.08     2.29 1.00    57412    30419\n",
      "\n",
      "Samples were drawn using sampling(NUTS). For each parameter, Bulk_ESS\n",
      "and Tail_ESS are effective sample size measures, and Rhat is the potential\n",
      "scale reduction factor on split chains (at convergence, Rhat = 1).\n"
     ]
    }
   ],
   "source": [
    "# Shows the summary of the model\n",
    "cat(capture.output(summary(fm)),sep = '\\n', append=TRUE)"
   ]
  },
  {
   "cell_type": "code",
   "execution_count": null,
   "metadata": {},
   "outputs": [],
   "source": [
    "# Save the results as a RData file\n",
    "save.image(file=\"03-MAX-model1.RData\")"
   ]
  }
 ],
 "metadata": {
  "kernelspec": {
   "display_name": "R",
   "language": "R",
   "name": "ir"
  },
  "language_info": {
   "codemirror_mode": "r",
   "file_extension": ".r",
   "mimetype": "text/x-r-source",
   "name": "R",
   "pygments_lexer": "r",
   "version": "3.6.0"
  }
 },
 "nbformat": 4,
 "nbformat_minor": 4
}
