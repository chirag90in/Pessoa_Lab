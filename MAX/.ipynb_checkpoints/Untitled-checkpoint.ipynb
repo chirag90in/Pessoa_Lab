{
 "cells": [
  {
   "cell_type": "code",
   "execution_count": 1,
   "metadata": {},
   "outputs": [
    {
     "data": {
      "text/html": [
       "<script>  \n",
       "code_show=true; \n",
       "function code_toggle() {\n",
       "  if (code_show){\n",
       "    $('div.input').hide();\n",
       "  } else {\n",
       "    $('div.input').show();\n",
       "  }\n",
       "  code_show = !code_show\n",
       "}  \n",
       "$( document ).ready(code_toggle);\n",
       "</script>\n",
       "  <form action=\"javascript:code_toggle()\">\n",
       "    <input type=\"submit\" value=\"Click here to toggle on/off the raw code.\">\n",
       " </form>"
      ]
     },
     "metadata": {},
     "output_type": "display_data"
    }
   ],
   "source": [
    "library(IRdisplay)\n",
    "\n",
    "display_html(\n",
    "'<script>  \n",
    "code_show=true; \n",
    "function code_toggle() {\n",
    "  if (code_show){\n",
    "    $(\\'div.input\\').hide();\n",
    "  } else {\n",
    "    $(\\'div.input\\').show();\n",
    "  }\n",
    "  code_show = !code_show\n",
    "}  \n",
    "$( document ).ready(code_toggle);\n",
    "</script>\n",
    "  <form action=\"javascript:code_toggle()\">\n",
    "    <input type=\"submit\" value=\"Click here to toggle on/off the raw code.\">\n",
    " </form>'\n",
    ")"
   ]
  },
  {
   "cell_type": "code",
   "execution_count": 3,
   "metadata": {},
   "outputs": [],
   "source": [
    "library(brms)\n",
    "library(haven) # to load the SPSS .sav file\n",
    "library(tidyverse) # needed for data manipulation.\n",
    "library(RColorBrewer) # needed for some extra colours in one of the graphs\n",
    "library(ggmcmc)\n",
    "library(ggthemes)\n",
    "library(ggridges)\n",
    "\n",
    "# IMPORT VISUALIZATION LIBRARIES:\n",
    "library(data.table)\n",
    "library(ggplot2)\n",
    "library(ggridges)\n",
    "library(dplyr)\n",
    "library(tidyr)\n",
    "library(scales)\n",
    "library(viridis)\n",
    "\n",
    "library(parallel)"
   ]
  },
  {
   "cell_type": "code",
   "execution_count": 4,
   "metadata": {},
   "outputs": [
    {
     "name": "stdout",
     "output_type": "stream",
     "text": [
      "    Subj Type                    ROI Phase      beta      var TvsS LvsE\n",
      "1 MAX101 safe                    ACC early -0.008450 0.001131 -0.5 -0.5\n",
      "2 MAX101 safe  Left AntDorsal Insula early -0.048800 0.000889 -0.5 -0.5\n",
      "3 MAX101 safe Left AntVentral Insula early -0.129348 0.001908 -0.5 -0.5\n",
      "4 MAX101 safe Left Anterior  Putamen early -0.014730 0.001828 -0.5 -0.5\n",
      "5 MAX101 safe  Left Anterior Caudate early -0.072463 0.001580 -0.5 -0.5\n",
      "6 MAX101 safe      Left Anterior MCC early  0.049450 0.002319 -0.5 -0.5\n",
      "      TRAIT     STATE\n",
      "1 -1.164152 -1.011495\n",
      "2 -1.164152 -1.011495\n",
      "3 -1.164152 -1.011495\n",
      "4 -1.164152 -1.011495\n",
      "5 -1.164152 -1.011495\n",
      "6 -1.164152 -1.011495\n",
      "[1] 7848   10\n"
     ]
    }
   ],
   "source": [
    "df <- read.table('MAX_neutral_early_late.txt',header = TRUE,sep = \",\")\n",
    "df <-filter(df,Phase=='early')\n",
    "print(head(df))\n",
    "print(dim(df))"
   ]
  },
  {
   "cell_type": "code",
   "execution_count": 5,
   "metadata": {},
   "outputs": [
    {
     "name": "stdout",
     "output_type": "stream",
     "text": [
      "[1] \"Effect of interest: Intercept\" \"Effect of interest: TvsS\"     \n",
      "[1] \"Number of subjects: 109\"\n",
      "[1] \"Number of ROIs: 36\"\n",
      "[1] \"Number of types: 2\"\n",
      "[1] \"Number of cores available: 16\"\n"
     ]
    },
    {
     "data": {
      "text/html": [
       "<table>\n",
       "<caption>A data.frame: 6 × 11</caption>\n",
       "<thead>\n",
       "\t<tr><th></th><th scope=col>Subj</th><th scope=col>Type</th><th scope=col>ROI</th><th scope=col>Phase</th><th scope=col>beta</th><th scope=col>var</th><th scope=col>TvsS</th><th scope=col>LvsE</th><th scope=col>TRAIT</th><th scope=col>STATE</th><th scope=col>se</th></tr>\n",
       "\t<tr><th></th><th scope=col>&lt;fct&gt;</th><th scope=col>&lt;fct&gt;</th><th scope=col>&lt;fct&gt;</th><th scope=col>&lt;fct&gt;</th><th scope=col>&lt;dbl&gt;</th><th scope=col>&lt;dbl&gt;</th><th scope=col>&lt;dbl&gt;</th><th scope=col>&lt;dbl&gt;</th><th scope=col>&lt;dbl&gt;</th><th scope=col>&lt;dbl&gt;</th><th scope=col>&lt;dbl&gt;</th></tr>\n",
       "</thead>\n",
       "<tbody>\n",
       "\t<tr><th scope=row>1</th><td>MAX101</td><td>safe</td><td>ACC                   </td><td>early</td><td>-0.008450</td><td>0.001131</td><td>-0.5</td><td>-0.5</td><td>-1.164152</td><td>-1.011495</td><td>0.03363034</td></tr>\n",
       "\t<tr><th scope=row>2</th><td>MAX101</td><td>safe</td><td>Left AntDorsal Insula </td><td>early</td><td>-0.048800</td><td>0.000889</td><td>-0.5</td><td>-0.5</td><td>-1.164152</td><td>-1.011495</td><td>0.02981610</td></tr>\n",
       "\t<tr><th scope=row>3</th><td>MAX101</td><td>safe</td><td>Left AntVentral Insula</td><td>early</td><td>-0.129348</td><td>0.001908</td><td>-0.5</td><td>-0.5</td><td>-1.164152</td><td>-1.011495</td><td>0.04368066</td></tr>\n",
       "\t<tr><th scope=row>4</th><td>MAX101</td><td>safe</td><td>Left Anterior  Putamen</td><td>early</td><td>-0.014730</td><td>0.001828</td><td>-0.5</td><td>-0.5</td><td>-1.164152</td><td>-1.011495</td><td>0.04275512</td></tr>\n",
       "\t<tr><th scope=row>5</th><td>MAX101</td><td>safe</td><td>Left Anterior Caudate </td><td>early</td><td>-0.072463</td><td>0.001580</td><td>-0.5</td><td>-0.5</td><td>-1.164152</td><td>-1.011495</td><td>0.03974921</td></tr>\n",
       "\t<tr><th scope=row>6</th><td>MAX101</td><td>safe</td><td>Left Anterior MCC     </td><td>early</td><td> 0.049450</td><td>0.002319</td><td>-0.5</td><td>-0.5</td><td>-1.164152</td><td>-1.011495</td><td>0.04815600</td></tr>\n",
       "</tbody>\n",
       "</table>\n"
      ],
      "text/latex": [
       "A data.frame: 6 × 11\n",
       "\\begin{tabular}{r|lllllllllll}\n",
       "  & Subj & Type & ROI & Phase & beta & var & TvsS & LvsE & TRAIT & STATE & se\\\\\n",
       "  & <fct> & <fct> & <fct> & <fct> & <dbl> & <dbl> & <dbl> & <dbl> & <dbl> & <dbl> & <dbl>\\\\\n",
       "\\hline\n",
       "\t1 & MAX101 & safe & ACC                    & early & -0.008450 & 0.001131 & -0.5 & -0.5 & -1.164152 & -1.011495 & 0.03363034\\\\\n",
       "\t2 & MAX101 & safe & Left AntDorsal Insula  & early & -0.048800 & 0.000889 & -0.5 & -0.5 & -1.164152 & -1.011495 & 0.02981610\\\\\n",
       "\t3 & MAX101 & safe & Left AntVentral Insula & early & -0.129348 & 0.001908 & -0.5 & -0.5 & -1.164152 & -1.011495 & 0.04368066\\\\\n",
       "\t4 & MAX101 & safe & Left Anterior  Putamen & early & -0.014730 & 0.001828 & -0.5 & -0.5 & -1.164152 & -1.011495 & 0.04275512\\\\\n",
       "\t5 & MAX101 & safe & Left Anterior Caudate  & early & -0.072463 & 0.001580 & -0.5 & -0.5 & -1.164152 & -1.011495 & 0.03974921\\\\\n",
       "\t6 & MAX101 & safe & Left Anterior MCC      & early &  0.049450 & 0.002319 & -0.5 & -0.5 & -1.164152 & -1.011495 & 0.04815600\\\\\n",
       "\\end{tabular}\n"
      ],
      "text/markdown": [
       "\n",
       "A data.frame: 6 × 11\n",
       "\n",
       "| <!--/--> | Subj &lt;fct&gt; | Type &lt;fct&gt; | ROI &lt;fct&gt; | Phase &lt;fct&gt; | beta &lt;dbl&gt; | var &lt;dbl&gt; | TvsS &lt;dbl&gt; | LvsE &lt;dbl&gt; | TRAIT &lt;dbl&gt; | STATE &lt;dbl&gt; | se &lt;dbl&gt; |\n",
       "|---|---|---|---|---|---|---|---|---|---|---|---|\n",
       "| 1 | MAX101 | safe | ACC                    | early | -0.008450 | 0.001131 | -0.5 | -0.5 | -1.164152 | -1.011495 | 0.03363034 |\n",
       "| 2 | MAX101 | safe | Left AntDorsal Insula  | early | -0.048800 | 0.000889 | -0.5 | -0.5 | -1.164152 | -1.011495 | 0.02981610 |\n",
       "| 3 | MAX101 | safe | Left AntVentral Insula | early | -0.129348 | 0.001908 | -0.5 | -0.5 | -1.164152 | -1.011495 | 0.04368066 |\n",
       "| 4 | MAX101 | safe | Left Anterior  Putamen | early | -0.014730 | 0.001828 | -0.5 | -0.5 | -1.164152 | -1.011495 | 0.04275512 |\n",
       "| 5 | MAX101 | safe | Left Anterior Caudate  | early | -0.072463 | 0.001580 | -0.5 | -0.5 | -1.164152 | -1.011495 | 0.03974921 |\n",
       "| 6 | MAX101 | safe | Left Anterior MCC      | early |  0.049450 | 0.002319 | -0.5 | -0.5 | -1.164152 | -1.011495 | 0.04815600 |\n",
       "\n"
      ],
      "text/plain": [
       "  Subj   Type ROI                    Phase beta      var      TvsS LvsE\n",
       "1 MAX101 safe ACC                    early -0.008450 0.001131 -0.5 -0.5\n",
       "2 MAX101 safe Left AntDorsal Insula  early -0.048800 0.000889 -0.5 -0.5\n",
       "3 MAX101 safe Left AntVentral Insula early -0.129348 0.001908 -0.5 -0.5\n",
       "4 MAX101 safe Left Anterior  Putamen early -0.014730 0.001828 -0.5 -0.5\n",
       "5 MAX101 safe Left Anterior Caudate  early -0.072463 0.001580 -0.5 -0.5\n",
       "6 MAX101 safe Left Anterior MCC      early  0.049450 0.002319 -0.5 -0.5\n",
       "  TRAIT     STATE     se        \n",
       "1 -1.164152 -1.011495 0.03363034\n",
       "2 -1.164152 -1.011495 0.02981610\n",
       "3 -1.164152 -1.011495 0.04368066\n",
       "4 -1.164152 -1.011495 0.04275512\n",
       "5 -1.164152 -1.011495 0.03974921\n",
       "6 -1.164152 -1.011495 0.04815600"
      ]
     },
     "metadata": {},
     "output_type": "display_data"
    }
   ],
   "source": [
    "iterations <- 10000\n",
    "chains <- 4\n",
    "SCALE <- 1\n",
    "ns <- iterations*chains/2\n",
    "\n",
    "\n",
    "qVars = 'TvsS,STATE,TRAIT'\n",
    "EOI = 'Intercept,TvsS'\n",
    "EOIq <- strsplit(qVars, '\\\\,')[[1]]\n",
    "if(!('Intercept' %in% EOIq)) EOIq <- c('Intercept', EOIq)\n",
    "EOIq <- intersect(strsplit(EOI, '\\\\,')[[1]], EOIq)\n",
    "print(paste0('Effect of interest: ',EOIq))\n",
    "\n",
    "\n",
    "dataTable <- df\n",
    "dataTable$Subj <- factor(dataTable$Subj)\n",
    "dataTable$ROI <- factor(dataTable$ROI)\n",
    "dataTable$Type <- factor(dataTable$Type)\n",
    "# number of ROIs\n",
    "print(paste0('Number of subjects: ',nlevels(dataTable$Subj)))\n",
    "print(paste0('Number of ROIs: ',nlevels(dataTable$ROI)))\n",
    "print(paste0('Number of types: ',nlevels(df$Type)))\n",
    "print(paste0('Number of cores available: ', detectCores(all.tests = FALSE, logical = TRUE)))\n",
    "\n",
    "# number of sigfigs to show on the table\n",
    "nfigs <- 4\n",
    "\n",
    "dataTable$se = sqrt(dataTable$var)\n",
    "\n",
    "head(dataTable)"
   ]
  },
  {
   "cell_type": "code",
   "execution_count": 6,
   "metadata": {},
   "outputs": [
    {
     "name": "stdout",
     "output_type": "stream",
     "text": [
      "NULL\n",
      "[1] 16\n"
     ]
    }
   ],
   "source": [
    "# Set nuber of cores to use. \n",
    "# To run each chain on a single core, set number of core to 4\n",
    "print(getOption(\"mc.cores\"))\n",
    "options(mc.cores = parallel::detectCores())\n",
    "print(getOption(\"mc.cores\"))"
   ]
  },
  {
   "cell_type": "code",
   "execution_count": 13,
   "metadata": {},
   "outputs": [
    {
     "name": "stdout",
     "output_type": "stream",
     "text": [
      "[1] \"beta | se(se) ~ 1 + TvsS + STATE + TRAIT + (1 + TvsS | gr(Subj, dist= \\\"student\\\")) +   \\n                         ( 1 + TvsS + STATE + TRAIT | gr(ROI, dist=\\\"student\\\"))\"\n",
      "                 prior     class      coef group resp dpar nlpar bound\n",
      "1                              b                                      \n",
      "2    student_t(3,0,10)         b     STATE                            \n",
      "3    student_t(3,0,10)         b     TRAIT                            \n",
      "4    student_t(3,0,10)         b      TvsS                            \n",
      "5               lkj(2)       cor                                      \n",
      "6               lkj(2)       cor             ROI                      \n",
      "7               lkj(2)       cor            Subj                      \n",
      "8     gamma(3.325,0.1)        df             ROI                      \n",
      "9     gamma(3.325,0.1)        df            Subj                      \n",
      "10 student_t(3, 0, 10) Intercept                                      \n",
      "11    gamma(3.325,0.1)        nu                                      \n",
      "12 student_t(3, 0, 10)        sd                                      \n",
      "13   student_t(3,0,10)        sd             ROI                      \n",
      "14   student_t(3,0,10)        sd Intercept   ROI                      \n",
      "15                            sd     STATE   ROI                      \n",
      "16                            sd     TRAIT   ROI                      \n",
      "17                            sd      TvsS   ROI                      \n",
      "18   student_t(3,0,10)        sd            Subj                      \n",
      "19   student_t(3,0,10)        sd Intercept  Subj                      \n",
      "20                            sd      TvsS  Subj                      \n"
     ]
    }
   ],
   "source": [
    "mod = '1 + TvsS + STATE + TRAIT'\n",
    "modelForm = paste('beta | se(se) ~',\n",
    "                  mod,'+ (1 + TvsS | gr(Subj, dist= \"student\")) +   \n",
    "                         (',mod,'| gr(ROI, dist=\"student\"))')\n",
    "priorRBA <- get_prior(formula = modelForm,data=dataTable,family = 'student')\n",
    "priorRBA$prior[2:4] <- \"student_t(3,0,10)\"\n",
    "priorRBA$prior[5:7] <- \"lkj(2)\"\n",
    "priorRBA$prior[8:9] <- \"gamma(3.325,0.1)\"\n",
    "priorRBA$prior[11] <- \"gamma(3.325,0.1)\"\n",
    "priorRBA$prior[13:14] <- \"student_t(3,0,10)\"\n",
    "priorRBA$prior[18:19] <- \"student_t(3,0,10)\"\n",
    "print(modelForm)\n",
    "print(priorRBA)"
   ]
  },
  {
   "cell_type": "code",
   "execution_count": null,
   "metadata": {},
   "outputs": [
    {
     "name": "stderr",
     "output_type": "stream",
     "text": [
      "Compiling the C++ model\n",
      "\n",
      "Start sampling\n",
      "\n"
     ]
    }
   ],
   "source": [
    "fm <- brm(modelForm,\n",
    "          data=dataTable,\n",
    "          chains = chains,\n",
    "          family = 'student',\n",
    "          prior = priorRBA,\n",
    "          inits=0, iter=iterations, \n",
    "          control = list(adapt_delta = 0.99, max_treedepth = 15))"
   ]
  },
  {
   "cell_type": "code",
   "execution_count": null,
   "metadata": {},
   "outputs": [],
   "source": [
    "cat(capture.output(summary(fm)),sep = '\\n', append=TRUE)"
   ]
  },
  {
   "cell_type": "code",
   "execution_count": null,
   "metadata": {},
   "outputs": [],
   "source": [
    "# Extract posteriors for fixed (aa) and random effects (bb)\n",
    "aa <- fixef(fm, summary = FALSE)/SCALE # Population-Level Estimates\n",
    "bb <- lapply(ranef(fm, summary = FALSE), `/`, SCALE) # Extract Group-Level (or random-effect)"
   ]
  },
  {
   "cell_type": "markdown",
   "metadata": {},
   "source": [
    "## Functions"
   ]
  },
  {
   "cell_type": "code",
   "execution_count": null,
   "metadata": {},
   "outputs": [],
   "source": [
    "# Following functions add the \"the poaterior of the global intercept with the intercept posterior of each roi\"\n",
    "# bb[['ROI']][,,tm] is a matrix with columns containing posteriors for every ROI\n",
    "# aa[,tm] is a single column posterior for the global intercept.\n",
    "psROI <- function(aa, bb, tm) {\n",
    "  ps <- apply(bb[['ROI']][,,tm], 2, '+', aa[,tm])\n",
    "  return(ps)\n",
    "}\n",
    "# apply(X,axis,func,..)\n",
    "# check help for apply (?apply)\n",
    "\n",
    "\n",
    "# compute P+\n",
    "cnt <- function(x, ns) return(sum(x>0)/ns)\n",
    "# summary for ROIs: nd - number of digits to output\n",
    "sumROI <- function(R0, ns, nd) {\n",
    "  hubs <- data.frame(cbind(apply(R0, 2, mean), apply(R0, 2, sd), apply(R0, 2, cnt, ns), t(apply(R0, 2, quantile, \n",
    "      probs=c(0.025, 0.05, 0.5, 0.95, 0.975)))))\n",
    "  names(hubs) <- c('mean', 'SD', 'P+', '2.5%', '5%', '50%', '95%', '97.5%')\n",
    "  return(round(hubs,nd))\n",
    "}\n",
    "\n",
    "################################# conventional GLM ############################################\n",
    "sumGLM <- function(ll, tm, nR, DF, nd) {\n",
    "   th <- qt(c(0.025, 0.05, 0.5, 0.95, 0.975), DF)\n",
    "   rr <- matrix(0, nrow = nR, ncol = 8, dimnames=list(levels(dataTable$ROI), c('mean', 'SD', '2-sided-p', '2.5%', '5%', '50%', '95%', '97.5%')))\n",
    "   rownames(rr) <- levels(dataTable$ROI)\n",
    "   if(tm == 'Intercept') tm <- '(Intercept)'\n",
    "   for(ii in 1:nR) {\n",
    "     u1 <- ll[[ii]]$coefficients[tm,1] # mean\n",
    "     u2 <- ll[[ii]]$coefficients[tm,2] # sd\n",
    "     u3 <- ll[[ii]]$coefficients[tm,4] # 2-sided p\n",
    "     rr[ii,] <- round(c(u1, u2, u3, u1+u2*th),nd)\n",
    "   } \n",
    "   return(rr)\n",
    "}\n",
    "\n",
    "################################# function to plot posteriors ##################################\n",
    "plotPDP <- function(ps0,gg_brm,gg_glm){\n",
    "rois <- colnames(ps0) # Global intercept + ROI intercepts\n",
    "nobs=dim(ps0)[1] # gets number of rows and assigns it to nobj\n",
    "\n",
    "# initialize a single column dataframe with number of row equal to number of rois\n",
    "data_stats = data.frame(1:length(rois)) \n",
    "data_stats$ROI <- rois # adds an ROI column with roi names\n",
    "\n",
    "#data_stats$mean <- colMeans(data)\n",
    "data_stats$brmMean <- gg_brm$mean # Adds a brmMean columns\n",
    "data_stats$glmMean <- gg_glm$mean # Adds a brmMean columns\n",
    "\n",
    "# gets proportion of the posterior greater than 0 for each roi\n",
    "data_stats$P <- colSums(ps0 > 0)/nobs \n",
    "# gets proportion of the posterior less than 0\n",
    "#data_stats$Pn <- 1 - data_stats$P\n",
    "data_stats$Pn <- data_stats$P\n",
    "for (i in 1:length(rois)) {\n",
    "  if (data_stats$P[i]<.5){data_stats$Pn[i]=1-data_stats$P[i]}\n",
    "}\n",
    "\n",
    "# this will order the distributions correctly\n",
    "#data_stats <- data_stats[order(data_stats$brmMean),]\n",
    "data_stats <- data_stats[order(data_stats$P),]\n",
    "\n",
    "data_trans <- as.data.frame(t(as.matrix(ps0)))\n",
    "data_trans <- tibble::rownames_to_column(data_trans, \"ROI\")\n",
    "data_trans$X <- 1:nrow(data_trans)\n",
    "\n",
    "# merge values & stats into one table by ROI\n",
    "data_merge <- merge(data_stats, data_trans, by = \"ROI\")\n",
    "data_merge <- data_merge[order(data_merge$X),]\n",
    "\n",
    "# Transform data into long form\n",
    "# Melt dataframe by ROI\n",
    "library(data.table)\n",
    "\n",
    "data_long <- melt(data_trans, id=c(\"ROI\",\"X\"))\n",
    "data_long <- data_long[order(data_long$X),]\n",
    "\n",
    "# This is incredibly clunky, but for the sake of time adding stats by ensuring orders are all the same and repeating each value 2000 times... Tried a few different methods with no success for some reason. \n",
    "\n",
    "data_long$brmMean <- rep(data_merge$brmMean, each = nobs)\n",
    "data_long$glmMean <- rep(data_merge$glmMean, each = nobs)\n",
    "data_long$P <- rep(data_merge$P, each =nobs)\n",
    "data_long$Pn <- rep(data_merge$Pn, each =nobs)\n",
    "\n",
    "# set your labels here so you don't have to change within the plot below: \n",
    "format(round(1, 2), nsmall = 2)\n",
    "\n",
    "y.axis.labs <- format(round(data_stats$P,3), nsmall = 2)                        # y axis labels\n",
    "sec.y.axis.labs <- data_stats$ROI                             # second y axis labels (probabilities)\n",
    "\n",
    " # X AXIS LABELS NEED TO CHANGE TO CORRESPOND TO DATA SET! UNCOMMENT WHICHEVER MATCHES\n",
    "\n",
    "# Uncomment for THREAT\n",
    "x.axis.labs <- c( \"control > uncontrol\", \"0\", \"uncontrol > control\")                 # x axis labels  THREAT\n",
    "x.labs.pos <- c(-0.2, 0, 0.2)                                             # x axis position THREAT\n",
    "\n",
    "#graph.title <- data.name                                   # graph title \n",
    "legend.title <- \"Probability\"                              # legend title\n",
    "y.axis.title <- NULL                                       # for now ...\n",
    "x.axis.title <- NULL                                       # for now...\n",
    "\n",
    "# GRAPH DATA\n",
    "library(repr)\n",
    "options(repr.plot.width=10,repr.plot.height=8)\n",
    "\n",
    "dataset <- data_long\n",
    "x.values <- data_long$value                               # x values\n",
    "y.values <- data_long$ROI                                 # y values\n",
    "y.values.RO <- data_long$value                            # values to reorder Y by\n",
    "distrib.fill <- data_long$Pn                              # fill graph with probabilities\n",
    "group <- data_long$ROI\n",
    "\n",
    "# Other aspects\n",
    "gradient.colors <- c(\"yellow\",\"#C9182B\",\"#41245C\")        # change gradient colors here (currently, yellow - purple)\n",
    "label.size <- 16                                         # adjust ROI and probability y-axis font size\n",
    "title.size <- 32                                         # adjust graph title size \n",
    "x.axis.size <- 16                                        # adjust x-axis label sizes\n",
    "\n",
    "# here is where you can change information about the graph and add other characteristics using ggplot and ggridges\n",
    "\n",
    "\n",
    "ggplot(dataset, aes(x = x.values, y = as.numeric(reorder(y.values, y.values.RO)), \n",
    "                    fill = distrib.fill, group = group)) +                      # scale = spacing, alpha = transparency\n",
    "  coord_cartesian(xlim = c(-0.25, 0.25)) +\n",
    "  stat_density_ridges(quantile_lines = TRUE, \n",
    "                      quantiles = 2, \n",
    "                      alpha = .95, \n",
    "                      scale = 1,\n",
    "                      color = \"black\",\n",
    "                      size = .35\n",
    "                     ) +\n",
    "    geom_segment(aes(x = glmMean, xend = glmMean, y = as.numeric(reorder(y.values, y.values.RO)),\n",
    "                                      yend = as.numeric(reorder(y.values, y.values.RO))+0.9), color = \"red\") +           # divide into two quantiles (show mean)\n",
    "  geom_vline(xintercept = 0, linetype=\"solid\",color = \"black\",alpha = .95, size = .45) +    #create line at X = 0\n",
    "  scale_fill_gradientn(colors = viridis_pal(direction = 1, option = \"inferno\")(20),                         # set gradient\n",
    "                       limits = c(.85,1),                                # which probabilites matter?\n",
    "                       na.value = \"#909497\",                                # if not in limits, gray out\n",
    "                       name = legend.title) +                            # name legend\n",
    "  scale_y_continuous(breaks = 1:length(rois),                            # A VERY HACK-Y WAY TO HAVE TWO Y AXES W DISCRETE DATA\n",
    "                     expand = c(0,0),\n",
    "                     labels = y.axis.labs,                               # Trick ggplot into thinking data is continuous...\n",
    "                     sec.axis = sec_axis(~.,                             # Second axis to show probabilities\n",
    "                                         breaks = 1:length(rois),\n",
    "                                         labels = sec.y.axis.labs)) +\n",
    "  #theme_ridges(font_size = label.size, grid = TRUE, center_axis_labels = TRUE) +  # theme info\n",
    "  #ggtitle(graph.title)+ \n",
    "  #theme_bw() +# graph title\n",
    " #theme_ridges(grid = FALSE) + \n",
    "  theme(   \n",
    "    panel.background = element_blank(),\n",
    "    #legend.position = \"none\",\n",
    "    #panel.grid.major.y = element_line(color = \"grey\"), \n",
    "    plot.title = element_text(hjust = 0.5, size = title.size),            # plot title size and position\n",
    "    axis.text.y = element_text(size=label.size),                               # y-axis text size\n",
    "    axis.line.x = element_line(color = \"gray\"),\n",
    "    axis.text.y.right = element_text(size = label.size),                  # y-axis info for right axis\n",
    "    axis.text.x = element_text(size = x.axis.size),\n",
    "    #plot.margin = unit(c(0,0,0,0), \"cm\"),\n",
    "    axis.ticks.x = element_blank(),\n",
    "    axis.ticks.y = element_blank(),\n",
    "    legend.title.align = 5)+\n",
    "  guides(shape = guide_legend(label.position = \"bottom\",\n",
    "                              title.positon = \"bottom\",\n",
    "                              title.vjust = 0.4)) +          \n",
    "  labs(\n",
    "    x = NULL,                                                         # Add or not add X and Y labels\n",
    "    y = NULL) +\n",
    "  scale_x_continuous(breaks = x.labs.pos, labels = c(x.axis.labs))\n",
    "}"
   ]
  },
  {
   "cell_type": "markdown",
   "metadata": {},
   "source": [
    "## **2. BML and GLM Summaries with Posterior Plots**"
   ]
  },
  {
   "cell_type": "code",
   "execution_count": null,
   "metadata": {},
   "outputs": [],
   "source": [
    "# for Intercept and quantitative variables\n",
    "ii = 1\n",
    "cat(sprintf('===== Summary of region effects for %s (RBA results) =====', EOIq[ii]), sep = '\\n', append=TRUE)\n",
    "ps0 <- psROI(aa, bb, EOIq[ii])\n",
    "gg_brm <- sumROI(ps0, ns, nfigs)\n",
    "#gg_brm$ROI <- factor(rownames(gg_brm))\n",
    "cat(capture.output(gg_brm), sep = '\\n', append=TRUE)\n",
    "\n",
    "cat(sprintf('=================================================================================================================='),sep='\\n')\n",
    "cat(sprintf('===== Summary of region effects under GLM for %s (for reference only): no adjustment for multiplicity =====', EOIq[ii]),sep = '\\n', append=TRUE)\n",
    "mm <- list()\n",
    "GLM <- as.formula(paste('Y ~ ',mod))\n",
    "if(SCALE!=1) dataTable$Y <- (dataTable$Y)/SCALE  # scale back for GLM\n",
    "for(kk in levels(dataTable$ROI)) mm[[kk]] = lm(GLM, data=dataTable[dataTable$ROI==kk,])\n",
    "nn <- lapply(mm, summary)\n",
    "ll <- lapply(nn, `[`, 'coefficients')\n",
    "gg_glm <- sumGLM(ll, EOIq[ii], nR, nn[[ii]]$df, nfigs)\n",
    "gg_glm = as.data.frame(gg_glm)\n",
    "cat(capture.output(gg_glm),sep = '\\n', append=TRUE)\n",
    "\n",
    "cat(sprintf('======================================== Posteriors for %s ====================================================',EOIq[ii],sep='\\n'))\n",
    "plotPDP(ps0,gg_brm,gg_glm)"
   ]
  },
  {
   "cell_type": "code",
   "execution_count": null,
   "metadata": {},
   "outputs": [],
   "source": [
    "# for Intercept and quantitative variables\n",
    "ii = 2\n",
    "cat(sprintf('===== Summary of region effects for %s (RBA results) =====', EOIq[ii]), sep = '\\n', append=TRUE)\n",
    "ps0 <- psROI(aa, bb, EOIq[ii])\n",
    "gg_brm <- sumROI(ps0, ns, nfigs)\n",
    "#gg_brm$ROI <- factor(rownames(gg_brm))\n",
    "cat(capture.output(gg_brm), sep = '\\n', append=TRUE)\n",
    "\n",
    "cat(sprintf('=================================================================================================================='),sep='\\n')\n",
    "cat(sprintf('===== Summary of region effects under GLM for %s (for reference only): no adjustment for multiplicity =====', EOIq[ii]),sep = '\\n', append=TRUE)\n",
    "mm <- list()\n",
    "GLM <- as.formula(paste('Y ~ ',mod))\n",
    "if(SCALE!=1) dataTable$Y <- (dataTable$Y)/SCALE  # scale back for GLM\n",
    "for(kk in levels(dataTable$ROI)) mm[[kk]] = lm(GLM, data=dataTable[dataTable$ROI==kk,])\n",
    "nn <- lapply(mm, summary)\n",
    "ll <- lapply(nn, `[`, 'coefficients')\n",
    "gg_glm <- sumGLM(ll, EOIq[ii], nR, nn[[ii]]$df, nfigs)\n",
    "gg_glm = as.data.frame(gg_glm)\n",
    "cat(capture.output(gg_glm),sep = '\\n', append=TRUE)\n",
    "\n",
    "cat(sprintf('======================================== Posteriors for %s ====================================================',EOIq[ii],sep='\\n'))\n",
    "plotPDP(ps0,gg_brm,gg_glm)"
   ]
  },
  {
   "cell_type": "code",
   "execution_count": null,
   "metadata": {},
   "outputs": [],
   "source": [
    "save.image(file=\"MAX_neutral_early.RData\")"
   ]
  },
  {
   "cell_type": "markdown",
   "metadata": {},
   "source": [
    "## **3. Posterior Predictive Check**"
   ]
  },
  {
   "cell_type": "code",
   "execution_count": null,
   "metadata": {},
   "outputs": [],
   "source": [
    "pp_plot = pp_check(fm,nsamples = 100)\n",
    "pp_plot + xlim(-1.5,1.5) + theme(text = element_text(size=25),legend.text=element_text(size=25)) + ggtitle(\"Model 1: Varying Intercepts and Slopes\",)"
   ]
  }
 ],
 "metadata": {
  "kernelspec": {
   "display_name": "R",
   "language": "R",
   "name": "ir"
  },
  "language_info": {
   "codemirror_mode": "r",
   "file_extension": ".r",
   "mimetype": "text/x-r-source",
   "name": "R",
   "pygments_lexer": "r",
   "version": "3.6.0"
  }
 },
 "nbformat": 4,
 "nbformat_minor": 4
}
