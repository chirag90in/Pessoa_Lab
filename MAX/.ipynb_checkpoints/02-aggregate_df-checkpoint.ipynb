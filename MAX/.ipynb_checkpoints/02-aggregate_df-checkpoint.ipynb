{
 "cells": [
  {
   "cell_type": "code",
   "execution_count": 1,
   "metadata": {},
   "outputs": [],
   "source": [
    "import pandas as pd\n",
    "import numpy as np\n",
    "\n",
    "import matplotlib.pyplot as plt\n",
    "%matplotlib inline"
   ]
  },
  {
   "cell_type": "code",
   "execution_count": 2,
   "metadata": {},
   "outputs": [],
   "source": [
    "df = pd.read_csv('MAX_positive_estimated_responses.txt')"
   ]
  },
  {
   "cell_type": "code",
   "execution_count": 3,
   "metadata": {},
   "outputs": [
    {
     "data": {
      "text/html": [
       "<div>\n",
       "<style scoped>\n",
       "    .dataframe tbody tr th:only-of-type {\n",
       "        vertical-align: middle;\n",
       "    }\n",
       "\n",
       "    .dataframe tbody tr th {\n",
       "        vertical-align: top;\n",
       "    }\n",
       "\n",
       "    .dataframe thead th {\n",
       "        text-align: right;\n",
       "    }\n",
       "</style>\n",
       "<table border=\"1\" class=\"dataframe\">\n",
       "  <thead>\n",
       "    <tr style=\"text-align: right;\">\n",
       "      <th></th>\n",
       "      <th>Subj</th>\n",
       "      <th>Type</th>\n",
       "      <th>Time</th>\n",
       "      <th>ROI</th>\n",
       "      <th>beta</th>\n",
       "      <th>var</th>\n",
       "      <th>TRAIT</th>\n",
       "      <th>STATE</th>\n",
       "    </tr>\n",
       "  </thead>\n",
       "  <tbody>\n",
       "    <tr>\n",
       "      <th>0</th>\n",
       "      <td>MAX101</td>\n",
       "      <td>threat</td>\n",
       "      <td>0.00</td>\n",
       "      <td>ACC</td>\n",
       "      <td>-0.0890</td>\n",
       "      <td>0.0037</td>\n",
       "      <td>27</td>\n",
       "      <td>22</td>\n",
       "    </tr>\n",
       "    <tr>\n",
       "      <th>1</th>\n",
       "      <td>MAX101</td>\n",
       "      <td>threat</td>\n",
       "      <td>1.25</td>\n",
       "      <td>ACC</td>\n",
       "      <td>-0.1824</td>\n",
       "      <td>0.0047</td>\n",
       "      <td>27</td>\n",
       "      <td>22</td>\n",
       "    </tr>\n",
       "    <tr>\n",
       "      <th>2</th>\n",
       "      <td>MAX101</td>\n",
       "      <td>threat</td>\n",
       "      <td>2.50</td>\n",
       "      <td>ACC</td>\n",
       "      <td>-0.1772</td>\n",
       "      <td>0.0055</td>\n",
       "      <td>27</td>\n",
       "      <td>22</td>\n",
       "    </tr>\n",
       "    <tr>\n",
       "      <th>3</th>\n",
       "      <td>MAX101</td>\n",
       "      <td>threat</td>\n",
       "      <td>3.75</td>\n",
       "      <td>ACC</td>\n",
       "      <td>-0.1485</td>\n",
       "      <td>0.0058</td>\n",
       "      <td>27</td>\n",
       "      <td>22</td>\n",
       "    </tr>\n",
       "    <tr>\n",
       "      <th>4</th>\n",
       "      <td>MAX101</td>\n",
       "      <td>threat</td>\n",
       "      <td>5.00</td>\n",
       "      <td>ACC</td>\n",
       "      <td>-0.1027</td>\n",
       "      <td>0.0061</td>\n",
       "      <td>27</td>\n",
       "      <td>22</td>\n",
       "    </tr>\n",
       "  </tbody>\n",
       "</table>\n",
       "</div>"
      ],
      "text/plain": [
       "     Subj    Type  Time  ROI    beta     var  TRAIT  STATE\n",
       "0  MAX101  threat  0.00  ACC -0.0890  0.0037     27     22\n",
       "1  MAX101  threat  1.25  ACC -0.1824  0.0047     27     22\n",
       "2  MAX101  threat  2.50  ACC -0.1772  0.0055     27     22\n",
       "3  MAX101  threat  3.75  ACC -0.1485  0.0058     27     22\n",
       "4  MAX101  threat  5.00  ACC -0.1027  0.0061     27     22"
      ]
     },
     "execution_count": 3,
     "metadata": {},
     "output_type": "execute_result"
    }
   ],
   "source": [
    "df.head()"
   ]
  },
  {
   "cell_type": "code",
   "execution_count": 4,
   "metadata": {},
   "outputs": [
    {
     "name": "stdout",
     "output_type": "stream",
     "text": [
      "        TRAIT  STATE\n",
      "Subj                \n",
      "MAX101     27     22\n",
      "MAX102     47     44\n",
      "MAX103     33     32\n",
      "MAX104     24     21\n",
      "MAX105     56     28\n",
      "     Subj    Type  Time  ROI    beta     var\n",
      "0  MAX101  threat  0.00  ACC -0.0890  0.0037\n",
      "1  MAX101  threat  1.25  ACC -0.1824  0.0047\n",
      "2  MAX101  threat  2.50  ACC -0.1772  0.0055\n",
      "3  MAX101  threat  3.75  ACC -0.1485  0.0058\n",
      "4  MAX101  threat  5.00  ACC -0.1027  0.0061\n"
     ]
    },
    {
     "name": "stderr",
     "output_type": "stream",
     "text": [
      "/home/climbach/anaconda3/lib/python3.7/site-packages/ipykernel_launcher.py:2: SettingWithCopyWarning: \n",
      "A value is trying to be set on a copy of a slice from a DataFrame\n",
      "\n",
      "See the caveats in the documentation: http://pandas.pydata.org/pandas-docs/stable/indexing.html#indexing-view-versus-copy\n",
      "  \n"
     ]
    }
   ],
   "source": [
    "covs = df[['Subj','TRAIT','STATE']]\n",
    "covs.drop_duplicates(inplace=True)\n",
    "covs.set_index('Subj',inplace=True)\n",
    "\n",
    "df.drop(['TRAIT','STATE'],axis=1,inplace=True)\n",
    "\n",
    "print(covs.head())\n",
    "print(df.head())"
   ]
  },
  {
   "cell_type": "code",
   "execution_count": 5,
   "metadata": {},
   "outputs": [
    {
     "data": {
      "text/html": [
       "<div>\n",
       "<style scoped>\n",
       "    .dataframe tbody tr th:only-of-type {\n",
       "        vertical-align: middle;\n",
       "    }\n",
       "\n",
       "    .dataframe tbody tr th {\n",
       "        vertical-align: top;\n",
       "    }\n",
       "\n",
       "    .dataframe thead th {\n",
       "        text-align: right;\n",
       "    }\n",
       "</style>\n",
       "<table border=\"1\" class=\"dataframe\">\n",
       "  <thead>\n",
       "    <tr style=\"text-align: right;\">\n",
       "      <th></th>\n",
       "      <th>Subj</th>\n",
       "      <th>TRAIT</th>\n",
       "      <th>STATE</th>\n",
       "    </tr>\n",
       "  </thead>\n",
       "  <tbody>\n",
       "    <tr>\n",
       "      <th>0</th>\n",
       "      <td>MAX101</td>\n",
       "      <td>-1.190995</td>\n",
       "      <td>-1.037120</td>\n",
       "    </tr>\n",
       "    <tr>\n",
       "      <th>1</th>\n",
       "      <td>MAX102</td>\n",
       "      <td>1.267833</td>\n",
       "      <td>1.520902</td>\n",
       "    </tr>\n",
       "    <tr>\n",
       "      <th>2</th>\n",
       "      <td>MAX103</td>\n",
       "      <td>-0.453346</td>\n",
       "      <td>0.125617</td>\n",
       "    </tr>\n",
       "    <tr>\n",
       "      <th>3</th>\n",
       "      <td>MAX104</td>\n",
       "      <td>-1.559819</td>\n",
       "      <td>-1.153394</td>\n",
       "    </tr>\n",
       "    <tr>\n",
       "      <th>4</th>\n",
       "      <td>MAX105</td>\n",
       "      <td>2.374305</td>\n",
       "      <td>-0.339478</td>\n",
       "    </tr>\n",
       "  </tbody>\n",
       "</table>\n",
       "</div>"
      ],
      "text/plain": [
       "     Subj     TRAIT     STATE\n",
       "0  MAX101 -1.190995 -1.037120\n",
       "1  MAX102  1.267833  1.520902\n",
       "2  MAX103 -0.453346  0.125617\n",
       "3  MAX104 -1.559819 -1.153394\n",
       "4  MAX105  2.374305 -0.339478"
      ]
     },
     "execution_count": 5,
     "metadata": {},
     "output_type": "execute_result"
    }
   ],
   "source": [
    "from sklearn.preprocessing import StandardScaler\n",
    "ss = StandardScaler()\n",
    "covs = pd.DataFrame(ss.fit_transform(covs),columns=covs.columns,index=covs.index)\n",
    "covs.reset_index(inplace=True)\n",
    "covs.head()"
   ]
  },
  {
   "cell_type": "code",
   "execution_count": 6,
   "metadata": {},
   "outputs": [],
   "source": [
    "def phase(time):\n",
    "    if (time >= 2.5 and time <= 8.75):\n",
    "        return 'early'\n",
    "    elif (time >= 10 and time <= 16.25):\n",
    "        return 'late'\n",
    "    else:\n",
    "        return np.nan"
   ]
  },
  {
   "cell_type": "code",
   "execution_count": 7,
   "metadata": {},
   "outputs": [],
   "source": [
    "df['Phase'] = df['Time'].apply(phase)\n",
    "df.dropna(inplace=True)"
   ]
  },
  {
   "cell_type": "code",
   "execution_count": 8,
   "metadata": {},
   "outputs": [
    {
     "data": {
      "text/html": [
       "<div>\n",
       "<style scoped>\n",
       "    .dataframe tbody tr th:only-of-type {\n",
       "        vertical-align: middle;\n",
       "    }\n",
       "\n",
       "    .dataframe tbody tr th {\n",
       "        vertical-align: top;\n",
       "    }\n",
       "\n",
       "    .dataframe thead th {\n",
       "        text-align: right;\n",
       "    }\n",
       "</style>\n",
       "<table border=\"1\" class=\"dataframe\">\n",
       "  <thead>\n",
       "    <tr style=\"text-align: right;\">\n",
       "      <th></th>\n",
       "      <th>Subj</th>\n",
       "      <th>Type</th>\n",
       "      <th>Time</th>\n",
       "      <th>ROI</th>\n",
       "      <th>beta</th>\n",
       "      <th>var</th>\n",
       "      <th>Phase</th>\n",
       "    </tr>\n",
       "  </thead>\n",
       "  <tbody>\n",
       "    <tr>\n",
       "      <th>2</th>\n",
       "      <td>MAX101</td>\n",
       "      <td>threat</td>\n",
       "      <td>2.50</td>\n",
       "      <td>ACC</td>\n",
       "      <td>-0.1772</td>\n",
       "      <td>0.0055</td>\n",
       "      <td>early</td>\n",
       "    </tr>\n",
       "    <tr>\n",
       "      <th>3</th>\n",
       "      <td>MAX101</td>\n",
       "      <td>threat</td>\n",
       "      <td>3.75</td>\n",
       "      <td>ACC</td>\n",
       "      <td>-0.1485</td>\n",
       "      <td>0.0058</td>\n",
       "      <td>early</td>\n",
       "    </tr>\n",
       "    <tr>\n",
       "      <th>4</th>\n",
       "      <td>MAX101</td>\n",
       "      <td>threat</td>\n",
       "      <td>5.00</td>\n",
       "      <td>ACC</td>\n",
       "      <td>-0.1027</td>\n",
       "      <td>0.0061</td>\n",
       "      <td>early</td>\n",
       "    </tr>\n",
       "    <tr>\n",
       "      <th>5</th>\n",
       "      <td>MAX101</td>\n",
       "      <td>threat</td>\n",
       "      <td>6.25</td>\n",
       "      <td>ACC</td>\n",
       "      <td>-0.1354</td>\n",
       "      <td>0.0063</td>\n",
       "      <td>early</td>\n",
       "    </tr>\n",
       "    <tr>\n",
       "      <th>6</th>\n",
       "      <td>MAX101</td>\n",
       "      <td>threat</td>\n",
       "      <td>7.50</td>\n",
       "      <td>ACC</td>\n",
       "      <td>-0.2142</td>\n",
       "      <td>0.0064</td>\n",
       "      <td>early</td>\n",
       "    </tr>\n",
       "  </tbody>\n",
       "</table>\n",
       "</div>"
      ],
      "text/plain": [
       "     Subj    Type  Time  ROI    beta     var  Phase\n",
       "2  MAX101  threat  2.50  ACC -0.1772  0.0055  early\n",
       "3  MAX101  threat  3.75  ACC -0.1485  0.0058  early\n",
       "4  MAX101  threat  5.00  ACC -0.1027  0.0061  early\n",
       "5  MAX101  threat  6.25  ACC -0.1354  0.0063  early\n",
       "6  MAX101  threat  7.50  ACC -0.2142  0.0064  early"
      ]
     },
     "execution_count": 8,
     "metadata": {},
     "output_type": "execute_result"
    }
   ],
   "source": [
    "df.head()"
   ]
  },
  {
   "cell_type": "code",
   "execution_count": 9,
   "metadata": {},
   "outputs": [],
   "source": [
    "def combine_beta(row):\n",
    "    beta = row.iloc[:,0]\n",
    "    var = row.iloc[:,1]\n",
    "    weights = 1/var\n",
    "    combined_beta = np.sum(weights*beta)/np.sum(weights)\n",
    "    combined_var = 1/np.sum(weights)\n",
    "    return combined_beta , combined_var"
   ]
  },
  {
   "cell_type": "code",
   "execution_count": 10,
   "metadata": {},
   "outputs": [],
   "source": [
    "agg_df = df.groupby(['Subj','Type','ROI','Phase'])[['beta','var']].apply(combine_beta)"
   ]
  },
  {
   "cell_type": "code",
   "execution_count": 11,
   "metadata": {},
   "outputs": [],
   "source": [
    "agg_df = agg_df.to_frame(name=('betavar')).reset_index()"
   ]
  },
  {
   "cell_type": "code",
   "execution_count": 12,
   "metadata": {},
   "outputs": [],
   "source": [
    "agg_df[['beta', 'var']] = pd.DataFrame(agg_df['betavar'].tolist(), index=agg_df.index)"
   ]
  },
  {
   "cell_type": "code",
   "execution_count": 13,
   "metadata": {},
   "outputs": [],
   "source": [
    "agg_df.drop('betavar',axis=1,inplace=True)"
   ]
  },
  {
   "cell_type": "code",
   "execution_count": 14,
   "metadata": {},
   "outputs": [],
   "source": [
    "agg_df = agg_df.merge(covs)"
   ]
  },
  {
   "cell_type": "code",
   "execution_count": 15,
   "metadata": {},
   "outputs": [
    {
     "data": {
      "text/html": [
       "<div>\n",
       "<style scoped>\n",
       "    .dataframe tbody tr th:only-of-type {\n",
       "        vertical-align: middle;\n",
       "    }\n",
       "\n",
       "    .dataframe tbody tr th {\n",
       "        vertical-align: top;\n",
       "    }\n",
       "\n",
       "    .dataframe thead th {\n",
       "        text-align: right;\n",
       "    }\n",
       "</style>\n",
       "<table border=\"1\" class=\"dataframe\">\n",
       "  <thead>\n",
       "    <tr style=\"text-align: right;\">\n",
       "      <th></th>\n",
       "      <th>Subj</th>\n",
       "      <th>Type</th>\n",
       "      <th>ROI</th>\n",
       "      <th>Phase</th>\n",
       "      <th>beta</th>\n",
       "      <th>var</th>\n",
       "      <th>TRAIT</th>\n",
       "      <th>STATE</th>\n",
       "    </tr>\n",
       "  </thead>\n",
       "  <tbody>\n",
       "    <tr>\n",
       "      <th>0</th>\n",
       "      <td>MAX101</td>\n",
       "      <td>safe</td>\n",
       "      <td>ACC</td>\n",
       "      <td>early</td>\n",
       "      <td>-0.135865</td>\n",
       "      <td>0.001079</td>\n",
       "      <td>-1.190995</td>\n",
       "      <td>-1.03712</td>\n",
       "    </tr>\n",
       "    <tr>\n",
       "      <th>1</th>\n",
       "      <td>MAX101</td>\n",
       "      <td>safe</td>\n",
       "      <td>ACC</td>\n",
       "      <td>late</td>\n",
       "      <td>-0.251833</td>\n",
       "      <td>0.001074</td>\n",
       "      <td>-1.190995</td>\n",
       "      <td>-1.03712</td>\n",
       "    </tr>\n",
       "    <tr>\n",
       "      <th>2</th>\n",
       "      <td>MAX101</td>\n",
       "      <td>safe</td>\n",
       "      <td>Left AntDorsal Insula</td>\n",
       "      <td>early</td>\n",
       "      <td>-0.082099</td>\n",
       "      <td>0.000961</td>\n",
       "      <td>-1.190995</td>\n",
       "      <td>-1.03712</td>\n",
       "    </tr>\n",
       "    <tr>\n",
       "      <th>3</th>\n",
       "      <td>MAX101</td>\n",
       "      <td>safe</td>\n",
       "      <td>Left AntDorsal Insula</td>\n",
       "      <td>late</td>\n",
       "      <td>-0.079520</td>\n",
       "      <td>0.000939</td>\n",
       "      <td>-1.190995</td>\n",
       "      <td>-1.03712</td>\n",
       "    </tr>\n",
       "    <tr>\n",
       "      <th>4</th>\n",
       "      <td>MAX101</td>\n",
       "      <td>safe</td>\n",
       "      <td>Left AntVentral Insula</td>\n",
       "      <td>early</td>\n",
       "      <td>-0.121539</td>\n",
       "      <td>0.001775</td>\n",
       "      <td>-1.190995</td>\n",
       "      <td>-1.03712</td>\n",
       "    </tr>\n",
       "  </tbody>\n",
       "</table>\n",
       "</div>"
      ],
      "text/plain": [
       "     Subj  Type                     ROI  Phase      beta       var     TRAIT  \\\n",
       "0  MAX101  safe                     ACC  early -0.135865  0.001079 -1.190995   \n",
       "1  MAX101  safe                     ACC   late -0.251833  0.001074 -1.190995   \n",
       "2  MAX101  safe   Left AntDorsal Insula  early -0.082099  0.000961 -1.190995   \n",
       "3  MAX101  safe   Left AntDorsal Insula   late -0.079520  0.000939 -1.190995   \n",
       "4  MAX101  safe  Left AntVentral Insula  early -0.121539  0.001775 -1.190995   \n",
       "\n",
       "     STATE  \n",
       "0 -1.03712  \n",
       "1 -1.03712  \n",
       "2 -1.03712  \n",
       "3 -1.03712  \n",
       "4 -1.03712  "
      ]
     },
     "execution_count": 15,
     "metadata": {},
     "output_type": "execute_result"
    }
   ],
   "source": [
    "agg_df.head()"
   ]
  },
  {
   "cell_type": "code",
   "execution_count": 16,
   "metadata": {},
   "outputs": [],
   "source": [
    "agg_df.to_csv('MAX_positive_estimated_responses.txt',sep=',',float_format='%.6f',index=False)"
   ]
  },
  {
   "cell_type": "code",
   "execution_count": 17,
   "metadata": {},
   "outputs": [],
   "source": [
    "agg_df['TvsS'] = agg_df['Type'].apply(lambda a: -0.5 if a=='safe' else 0.5)\n",
    "agg_df['LvsE'] = agg_df['Phase'].apply(lambda a: -0.5 if a=='early' else 0.5)"
   ]
  },
  {
   "cell_type": "code",
   "execution_count": 18,
   "metadata": {},
   "outputs": [
    {
     "data": {
      "text/html": [
       "<div>\n",
       "<style scoped>\n",
       "    .dataframe tbody tr th:only-of-type {\n",
       "        vertical-align: middle;\n",
       "    }\n",
       "\n",
       "    .dataframe tbody tr th {\n",
       "        vertical-align: top;\n",
       "    }\n",
       "\n",
       "    .dataframe thead th {\n",
       "        text-align: right;\n",
       "    }\n",
       "</style>\n",
       "<table border=\"1\" class=\"dataframe\">\n",
       "  <thead>\n",
       "    <tr style=\"text-align: right;\">\n",
       "      <th></th>\n",
       "      <th>Subj</th>\n",
       "      <th>Type</th>\n",
       "      <th>ROI</th>\n",
       "      <th>Phase</th>\n",
       "      <th>beta</th>\n",
       "      <th>var</th>\n",
       "      <th>TRAIT</th>\n",
       "      <th>STATE</th>\n",
       "      <th>TvsS</th>\n",
       "      <th>LvsE</th>\n",
       "    </tr>\n",
       "  </thead>\n",
       "  <tbody>\n",
       "    <tr>\n",
       "      <th>0</th>\n",
       "      <td>MAX101</td>\n",
       "      <td>safe</td>\n",
       "      <td>ACC</td>\n",
       "      <td>early</td>\n",
       "      <td>-0.135865</td>\n",
       "      <td>0.001079</td>\n",
       "      <td>-1.190995</td>\n",
       "      <td>-1.03712</td>\n",
       "      <td>-0.5</td>\n",
       "      <td>-0.5</td>\n",
       "    </tr>\n",
       "    <tr>\n",
       "      <th>1</th>\n",
       "      <td>MAX101</td>\n",
       "      <td>safe</td>\n",
       "      <td>ACC</td>\n",
       "      <td>late</td>\n",
       "      <td>-0.251833</td>\n",
       "      <td>0.001074</td>\n",
       "      <td>-1.190995</td>\n",
       "      <td>-1.03712</td>\n",
       "      <td>-0.5</td>\n",
       "      <td>0.5</td>\n",
       "    </tr>\n",
       "    <tr>\n",
       "      <th>2</th>\n",
       "      <td>MAX101</td>\n",
       "      <td>safe</td>\n",
       "      <td>Left AntDorsal Insula</td>\n",
       "      <td>early</td>\n",
       "      <td>-0.082099</td>\n",
       "      <td>0.000961</td>\n",
       "      <td>-1.190995</td>\n",
       "      <td>-1.03712</td>\n",
       "      <td>-0.5</td>\n",
       "      <td>-0.5</td>\n",
       "    </tr>\n",
       "    <tr>\n",
       "      <th>3</th>\n",
       "      <td>MAX101</td>\n",
       "      <td>safe</td>\n",
       "      <td>Left AntDorsal Insula</td>\n",
       "      <td>late</td>\n",
       "      <td>-0.079520</td>\n",
       "      <td>0.000939</td>\n",
       "      <td>-1.190995</td>\n",
       "      <td>-1.03712</td>\n",
       "      <td>-0.5</td>\n",
       "      <td>0.5</td>\n",
       "    </tr>\n",
       "    <tr>\n",
       "      <th>4</th>\n",
       "      <td>MAX101</td>\n",
       "      <td>safe</td>\n",
       "      <td>Left AntVentral Insula</td>\n",
       "      <td>early</td>\n",
       "      <td>-0.121539</td>\n",
       "      <td>0.001775</td>\n",
       "      <td>-1.190995</td>\n",
       "      <td>-1.03712</td>\n",
       "      <td>-0.5</td>\n",
       "      <td>-0.5</td>\n",
       "    </tr>\n",
       "  </tbody>\n",
       "</table>\n",
       "</div>"
      ],
      "text/plain": [
       "     Subj  Type                     ROI  Phase      beta       var     TRAIT  \\\n",
       "0  MAX101  safe                     ACC  early -0.135865  0.001079 -1.190995   \n",
       "1  MAX101  safe                     ACC   late -0.251833  0.001074 -1.190995   \n",
       "2  MAX101  safe   Left AntDorsal Insula  early -0.082099  0.000961 -1.190995   \n",
       "3  MAX101  safe   Left AntDorsal Insula   late -0.079520  0.000939 -1.190995   \n",
       "4  MAX101  safe  Left AntVentral Insula  early -0.121539  0.001775 -1.190995   \n",
       "\n",
       "     STATE  TvsS  LvsE  \n",
       "0 -1.03712  -0.5  -0.5  \n",
       "1 -1.03712  -0.5   0.5  \n",
       "2 -1.03712  -0.5  -0.5  \n",
       "3 -1.03712  -0.5   0.5  \n",
       "4 -1.03712  -0.5  -0.5  "
      ]
     },
     "execution_count": 18,
     "metadata": {},
     "output_type": "execute_result"
    }
   ],
   "source": [
    "agg_df.head()"
   ]
  },
  {
   "cell_type": "code",
   "execution_count": 19,
   "metadata": {},
   "outputs": [],
   "source": [
    "import seaborn as sns"
   ]
  },
  {
   "cell_type": "code",
   "execution_count": 21,
   "metadata": {},
   "outputs": [
    {
     "data": {
      "text/plain": [
       "<matplotlib.axes._subplots.AxesSubplot at 0x7eff94022ef0>"
      ]
     },
     "execution_count": 21,
     "metadata": {},
     "output_type": "execute_result"
    },
    {
     "data": {
      "image/png": "[encoded data removed]",
      "text/plain": [
       "<Figure size 432x288 with 1 Axes>"
      ]
     },
     "metadata": {
      "needs_background": "light"
     },
     "output_type": "display_data"
    }
   ],
   "source": [
    "sns.barplot(x='Type',y='beta',hue='Phase',data=agg_df)"
   ]
  },
  {
   "cell_type": "code",
   "execution_count": 21,
   "metadata": {},
   "outputs": [
    {
     "data": {
      "text/plain": [
       "(-0.5, 0.5)"
      ]
     },
     "execution_count": 21,
     "metadata": {},
     "output_type": "execute_result"
    },
    {
     "data": {
      "image/png": "[encoded data removed]",
      "text/plain": [
       "<Figure size 432x288 with 1 Axes>"
      ]
     },
     "metadata": {
      "needs_background": "light"
     },
     "output_type": "display_data"
    }
   ],
   "source": [
    "sns.boxplot(x='Type',y='beta',hue='Phase',data=agg_df)\n",
    "plt.ylim(-0.5,0.5)"
   ]
  }
 ],
 "metadata": {
  "kernelspec": {
   "display_name": "Python 3",
   "language": "python",
   "name": "python3"
  },
  "language_info": {
   "codemirror_mode": {
    "name": "ipython",
    "version": 3
   },
   "file_extension": ".py",
   "mimetype": "text/x-python",
   "name": "python",
   "nbconvert_exporter": "python",
   "pygments_lexer": "ipython3",
   "version": "3.7.3"
  }
 },
 "nbformat": 4,
 "nbformat_minor": 4
}
