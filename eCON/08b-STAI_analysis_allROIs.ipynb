{
 "cells": [
  {
   "cell_type": "code",
   "execution_count": 1,
   "metadata": {},
   "outputs": [
    {
     "data": {
      "text/html": [
       "<script>\n",
       "code_show=true; \n",
       "function code_toggle() {\n",
       " if (code_show){\n",
       " $('div.input').hide();\n",
       " } else {\n",
       " $('div.input').show();\n",
       " }\n",
       " code_show = !code_show\n",
       "} \n",
       "$( document ).ready(code_toggle);\n",
       "</script>\n",
       "<form action=\"javascript:code_toggle()\"><input type=\"submit\" value=\"Click here to toggle on/off the raw code.\"></form>"
      ],
      "text/plain": [
       "<IPython.core.display.HTML object>"
      ]
     },
     "execution_count": 1,
     "metadata": {},
     "output_type": "execute_result"
    }
   ],
   "source": [
    "from IPython.display import HTML\n",
    "\n",
    "HTML('''<script>\n",
    "code_show=true; \n",
    "function code_toggle() {\n",
    " if (code_show){\n",
    " $('div.input').hide();\n",
    " } else {\n",
    " $('div.input').show();\n",
    " }\n",
    " code_show = !code_show\n",
    "} \n",
    "$( document ).ready(code_toggle);\n",
    "</script>\n",
    "<form action=\"javascript:code_toggle()\"><input type=\"submit\" value=\"Click here to toggle on/off the raw code.\"></form>''')\n"
   ]
  },
  {
   "cell_type": "code",
   "execution_count": 2,
   "metadata": {},
   "outputs": [],
   "source": [
    "import numpy as np\n",
    "import pandas as pd\n",
    "\n",
    "from os.path import join\n",
    "\n",
    "import seaborn as sns\n",
    "sns.set(font_scale=1.5)\n",
    "import matplotlib.pyplot as plt\n",
    "\n",
    "from statsmodels.stats.outliers_influence import variance_inflation_factor\n",
    "import statsmodels.api as sm\n",
    "\n",
    "%matplotlib inline"
   ]
  },
  {
   "cell_type": "code",
   "execution_count": 3,
   "metadata": {},
   "outputs": [],
   "source": [
    "## Load the State and Trait scores\n",
    "eCON = '/data/bswift-1/Pessoa_Lab/eCON'\n",
    "scores = pd.read_excel(join(eCON,'STAIscores/scores.xlsx'))\n",
    "scores.rename(columns={'SCORING':'TRAIT'},inplace=True)\n",
    "scores.drop(columns=['PAIR SCORE'],inplace=True)\n",
    "scores['SubID'] = scores['SubID'].apply(lambda name: ''.join(name.strip().split(\"_\")))"
   ]
  },
  {
   "cell_type": "code",
   "execution_count": 4,
   "metadata": {},
   "outputs": [],
   "source": [
    "# ROIs to be included in the RBA\n",
    "rois = 'vmPFC PCC1 PCC2 rPAG1 lPAG1 rvAI rdAI lvAI ldAI rPI lPI rBNST lBNST ACC\\\n",
    "        Amygdala_BLBM_La_R Amygdala_CeME_R Amygdala_BLBM_La_L Amygdala_CeME_L\\\n",
    "        rCa lCa rPa lPa rVS lVS'.split()"
   ]
  },
  {
   "cell_type": "markdown",
   "metadata": {},
   "source": [
    "## List of ROIs to included in RBA"
   ]
  },
  {
   "cell_type": "code",
   "execution_count": 5,
   "metadata": {},
   "outputs": [
    {
     "name": "stdout",
     "output_type": "stream",
     "text": [
      "1 vmPFC\n",
      "2 PCC1\n",
      "3 PCC2\n",
      "4 rPAG1\n",
      "5 lPAG1\n",
      "6 rvAI\n",
      "7 rdAI\n",
      "8 lvAI\n",
      "9 ldAI\n",
      "10 rPI\n",
      "11 lPI\n",
      "12 rBNST\n",
      "13 lBNST\n",
      "14 ACC\n",
      "15 Amygdala_BLBM_La_R\n",
      "16 Amygdala_CeME_R\n",
      "17 Amygdala_BLBM_La_L\n",
      "18 Amygdala_CeME_L\n",
      "19 rCa\n",
      "20 lCa\n",
      "21 rPa\n",
      "22 lPa\n",
      "23 rVS\n",
      "24 lVS\n"
     ]
    }
   ],
   "source": [
    "for i,roi in enumerate(rois):\n",
    "    print(i+1,roi)"
   ]
  },
  {
   "cell_type": "code",
   "execution_count": 6,
   "metadata": {},
   "outputs": [],
   "source": [
    "# Load the data that contains shock betas for all participants\n",
    "beta_df = pd.read_csv('Individual_betas_from_ROI_analysis_S.csv')"
   ]
  },
  {
   "cell_type": "code",
   "execution_count": 7,
   "metadata": {},
   "outputs": [],
   "source": [
    "# Get only the shock betas for the rois mentioned above from beta_df and save it as a new df (all_roi_df)\n",
    "all_rois_df = beta_df[beta_df['ROI'].isin(rois)][['Pair','Subject','Group','ROI','shock']]"
   ]
  },
  {
   "cell_type": "code",
   "execution_count": 8,
   "metadata": {},
   "outputs": [],
   "source": [
    "# Pivot the table such that shock betas for every roi are put in separate columns\n",
    "all_rois_df = all_rois_df.groupby(['Pair','Subject','Group','ROI'])['shock'].mean().unstack()\n",
    "# Reset the columns because groupby create the creates multiple index columns\n",
    "all_rois_df.reset_index(inplace=True)"
   ]
  },
  {
   "cell_type": "code",
   "execution_count": 9,
   "metadata": {},
   "outputs": [],
   "source": [
    "# Extract the shock beta values from both goups, and subtract one from the other (uncontrol - control)\n",
    "all_rois_pair_df = all_rois_df[all_rois_df['Group']=='uncontrol'][rois].values - all_rois_df[all_rois_df['Group']=='control'][rois].values\n",
    "all_rois_pair_df = pd.DataFrame(all_rois_pair_df,columns=rois, index=all_rois_df.Pair.unique())\n",
    "all_rois_pair_df.index.name = 'Pair'"
   ]
  },
  {
   "cell_type": "code",
   "execution_count": 10,
   "metadata": {},
   "outputs": [
    {
     "data": {
      "text/html": [
       "<div>\n",
       "<style scoped>\n",
       "    .dataframe tbody tr th:only-of-type {\n",
       "        vertical-align: middle;\n",
       "    }\n",
       "\n",
       "    .dataframe tbody tr th {\n",
       "        vertical-align: top;\n",
       "    }\n",
       "\n",
       "    .dataframe thead th {\n",
       "        text-align: right;\n",
       "    }\n",
       "</style>\n",
       "<table border=\"1\" class=\"dataframe\">\n",
       "  <thead>\n",
       "    <tr style=\"text-align: right;\">\n",
       "      <th></th>\n",
       "      <th>Pair</th>\n",
       "      <th>vmPFC</th>\n",
       "      <th>PCC1</th>\n",
       "      <th>PCC2</th>\n",
       "      <th>rPAG1</th>\n",
       "      <th>lPAG1</th>\n",
       "      <th>rvAI</th>\n",
       "      <th>rdAI</th>\n",
       "      <th>lvAI</th>\n",
       "      <th>ldAI</th>\n",
       "      <th>...</th>\n",
       "      <th>Amygdala_BLBM_La_R</th>\n",
       "      <th>Amygdala_CeME_R</th>\n",
       "      <th>Amygdala_BLBM_La_L</th>\n",
       "      <th>Amygdala_CeME_L</th>\n",
       "      <th>rCa</th>\n",
       "      <th>lCa</th>\n",
       "      <th>rPa</th>\n",
       "      <th>lPa</th>\n",
       "      <th>rVS</th>\n",
       "      <th>lVS</th>\n",
       "    </tr>\n",
       "  </thead>\n",
       "  <tbody>\n",
       "    <tr>\n",
       "      <th>0</th>\n",
       "      <td>0</td>\n",
       "      <td>0.091519</td>\n",
       "      <td>0.528970</td>\n",
       "      <td>0.390368</td>\n",
       "      <td>0.690655</td>\n",
       "      <td>-0.070939</td>\n",
       "      <td>0.147522</td>\n",
       "      <td>0.697819</td>\n",
       "      <td>-0.212839</td>\n",
       "      <td>0.300667</td>\n",
       "      <td>...</td>\n",
       "      <td>0.132068</td>\n",
       "      <td>0.231215</td>\n",
       "      <td>-0.088982</td>\n",
       "      <td>0.163821</td>\n",
       "      <td>0.130205</td>\n",
       "      <td>0.060497</td>\n",
       "      <td>0.226600</td>\n",
       "      <td>-0.064820</td>\n",
       "      <td>0.060497</td>\n",
       "      <td>0.226600</td>\n",
       "    </tr>\n",
       "    <tr>\n",
       "      <th>1</th>\n",
       "      <td>1</td>\n",
       "      <td>-0.281526</td>\n",
       "      <td>-0.358356</td>\n",
       "      <td>-0.358426</td>\n",
       "      <td>0.222702</td>\n",
       "      <td>0.587893</td>\n",
       "      <td>0.278198</td>\n",
       "      <td>-0.014570</td>\n",
       "      <td>-0.139945</td>\n",
       "      <td>1.160092</td>\n",
       "      <td>...</td>\n",
       "      <td>0.135403</td>\n",
       "      <td>-0.125570</td>\n",
       "      <td>0.623314</td>\n",
       "      <td>0.112873</td>\n",
       "      <td>0.045806</td>\n",
       "      <td>0.311619</td>\n",
       "      <td>0.409052</td>\n",
       "      <td>0.065016</td>\n",
       "      <td>0.311619</td>\n",
       "      <td>0.409052</td>\n",
       "    </tr>\n",
       "    <tr>\n",
       "      <th>2</th>\n",
       "      <td>2</td>\n",
       "      <td>-0.239491</td>\n",
       "      <td>-0.245321</td>\n",
       "      <td>-0.180753</td>\n",
       "      <td>-0.693028</td>\n",
       "      <td>-0.149545</td>\n",
       "      <td>0.019708</td>\n",
       "      <td>0.273530</td>\n",
       "      <td>0.493830</td>\n",
       "      <td>0.023604</td>\n",
       "      <td>...</td>\n",
       "      <td>0.601048</td>\n",
       "      <td>-1.966749</td>\n",
       "      <td>-0.549733</td>\n",
       "      <td>0.442252</td>\n",
       "      <td>0.006605</td>\n",
       "      <td>0.221100</td>\n",
       "      <td>0.527044</td>\n",
       "      <td>0.353712</td>\n",
       "      <td>0.221100</td>\n",
       "      <td>0.527044</td>\n",
       "    </tr>\n",
       "    <tr>\n",
       "      <th>3</th>\n",
       "      <td>3</td>\n",
       "      <td>-0.225594</td>\n",
       "      <td>-0.125651</td>\n",
       "      <td>0.169125</td>\n",
       "      <td>-0.565429</td>\n",
       "      <td>0.082336</td>\n",
       "      <td>-0.297871</td>\n",
       "      <td>0.051490</td>\n",
       "      <td>0.886183</td>\n",
       "      <td>0.685894</td>\n",
       "      <td>...</td>\n",
       "      <td>-0.120208</td>\n",
       "      <td>-0.764489</td>\n",
       "      <td>0.108833</td>\n",
       "      <td>-1.043333</td>\n",
       "      <td>-0.030742</td>\n",
       "      <td>0.162574</td>\n",
       "      <td>-0.113737</td>\n",
       "      <td>0.210689</td>\n",
       "      <td>0.162574</td>\n",
       "      <td>-0.113737</td>\n",
       "    </tr>\n",
       "    <tr>\n",
       "      <th>4</th>\n",
       "      <td>4</td>\n",
       "      <td>-0.576426</td>\n",
       "      <td>0.328810</td>\n",
       "      <td>-0.542891</td>\n",
       "      <td>0.714243</td>\n",
       "      <td>-0.321195</td>\n",
       "      <td>-0.221868</td>\n",
       "      <td>0.328020</td>\n",
       "      <td>-0.245401</td>\n",
       "      <td>0.467718</td>\n",
       "      <td>...</td>\n",
       "      <td>0.156339</td>\n",
       "      <td>-0.164560</td>\n",
       "      <td>-0.156499</td>\n",
       "      <td>0.239865</td>\n",
       "      <td>0.241619</td>\n",
       "      <td>0.056659</td>\n",
       "      <td>0.659451</td>\n",
       "      <td>0.492310</td>\n",
       "      <td>0.056659</td>\n",
       "      <td>0.659451</td>\n",
       "    </tr>\n",
       "  </tbody>\n",
       "</table>\n",
       "<p>5 rows × 25 columns</p>\n",
       "</div>"
      ],
      "text/plain": [
       "   Pair     vmPFC      PCC1      PCC2     rPAG1     lPAG1      rvAI      rdAI  \\\n",
       "0     0  0.091519  0.528970  0.390368  0.690655 -0.070939  0.147522  0.697819   \n",
       "1     1 -0.281526 -0.358356 -0.358426  0.222702  0.587893  0.278198 -0.014570   \n",
       "2     2 -0.239491 -0.245321 -0.180753 -0.693028 -0.149545  0.019708  0.273530   \n",
       "3     3 -0.225594 -0.125651  0.169125 -0.565429  0.082336 -0.297871  0.051490   \n",
       "4     4 -0.576426  0.328810 -0.542891  0.714243 -0.321195 -0.221868  0.328020   \n",
       "\n",
       "       lvAI      ldAI  ...  Amygdala_BLBM_La_R  Amygdala_CeME_R  \\\n",
       "0 -0.212839  0.300667  ...            0.132068         0.231215   \n",
       "1 -0.139945  1.160092  ...            0.135403        -0.125570   \n",
       "2  0.493830  0.023604  ...            0.601048        -1.966749   \n",
       "3  0.886183  0.685894  ...           -0.120208        -0.764489   \n",
       "4 -0.245401  0.467718  ...            0.156339        -0.164560   \n",
       "\n",
       "   Amygdala_BLBM_La_L  Amygdala_CeME_L       rCa       lCa       rPa  \\\n",
       "0           -0.088982         0.163821  0.130205  0.060497  0.226600   \n",
       "1            0.623314         0.112873  0.045806  0.311619  0.409052   \n",
       "2           -0.549733         0.442252  0.006605  0.221100  0.527044   \n",
       "3            0.108833        -1.043333 -0.030742  0.162574 -0.113737   \n",
       "4           -0.156499         0.239865  0.241619  0.056659  0.659451   \n",
       "\n",
       "        lPa       rVS       lVS  \n",
       "0 -0.064820  0.060497  0.226600  \n",
       "1  0.065016  0.311619  0.409052  \n",
       "2  0.353712  0.221100  0.527044  \n",
       "3  0.210689  0.162574 -0.113737  \n",
       "4  0.492310  0.056659  0.659451  \n",
       "\n",
       "[5 rows x 25 columns]"
      ]
     },
     "execution_count": 10,
     "metadata": {},
     "output_type": "execute_result"
    }
   ],
   "source": [
    "all_rois_pair_df.reset_index(inplace = True)\n",
    "all_rois_pair_df.head()"
   ]
  },
  {
   "cell_type": "code",
   "execution_count": 11,
   "metadata": {},
   "outputs": [],
   "source": [
    "new_score_df = pd.DataFrame()\n",
    "for pair in all_rois_df.Pair.unique():\n",
    "    con = all_rois_df[(all_rois_df['Pair']==pair) & (all_rois_df['Group'] == 'control')]['Subject'].values[0]\n",
    "    uncon = all_rois_df[(all_rois_df['Pair']==pair) & (all_rois_df['Group'] == 'uncontrol')]['Subject'].values[0]\n",
    "    \n",
    "    \n",
    "    conTrait = scores[scores['SubID'] == con]['TRAIT'].values[0]\n",
    "    unconTrait = scores[scores['SubID'] == uncon]['TRAIT'].values[0]\n",
    "    \n",
    "    conState = scores[scores['SubID'] == con]['STATE'].values[0]\n",
    "    unconState = scores[scores['SubID'] == uncon]['STATE'].values[0]\n",
    "    \n",
    "    tmp_df = pd.DataFrame([pair,uncon,con,\n",
    "                           unconTrait,conTrait,unconTrait-conTrait,np.mean([unconTrait,conTrait]),\n",
    "                           unconState,conState,unconState-conState,np.mean([unconState,conState])],\n",
    "                          index=['Pair',('SubID','uncontrol'),('SubID','control'),\n",
    "                                  ('TRAIT','uncontrol'),('TRAIT','control'),('TRAIT','uncon-con'),('TRAIT','mean'),\n",
    "                                  ('STATE','uncontrol'),('STATE','control'),('STATE','uncon-con'),('STATE','mean')]).T\n",
    "    \n",
    "    new_score_df = pd.concat([new_score_df,tmp_df],axis=0)\n",
    "    \n",
    "new_score_df.set_index('Pair',inplace=True)"
   ]
  },
  {
   "cell_type": "code",
   "execution_count": 12,
   "metadata": {},
   "outputs": [],
   "source": [
    "# drop unimportant columns from the STAI scores df (new_score_Df)\n",
    "new_score_df = new_score_df[[('TRAIT','uncon-con'),('TRAIT','mean'),('STATE','uncon-con'),('STATE','mean')]]"
   ]
  },
  {
   "cell_type": "code",
   "execution_count": 13,
   "metadata": {},
   "outputs": [],
   "source": [
    "# Convert the numerical columns of new_score_df to float\n",
    "for col in new_score_df.columns:\n",
    "    new_score_df[col] = new_score_df[col].astype(float)"
   ]
  },
  {
   "cell_type": "code",
   "execution_count": 14,
   "metadata": {},
   "outputs": [
    {
     "data": {
      "text/html": [
       "<div>\n",
       "<style scoped>\n",
       "    .dataframe tbody tr th:only-of-type {\n",
       "        vertical-align: middle;\n",
       "    }\n",
       "\n",
       "    .dataframe tbody tr th {\n",
       "        vertical-align: top;\n",
       "    }\n",
       "\n",
       "    .dataframe thead th {\n",
       "        text-align: right;\n",
       "    }\n",
       "</style>\n",
       "<table border=\"1\" class=\"dataframe\">\n",
       "  <thead>\n",
       "    <tr style=\"text-align: right;\">\n",
       "      <th></th>\n",
       "      <th>(TRAIT, uncon-con)</th>\n",
       "      <th>(TRAIT, mean)</th>\n",
       "      <th>(STATE, uncon-con)</th>\n",
       "      <th>(STATE, mean)</th>\n",
       "    </tr>\n",
       "    <tr>\n",
       "      <th>Pair</th>\n",
       "      <th></th>\n",
       "      <th></th>\n",
       "      <th></th>\n",
       "      <th></th>\n",
       "    </tr>\n",
       "  </thead>\n",
       "  <tbody>\n",
       "    <tr>\n",
       "      <th>0</th>\n",
       "      <td>0.0</td>\n",
       "      <td>27.0</td>\n",
       "      <td>-2.0</td>\n",
       "      <td>23.0</td>\n",
       "    </tr>\n",
       "    <tr>\n",
       "      <th>1</th>\n",
       "      <td>9.0</td>\n",
       "      <td>31.5</td>\n",
       "      <td>4.0</td>\n",
       "      <td>28.0</td>\n",
       "    </tr>\n",
       "    <tr>\n",
       "      <th>2</th>\n",
       "      <td>1.0</td>\n",
       "      <td>36.5</td>\n",
       "      <td>3.0</td>\n",
       "      <td>27.5</td>\n",
       "    </tr>\n",
       "    <tr>\n",
       "      <th>3</th>\n",
       "      <td>3.0</td>\n",
       "      <td>22.5</td>\n",
       "      <td>-1.0</td>\n",
       "      <td>20.5</td>\n",
       "    </tr>\n",
       "    <tr>\n",
       "      <th>4</th>\n",
       "      <td>0.0</td>\n",
       "      <td>33.0</td>\n",
       "      <td>6.0</td>\n",
       "      <td>29.0</td>\n",
       "    </tr>\n",
       "  </tbody>\n",
       "</table>\n",
       "</div>"
      ],
      "text/plain": [
       "      (TRAIT, uncon-con)  (TRAIT, mean)  (STATE, uncon-con)  (STATE, mean)\n",
       "Pair                                                                      \n",
       "0                    0.0           27.0                -2.0           23.0\n",
       "1                    9.0           31.5                 4.0           28.0\n",
       "2                    1.0           36.5                 3.0           27.5\n",
       "3                    3.0           22.5                -1.0           20.5\n",
       "4                    0.0           33.0                 6.0           29.0"
      ]
     },
     "execution_count": 14,
     "metadata": {},
     "output_type": "execute_result"
    }
   ],
   "source": [
    "new_score_df.head()"
   ]
  },
  {
   "cell_type": "code",
   "execution_count": 15,
   "metadata": {},
   "outputs": [],
   "source": [
    "# Reformat the tupled column names for (TRAIT, uncon-con) (TRAIT, mean) (STATE, uncon-con) (STATE, mean)\n",
    "col_to_drop = []\n",
    "for col in new_score_df.columns:\n",
    "    if type(col) is tuple:\n",
    "        \n",
    "        col_to_drop.append(col)\n",
    "        \n",
    "        STAI, kind = col\n",
    "        \n",
    "        if '-' in kind:\n",
    "            kind = 'diff'\n",
    "            \n",
    "        new_score_df[''.join([STAI,kind])] = new_score_df[col]\n",
    "        \n",
    "new_score_df.drop(columns=col_to_drop,inplace=True)"
   ]
  },
  {
   "cell_type": "code",
   "execution_count": 16,
   "metadata": {},
   "outputs": [
    {
     "data": {
      "text/html": [
       "<div>\n",
       "<style scoped>\n",
       "    .dataframe tbody tr th:only-of-type {\n",
       "        vertical-align: middle;\n",
       "    }\n",
       "\n",
       "    .dataframe tbody tr th {\n",
       "        vertical-align: top;\n",
       "    }\n",
       "\n",
       "    .dataframe thead th {\n",
       "        text-align: right;\n",
       "    }\n",
       "</style>\n",
       "<table border=\"1\" class=\"dataframe\">\n",
       "  <thead>\n",
       "    <tr style=\"text-align: right;\">\n",
       "      <th></th>\n",
       "      <th>TRAITdiff</th>\n",
       "      <th>TRAITmean</th>\n",
       "      <th>STATEdiff</th>\n",
       "      <th>STATEmean</th>\n",
       "    </tr>\n",
       "    <tr>\n",
       "      <th>Pair</th>\n",
       "      <th></th>\n",
       "      <th></th>\n",
       "      <th></th>\n",
       "      <th></th>\n",
       "    </tr>\n",
       "  </thead>\n",
       "  <tbody>\n",
       "    <tr>\n",
       "      <th>0</th>\n",
       "      <td>0.0</td>\n",
       "      <td>27.0</td>\n",
       "      <td>-2.0</td>\n",
       "      <td>23.0</td>\n",
       "    </tr>\n",
       "    <tr>\n",
       "      <th>1</th>\n",
       "      <td>9.0</td>\n",
       "      <td>31.5</td>\n",
       "      <td>4.0</td>\n",
       "      <td>28.0</td>\n",
       "    </tr>\n",
       "    <tr>\n",
       "      <th>2</th>\n",
       "      <td>1.0</td>\n",
       "      <td>36.5</td>\n",
       "      <td>3.0</td>\n",
       "      <td>27.5</td>\n",
       "    </tr>\n",
       "    <tr>\n",
       "      <th>3</th>\n",
       "      <td>3.0</td>\n",
       "      <td>22.5</td>\n",
       "      <td>-1.0</td>\n",
       "      <td>20.5</td>\n",
       "    </tr>\n",
       "    <tr>\n",
       "      <th>4</th>\n",
       "      <td>0.0</td>\n",
       "      <td>33.0</td>\n",
       "      <td>6.0</td>\n",
       "      <td>29.0</td>\n",
       "    </tr>\n",
       "  </tbody>\n",
       "</table>\n",
       "</div>"
      ],
      "text/plain": [
       "      TRAITdiff  TRAITmean  STATEdiff  STATEmean\n",
       "Pair                                            \n",
       "0           0.0       27.0       -2.0       23.0\n",
       "1           9.0       31.5        4.0       28.0\n",
       "2           1.0       36.5        3.0       27.5\n",
       "3           3.0       22.5       -1.0       20.5\n",
       "4           0.0       33.0        6.0       29.0"
      ]
     },
     "execution_count": 16,
     "metadata": {},
     "output_type": "execute_result"
    }
   ],
   "source": [
    "new_score_df.head()"
   ]
  },
  {
   "cell_type": "code",
   "execution_count": 17,
   "metadata": {},
   "outputs": [],
   "source": [
    "# Standardize the four STAI scores\n",
    "from sklearn.preprocessing import StandardScaler\n",
    "ss = StandardScaler()\n",
    "new_score_df_norm = pd.DataFrame(ss.fit_transform(new_score_df),\n",
    "                                 columns=new_score_df.columns,\n",
    "                                 index=new_score_df.index)"
   ]
  },
  {
   "cell_type": "code",
   "execution_count": 18,
   "metadata": {},
   "outputs": [
    {
     "data": {
      "text/html": [
       "<div>\n",
       "<style scoped>\n",
       "    .dataframe tbody tr th:only-of-type {\n",
       "        vertical-align: middle;\n",
       "    }\n",
       "\n",
       "    .dataframe tbody tr th {\n",
       "        vertical-align: top;\n",
       "    }\n",
       "\n",
       "    .dataframe thead th {\n",
       "        text-align: right;\n",
       "    }\n",
       "</style>\n",
       "<table border=\"1\" class=\"dataframe\">\n",
       "  <thead>\n",
       "    <tr style=\"text-align: right;\">\n",
       "      <th></th>\n",
       "      <th>ROI</th>\n",
       "      <th>Y</th>\n",
       "    </tr>\n",
       "    <tr>\n",
       "      <th>Pair</th>\n",
       "      <th></th>\n",
       "      <th></th>\n",
       "    </tr>\n",
       "  </thead>\n",
       "  <tbody>\n",
       "    <tr>\n",
       "      <th>0</th>\n",
       "      <td>vmPFC</td>\n",
       "      <td>0.091519</td>\n",
       "    </tr>\n",
       "    <tr>\n",
       "      <th>1</th>\n",
       "      <td>vmPFC</td>\n",
       "      <td>-0.281526</td>\n",
       "    </tr>\n",
       "    <tr>\n",
       "      <th>2</th>\n",
       "      <td>vmPFC</td>\n",
       "      <td>-0.239491</td>\n",
       "    </tr>\n",
       "    <tr>\n",
       "      <th>3</th>\n",
       "      <td>vmPFC</td>\n",
       "      <td>-0.225594</td>\n",
       "    </tr>\n",
       "    <tr>\n",
       "      <th>4</th>\n",
       "      <td>vmPFC</td>\n",
       "      <td>-0.576426</td>\n",
       "    </tr>\n",
       "  </tbody>\n",
       "</table>\n",
       "</div>"
      ],
      "text/plain": [
       "        ROI         Y\n",
       "Pair                 \n",
       "0     vmPFC  0.091519\n",
       "1     vmPFC -0.281526\n",
       "2     vmPFC -0.239491\n",
       "3     vmPFC -0.225594\n",
       "4     vmPFC -0.576426"
      ]
     },
     "execution_count": 18,
     "metadata": {},
     "output_type": "execute_result"
    }
   ],
   "source": [
    "# Melt the allall_rois_pair_df such that all shock beta values are put one column, and every beta is marked by the roi which it belongs to by another column 'ROI' nex to it\n",
    "all_rois_pair_df_melted = all_rois_pair_df.melt(id_vars='Pair',var_name='ROI',value_name='Y')\n",
    "all_rois_pair_df_melted.set_index('Pair',inplace=True)\n",
    "all_rois_pair_df_melted.head()"
   ]
  },
  {
   "cell_type": "code",
   "execution_count": 19,
   "metadata": {},
   "outputs": [],
   "source": [
    "# Join (on index 'Pair') the STAI score (new_score_df) and the roi shock beta (all_rois_pair_df_melted) dataframes\n",
    "full_df = all_rois_pair_df_melted.join(new_score_df_norm)\n",
    "full_df.reset_index(inplace=True)\n",
    "full_df['Subj'] = full_df['Pair'].apply(lambda x: 'P{:02d}'.format(x))\n",
    "full_df.drop(columns = 'Pair',inplace=True)\n",
    "col_order = ['Subj','ROI','Y','TRAITmean','TRAITdiff','STATEmean','STATEdiff']"
   ]
  },
  {
   "cell_type": "code",
   "execution_count": 20,
   "metadata": {},
   "outputs": [
    {
     "name": "stdout",
     "output_type": "stream",
     "text": [
      "     ROI         Y  TRAITdiff  TRAITmean  STATEdiff  STATEmean Subj\n",
      "0  vmPFC  0.091519  -0.040647  -1.003049  -0.181211  -1.230659  P00\n",
      "1   PCC1  0.528970  -0.040647  -1.003049  -0.181211  -1.230659  P00\n",
      "2   PCC2  0.390368  -0.040647  -1.003049  -0.181211  -1.230659  P00\n",
      "3  rPAG1  0.690655  -0.040647  -1.003049  -0.181211  -1.230659  P00\n",
      "4  lPAG1 -0.070939  -0.040647  -1.003049  -0.181211  -1.230659  P00\n",
      "      ROI         Y  TRAITdiff  TRAITmean  STATEdiff  STATEmean Subj\n",
      "1459  lCa  0.205686  -1.103272   0.572285  -1.177055   0.830403  P62\n",
      "1460  rPa -0.039681  -1.103272   0.572285  -1.177055   0.830403  P62\n",
      "1461  lPa -0.188218  -1.103272   0.572285  -1.177055   0.830403  P62\n",
      "1462  rVS  0.205686  -1.103272   0.572285  -1.177055   0.830403  P62\n",
      "1463  lVS -0.039681  -1.103272   0.572285  -1.177055   0.830403  P62\n"
     ]
    }
   ],
   "source": [
    "print(full_df.head())\n",
    "print(full_df.tail())"
   ]
  },
  {
   "cell_type": "raw",
   "metadata": {},
   "source": [
    "full_df[col_order].to_csv(join(eCON,'dataset/data_for_RBA/uncon_v_con_ROI24_with_covariates.txt'),sep='\\t',float_format='%.4f',index=False)"
   ]
  },
  {
   "cell_type": "code",
   "execution_count": 21,
   "metadata": {},
   "outputs": [],
   "source": [
    "full_df[col_order].to_csv('data/uncon_v_con_ROI24_with_covariates.txt',sep='\\t',float_format='%.4f',index=False)"
   ]
  },
  {
   "cell_type": "code",
   "execution_count": 24,
   "metadata": {},
   "outputs": [],
   "source": [
    "full_df[full_df['ROI']=='rBNST'][col_order].drop(columns='ROI').to_csv('data/uncon_v_con_rBNST_with_covariates.txt',sep='\\t',float_format='%.4f',index=False)"
   ]
  },
  {
   "cell_type": "markdown",
   "metadata": {},
   "source": [
    "# Distribution of Y (shock beta contrast [uncon-con])"
   ]
  },
  {
   "cell_type": "code",
   "execution_count": 38,
   "metadata": {},
   "outputs": [
    {
     "data": {
      "text/plain": [
       "Text(0.75, 150, 'Skeweness=0.135')"
      ]
     },
     "execution_count": 38,
     "metadata": {},
     "output_type": "execute_result"
    },
    {
     "data": {
      "image/png": "[encoded data removed]",
      "text/plain": [
       "<Figure size 576x432 with 1 Axes>"
      ]
     },
     "metadata": {
      "needs_background": "light"
     },
     "output_type": "display_data"
    }
   ],
   "source": [
    "plt.figure(figsize = (8,6))\n",
    "sns.distplot(full_df.Y,kde=False)\n",
    "plt.text(x=0.75,y=150, s='Skeweness=%.3f' %(full_df.Y.skew()),fontdict={'size':14})"
   ]
  },
  {
   "cell_type": "markdown",
   "metadata": {},
   "source": [
    "There is minor skewness but there are also a few outliers. Hence use student-t distribution for Y in RBA."
   ]
  },
  {
   "cell_type": "code",
   "execution_count": null,
   "metadata": {},
   "outputs": [],
   "source": []
  }
 ],
 "metadata": {
  "kernelspec": {
   "display_name": "Python 3",
   "language": "python",
   "name": "python3"
  },
  "language_info": {
   "codemirror_mode": {
    "name": "ipython",
    "version": 3
   },
   "file_extension": ".py",
   "mimetype": "text/x-python",
   "name": "python",
   "nbconvert_exporter": "python",
   "pygments_lexer": "ipython3",
   "version": "3.7.3"
  }
 },
 "nbformat": 4,
 "nbformat_minor": 4
}
