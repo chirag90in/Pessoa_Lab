{
 "cells": [
  {
   "cell_type": "code",
   "execution_count": 1,
   "metadata": {},
   "outputs": [
    {
     "data": {
      "text/html": [
       "<script>\n",
       "code_show=true; \n",
       "function code_toggle() {\n",
       " if (code_show){\n",
       " $('div.input').hide();\n",
       " } else {\n",
       " $('div.input').show();\n",
       " }\n",
       " code_show = !code_show\n",
       "} \n",
       "$( document ).ready(code_toggle);\n",
       "</script>\n",
       "<form action=\"javascript:code_toggle()\"><input type=\"submit\" value=\"Click here to toggle on/off the raw code.\"></form>"
      ],
      "text/plain": [
       "<IPython.core.display.HTML object>"
      ]
     },
     "execution_count": 1,
     "metadata": {},
     "output_type": "execute_result"
    }
   ],
   "source": [
    "from IPython.display import HTML\n",
    "\n",
    "HTML('''<script>\n",
    "code_show=true; \n",
    "function code_toggle() {\n",
    " if (code_show){\n",
    " $('div.input').hide();\n",
    " } else {\n",
    " $('div.input').show();\n",
    " }\n",
    " code_show = !code_show\n",
    "} \n",
    "$( document ).ready(code_toggle);\n",
    "</script>\n",
    "<form action=\"javascript:code_toggle()\"><input type=\"submit\" value=\"Click here to toggle on/off the raw code.\"></form>''')"
   ]
  },
  {
   "cell_type": "markdown",
   "metadata": {},
   "source": [
    "# **Analysis of SCR-ROI response for shock**"
   ]
  },
  {
   "cell_type": "code",
   "execution_count": 2,
   "metadata": {},
   "outputs": [],
   "source": [
    "from IPython.core.debugger import set_trace\n",
    "\n",
    "import pandas as pd\n",
    "import numpy as np\n",
    "import os\n",
    "from os.path import join, isdir, dirname, basename, exists\n",
    "from os import mkdir\n",
    "import glob as glob\n",
    "import matplotlib.pyplot as plt\n",
    "import seaborn as sns; sns.set(context=\"paper\",style=\"white\",font_scale=1.5)\n",
    "\n",
    "cmap = plt.get_cmap('Set1')"
   ]
  },
  {
   "cell_type": "code",
   "execution_count": 3,
   "metadata": {},
   "outputs": [],
   "source": [
    "eCON = '/data/bswift-1/Pessoa_Lab/eCON'\n",
    "SCR_betapath = join(eCON,'SCR_new/dataset/results_ShockUncensored/{subj}/{group}lable/splitted_regs/{subj}_bucket_REML_clean.1D')\n",
    "roi_betapath = join(eCON,'dataset/results_ShockUncensored/{subj}/{group}lable/splitted_regs/ROI_{roi}/noProx/{subj}_bucket_REML.1D')\n",
    "yoked = pd.read_excel(join(eCON,'SCR_new/scripts/CON_yoked_table.xlsx'))\n",
    "yoked = yoked.query('use == 1')"
   ]
  },
  {
   "cell_type": "code",
   "execution_count": 4,
   "metadata": {},
   "outputs": [],
   "source": [
    "rois = 'rvAI rdAI lvAI ldAI rPI lPI rBNST lBNST ACC\\\n",
    "        Amygdala_BLBM_La_R Amygdala_CeME_R Amygdala_BLBM_La_L Amygdala_CeME_L\\\n",
    "        rCa lCa rPa lPa rVS lVS vmPFC PCC1 PCC2 rPAG1 lPAG1'.split()"
   ]
  },
  {
   "cell_type": "code",
   "execution_count": 5,
   "metadata": {},
   "outputs": [],
   "source": [
    "if not exists('data/ROIs_SCR_fmri_averaged.csv'):\n",
    "    df = pd.DataFrame()\n",
    "    for i, row in yoked.iterrows():\n",
    "        for kind in ['control','uncontrol']:\n",
    "            #print(row[kind])\n",
    "\n",
    "            scr_beta = np.loadtxt(SCR_betapath.format(subj=row[kind],group=kind))[1::2][-1]\n",
    "            roi_beta = np.vstack([np.loadtxt(roi_betapath.format(subj=row[kind],roi=roi,group=kind))[1::2][-1] for roi in rois]).T\n",
    "            all_betas = np.append(scr_beta,roi_beta)\n",
    "\n",
    "            tmp_df = pd.DataFrame(all_betas, index=['SCR']+rois).T\n",
    "            tmp_df['SubjID'] = row[kind]\n",
    "            tmp_df['Group'] = kind\n",
    "            tmp_df['Pair'] = 'P{:02d}'.format(i)\n",
    "            df = pd.concat([df,tmp_df],axis =0)\n",
    "    df.to_csv('data/ROIs_SCR_fmri_averaged.csv',sep='\\t',index=False)\n",
    "else:\n",
    "    df = pd.read_csv('data/ROIs_SCR_fmri_averaged.csv',sep='\\t')"
   ]
  },
  {
   "cell_type": "markdown",
   "metadata": {},
   "source": [
    "## **SCR response distributions of the two groups**\n",
    "- Compare the distributions\n",
    "    - Two (Independent) Sample Test\n",
    "    - Related Sample Test\n",
    "\n",
    "### **Two (Independent) Sample Test**\n",
    "\n",
    "$$H_{0}:\\mu_{SCR_{uncontrol}} \\neq \\mu_{SCR_{control}}$$"
   ]
  },
  {
   "cell_type": "code",
   "execution_count": 6,
   "metadata": {},
   "outputs": [
    {
     "data": {
      "image/png": "[encoded data removed]",
      "text/plain": [
       "<Figure size 432x288 with 1 Axes>"
      ]
     },
     "metadata": {
      "needs_background": "light"
     },
     "output_type": "display_data"
    }
   ],
   "source": [
    "uncon_scr = df[df.columns[~df.columns.isin(rois)]][df['Group']=='uncontrol']['SCR'].values\n",
    "con_scr = df[df.columns[~df.columns.isin(rois)]][df['Group']=='control']['SCR'].values\n",
    "\n",
    "_=plt.hist(uncon_scr,alpha=0.5,color=cmap.colors[0],label='uncontrol')\n",
    "_=plt.hist(con_scr,alpha=0.5,color=cmap.colors[1],label='control')\n",
    "_=plt.title('SCR responses')\n",
    "_=plt.legend()"
   ]
  },
  {
   "cell_type": "code",
   "execution_count": 7,
   "metadata": {},
   "outputs": [],
   "source": [
    "from scipy.stats import ttest_1samp, ttest_ind, ttest_rel"
   ]
  },
  {
   "cell_type": "code",
   "execution_count": 8,
   "metadata": {},
   "outputs": [],
   "source": [
    "def ind_samp_perm_test(treatment, control, n_perms):\n",
    "    n, k, samp_dist = len(treatment), 0, []\n",
    "    real_obs = np.abs(np.mean(treatment) - np.mean(control))\n",
    "    zs = np.concatenate([treatment, control])\n",
    "    for j in range(n_perms):\n",
    "        np.random.shuffle(zs)\n",
    "        obs = np.mean(zs[:n]) - np.mean(zs[n:])\n",
    "        samp_dist.append(obs)\n",
    "        k += real_obs < abs(obs)\n",
    "    return (samp_dist,(k+1)/(n_perms+1))"
   ]
  },
  {
   "cell_type": "code",
   "execution_count": 9,
   "metadata": {},
   "outputs": [
    {
     "name": "stdout",
     "output_type": "stream",
     "text": [
      "Independent Samples T-test p-value: 0.903\n"
     ]
    }
   ],
   "source": [
    "print('Independent Samples T-test p-value: %.3f' %(ttest_ind(uncon_scr,con_scr)[1]))"
   ]
  },
  {
   "cell_type": "code",
   "execution_count": 10,
   "metadata": {},
   "outputs": [
    {
     "name": "stdout",
     "output_type": "stream",
     "text": [
      "Two sample permutation test p-value: 0.903\n"
     ]
    }
   ],
   "source": [
    "samp_dist, p_val = ind_samp_perm_test(uncon_scr,con_scr,50000)\n",
    "print('Two sample permutation test p-value: %.3f' %(p_val))"
   ]
  },
  {
   "cell_type": "code",
   "execution_count": 11,
   "metadata": {},
   "outputs": [
    {
     "data": {
      "text/plain": [
       "Text(0.5, 1.0, 'Two sample permutation test p-value: 0.903')"
      ]
     },
     "execution_count": 11,
     "metadata": {},
     "output_type": "execute_result"
    },
    {
     "data": {
      "image/png": "[encoded data removed]",
      "text/plain": [
       "<Figure size 432x288 with 1 Axes>"
      ]
     },
     "metadata": {
      "needs_background": "light"
     },
     "output_type": "display_data"
    }
   ],
   "source": [
    "_=plt.hist(samp_dist,bins=25,alpha=0.45)\n",
    "plt.axvline(x=np.mean(uncon_scr) - np.mean(con_scr),c='red',label='Observed mean')\n",
    "plt.axvline(x=np.mean(samp_dist),c='blue',label='Mean of \\nsampling dsitribution')\n",
    "plt.annotate('Observed mean',\n",
    "             xy=(np.mean(uncon_scr) - np.mean(con_scr),6000),\n",
    "             xytext=(-0.75,5000), arrowprops={'color':'red','width':0.5,\n",
    "                                              'headwidth':10,\n",
    "                                              'headlength':10},\n",
    "             fontsize=12)\n",
    "plt.annotate('Mean of \\nsampling dsitribution',\n",
    "             xy=(np.mean(samp_dist),6000),\n",
    "             xytext=(0.25,5000), arrowprops={'color':'blue','width':0.5,\n",
    "                                              'headwidth':10,\n",
    "                                              'headlength':10},\n",
    "             fontsize=12)\n",
    "plt.title('Two sample permutation test p-value: %.3f' %(p_val))"
   ]
  },
  {
   "cell_type": "markdown",
   "metadata": {},
   "source": [
    "### **Paired Sample Test**\n",
    "$$H_{0}: \\mu_{SCR_{uncontol-control}} = 0$$"
   ]
  },
  {
   "cell_type": "code",
   "execution_count": 12,
   "metadata": {},
   "outputs": [],
   "source": [
    "def rel_samp_perm_test(treatment,control,n_perms):\n",
    "    n, k, samp_dist = len(treatment), 0, []\n",
    "    alt_obs = abs(np.mean(np.subtract(treatment,control)))\n",
    "    scr = np.stack([treatment,control],axis=0) # making a 2 X num_samples array\n",
    "    for j in range(n_perms):\n",
    "        null_obs = np.mean(np.array([np.random.choice([-1,1]) for i in range(n)])*(scr[0,:]-scr[1,:]))\n",
    "        samp_dist.append(null_obs)\n",
    "        k += abs(null_obs) > alt_obs\n",
    "        \n",
    "    return(samp_dist,(k+1)/(n_perms+1))"
   ]
  },
  {
   "cell_type": "code",
   "execution_count": 13,
   "metadata": {},
   "outputs": [
    {
     "name": "stdout",
     "output_type": "stream",
     "text": [
      "Related Samples T-test p-value: 0.899\n",
      "Related Samples permutation test p-value: 0.898\n"
     ]
    }
   ],
   "source": [
    "print('Related Samples T-test p-value: %.3f' %(ttest_rel(uncon_scr,con_scr)[1]))\n",
    "samp_dist, p_val = rel_samp_perm_test(uncon_scr,con_scr,50000)\n",
    "print('Related Samples permutation test p-value: %.3f' %(p_val))"
   ]
  },
  {
   "cell_type": "code",
   "execution_count": 14,
   "metadata": {},
   "outputs": [
    {
     "data": {
      "image/png": "[encoded data removed]",
      "text/plain": [
       "<Figure size 432x288 with 1 Axes>"
      ]
     },
     "metadata": {
      "needs_background": "light"
     },
     "output_type": "display_data"
    }
   ],
   "source": [
    "_=plt.hist(samp_dist,bins=25,alpha=0.45)\n",
    "plt.axvline(x=np.mean(uncon_scr-con_scr),c='red',label='Observed mean')\n",
    "plt.axvline(x=np.mean(samp_dist),c='blue',label='Mean of \\nsampling dsitribution')\n",
    "plt.annotate('Observed mean',\n",
    "             xy=(np.mean(uncon_scr-con_scr),6000),\n",
    "             xytext=(-0.75,5000), arrowprops={'color':'red','width':0.5,\n",
    "                                              'headwidth':10,\n",
    "                                              'headlength':10},\n",
    "             fontsize=12)\n",
    "_=plt.annotate('Mean of \\nsampling dsitribution',\n",
    "             xy=(np.mean(samp_dist),6000),\n",
    "             xytext=(0.25,5000), arrowprops={'color':'blue','width':0.5,\n",
    "                                              'headwidth':10,\n",
    "                                              'headlength':10},\n",
    "             fontsize=12)\n",
    "_=plt.title('Related Samples permutation test p-value: %.3f' %(p_val))"
   ]
  },
  {
   "cell_type": "markdown",
   "metadata": {},
   "source": [
    "## **Right BST vs. SCR shock response correlation plot**\n",
    "Average response estimates"
   ]
  },
  {
   "cell_type": "code",
   "execution_count": 15,
   "metadata": {},
   "outputs": [],
   "source": [
    "def plot_SCR_ROI_corr(roi):\n",
    "    fig = plt.figure(figsize=(6,5))\n",
    "    sns.regplot('SCR',roi,df[df['Group']=='uncontrol'],color=cmap.colors[0],\n",
    "                scatter_kws={'edgecolors':'black','s':50,'alpha':0.5,'color':cmap.colors[0]},label='uncontrol',robust=True)\n",
    "    sns.regplot('SCR',roi,df[df['Group']=='control'],color=cmap.colors[1],\n",
    "                scatter_kws= {'edgecolors':'black','s':50,'alpha':0.5,'color':cmap.colors[1]},label='control',robust=True)\n",
    "    plt.xlabel('Skin Conductance\\n[Shock] (A.U.)')\n",
    "    plt.ylabel('{}\\n[Shock] (A.U.)'.format(roi))\n",
    "    plt.ylim(-0.75,1.75)\n",
    "    plt.title('Average Etimated Response')\n",
    "    plt.legend()\n",
    "    plt.tight_layout()\n",
    "    #plt.savefig(join(eCON,'scripts/tmp_preproc2/figures/{}_SCR_correlation_fmri.png').format(roi),dpi=600)"
   ]
  },
  {
   "cell_type": "code",
   "execution_count": 16,
   "metadata": {},
   "outputs": [
    {
     "data": {
      "image/png": "[encoded data removed]",
      "text/plain": [
       "<Figure size 432x360 with 1 Axes>"
      ]
     },
     "metadata": {
      "needs_background": "light"
     },
     "output_type": "display_data"
    }
   ],
   "source": [
    "plot_SCR_ROI_corr('rBNST')"
   ]
  },
  {
   "cell_type": "markdown",
   "metadata": {},
   "source": [
    "## **Data prep for RBA/OLS**\n",
    "### **Get only rBNST and SCR columns**"
   ]
  },
  {
   "cell_type": "code",
   "execution_count": 17,
   "metadata": {},
   "outputs": [
    {
     "data": {
      "text/html": [
       "<div>\n",
       "<style scoped>\n",
       "    .dataframe tbody tr th:only-of-type {\n",
       "        vertical-align: middle;\n",
       "    }\n",
       "\n",
       "    .dataframe tbody tr th {\n",
       "        vertical-align: top;\n",
       "    }\n",
       "\n",
       "    .dataframe thead th {\n",
       "        text-align: right;\n",
       "    }\n",
       "</style>\n",
       "<table border=\"1\" class=\"dataframe\">\n",
       "  <thead>\n",
       "    <tr style=\"text-align: right;\">\n",
       "      <th></th>\n",
       "      <th>Pair</th>\n",
       "      <th>Group</th>\n",
       "      <th>SubjID</th>\n",
       "      <th>rBNST</th>\n",
       "      <th>SCR</th>\n",
       "    </tr>\n",
       "  </thead>\n",
       "  <tbody>\n",
       "    <tr>\n",
       "      <th>0</th>\n",
       "      <td>P00</td>\n",
       "      <td>control</td>\n",
       "      <td>CON001</td>\n",
       "      <td>0.608696</td>\n",
       "      <td>3.735580</td>\n",
       "    </tr>\n",
       "    <tr>\n",
       "      <th>1</th>\n",
       "      <td>P00</td>\n",
       "      <td>uncontrol</td>\n",
       "      <td>CON031</td>\n",
       "      <td>1.162880</td>\n",
       "      <td>1.161580</td>\n",
       "    </tr>\n",
       "    <tr>\n",
       "      <th>2</th>\n",
       "      <td>P01</td>\n",
       "      <td>control</td>\n",
       "      <td>CON002</td>\n",
       "      <td>0.770967</td>\n",
       "      <td>0.047607</td>\n",
       "    </tr>\n",
       "    <tr>\n",
       "      <th>3</th>\n",
       "      <td>P01</td>\n",
       "      <td>uncontrol</td>\n",
       "      <td>CON021</td>\n",
       "      <td>0.097088</td>\n",
       "      <td>1.679910</td>\n",
       "    </tr>\n",
       "    <tr>\n",
       "      <th>4</th>\n",
       "      <td>P02</td>\n",
       "      <td>control</td>\n",
       "      <td>CON003</td>\n",
       "      <td>0.587932</td>\n",
       "      <td>2.188790</td>\n",
       "    </tr>\n",
       "  </tbody>\n",
       "</table>\n",
       "</div>"
      ],
      "text/plain": [
       "  Pair      Group  SubjID     rBNST       SCR\n",
       "0  P00    control  CON001  0.608696  3.735580\n",
       "1  P00  uncontrol  CON031  1.162880  1.161580\n",
       "2  P01    control  CON002  0.770967  0.047607\n",
       "3  P01  uncontrol  CON021  0.097088  1.679910\n",
       "4  P02    control  CON003  0.587932  2.188790"
      ]
     },
     "execution_count": 17,
     "metadata": {},
     "output_type": "execute_result"
    }
   ],
   "source": [
    "df_rBNST = df[['Pair','Group','SubjID','rBNST','SCR']]\n",
    "df_rBNST.reset_index(drop=True,inplace=True)\n",
    "df_rBNST.head()"
   ]
  },
  {
   "cell_type": "markdown",
   "metadata": {},
   "source": [
    "### **Calculate the uncon-con difference**"
   ]
  },
  {
   "cell_type": "code",
   "execution_count": 18,
   "metadata": {},
   "outputs": [
    {
     "data": {
      "text/html": [
       "<div>\n",
       "<style scoped>\n",
       "    .dataframe tbody tr th:only-of-type {\n",
       "        vertical-align: middle;\n",
       "    }\n",
       "\n",
       "    .dataframe tbody tr th {\n",
       "        vertical-align: top;\n",
       "    }\n",
       "\n",
       "    .dataframe thead th {\n",
       "        text-align: right;\n",
       "    }\n",
       "</style>\n",
       "<table border=\"1\" class=\"dataframe\">\n",
       "  <thead>\n",
       "    <tr style=\"text-align: right;\">\n",
       "      <th></th>\n",
       "      <th>rBNST_diff</th>\n",
       "      <th>SCR_diff</th>\n",
       "    </tr>\n",
       "    <tr>\n",
       "      <th>Pair</th>\n",
       "      <th></th>\n",
       "      <th></th>\n",
       "    </tr>\n",
       "  </thead>\n",
       "  <tbody>\n",
       "    <tr>\n",
       "      <th>P00</th>\n",
       "      <td>0.554184</td>\n",
       "      <td>-2.574000</td>\n",
       "    </tr>\n",
       "    <tr>\n",
       "      <th>P01</th>\n",
       "      <td>-0.673879</td>\n",
       "      <td>1.632302</td>\n",
       "    </tr>\n",
       "    <tr>\n",
       "      <th>P02</th>\n",
       "      <td>-0.640979</td>\n",
       "      <td>0.914620</td>\n",
       "    </tr>\n",
       "    <tr>\n",
       "      <th>P03</th>\n",
       "      <td>0.163446</td>\n",
       "      <td>1.775880</td>\n",
       "    </tr>\n",
       "    <tr>\n",
       "      <th>P04</th>\n",
       "      <td>0.189221</td>\n",
       "      <td>-0.039070</td>\n",
       "    </tr>\n",
       "  </tbody>\n",
       "</table>\n",
       "</div>"
      ],
      "text/plain": [
       "      rBNST_diff  SCR_diff\n",
       "Pair                      \n",
       "P00     0.554184 -2.574000\n",
       "P01    -0.673879  1.632302\n",
       "P02    -0.640979  0.914620\n",
       "P03     0.163446  1.775880\n",
       "P04     0.189221 -0.039070"
      ]
     },
     "execution_count": 18,
     "metadata": {},
     "output_type": "execute_result"
    }
   ],
   "source": [
    "df_rBNST_pairs = df[['Pair','rBNST','SCR']].groupby(['Pair'],as_index=True).diff()\n",
    "df_rBNST_pairs.dropna(axis=0,how='all',inplace=True)\n",
    "df_rBNST_pairs.index = pd.Series(df_rBNST.Pair.unique(),name='Pair')\n",
    "df_rBNST_pairs.rename(columns = {'rBNST':'rBNST_diff','SCR':'SCR_diff'},inplace=True)\n",
    "df_rBNST_pairs.head()"
   ]
  },
  {
   "cell_type": "markdown",
   "metadata": {},
   "source": [
    "### **Get the STAI scores to be used as covariates**"
   ]
  },
  {
   "cell_type": "code",
   "execution_count": 19,
   "metadata": {},
   "outputs": [
    {
     "name": "stdout",
     "output_type": "stream",
     "text": [
      "    SubID    Group  TRAIT  STATE\n",
      "0  CON001  control     27     24\n",
      "1  CON002  control     27     26\n",
      "2  CON003  control     36     26\n",
      "3  CON004  control     21     21\n",
      "4  CON005  control     33     26\n",
      "      SubID      Group  TRAIT  STATE\n",
      "121  CON119  uncontrol     38     30\n",
      "122  CON120  uncontrol     35     35\n",
      "123  CON121  uncontrol     53     55\n",
      "124  CON123  uncontrol     30     23\n",
      "125  CON125  uncontrol     38     30\n"
     ]
    }
   ],
   "source": [
    "scores = pd.read_excel(join(eCON,'STAIscores/scores.xlsx'))\n",
    "scores.rename(columns={'SCORING':'TRAIT'},inplace=True)\n",
    "scores.drop(columns=['PAIR SCORE'],inplace=True)\n",
    "scores['SubID'] = scores['SubID'].apply(lambda name: ''.join(name.strip().split(\"_\")))\n",
    "print(scores.head())\n",
    "print(scores.tail())"
   ]
  },
  {
   "cell_type": "code",
   "execution_count": 20,
   "metadata": {},
   "outputs": [],
   "source": [
    "new_score_df = pd.DataFrame()\n",
    "for i,row in yoked.iterrows():\n",
    "    conTrait = scores[scores['SubID'] == row['control']]['TRAIT'].values[0]\n",
    "    unconTrait = scores[scores['SubID'] == row['uncontrol']]['TRAIT'].values[0]\n",
    "    \n",
    "    conState = scores[scores['SubID'] == row['control']]['STATE'].values[0]\n",
    "    unconState = scores[scores['SubID'] == row['uncontrol']]['STATE'].values[0]\n",
    "    \n",
    "    tmp_df = pd.DataFrame(['P{:02d}'.format(i),row['uncontrol'],row['control'],\n",
    "                           unconTrait,conTrait,unconTrait-conTrait,np.mean([unconTrait,conTrait]),\n",
    "                           unconState,conState,unconState-conState,np.mean([unconState,conState])],\n",
    "                          index=['Pair',('SubID','uncontrol'),('SubID','control'),\n",
    "                                  ('TRAIT','uncontrol'),('TRAIT','control'),('TRAIT','uncon-con'),('TRAIT','mean'),\n",
    "                                  ('STATE','uncontrol'),('STATE','control'),('STATE','uncon-con'),('STATE','mean')]).T\n",
    "    \n",
    "    new_score_df = pd.concat([new_score_df,tmp_df],axis=0)\n",
    "    \n",
    "new_score_df.set_index('Pair',inplace=True)\n",
    "\n",
    "\n",
    "new_score_df.columns = pd.MultiIndex.from_tuples(new_score_df.columns)"
   ]
  },
  {
   "cell_type": "code",
   "execution_count": 21,
   "metadata": {},
   "outputs": [
    {
     "name": "stdout",
     "output_type": "stream",
     "text": [
      "         SubID             TRAIT                             STATE          \\\n",
      "     uncontrol control uncontrol control uncon-con  mean uncontrol control   \n",
      "Pair                                                                         \n",
      "P00     CON031  CON001        27      27         0    27        22      24   \n",
      "P01     CON021  CON002        36      27         9  31.5        30      26   \n",
      "P02     CON022  CON003        37      36         1  36.5        29      26   \n",
      "P03     CON030  CON004        24      21         3  22.5        20      21   \n",
      "P04     CON023  CON005        33      33         0    33        32      26   \n",
      "\n",
      "                      \n",
      "     uncon-con  mean  \n",
      "Pair                  \n",
      "P00         -2    23  \n",
      "P01          4    28  \n",
      "P02          3  27.5  \n",
      "P03         -1  20.5  \n",
      "P04          6    29  \n",
      "         SubID             TRAIT                             STATE          \\\n",
      "     uncontrol control uncontrol control uncon-con  mean uncontrol control   \n",
      "Pair                                                                         \n",
      "P55     CON119  CON107        38      37         1  37.5        30      24   \n",
      "P56     CON118  CON108        40      37         3  38.5        47      23   \n",
      "P57     CON116  CON109        27      24         3  25.5        32      28   \n",
      "P58     CON114  CON111        24      28        -4    26        23      20   \n",
      "P59     CON113  CON112        40      34         6    37        34      30   \n",
      "\n",
      "                      \n",
      "     uncon-con  mean  \n",
      "Pair                  \n",
      "P55          6    27  \n",
      "P56         24    35  \n",
      "P57          4    30  \n",
      "P58          3  21.5  \n",
      "P59          4    32  \n"
     ]
    }
   ],
   "source": [
    "print(new_score_df.head())\n",
    "print(new_score_df.tail())"
   ]
  },
  {
   "cell_type": "markdown",
   "metadata": {},
   "source": [
    "### **Normalize the STAI score**"
   ]
  },
  {
   "cell_type": "code",
   "execution_count": 22,
   "metadata": {},
   "outputs": [],
   "source": [
    "from sklearn.preprocessing import StandardScaler\n",
    "\n",
    "ss = StandardScaler()\n",
    "scores_norm = pd.DataFrame(ss.fit_transform(new_score_df[[('STATE', 'mean'),('STATE','uncon-con'),('TRAIT', 'mean'),('TRAIT','uncon-con')]]),\n",
    "                          columns=['STATEmean','STATEdiff','TRAITmean','TRAITdiff'],index=new_score_df.index)\n"
   ]
  },
  {
   "cell_type": "code",
   "execution_count": 23,
   "metadata": {},
   "outputs": [
    {
     "data": {
      "text/html": [
       "<div>\n",
       "<style scoped>\n",
       "    .dataframe tbody tr th:only-of-type {\n",
       "        vertical-align: middle;\n",
       "    }\n",
       "\n",
       "    .dataframe tbody tr th {\n",
       "        vertical-align: top;\n",
       "    }\n",
       "\n",
       "    .dataframe thead th {\n",
       "        text-align: right;\n",
       "    }\n",
       "</style>\n",
       "<table border=\"1\" class=\"dataframe\">\n",
       "  <thead>\n",
       "    <tr style=\"text-align: right;\">\n",
       "      <th></th>\n",
       "      <th>STATEmean</th>\n",
       "      <th>STATEdiff</th>\n",
       "      <th>TRAITmean</th>\n",
       "      <th>TRAITdiff</th>\n",
       "    </tr>\n",
       "    <tr>\n",
       "      <th>Pair</th>\n",
       "      <th></th>\n",
       "      <th></th>\n",
       "      <th></th>\n",
       "      <th></th>\n",
       "    </tr>\n",
       "  </thead>\n",
       "  <tbody>\n",
       "    <tr>\n",
       "      <th>P00</th>\n",
       "      <td>-1.213278</td>\n",
       "      <td>-0.144191</td>\n",
       "      <td>-0.988402</td>\n",
       "      <td>-0.055850</td>\n",
       "    </tr>\n",
       "    <tr>\n",
       "      <th>P01</th>\n",
       "      <td>-0.419284</td>\n",
       "      <td>0.496243</td>\n",
       "      <td>-0.407588</td>\n",
       "      <td>3.127601</td>\n",
       "    </tr>\n",
       "    <tr>\n",
       "      <th>P02</th>\n",
       "      <td>-0.498684</td>\n",
       "      <td>0.389504</td>\n",
       "      <td>0.237760</td>\n",
       "      <td>0.297867</td>\n",
       "    </tr>\n",
       "    <tr>\n",
       "      <th>P03</th>\n",
       "      <td>-1.610275</td>\n",
       "      <td>-0.037452</td>\n",
       "      <td>-1.569215</td>\n",
       "      <td>1.005300</td>\n",
       "    </tr>\n",
       "    <tr>\n",
       "      <th>P04</th>\n",
       "      <td>-0.260486</td>\n",
       "      <td>0.709720</td>\n",
       "      <td>-0.213984</td>\n",
       "      <td>-0.055850</td>\n",
       "    </tr>\n",
       "  </tbody>\n",
       "</table>\n",
       "</div>"
      ],
      "text/plain": [
       "      STATEmean  STATEdiff  TRAITmean  TRAITdiff\n",
       "Pair                                            \n",
       "P00   -1.213278  -0.144191  -0.988402  -0.055850\n",
       "P01   -0.419284   0.496243  -0.407588   3.127601\n",
       "P02   -0.498684   0.389504   0.237760   0.297867\n",
       "P03   -1.610275  -0.037452  -1.569215   1.005300\n",
       "P04   -0.260486   0.709720  -0.213984  -0.055850"
      ]
     },
     "execution_count": 23,
     "metadata": {},
     "output_type": "execute_result"
    }
   ],
   "source": [
    "scores_norm.head()"
   ]
  },
  {
   "cell_type": "markdown",
   "metadata": {},
   "source": [
    "### **Combine the df that has SCR and ROI responses (df_rBNST_pairs) with the df that has normalized STAI scores (scores_norm)**"
   ]
  },
  {
   "cell_type": "code",
   "execution_count": 24,
   "metadata": {},
   "outputs": [
    {
     "name": "stdout",
     "output_type": "stream",
     "text": [
      "  Pair  rBNST_diff  SCR_diff  STATEmean  STATEdiff  TRAITmean  TRAITdiff\n",
      "0  P00    0.554184 -2.574000  -1.213278  -0.144191  -0.988402  -0.055850\n",
      "1  P01   -0.673879  1.632302  -0.419284   0.496243  -0.407588   3.127601\n",
      "2  P02   -0.640979  0.914620  -0.498684   0.389504   0.237760   0.297867\n",
      "3  P03    0.163446  1.775880  -1.610275  -0.037452  -1.569215   1.005300\n",
      "4  P04    0.189221 -0.039070  -0.260486   0.709720  -0.213984  -0.055850\n",
      "  Subj  rBNST_diff  SCR_diff  STATEmean  STATEdiff  TRAITmean  TRAITdiff\n",
      "0  P00    0.554184 -2.574000  -1.213278  -0.144191  -0.988402  -0.055850\n",
      "1  P01   -0.673879  1.632302  -0.419284   0.496243  -0.407588   3.127601\n",
      "2  P02   -0.640979  0.914620  -0.498684   0.389504   0.237760   0.297867\n",
      "3  P03    0.163446  1.775880  -1.610275  -0.037452  -1.569215   1.005300\n",
      "4  P04    0.189221 -0.039070  -0.260486   0.709720  -0.213984  -0.055850\n"
     ]
    }
   ],
   "source": [
    "final_df = df_rBNST_pairs.join(scores_norm)\n",
    "final_df.reset_index(drop=False,inplace=True)\n",
    "print(final_df.head())\n",
    "final_df.rename(columns={'rBNST':'y','Pair':'Subj'},inplace=True)\n",
    "print(final_df.head())"
   ]
  },
  {
   "cell_type": "code",
   "execution_count": 30,
   "metadata": {},
   "outputs": [],
   "source": [
    "final_df.to_csv('data/uncon_v_con_rBNST_SCR_with_covariates.txt',sep='\\t',index=False,float_format='%.4f')"
   ]
  },
  {
   "cell_type": "code",
   "execution_count": null,
   "metadata": {},
   "outputs": [],
   "source": []
  }
 ],
 "metadata": {
  "kernelspec": {
   "display_name": "Python 3",
   "language": "python",
   "name": "python3"
  },
  "language_info": {
   "codemirror_mode": {
    "name": "ipython",
    "version": 3
   },
   "file_extension": ".py",
   "mimetype": "text/x-python",
   "name": "python",
   "nbconvert_exporter": "python",
   "pygments_lexer": "ipython3",
   "version": "3.7.3"
  }
 },
 "nbformat": 4,
 "nbformat_minor": 4
}
