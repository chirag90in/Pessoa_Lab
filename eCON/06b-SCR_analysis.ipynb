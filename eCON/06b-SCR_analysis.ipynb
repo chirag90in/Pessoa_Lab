{
 "cells": [
  {
   "cell_type": "markdown",
   "metadata": {},
   "source": [
    "from IPython.display import HTML\n",
    "\n",
    "HTML('''<script>\n",
    "code_show=true; \n",
    "function code_toggle() {\n",
    " if (code_show){\n",
    " $('div.input').hide();\n",
    " } else {\n",
    " $('div.input').show();\n",
    " }\n",
    " code_show = !code_show\n",
    "} \n",
    "$( document ).ready(code_toggle);\n",
    "</script>\n",
    "<form action=\"javascript:code_toggle()\"><input type=\"submit\" value=\"Click here to toggle on/off the raw code.\"></form>''')"
   ]
  },
  {
   "cell_type": "markdown",
   "metadata": {},
   "source": [
    "# **Analysis of SCR and brain response for shock**"
   ]
  },
  {
   "cell_type": "code",
   "execution_count": 1,
   "metadata": {},
   "outputs": [],
   "source": [
    "from IPython.core.debugger import set_trace\n",
    "\n",
    "import pandas as pd\n",
    "import numpy as np\n",
    "import os\n",
    "from os.path import join, isdir, dirname, basename, exists\n",
    "from os import mkdir\n",
    "import glob as glob\n",
    "import matplotlib.pyplot as plt\n",
    "import seaborn as sns; sns.set(context=\"paper\",style=\"white\",font_scale=1.5)\n",
    "\n"
   ]
  },
  {
   "cell_type": "code",
   "execution_count": 2,
   "metadata": {},
   "outputs": [],
   "source": [
    "eCON = '/data/bswift-1/Pessoa_Lab/eCON'\n",
    "SCR_betapath = join(eCON,'SCR_new/dataset/results_ShockUncensored/{subj}/{group}lable/splitted_regs/{subj}_bucket_REML_clean.1D')\n",
    "roi_betapath = join(eCON,'dataset/results_ShockUncensored/{subj}/{group}lable/splitted_regs/ROI_{roi}/noProx/{subj}_bucket_REML.1D')\n",
    "yoked = pd.read_excel(join(eCON,'SCR_new/scripts/CON_yoked_table.xlsx'))\n",
    "yoked = yoked.query('use == 1')"
   ]
  },
  {
   "cell_type": "code",
   "execution_count": 3,
   "metadata": {},
   "outputs": [],
   "source": [
    "rois = 'rvAI rdAI lvAI ldAI rPI lPI rBNST lBNST ACC\\\n",
    "        Amygdala_BLBM_La_R Amygdala_CeME_R Amygdala_BLBM_La_L Amygdala_CeME_L\\\n",
    "        rCa lCa rPa lPa rVS lVS vmPFC PCC1 PCC2 rPAG1 lPAG1'.split()"
   ]
  },
  {
   "cell_type": "code",
   "execution_count": 4,
   "metadata": {},
   "outputs": [],
   "source": [
    "count = 0\n",
    "df = pd.DataFrame()\n",
    "for i, row in yoked.iterrows():\n",
    "    for kind in ['control','uncontrol']:\n",
    "        #print(row[kind])\n",
    "        \n",
    "        scr_beta = np.loadtxt(SCR_betapath.format(subj=row[kind],group=kind))[1::2][-1]\n",
    "        roi_beta = np.vstack([np.loadtxt(roi_betapath.format(subj=row[kind],roi=roi,group=kind))[1::2][-1] for roi in rois]).T\n",
    "        all_betas = np.append(scr_beta,roi_beta)\n",
    "\n",
    "        tmp_df = pd.DataFrame(all_betas, index=['SCR']+rois).T\n",
    "        tmp_df['SubjID'] = row[kind]\n",
    "        tmp_df['Group'] = kind\n",
    "        tmp_df['Pair'] = 'P{:02d}'.format(i)\n",
    "        df = pd.concat([df,tmp_df],axis =0)"
   ]
  },
  {
   "cell_type": "code",
   "execution_count": 5,
   "metadata": {},
   "outputs": [
    {
     "data": {
      "text/plain": [
       "Index(['SCR', 'rvAI', 'rdAI', 'lvAI', 'ldAI', 'rPI', 'lPI', 'rBNST', 'lBNST',\n",
       "       'ACC', 'Amygdala_BLBM_La_R', 'Amygdala_CeME_R', 'Amygdala_BLBM_La_L',\n",
       "       'Amygdala_CeME_L', 'rCa', 'lCa', 'rPa', 'lPa', 'rVS', 'lVS', 'vmPFC',\n",
       "       'PCC1', 'PCC2', 'rPAG1', 'lPAG1', 'SubjID', 'Group', 'Pair'],\n",
       "      dtype='object')"
      ]
     },
     "execution_count": 5,
     "metadata": {},
     "output_type": "execute_result"
    }
   ],
   "source": [
    "df.columns"
   ]
  },
  {
   "cell_type": "code",
   "execution_count": 6,
   "metadata": {},
   "outputs": [],
   "source": [
    "df_rBNST = df[['Pair','Group','SubjID','rBNST','SCR']]\n",
    "df_rBNST.reset_index(drop=True,inplace=True)"
   ]
  },
  {
   "cell_type": "code",
   "execution_count": 7,
   "metadata": {},
   "outputs": [
    {
     "data": {
      "text/html": [
       "<div>\n",
       "<style scoped>\n",
       "    .dataframe tbody tr th:only-of-type {\n",
       "        vertical-align: middle;\n",
       "    }\n",
       "\n",
       "    .dataframe tbody tr th {\n",
       "        vertical-align: top;\n",
       "    }\n",
       "\n",
       "    .dataframe thead th {\n",
       "        text-align: right;\n",
       "    }\n",
       "</style>\n",
       "<table border=\"1\" class=\"dataframe\">\n",
       "  <thead>\n",
       "    <tr style=\"text-align: right;\">\n",
       "      <th></th>\n",
       "      <th>rBNST</th>\n",
       "      <th>SCR</th>\n",
       "    </tr>\n",
       "    <tr>\n",
       "      <th>Pair</th>\n",
       "      <th></th>\n",
       "      <th></th>\n",
       "    </tr>\n",
       "  </thead>\n",
       "  <tbody>\n",
       "    <tr>\n",
       "      <th>P00</th>\n",
       "      <td>0.554184</td>\n",
       "      <td>-2.574000</td>\n",
       "    </tr>\n",
       "    <tr>\n",
       "      <th>P01</th>\n",
       "      <td>-0.673879</td>\n",
       "      <td>1.632302</td>\n",
       "    </tr>\n",
       "    <tr>\n",
       "      <th>P02</th>\n",
       "      <td>-0.640979</td>\n",
       "      <td>0.914620</td>\n",
       "    </tr>\n",
       "    <tr>\n",
       "      <th>P03</th>\n",
       "      <td>0.163446</td>\n",
       "      <td>1.775880</td>\n",
       "    </tr>\n",
       "    <tr>\n",
       "      <th>P04</th>\n",
       "      <td>0.189221</td>\n",
       "      <td>-0.039070</td>\n",
       "    </tr>\n",
       "  </tbody>\n",
       "</table>\n",
       "</div>"
      ],
      "text/plain": [
       "         rBNST       SCR\n",
       "Pair                    \n",
       "P00   0.554184 -2.574000\n",
       "P01  -0.673879  1.632302\n",
       "P02  -0.640979  0.914620\n",
       "P03   0.163446  1.775880\n",
       "P04   0.189221 -0.039070"
      ]
     },
     "execution_count": 7,
     "metadata": {},
     "output_type": "execute_result"
    }
   ],
   "source": [
    "df_rBNST_pairs = df[['Pair','rBNST','SCR']].groupby(['Pair'],as_index=True).diff()\n",
    "df_rBNST_pairs.dropna(axis=0,how='all',inplace=True)\n",
    "df_rBNST_pairs.index = pd.Series(df_rBNST.Pair.unique(),name='Pair')\n",
    "df_rBNST_pairs.head()"
   ]
  },
  {
   "cell_type": "code",
   "execution_count": 8,
   "metadata": {},
   "outputs": [
    {
     "data": {
      "text/plain": [
       "<matplotlib.axes._subplots.AxesSubplot at 0x7efc0b5b5eb8>"
      ]
     },
     "execution_count": 8,
     "metadata": {},
     "output_type": "execute_result"
    },
    {
     "data": {
      "image/png": "[encoded data removed]",
      "text/plain": [
       "<Figure size 432x288 with 1 Axes>"
      ]
     },
     "metadata": {
      "needs_background": "light"
     },
     "output_type": "display_data"
    }
   ],
   "source": [
    "sns.scatterplot(x='rBNST',y='SCR',data=df_rBNST_pairs,s=50)"
   ]
  },
  {
   "cell_type": "code",
   "execution_count": 35,
   "metadata": {},
   "outputs": [
    {
     "data": {
      "text/plain": [
       "Text(0, 0.5, 'Right BST: (uncontrol - control)')"
      ]
     },
     "execution_count": 35,
     "metadata": {},
     "output_type": "execute_result"
    },
    {
     "data": {
      "image/png": "[encoded data removed]",
      "text/plain": [
       "<Figure size 432x288 with 1 Axes>"
      ]
     },
     "metadata": {
      "needs_background": "light"
     },
     "output_type": "display_data"
    }
   ],
   "source": [
    "sns.regplot(y='rBNST',x='SCR',data=df_rBNST_pairs)\n",
    "plt.xlabel('SCR: (uncontrol - control)')\n",
    "plt.ylabel('Right BST: (uncontrol - control)')"
   ]
  },
  {
   "cell_type": "code",
   "execution_count": 10,
   "metadata": {},
   "outputs": [],
   "source": [
    "scores = pd.read_excel(join(eCON,'STAIscores/scores.xlsx'))\n",
    "scores.rename(columns={'SCORING':'TRAIT'},inplace=True)\n",
    "scores.drop(columns=['PAIR SCORE'],inplace=True)\n",
    "scores['SubID'] = scores['SubID'].apply(lambda name: ''.join(name.strip().split(\"_\")))"
   ]
  },
  {
   "cell_type": "code",
   "execution_count": 11,
   "metadata": {},
   "outputs": [
    {
     "name": "stderr",
     "output_type": "stream",
     "text": [
      "/home/climbach/anaconda3/lib/python3.7/site-packages/pandas/core/reshape/merge.py:522: UserWarning: merging between different levels can give an unintended result (1 levels on the left, 2 on the right)\n",
      "  warnings.warn(msg, UserWarning)\n"
     ]
    }
   ],
   "source": [
    "new_score_df = pd.DataFrame()\n",
    "for i,row in yoked.iterrows():\n",
    "    conTrait = scores[scores['SubID'] == row['control']]['TRAIT'].values[0]\n",
    "    unconTrait = scores[scores['SubID'] == row['uncontrol']]['TRAIT'].values[0]\n",
    "    \n",
    "    conState = scores[scores['SubID'] == row['control']]['STATE'].values[0]\n",
    "    unconState = scores[scores['SubID'] == row['uncontrol']]['STATE'].values[0]\n",
    "    \n",
    "    tmp_df = pd.DataFrame(['P{:02d}'.format(i),row['uncontrol'],row['control'],\n",
    "                           unconTrait,conTrait,unconTrait-conTrait,np.mean([unconTrait,conTrait]),\n",
    "                           unconState,conState,unconState-conState,np.mean([unconState,conState])],\n",
    "                          index=['Pair',('SubID','uncontrol'),('SubID','control'),\n",
    "                                  ('TRAIT','uncontrol'),('TRAIT','control'),('TRAIT','uncon-con'),('TRAIT','mean'),\n",
    "                                  ('STATE','uncontrol'),('STATE','control'),('STATE','uncon-con'),('STATE','mean')]).T\n",
    "    \n",
    "    new_score_df = pd.concat([new_score_df,tmp_df],axis=0)\n",
    "    \n",
    "new_score_df.set_index('Pair',inplace=True)\n",
    "\n",
    "\n",
    "new_score_df.columns = pd.MultiIndex.from_tuples(new_score_df.columns)"
   ]
  },
  {
   "cell_type": "code",
   "execution_count": 12,
   "metadata": {},
   "outputs": [
    {
     "data": {
      "text/html": [
       "<div>\n",
       "<style scoped>\n",
       "    .dataframe tbody tr th:only-of-type {\n",
       "        vertical-align: middle;\n",
       "    }\n",
       "\n",
       "    .dataframe tbody tr th {\n",
       "        vertical-align: top;\n",
       "    }\n",
       "\n",
       "    .dataframe thead tr th {\n",
       "        text-align: left;\n",
       "    }\n",
       "\n",
       "    .dataframe thead tr:last-of-type th {\n",
       "        text-align: right;\n",
       "    }\n",
       "</style>\n",
       "<table border=\"1\" class=\"dataframe\">\n",
       "  <thead>\n",
       "    <tr>\n",
       "      <th></th>\n",
       "      <th colspan=\"2\" halign=\"left\">SubID</th>\n",
       "      <th colspan=\"4\" halign=\"left\">TRAIT</th>\n",
       "      <th colspan=\"4\" halign=\"left\">STATE</th>\n",
       "    </tr>\n",
       "    <tr>\n",
       "      <th></th>\n",
       "      <th>uncontrol</th>\n",
       "      <th>control</th>\n",
       "      <th>uncontrol</th>\n",
       "      <th>control</th>\n",
       "      <th>uncon-con</th>\n",
       "      <th>mean</th>\n",
       "      <th>uncontrol</th>\n",
       "      <th>control</th>\n",
       "      <th>uncon-con</th>\n",
       "      <th>mean</th>\n",
       "    </tr>\n",
       "    <tr>\n",
       "      <th>Pair</th>\n",
       "      <th></th>\n",
       "      <th></th>\n",
       "      <th></th>\n",
       "      <th></th>\n",
       "      <th></th>\n",
       "      <th></th>\n",
       "      <th></th>\n",
       "      <th></th>\n",
       "      <th></th>\n",
       "      <th></th>\n",
       "    </tr>\n",
       "  </thead>\n",
       "  <tbody>\n",
       "    <tr>\n",
       "      <th>P00</th>\n",
       "      <td>CON031</td>\n",
       "      <td>CON001</td>\n",
       "      <td>27</td>\n",
       "      <td>27</td>\n",
       "      <td>0</td>\n",
       "      <td>27</td>\n",
       "      <td>22</td>\n",
       "      <td>24</td>\n",
       "      <td>-2</td>\n",
       "      <td>23</td>\n",
       "    </tr>\n",
       "    <tr>\n",
       "      <th>P01</th>\n",
       "      <td>CON021</td>\n",
       "      <td>CON002</td>\n",
       "      <td>36</td>\n",
       "      <td>27</td>\n",
       "      <td>9</td>\n",
       "      <td>31.5</td>\n",
       "      <td>30</td>\n",
       "      <td>26</td>\n",
       "      <td>4</td>\n",
       "      <td>28</td>\n",
       "    </tr>\n",
       "    <tr>\n",
       "      <th>P02</th>\n",
       "      <td>CON022</td>\n",
       "      <td>CON003</td>\n",
       "      <td>37</td>\n",
       "      <td>36</td>\n",
       "      <td>1</td>\n",
       "      <td>36.5</td>\n",
       "      <td>29</td>\n",
       "      <td>26</td>\n",
       "      <td>3</td>\n",
       "      <td>27.5</td>\n",
       "    </tr>\n",
       "    <tr>\n",
       "      <th>P03</th>\n",
       "      <td>CON030</td>\n",
       "      <td>CON004</td>\n",
       "      <td>24</td>\n",
       "      <td>21</td>\n",
       "      <td>3</td>\n",
       "      <td>22.5</td>\n",
       "      <td>20</td>\n",
       "      <td>21</td>\n",
       "      <td>-1</td>\n",
       "      <td>20.5</td>\n",
       "    </tr>\n",
       "    <tr>\n",
       "      <th>P04</th>\n",
       "      <td>CON023</td>\n",
       "      <td>CON005</td>\n",
       "      <td>33</td>\n",
       "      <td>33</td>\n",
       "      <td>0</td>\n",
       "      <td>33</td>\n",
       "      <td>32</td>\n",
       "      <td>26</td>\n",
       "      <td>6</td>\n",
       "      <td>29</td>\n",
       "    </tr>\n",
       "  </tbody>\n",
       "</table>\n",
       "</div>"
      ],
      "text/plain": [
       "         SubID             TRAIT                             STATE          \\\n",
       "     uncontrol control uncontrol control uncon-con  mean uncontrol control   \n",
       "Pair                                                                         \n",
       "P00     CON031  CON001        27      27         0    27        22      24   \n",
       "P01     CON021  CON002        36      27         9  31.5        30      26   \n",
       "P02     CON022  CON003        37      36         1  36.5        29      26   \n",
       "P03     CON030  CON004        24      21         3  22.5        20      21   \n",
       "P04     CON023  CON005        33      33         0    33        32      26   \n",
       "\n",
       "                      \n",
       "     uncon-con  mean  \n",
       "Pair                  \n",
       "P00         -2    23  \n",
       "P01          4    28  \n",
       "P02          3  27.5  \n",
       "P03         -1  20.5  \n",
       "P04          6    29  "
      ]
     },
     "execution_count": 12,
     "metadata": {},
     "output_type": "execute_result"
    }
   ],
   "source": [
    "new_score_df.head()"
   ]
  },
  {
   "cell_type": "code",
   "execution_count": 19,
   "metadata": {},
   "outputs": [
    {
     "data": {
      "text/html": [
       "<div>\n",
       "<style scoped>\n",
       "    .dataframe tbody tr th:only-of-type {\n",
       "        vertical-align: middle;\n",
       "    }\n",
       "\n",
       "    .dataframe tbody tr th {\n",
       "        vertical-align: top;\n",
       "    }\n",
       "\n",
       "    .dataframe thead tr th {\n",
       "        text-align: left;\n",
       "    }\n",
       "\n",
       "    .dataframe thead tr:last-of-type th {\n",
       "        text-align: right;\n",
       "    }\n",
       "</style>\n",
       "<table border=\"1\" class=\"dataframe\">\n",
       "  <thead>\n",
       "    <tr>\n",
       "      <th></th>\n",
       "      <th colspan=\"2\" halign=\"left\">SubID</th>\n",
       "      <th colspan=\"4\" halign=\"left\">TRAIT</th>\n",
       "      <th colspan=\"4\" halign=\"left\">STATE</th>\n",
       "    </tr>\n",
       "    <tr>\n",
       "      <th></th>\n",
       "      <th>uncontrol</th>\n",
       "      <th>control</th>\n",
       "      <th>uncontrol</th>\n",
       "      <th>control</th>\n",
       "      <th>uncon-con</th>\n",
       "      <th>mean</th>\n",
       "      <th>uncontrol</th>\n",
       "      <th>control</th>\n",
       "      <th>uncon-con</th>\n",
       "      <th>mean</th>\n",
       "    </tr>\n",
       "    <tr>\n",
       "      <th>Pair</th>\n",
       "      <th></th>\n",
       "      <th></th>\n",
       "      <th></th>\n",
       "      <th></th>\n",
       "      <th></th>\n",
       "      <th></th>\n",
       "      <th></th>\n",
       "      <th></th>\n",
       "      <th></th>\n",
       "      <th></th>\n",
       "    </tr>\n",
       "  </thead>\n",
       "  <tbody>\n",
       "    <tr>\n",
       "      <th>P55</th>\n",
       "      <td>CON119</td>\n",
       "      <td>CON107</td>\n",
       "      <td>38</td>\n",
       "      <td>37</td>\n",
       "      <td>1</td>\n",
       "      <td>37.5</td>\n",
       "      <td>30</td>\n",
       "      <td>24</td>\n",
       "      <td>6</td>\n",
       "      <td>27</td>\n",
       "    </tr>\n",
       "    <tr>\n",
       "      <th>P56</th>\n",
       "      <td>CON118</td>\n",
       "      <td>CON108</td>\n",
       "      <td>40</td>\n",
       "      <td>37</td>\n",
       "      <td>3</td>\n",
       "      <td>38.5</td>\n",
       "      <td>47</td>\n",
       "      <td>23</td>\n",
       "      <td>24</td>\n",
       "      <td>35</td>\n",
       "    </tr>\n",
       "    <tr>\n",
       "      <th>P57</th>\n",
       "      <td>CON116</td>\n",
       "      <td>CON109</td>\n",
       "      <td>27</td>\n",
       "      <td>24</td>\n",
       "      <td>3</td>\n",
       "      <td>25.5</td>\n",
       "      <td>32</td>\n",
       "      <td>28</td>\n",
       "      <td>4</td>\n",
       "      <td>30</td>\n",
       "    </tr>\n",
       "    <tr>\n",
       "      <th>P58</th>\n",
       "      <td>CON114</td>\n",
       "      <td>CON111</td>\n",
       "      <td>24</td>\n",
       "      <td>28</td>\n",
       "      <td>-4</td>\n",
       "      <td>26</td>\n",
       "      <td>23</td>\n",
       "      <td>20</td>\n",
       "      <td>3</td>\n",
       "      <td>21.5</td>\n",
       "    </tr>\n",
       "    <tr>\n",
       "      <th>P59</th>\n",
       "      <td>CON113</td>\n",
       "      <td>CON112</td>\n",
       "      <td>40</td>\n",
       "      <td>34</td>\n",
       "      <td>6</td>\n",
       "      <td>37</td>\n",
       "      <td>34</td>\n",
       "      <td>30</td>\n",
       "      <td>4</td>\n",
       "      <td>32</td>\n",
       "    </tr>\n",
       "  </tbody>\n",
       "</table>\n",
       "</div>"
      ],
      "text/plain": [
       "         SubID             TRAIT                             STATE          \\\n",
       "     uncontrol control uncontrol control uncon-con  mean uncontrol control   \n",
       "Pair                                                                         \n",
       "P55     CON119  CON107        38      37         1  37.5        30      24   \n",
       "P56     CON118  CON108        40      37         3  38.5        47      23   \n",
       "P57     CON116  CON109        27      24         3  25.5        32      28   \n",
       "P58     CON114  CON111        24      28        -4    26        23      20   \n",
       "P59     CON113  CON112        40      34         6    37        34      30   \n",
       "\n",
       "                      \n",
       "     uncon-con  mean  \n",
       "Pair                  \n",
       "P55          6    27  \n",
       "P56         24    35  \n",
       "P57          4    30  \n",
       "P58          3  21.5  \n",
       "P59          4    32  "
      ]
     },
     "execution_count": 19,
     "metadata": {},
     "output_type": "execute_result"
    }
   ],
   "source": [
    "new_score_df.tail()"
   ]
  },
  {
   "cell_type": "code",
   "execution_count": 13,
   "metadata": {},
   "outputs": [],
   "source": [
    "from sklearn.preprocessing import StandardScaler\n",
    "\n",
    "ss = StandardScaler()\n",
    "scores_norm = pd.DataFrame(ss.fit_transform(new_score_df[[('STATE', 'mean'),('STATE','uncon-con'),('TRAIT', 'mean'),('TRAIT','uncon-con')]]),\n",
    "                          columns=['STATEmean','STATEdiff','TRAITmean','TRAITdiff'],index=new_score_df.index)\n"
   ]
  },
  {
   "cell_type": "code",
   "execution_count": 20,
   "metadata": {},
   "outputs": [
    {
     "data": {
      "text/html": [
       "<div>\n",
       "<style scoped>\n",
       "    .dataframe tbody tr th:only-of-type {\n",
       "        vertical-align: middle;\n",
       "    }\n",
       "\n",
       "    .dataframe tbody tr th {\n",
       "        vertical-align: top;\n",
       "    }\n",
       "\n",
       "    .dataframe thead th {\n",
       "        text-align: right;\n",
       "    }\n",
       "</style>\n",
       "<table border=\"1\" class=\"dataframe\">\n",
       "  <thead>\n",
       "    <tr style=\"text-align: right;\">\n",
       "      <th></th>\n",
       "      <th>STATEmean</th>\n",
       "      <th>STATEdiff</th>\n",
       "      <th>TRAITmean</th>\n",
       "      <th>TRAITdiff</th>\n",
       "    </tr>\n",
       "    <tr>\n",
       "      <th>Pair</th>\n",
       "      <th></th>\n",
       "      <th></th>\n",
       "      <th></th>\n",
       "      <th></th>\n",
       "    </tr>\n",
       "  </thead>\n",
       "  <tbody>\n",
       "    <tr>\n",
       "      <th>P00</th>\n",
       "      <td>-1.213278</td>\n",
       "      <td>-0.144191</td>\n",
       "      <td>-0.988402</td>\n",
       "      <td>-0.055850</td>\n",
       "    </tr>\n",
       "    <tr>\n",
       "      <th>P01</th>\n",
       "      <td>-0.419284</td>\n",
       "      <td>0.496243</td>\n",
       "      <td>-0.407588</td>\n",
       "      <td>3.127601</td>\n",
       "    </tr>\n",
       "    <tr>\n",
       "      <th>P02</th>\n",
       "      <td>-0.498684</td>\n",
       "      <td>0.389504</td>\n",
       "      <td>0.237760</td>\n",
       "      <td>0.297867</td>\n",
       "    </tr>\n",
       "    <tr>\n",
       "      <th>P03</th>\n",
       "      <td>-1.610275</td>\n",
       "      <td>-0.037452</td>\n",
       "      <td>-1.569215</td>\n",
       "      <td>1.005300</td>\n",
       "    </tr>\n",
       "    <tr>\n",
       "      <th>P04</th>\n",
       "      <td>-0.260486</td>\n",
       "      <td>0.709720</td>\n",
       "      <td>-0.213984</td>\n",
       "      <td>-0.055850</td>\n",
       "    </tr>\n",
       "  </tbody>\n",
       "</table>\n",
       "</div>"
      ],
      "text/plain": [
       "      STATEmean  STATEdiff  TRAITmean  TRAITdiff\n",
       "Pair                                            \n",
       "P00   -1.213278  -0.144191  -0.988402  -0.055850\n",
       "P01   -0.419284   0.496243  -0.407588   3.127601\n",
       "P02   -0.498684   0.389504   0.237760   0.297867\n",
       "P03   -1.610275  -0.037452  -1.569215   1.005300\n",
       "P04   -0.260486   0.709720  -0.213984  -0.055850"
      ]
     },
     "execution_count": 20,
     "metadata": {},
     "output_type": "execute_result"
    }
   ],
   "source": [
    "scores_norm.head()"
   ]
  },
  {
   "cell_type": "code",
   "execution_count": 30,
   "metadata": {},
   "outputs": [
    {
     "name": "stdout",
     "output_type": "stream",
     "text": [
      "  Pair     rBNST       SCR  STATEmean  STATEdiff  TRAITmean  TRAITdiff\n",
      "0  P00  0.554184 -2.574000  -1.213278  -0.144191  -0.988402  -0.055850\n",
      "1  P01 -0.673879  1.632302  -0.419284   0.496243  -0.407588   3.127601\n",
      "2  P02 -0.640979  0.914620  -0.498684   0.389504   0.237760   0.297867\n",
      "3  P03  0.163446  1.775880  -1.610275  -0.037452  -1.569215   1.005300\n",
      "4  P04  0.189221 -0.039070  -0.260486   0.709720  -0.213984  -0.055850\n",
      "  Subj         y       SCR  STATEmean  STATEdiff  TRAITmean  TRAITdiff\n",
      "0  P00  0.554184 -2.574000  -1.213278  -0.144191  -0.988402  -0.055850\n",
      "1  P01 -0.673879  1.632302  -0.419284   0.496243  -0.407588   3.127601\n",
      "2  P02 -0.640979  0.914620  -0.498684   0.389504   0.237760   0.297867\n",
      "3  P03  0.163446  1.775880  -1.610275  -0.037452  -1.569215   1.005300\n",
      "4  P04  0.189221 -0.039070  -0.260486   0.709720  -0.213984  -0.055850\n"
     ]
    }
   ],
   "source": [
    "final_df = df_rBNST_pairs.join(scores_norm)\n",
    "final_df.reset_index(drop=False,inplace=True)\n",
    "print(final_df.head())\n",
    "final_df.rename(columns={'rBNST':'y','Pair':'Subj'},inplace=True)\n",
    "print(final_df.head())"
   ]
  },
  {
   "cell_type": "code",
   "execution_count": 34,
   "metadata": {},
   "outputs": [],
   "source": [
    "final_df.to_csv('data/uncon_v_con_rBNST_SCR_with_covariates.txt',sep='\\t',index=False,float_format='%.4f')"
   ]
  },
  {
   "cell_type": "code",
   "execution_count": null,
   "metadata": {},
   "outputs": [],
   "source": []
  },
  {
   "cell_type": "code",
   "execution_count": null,
   "metadata": {},
   "outputs": [],
   "source": []
  }
 ],
 "metadata": {
  "kernelspec": {
   "display_name": "Python 3",
   "language": "python",
   "name": "python3"
  },
  "language_info": {
   "codemirror_mode": {
    "name": "ipython",
    "version": 3
   },
   "file_extension": ".py",
   "mimetype": "text/x-python",
   "name": "python",
   "nbconvert_exporter": "python",
   "pygments_lexer": "ipython3",
   "version": "3.7.3"
  }
 },
 "nbformat": 4,
 "nbformat_minor": 4
}
