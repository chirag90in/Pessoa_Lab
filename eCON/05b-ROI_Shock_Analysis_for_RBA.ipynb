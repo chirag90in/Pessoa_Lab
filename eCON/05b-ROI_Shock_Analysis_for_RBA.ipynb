{
 "cells": [
  {
   "cell_type": "code",
   "execution_count": 1,
   "metadata": {},
   "outputs": [
    {
     "data": {
      "text/html": [
       "<script>\n",
       "code_show=true; \n",
       "function code_toggle() {\n",
       " if (code_show){\n",
       " $('div.input').hide();\n",
       " } else {\n",
       " $('div.input').show();\n",
       " }\n",
       " code_show = !code_show\n",
       "} \n",
       "$( document ).ready(code_toggle);\n",
       "</script>\n",
       "<form action=\"javascript:code_toggle()\"><input type=\"submit\" value=\"Click here to toggle on/off the raw code.\"></form>"
      ],
      "text/plain": [
       "<IPython.core.display.HTML object>"
      ]
     },
     "execution_count": 1,
     "metadata": {},
     "output_type": "execute_result"
    }
   ],
   "source": [
    "from IPython.display import HTML\n",
    "\n",
    "HTML('''<script>\n",
    "code_show=true; \n",
    "function code_toggle() {\n",
    " if (code_show){\n",
    " $('div.input').hide();\n",
    " } else {\n",
    " $('div.input').show();\n",
    " }\n",
    " code_show = !code_show\n",
    "} \n",
    "$( document ).ready(code_toggle);\n",
    "</script>\n",
    "<form action=\"javascript:code_toggle()\"><input type=\"submit\" value=\"Click here to toggle on/off the raw code.\"></form>''')\n"
   ]
  },
  {
   "cell_type": "code",
   "execution_count": 1,
   "metadata": {},
   "outputs": [],
   "source": [
    "import pandas as pd\n",
    "import numpy as np\n",
    "import os\n",
    "from os.path import join, isdir, dirname, basename, exists\n",
    "from os import mkdir\n",
    "#import nibabel as nib\n",
    "import glob as glob\n",
    "import matplotlib.pyplot as plt\n",
    "import seaborn as sns; sns.set(context=\"paper\",style=\"white\",font_scale=1.5)"
   ]
  },
  {
   "cell_type": "code",
   "execution_count": 2,
   "metadata": {},
   "outputs": [],
   "source": [
    "bucket_path_053 = '../../dataset/results_ShockUncensored/{subj}/{group}lable/splitted_regs/ROI_{roi}/noProx/{subj}_bucket_REML_clean.1D'\n",
    "bucket_path = '../../dataset/results_ShockUncensored/{subj}/{group}lable/splitted_regs/ROI_{roi}/noProx/buttonPress/{subj}_bucket_REML_clean.1D'\n",
    "yoked = pd.read_excel('../../onsetdir/CON_yoked_table.xlsx')\n",
    "yoked = yoked.query('use == 1')"
   ]
  },
  {
   "cell_type": "code",
   "execution_count": 3,
   "metadata": {},
   "outputs": [],
   "source": [
    "#effects = [effect+cat for effect in 'prox sign mag signXmag'.split() for cat in 'Nearest Near Far'.split()]\n",
    "effects = [effect+cat for effect in 'sign mag signXmag'.split() for cat in 'Nearest Near Far'.split()]\n",
    "#nuisance = 'v_motion onset_block offset_block shock buttPress'.split()\n",
    "nuisance = 'v_motion onset_block offset_block shock buttPress'.split()\n",
    "ALLEFFECTS = effects + nuisance\n",
    "colnames=['Pair','Subject','Group','ROI']"
   ]
  },
  {
   "cell_type": "code",
   "execution_count": 4,
   "metadata": {
    "scrolled": true
   },
   "outputs": [
    {
     "data": {
      "text/plain": [
       "['signNearest',\n",
       " 'signNear',\n",
       " 'signFar',\n",
       " 'magNearest',\n",
       " 'magNear',\n",
       " 'magFar',\n",
       " 'signXmagNearest',\n",
       " 'signXmagNear',\n",
       " 'signXmagFar',\n",
       " 'v_motion',\n",
       " 'onset_block',\n",
       " 'offset_block',\n",
       " 'shock']"
      ]
     },
     "execution_count": 4,
     "metadata": {},
     "output_type": "execute_result"
    }
   ],
   "source": [
    "ALLEFFECTS"
   ]
  },
  {
   "cell_type": "code",
   "execution_count": 5,
   "metadata": {},
   "outputs": [],
   "source": [
    "rois = 'vmPFC PCC1 PCC2 rPAG1 lPAG1 rvAI rdAI lvAI ldAI rPI lPI rBNST lBNST ACC\\\n",
    "        Amygdala_BLBM_La_R Amygdala_CeME_R Amygdala_BLBM_La_L Amygdala_CeME_L\\\n",
    "        rCa lCa rPa lPa rVS lVS'.split()"
   ]
  },
  {
   "cell_type": "code",
   "execution_count": 6,
   "metadata": {},
   "outputs": [
    {
     "data": {
      "text/plain": [
       "24"
      ]
     },
     "execution_count": 6,
     "metadata": {},
     "output_type": "execute_result"
    }
   ],
   "source": [
    "len(rois)"
   ]
  },
  {
   "cell_type": "code",
   "execution_count": 7,
   "metadata": {},
   "outputs": [],
   "source": [
    "if exists('Individual_betas_from_ROI_analysis_S_buttonPress.csv'):\n",
    "    main_df = pd.read_csv('Individual_betas_from_ROI_analysis_S_buttonPress.csv')\n",
    "else:\n",
    "    main_df = pd.DataFrame()\n",
    "    for i, row in yoked.iterrows():\n",
    "        pair = i\n",
    "        for kind in ['control','uncontrol']:\n",
    "            for roi in rois:\n",
    "                if row[kind] in ['CON053','CON068','CON092']:\n",
    "                    data = np.loadtxt(bucket_path_053.format(subj=row[kind],group=kind,roi=roi))[1::2]\n",
    "                    tmp_df = pd.DataFrame(data,index=ALLEFFECTS[:-1]).T\n",
    "                    tmp_df[ALLEFFECTS[-1]] = np.nan\n",
    "                else:\n",
    "                    data = np.loadtxt(bucket_path.format(subj=row[kind],group=kind,roi=roi))[1::2]\n",
    "                    tmp_df = pd.DataFrame(data,index=ALLEFFECTS).T\n",
    "                    \n",
    "                tmp_df['Pair'] = i\n",
    "                tmp_df['Subject'] = row[kind]\n",
    "                tmp_df['Group'] = kind\n",
    "                tmp_df['ROI'] = roi\n",
    "                main_df = pd.concat([main_df,tmp_df],axis=0)\n",
    "    main_df.to_csv('Individual_betas_from_ROI_analysis_S_buttonPress.csv',index=False)"
   ]
  },
  {
   "cell_type": "code",
   "execution_count": 10,
   "metadata": {},
   "outputs": [
    {
     "data": {
      "text/plain": [
       "(61,)"
      ]
     },
     "execution_count": 10,
     "metadata": {},
     "output_type": "execute_result"
    }
   ],
   "source": [
    "main_df.Pair.unique().shape"
   ]
  },
  {
   "cell_type": "code",
   "execution_count": 12,
   "metadata": {},
   "outputs": [
    {
     "data": {
      "text/html": [
       "<div>\n",
       "<style scoped>\n",
       "    .dataframe tbody tr th:only-of-type {\n",
       "        vertical-align: middle;\n",
       "    }\n",
       "\n",
       "    .dataframe tbody tr th {\n",
       "        vertical-align: top;\n",
       "    }\n",
       "\n",
       "    .dataframe thead th {\n",
       "        text-align: right;\n",
       "    }\n",
       "</style>\n",
       "<table border=\"1\" class=\"dataframe\">\n",
       "  <thead>\n",
       "    <tr style=\"text-align: right;\">\n",
       "      <th></th>\n",
       "      <th>signNearest</th>\n",
       "      <th>signNear</th>\n",
       "      <th>signFar</th>\n",
       "      <th>magNearest</th>\n",
       "      <th>magNear</th>\n",
       "      <th>magFar</th>\n",
       "      <th>signXmagNearest</th>\n",
       "      <th>signXmagNear</th>\n",
       "      <th>signXmagFar</th>\n",
       "      <th>v_motion</th>\n",
       "      <th>onset_block</th>\n",
       "      <th>offset_block</th>\n",
       "      <th>shock</th>\n",
       "      <th>Pair</th>\n",
       "      <th>Subject</th>\n",
       "      <th>Group</th>\n",
       "      <th>ROI</th>\n",
       "    </tr>\n",
       "  </thead>\n",
       "  <tbody>\n",
       "    <tr>\n",
       "      <th>0</th>\n",
       "      <td>0.004268</td>\n",
       "      <td>0.018583</td>\n",
       "      <td>-0.013507</td>\n",
       "      <td>0.011100</td>\n",
       "      <td>0.008697</td>\n",
       "      <td>0.033971</td>\n",
       "      <td>0.032556</td>\n",
       "      <td>0.026665</td>\n",
       "      <td>0.009296</td>\n",
       "      <td>0.013753</td>\n",
       "      <td>-0.013802</td>\n",
       "      <td>0.349999</td>\n",
       "      <td>0.085120</td>\n",
       "      <td>0</td>\n",
       "      <td>CON001</td>\n",
       "      <td>control</td>\n",
       "      <td>vmPFC</td>\n",
       "    </tr>\n",
       "    <tr>\n",
       "      <th>1</th>\n",
       "      <td>0.028956</td>\n",
       "      <td>-0.007655</td>\n",
       "      <td>-0.007472</td>\n",
       "      <td>-0.005011</td>\n",
       "      <td>0.040348</td>\n",
       "      <td>0.001995</td>\n",
       "      <td>0.023826</td>\n",
       "      <td>-0.069742</td>\n",
       "      <td>0.041422</td>\n",
       "      <td>-0.003171</td>\n",
       "      <td>-0.290345</td>\n",
       "      <td>0.013344</td>\n",
       "      <td>-0.556800</td>\n",
       "      <td>0</td>\n",
       "      <td>CON001</td>\n",
       "      <td>control</td>\n",
       "      <td>PCC1</td>\n",
       "    </tr>\n",
       "    <tr>\n",
       "      <th>2</th>\n",
       "      <td>-0.001695</td>\n",
       "      <td>0.059375</td>\n",
       "      <td>-0.007060</td>\n",
       "      <td>-0.041693</td>\n",
       "      <td>0.072803</td>\n",
       "      <td>-0.012641</td>\n",
       "      <td>0.033404</td>\n",
       "      <td>0.036545</td>\n",
       "      <td>0.092040</td>\n",
       "      <td>0.035299</td>\n",
       "      <td>-0.062542</td>\n",
       "      <td>-0.014250</td>\n",
       "      <td>-1.211220</td>\n",
       "      <td>0</td>\n",
       "      <td>CON001</td>\n",
       "      <td>control</td>\n",
       "      <td>PCC2</td>\n",
       "    </tr>\n",
       "    <tr>\n",
       "      <th>3</th>\n",
       "      <td>0.093643</td>\n",
       "      <td>0.034450</td>\n",
       "      <td>0.023203</td>\n",
       "      <td>-0.018453</td>\n",
       "      <td>0.033397</td>\n",
       "      <td>0.028048</td>\n",
       "      <td>0.058353</td>\n",
       "      <td>-0.034580</td>\n",
       "      <td>0.031405</td>\n",
       "      <td>-0.024535</td>\n",
       "      <td>0.371173</td>\n",
       "      <td>0.208392</td>\n",
       "      <td>0.038015</td>\n",
       "      <td>0</td>\n",
       "      <td>CON001</td>\n",
       "      <td>control</td>\n",
       "      <td>rPAG1</td>\n",
       "    </tr>\n",
       "    <tr>\n",
       "      <th>4</th>\n",
       "      <td>0.096572</td>\n",
       "      <td>0.024379</td>\n",
       "      <td>0.001720</td>\n",
       "      <td>-0.025965</td>\n",
       "      <td>0.019733</td>\n",
       "      <td>0.017556</td>\n",
       "      <td>0.005296</td>\n",
       "      <td>0.019500</td>\n",
       "      <td>0.047623</td>\n",
       "      <td>-0.029426</td>\n",
       "      <td>0.148145</td>\n",
       "      <td>0.157301</td>\n",
       "      <td>0.388202</td>\n",
       "      <td>0</td>\n",
       "      <td>CON001</td>\n",
       "      <td>control</td>\n",
       "      <td>lPAG1</td>\n",
       "    </tr>\n",
       "  </tbody>\n",
       "</table>\n",
       "</div>"
      ],
      "text/plain": [
       "   signNearest  signNear   signFar  magNearest   magNear    magFar  \\\n",
       "0     0.004268  0.018583 -0.013507    0.011100  0.008697  0.033971   \n",
       "1     0.028956 -0.007655 -0.007472   -0.005011  0.040348  0.001995   \n",
       "2    -0.001695  0.059375 -0.007060   -0.041693  0.072803 -0.012641   \n",
       "3     0.093643  0.034450  0.023203   -0.018453  0.033397  0.028048   \n",
       "4     0.096572  0.024379  0.001720   -0.025965  0.019733  0.017556   \n",
       "\n",
       "   signXmagNearest  signXmagNear  signXmagFar  v_motion  onset_block  \\\n",
       "0         0.032556      0.026665     0.009296  0.013753    -0.013802   \n",
       "1         0.023826     -0.069742     0.041422 -0.003171    -0.290345   \n",
       "2         0.033404      0.036545     0.092040  0.035299    -0.062542   \n",
       "3         0.058353     -0.034580     0.031405 -0.024535     0.371173   \n",
       "4         0.005296      0.019500     0.047623 -0.029426     0.148145   \n",
       "\n",
       "   offset_block     shock  Pair Subject    Group    ROI  \n",
       "0      0.349999  0.085120     0  CON001  control  vmPFC  \n",
       "1      0.013344 -0.556800     0  CON001  control   PCC1  \n",
       "2     -0.014250 -1.211220     0  CON001  control   PCC2  \n",
       "3      0.208392  0.038015     0  CON001  control  rPAG1  \n",
       "4      0.157301  0.388202     0  CON001  control  lPAG1  "
      ]
     },
     "execution_count": 12,
     "metadata": {},
     "output_type": "execute_result"
    }
   ],
   "source": [
    "new_df = main_df[main_df['ROI'].isin(rois)]\n",
    "new_df.head()"
   ]
  },
  {
   "cell_type": "code",
   "execution_count": 13,
   "metadata": {},
   "outputs": [],
   "source": [
    "# Looping thru each pair\n",
    "id_cols = ['Pair','Group','Subject','ROI']\n",
    "rba = pd.DataFrame()\n",
    "for i in new_df.Pair.unique():\n",
    "    pair = new_df[id_cols+['shock']][new_df['Pair']==i]\n",
    "    diff = pair['shock'][pair['Group']=='uncontrol'].values - pair['shock'][pair['Group']=='control'].values\n",
    "    tmp_df = pd.DataFrame(diff,index=rois,columns=['Y'])\n",
    "    tmp_df.index.name = 'ROI'\n",
    "    tmp_df['Subj'] = 'P%i' %(i)\n",
    "    tmp_df.reset_index(inplace=True)\n",
    "    rba = pd.concat([rba,tmp_df])\n",
    "rba[['Subj','Y','ROI']].to_csv('../../dataset/data_for_RBA/uncon_v_con_shock_MR.txt',index=False,sep='\\t',float_format='%.4f')"
   ]
  },
  {
   "cell_type": "code",
   "execution_count": 10,
   "metadata": {},
   "outputs": [
    {
     "data": {
      "image/png": "[encoded data removed]",
      "text/plain": [
       "<matplotlib.figure.Figure at 0x7f8ab2564cf8>"
      ]
     },
     "metadata": {},
     "output_type": "display_data"
    }
   ],
   "source": [
    "pal = sns.color_palette()\n",
    "sns.palplot(pal)"
   ]
  },
  {
   "cell_type": "code",
   "execution_count": null,
   "metadata": {},
   "outputs": [],
   "source": []
  }
 ],
 "metadata": {
  "kernelspec": {
   "display_name": "Python 3",
   "language": "python",
   "name": "python3"
  },
  "language_info": {
   "codemirror_mode": {
    "name": "ipython",
    "version": 3
   },
   "file_extension": ".py",
   "mimetype": "text/x-python",
   "name": "python",
   "nbconvert_exporter": "python",
   "pygments_lexer": "ipython3",
   "version": "3.7.3"
  }
 },
 "nbformat": 4,
 "nbformat_minor": 4
}
