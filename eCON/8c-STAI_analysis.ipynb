{
 "cells": [
  {
   "cell_type": "code",
   "execution_count": 1,
   "metadata": {},
   "outputs": [
    {
     "data": {
      "text/html": [
       "<script>\n",
       "code_show=true; \n",
       "function code_toggle() {\n",
       " if (code_show){\n",
       " $('div.input').hide();\n",
       " } else {\n",
       " $('div.input').show();\n",
       " }\n",
       " code_show = !code_show\n",
       "} \n",
       "$( document ).ready(code_toggle);\n",
       "</script>\n",
       "<form action=\"javascript:code_toggle()\"><input type=\"submit\" value=\"Click here to toggle on/off the raw code.\"></form>"
      ],
      "text/plain": [
       "<IPython.core.display.HTML object>"
      ]
     },
     "execution_count": 1,
     "metadata": {},
     "output_type": "execute_result"
    }
   ],
   "source": [
    "from IPython.display import HTML\n",
    "\n",
    "HTML('''<script>\n",
    "code_show=true; \n",
    "function code_toggle() {\n",
    " if (code_show){\n",
    " $('div.input').hide();\n",
    " } else {\n",
    " $('div.input').show();\n",
    " }\n",
    " code_show = !code_show\n",
    "} \n",
    "$( document ).ready(code_toggle);\n",
    "</script>\n",
    "<form action=\"javascript:code_toggle()\"><input type=\"submit\" value=\"Click here to toggle on/off the raw code.\"></form>''')\n"
   ]
  },
  {
   "cell_type": "code",
   "execution_count": 2,
   "metadata": {},
   "outputs": [],
   "source": [
    "import numpy as np\n",
    "import pandas as pd\n",
    "\n",
    "from os.path import join\n",
    "\n",
    "import seaborn as sns\n",
    "sns.set(font_scale=1.5)\n",
    "import matplotlib.pyplot as plt\n",
    "\n",
    "from statsmodels.stats.outliers_influence import variance_inflation_factor\n",
    "import statsmodels.api as sm\n",
    "\n",
    "%matplotlib inline"
   ]
  },
  {
   "cell_type": "code",
   "execution_count": 3,
   "metadata": {},
   "outputs": [],
   "source": [
    "eCON = '/data/bswift-1/Pessoa_Lab/eCON'\n",
    "scores = pd.read_excel(join(eCON,'STAIscores/scores.xlsx'))\n",
    "scores.rename(columns={'SCORING':'TRAIT'},inplace=True)\n",
    "scores.drop(columns=['PAIR SCORE'],inplace=True)\n",
    "scores['SubID'] = scores['SubID'].apply(lambda name: ''.join(name.strip().split(\"_\")))"
   ]
  },
  {
   "cell_type": "markdown",
   "metadata": {},
   "source": [
    "# Brain-behavior analysis"
   ]
  },
  {
   "cell_type": "code",
   "execution_count": 4,
   "metadata": {},
   "outputs": [],
   "source": [
    "# Choose an roi from the list above\n",
    "roi = 'rBNST'"
   ]
  },
  {
   "cell_type": "code",
   "execution_count": 5,
   "metadata": {},
   "outputs": [],
   "source": [
    "# Load the data that contains shock betas for all participants\n",
    "beta_df = pd.read_csv('Individual_betas_from_ROI_analysis_S.csv')"
   ]
  },
  {
   "cell_type": "code",
   "execution_count": 6,
   "metadata": {},
   "outputs": [],
   "source": [
    "# Some dataframe manipulations to put all the information like shock betas, behavioral scores within a single df\n",
    "\n",
    "tmp_df = beta_df[beta_df['ROI']==roi][['Pair','Subject','Group','shock']].reset_index(drop=True)\n",
    "tmp_df.rename(columns={'shock':'shock: {}'.format(roi)},inplace=True)\n",
    "\n",
    "# Pivoting creates hirarchical columns which convert all objects to non-null objects\n",
    "pair_info_df = tmp_df.pivot(columns='Group',values=['Subject','shock: {}'.format(roi)],index='Pair')\n",
    "\n",
    "# Adding a column with yoked-difference\n",
    "pair_info_df[('shock: {}'.format(roi),'uncon-con')] = pair_info_df.loc[:,('shock: {}'.format(roi),'uncontrol')] - pair_info_df.loc[:,('shock: {}'.format(roi),'control')]\n",
    "pair_info_df.rename(columns={'Subject':'SubID'},inplace=True)\n"
   ]
  },
  {
   "cell_type": "code",
   "execution_count": 7,
   "metadata": {
    "scrolled": true
   },
   "outputs": [],
   "source": [
    "new_score_df = pd.DataFrame()\n",
    "for i,row in pair_info_df.iterrows():\n",
    "    conTrait = scores[scores['SubID'] == row[('SubID','control')]]['TRAIT'].values[0]\n",
    "    unconTrait = scores[scores['SubID'] == row[('SubID','uncontrol')]]['TRAIT'].values[0]\n",
    "    \n",
    "    conState = scores[scores['SubID'] == row[('SubID','control')]]['STATE'].values[0]\n",
    "    unconState = scores[scores['SubID'] == row[('SubID','uncontrol')]]['STATE'].values[0]\n",
    "    \n",
    "    tmp_df = pd.DataFrame([i,row[('SubID','uncontrol')],row[('SubID','control')],\n",
    "                           unconTrait,conTrait,unconTrait-conTrait,np.mean([unconTrait,conTrait]),\n",
    "                           unconState,conState,unconState-conState,np.mean([unconState,conState])],\n",
    "                          index=['Pair',('SubID','uncontrol'),('SubID','control'),\n",
    "                                  ('TRAIT','uncontrol'),('TRAIT','control'),('TRAIT','uncon-con'),('TRAIT','mean'),\n",
    "                                  ('STATE','uncontrol'),('STATE','control'),('STATE','uncon-con'),('STATE','mean')]).T\n",
    "    \n",
    "    new_score_df = pd.concat([new_score_df,tmp_df],axis=0)\n",
    "    \n",
    "new_score_df.set_index('Pair',inplace=True)\n",
    "\n",
    "\n",
    "new_score_df.columns = pd.MultiIndex.from_tuples(new_score_df.columns)\n",
    "final_df = pair_info_df.merge(new_score_df,left_on=[('SubID','uncontrol'), ('SubID','control')],right_on=[('SubID','uncontrol'), ('SubID','control')])"
   ]
  },
  {
   "cell_type": "code",
   "execution_count": 8,
   "metadata": {},
   "outputs": [],
   "source": [
    "for col in ['shock: {}'.format(roi),'TRAIT','STATE']:\n",
    "    final_df[col] = final_df[col].astype(float)"
   ]
  },
  {
   "cell_type": "code",
   "execution_count": 13,
   "metadata": {},
   "outputs": [
    {
     "data": {
      "text/html": [
       "<div>\n",
       "<style scoped>\n",
       "    .dataframe tbody tr th:only-of-type {\n",
       "        vertical-align: middle;\n",
       "    }\n",
       "\n",
       "    .dataframe tbody tr th {\n",
       "        vertical-align: top;\n",
       "    }\n",
       "\n",
       "    .dataframe thead tr th {\n",
       "        text-align: left;\n",
       "    }\n",
       "</style>\n",
       "<table border=\"1\" class=\"dataframe\">\n",
       "  <thead>\n",
       "    <tr>\n",
       "      <th></th>\n",
       "      <th colspan=\"2\" halign=\"left\">SubID</th>\n",
       "      <th colspan=\"3\" halign=\"left\">shock: rBNST</th>\n",
       "      <th colspan=\"4\" halign=\"left\">TRAIT</th>\n",
       "      <th colspan=\"4\" halign=\"left\">STATE</th>\n",
       "    </tr>\n",
       "    <tr>\n",
       "      <th>Group</th>\n",
       "      <th>control</th>\n",
       "      <th>uncontrol</th>\n",
       "      <th>control</th>\n",
       "      <th>uncontrol</th>\n",
       "      <th>uncon-con</th>\n",
       "      <th>uncontrol</th>\n",
       "      <th>control</th>\n",
       "      <th>uncon-con</th>\n",
       "      <th>mean</th>\n",
       "      <th>uncontrol</th>\n",
       "      <th>control</th>\n",
       "      <th>uncon-con</th>\n",
       "      <th>mean</th>\n",
       "    </tr>\n",
       "  </thead>\n",
       "  <tbody>\n",
       "    <tr>\n",
       "      <th>0</th>\n",
       "      <td>CON001</td>\n",
       "      <td>CON031</td>\n",
       "      <td>0.608696</td>\n",
       "      <td>1.162880</td>\n",
       "      <td>0.554184</td>\n",
       "      <td>27.0</td>\n",
       "      <td>27.0</td>\n",
       "      <td>0.0</td>\n",
       "      <td>27.0</td>\n",
       "      <td>22.0</td>\n",
       "      <td>24.0</td>\n",
       "      <td>-2.0</td>\n",
       "      <td>23.0</td>\n",
       "    </tr>\n",
       "    <tr>\n",
       "      <th>1</th>\n",
       "      <td>CON002</td>\n",
       "      <td>CON021</td>\n",
       "      <td>0.770967</td>\n",
       "      <td>0.097088</td>\n",
       "      <td>-0.673879</td>\n",
       "      <td>36.0</td>\n",
       "      <td>27.0</td>\n",
       "      <td>9.0</td>\n",
       "      <td>31.5</td>\n",
       "      <td>30.0</td>\n",
       "      <td>26.0</td>\n",
       "      <td>4.0</td>\n",
       "      <td>28.0</td>\n",
       "    </tr>\n",
       "    <tr>\n",
       "      <th>2</th>\n",
       "      <td>CON003</td>\n",
       "      <td>CON022</td>\n",
       "      <td>0.587932</td>\n",
       "      <td>-0.053047</td>\n",
       "      <td>-0.640979</td>\n",
       "      <td>37.0</td>\n",
       "      <td>36.0</td>\n",
       "      <td>1.0</td>\n",
       "      <td>36.5</td>\n",
       "      <td>29.0</td>\n",
       "      <td>26.0</td>\n",
       "      <td>3.0</td>\n",
       "      <td>27.5</td>\n",
       "    </tr>\n",
       "    <tr>\n",
       "      <th>3</th>\n",
       "      <td>CON004</td>\n",
       "      <td>CON030</td>\n",
       "      <td>0.179488</td>\n",
       "      <td>0.342934</td>\n",
       "      <td>0.163446</td>\n",
       "      <td>24.0</td>\n",
       "      <td>21.0</td>\n",
       "      <td>3.0</td>\n",
       "      <td>22.5</td>\n",
       "      <td>20.0</td>\n",
       "      <td>21.0</td>\n",
       "      <td>-1.0</td>\n",
       "      <td>20.5</td>\n",
       "    </tr>\n",
       "    <tr>\n",
       "      <th>4</th>\n",
       "      <td>CON005</td>\n",
       "      <td>CON023</td>\n",
       "      <td>0.577107</td>\n",
       "      <td>0.766328</td>\n",
       "      <td>0.189221</td>\n",
       "      <td>33.0</td>\n",
       "      <td>33.0</td>\n",
       "      <td>0.0</td>\n",
       "      <td>33.0</td>\n",
       "      <td>32.0</td>\n",
       "      <td>26.0</td>\n",
       "      <td>6.0</td>\n",
       "      <td>29.0</td>\n",
       "    </tr>\n",
       "  </tbody>\n",
       "</table>\n",
       "</div>"
      ],
      "text/plain": [
       "        SubID           shock: rBNST                         TRAIT          \\\n",
       "Group control uncontrol      control uncontrol uncon-con uncontrol control   \n",
       "0      CON001    CON031     0.608696  1.162880  0.554184      27.0    27.0   \n",
       "1      CON002    CON021     0.770967  0.097088 -0.673879      36.0    27.0   \n",
       "2      CON003    CON022     0.587932 -0.053047 -0.640979      37.0    36.0   \n",
       "3      CON004    CON030     0.179488  0.342934  0.163446      24.0    21.0   \n",
       "4      CON005    CON023     0.577107  0.766328  0.189221      33.0    33.0   \n",
       "\n",
       "                          STATE                          \n",
       "Group uncon-con  mean uncontrol control uncon-con  mean  \n",
       "0           0.0  27.0      22.0    24.0      -2.0  23.0  \n",
       "1           9.0  31.5      30.0    26.0       4.0  28.0  \n",
       "2           1.0  36.5      29.0    26.0       3.0  27.5  \n",
       "3           3.0  22.5      20.0    21.0      -1.0  20.5  \n",
       "4           0.0  33.0      32.0    26.0       6.0  29.0  "
      ]
     },
     "execution_count": 13,
     "metadata": {},
     "output_type": "execute_result"
    }
   ],
   "source": [
    "final_df.head()"
   ]
  },
  {
   "cell_type": "code",
   "execution_count": 20,
   "metadata": {
    "scrolled": true
   },
   "outputs": [
    {
     "data": {
      "text/html": [
       "<div>\n",
       "<style scoped>\n",
       "    .dataframe tbody tr th:only-of-type {\n",
       "        vertical-align: middle;\n",
       "    }\n",
       "\n",
       "    .dataframe tbody tr th {\n",
       "        vertical-align: top;\n",
       "    }\n",
       "\n",
       "    .dataframe thead tr th {\n",
       "        text-align: left;\n",
       "    }\n",
       "</style>\n",
       "<table border=\"1\" class=\"dataframe\">\n",
       "  <thead>\n",
       "    <tr>\n",
       "      <th></th>\n",
       "      <th>shock: rBNST</th>\n",
       "      <th>TRAIT</th>\n",
       "      <th>STATE</th>\n",
       "    </tr>\n",
       "    <tr>\n",
       "      <th>Group</th>\n",
       "      <th>uncontrol</th>\n",
       "      <th>uncontrol</th>\n",
       "      <th>uncontrol</th>\n",
       "    </tr>\n",
       "  </thead>\n",
       "  <tbody>\n",
       "    <tr>\n",
       "      <th>0</th>\n",
       "      <td>1.162880</td>\n",
       "      <td>27.0</td>\n",
       "      <td>22.0</td>\n",
       "    </tr>\n",
       "    <tr>\n",
       "      <th>1</th>\n",
       "      <td>0.097088</td>\n",
       "      <td>36.0</td>\n",
       "      <td>30.0</td>\n",
       "    </tr>\n",
       "    <tr>\n",
       "      <th>2</th>\n",
       "      <td>-0.053047</td>\n",
       "      <td>37.0</td>\n",
       "      <td>29.0</td>\n",
       "    </tr>\n",
       "    <tr>\n",
       "      <th>3</th>\n",
       "      <td>0.342934</td>\n",
       "      <td>24.0</td>\n",
       "      <td>20.0</td>\n",
       "    </tr>\n",
       "    <tr>\n",
       "      <th>4</th>\n",
       "      <td>0.766328</td>\n",
       "      <td>33.0</td>\n",
       "      <td>32.0</td>\n",
       "    </tr>\n",
       "  </tbody>\n",
       "</table>\n",
       "</div>"
      ],
      "text/plain": [
       "      shock: rBNST     TRAIT     STATE\n",
       "Group    uncontrol uncontrol uncontrol\n",
       "0         1.162880      27.0      22.0\n",
       "1         0.097088      36.0      30.0\n",
       "2        -0.053047      37.0      29.0\n",
       "3         0.342934      24.0      20.0\n",
       "4         0.766328      33.0      32.0"
      ]
     },
     "execution_count": 20,
     "metadata": {},
     "output_type": "execute_result"
    }
   ],
   "source": [
    "uncon_lr_df = final_df[\n",
    "    [\n",
    "        ('shock: {}'.format(roi),'uncontrol'),\n",
    "        ('TRAIT','uncontrol'),('STATE','uncontrol'),\n",
    "    ]\n",
    "]\n",
    "\n",
    "uncon_lr_df.head()"
   ]
  },
  {
   "cell_type": "markdown",
   "metadata": {},
   "source": [
    "## Corrleations and VIFs"
   ]
  },
  {
   "cell_type": "code",
   "execution_count": 21,
   "metadata": {},
   "outputs": [
    {
     "name": "stderr",
     "output_type": "stream",
     "text": [
      "/home/climbach/anaconda3/lib/python3.7/site-packages/pandas/core/generic.py:3812: PerformanceWarning: dropping on a non-lexsorted multi-index without a level parameter may impact performance.\n",
      "  new_axis = axis.drop(labels, errors=errors)\n"
     ]
    },
    {
     "data": {
      "text/plain": [
       "<matplotlib.axes._subplots.AxesSubplot at 0x7f90a207ac50>"
      ]
     },
     "execution_count": 21,
     "metadata": {},
     "output_type": "execute_result"
    },
    {
     "data": {
      "image/png": "[encoded data removed]",
      "text/plain": [
       "<Figure size 432x288 with 2 Axes>"
      ]
     },
     "metadata": {
      "needs_background": "light"
     },
     "output_type": "display_data"
    }
   ],
   "source": [
    "sns.heatmap(uncon_lr_df.drop(columns='shock: {}'.format(roi)).corr(),vmin=-1,vmax=1,cmap='jet',annot=True,annot_kws={'size':12})"
   ]
  },
  {
   "cell_type": "code",
   "execution_count": 22,
   "metadata": {},
   "outputs": [],
   "source": [
    "import statsmodels.api as sm\n",
    "from sklearn.preprocessing import StandardScaler"
   ]
  },
  {
   "cell_type": "code",
   "execution_count": 23,
   "metadata": {},
   "outputs": [
    {
     "data": {
      "text/plain": [
       "MultiIndex(levels=[['STATE', 'SubID', 'TRAIT', 'shock: rBNST'], ['control', 'mean', 'uncon-con', 'uncontrol']],\n",
       "           codes=[[3, 2, 0], [3, 3, 3]],\n",
       "           names=[None, 'Group'])"
      ]
     },
     "execution_count": 23,
     "metadata": {},
     "output_type": "execute_result"
    }
   ],
   "source": [
    "uncon_lr_df.columns"
   ]
  },
  {
   "cell_type": "code",
   "execution_count": 25,
   "metadata": {},
   "outputs": [
    {
     "name": "stderr",
     "output_type": "stream",
     "text": [
      "/home/climbach/anaconda3/lib/python3.7/site-packages/numpy/core/fromnumeric.py:2389: FutureWarning: Method .ptp is deprecated and will be removed in a future version. Use numpy.ptp instead.\n",
      "  return ptp(axis=axis, out=out, **kwargs)\n"
     ]
    }
   ],
   "source": [
    "y = uncon_lr_df[('shock: {}'.format(roi),'uncontrol')]\n",
    "X = uncon_lr_df[[('TRAIT','uncontrol'),('STATE','uncontrol')]]\n",
    "\n",
    "ss = StandardScaler()\n",
    "X_norm = pd.DataFrame(ss.fit_transform(X),columns=X.columns)\n",
    "\n",
    "X_norm = sm.add_constant(X_norm)\n",
    "model = sm.OLS(y,X_norm)\n",
    "results = model.fit()"
   ]
  },
  {
   "cell_type": "markdown",
   "metadata": {},
   "source": [
    "### Linear regression OLS:\n",
    "- y: shock beta\n",
    "- X: TRAIT (mean and uncon-con), STATE (mena and uncon-con)"
   ]
  },
  {
   "cell_type": "code",
   "execution_count": 28,
   "metadata": {},
   "outputs": [
    {
     "data": {
      "text/html": [
       "<div>\n",
       "<style scoped>\n",
       "    .dataframe tbody tr th:only-of-type {\n",
       "        vertical-align: middle;\n",
       "    }\n",
       "\n",
       "    .dataframe tbody tr th {\n",
       "        vertical-align: top;\n",
       "    }\n",
       "\n",
       "    .dataframe thead th {\n",
       "        text-align: right;\n",
       "    }\n",
       "</style>\n",
       "<table border=\"1\" class=\"dataframe\">\n",
       "  <thead>\n",
       "    <tr style=\"text-align: right;\">\n",
       "      <th></th>\n",
       "      <th>const</th>\n",
       "      <th>(TRAIT, uncontrol)</th>\n",
       "      <th>(STATE, uncontrol)</th>\n",
       "    </tr>\n",
       "  </thead>\n",
       "  <tbody>\n",
       "    <tr>\n",
       "      <th>0</th>\n",
       "      <td>1.0</td>\n",
       "      <td>-1.034208</td>\n",
       "      <td>-1.048691</td>\n",
       "    </tr>\n",
       "    <tr>\n",
       "      <th>1</th>\n",
       "      <td>1.0</td>\n",
       "      <td>0.126897</td>\n",
       "      <td>-0.081279</td>\n",
       "    </tr>\n",
       "    <tr>\n",
       "      <th>2</th>\n",
       "      <td>1.0</td>\n",
       "      <td>0.255908</td>\n",
       "      <td>-0.202205</td>\n",
       "    </tr>\n",
       "    <tr>\n",
       "      <th>3</th>\n",
       "      <td>1.0</td>\n",
       "      <td>-1.421243</td>\n",
       "      <td>-1.290544</td>\n",
       "    </tr>\n",
       "    <tr>\n",
       "      <th>4</th>\n",
       "      <td>1.0</td>\n",
       "      <td>-0.260138</td>\n",
       "      <td>0.160575</td>\n",
       "    </tr>\n",
       "  </tbody>\n",
       "</table>\n",
       "</div>"
      ],
      "text/plain": [
       "   const  (TRAIT, uncontrol)  (STATE, uncontrol)\n",
       "0    1.0           -1.034208           -1.048691\n",
       "1    1.0            0.126897           -0.081279\n",
       "2    1.0            0.255908           -0.202205\n",
       "3    1.0           -1.421243           -1.290544\n",
       "4    1.0           -0.260138            0.160575"
      ]
     },
     "execution_count": 28,
     "metadata": {},
     "output_type": "execute_result"
    }
   ],
   "source": [
    "X_norm.head()"
   ]
  },
  {
   "cell_type": "code",
   "execution_count": 27,
   "metadata": {},
   "outputs": [
    {
     "name": "stdout",
     "output_type": "stream",
     "text": [
      "                                  OLS Regression Results                                 \n",
      "=========================================================================================\n",
      "Dep. Variable:     ('shock: rBNST', 'uncontrol')   R-squared:                       0.034\n",
      "Model:                                       OLS   Adj. R-squared:                  0.001\n",
      "Method:                            Least Squares   F-statistic:                     1.029\n",
      "Date:                           Fri, 27 Mar 2020   Prob (F-statistic):              0.364\n",
      "Time:                                   13:48:07   Log-Likelihood:                -24.479\n",
      "No. Observations:                             61   AIC:                             54.96\n",
      "Df Residuals:                                 58   BIC:                             61.29\n",
      "Df Model:                                      2                                         \n",
      "Covariance Type:                       nonrobust                                         \n",
      "==========================================================================================\n",
      "                             coef    std err          t      P>|t|      [0.025      0.975]\n",
      "------------------------------------------------------------------------------------------\n",
      "const                      0.4224      0.047      8.900      0.000       0.327       0.517\n",
      "('TRAIT', 'uncontrol')    -0.0547      0.055     -0.990      0.326      -0.165       0.056\n",
      "('STATE', 'uncontrol')     0.0772      0.055      1.398      0.167      -0.033       0.188\n",
      "==============================================================================\n",
      "Omnibus:                        3.610   Durbin-Watson:                   2.288\n",
      "Prob(Omnibus):                  0.164   Jarque-Bera (JB):                2.917\n",
      "Skew:                           0.527   Prob(JB):                        0.233\n",
      "Kurtosis:                       3.188   Cond. No.                         1.76\n",
      "==============================================================================\n",
      "\n",
      "Warnings:\n",
      "[1] Standard Errors assume that the covariance matrix of the errors is correctly specified.\n"
     ]
    }
   ],
   "source": [
    "print(results.summary())"
   ]
  },
  {
   "cell_type": "code",
   "execution_count": 32,
   "metadata": {},
   "outputs": [
    {
     "data": {
      "text/plain": [
       "Text(0.5, 1.0, 'Real vs. Predicted')"
      ]
     },
     "execution_count": 32,
     "metadata": {},
     "output_type": "execute_result"
    },
    {
     "data": {
      "image/png": "[encoded data removed]",
      "text/plain": [
       "<Figure size 1080x864 with 4 Axes>"
      ]
     },
     "metadata": {
      "needs_background": "light"
     },
     "output_type": "display_data"
    }
   ],
   "source": [
    "fig, axes = plt.subplots(nrows=2,ncols=2,figsize=(15,12),sharey=False)\n",
    "fig.subplots_adjust(wspace=None, hspace=0.45)\n",
    "\n",
    "axes = axes.flatten()\n",
    "\n",
    "sns.regplot(results.resid,results.fittedvalues,ax=axes[0])\n",
    "axes[0].set_xlabel('Predicted')\n",
    "axes[0].set_ylabel('Residuals')\n",
    "axes[0].set_title('Residuals vs. Predicted')\n",
    "\n",
    "sns.regplot(results.resid,X_norm.iloc[:,1],ax=axes[1])\n",
    "axes[1].set_xlabel('{}'.format(X_norm.columns[1]))\n",
    "axes[1].set_ylabel('Residual')\n",
    "axes[1].set_title('Residuals vs. {}'.format(X_norm.columns[1]))\n",
    "\n",
    "sns.regplot(results.resid,X_norm.iloc[:,2],ax=axes[2])\n",
    "axes[2].set_xlabel('{}'.format(X_norm.columns[2]))\n",
    "axes[2].set_ylabel('Residual')\n",
    "axes[2].set_title('Residuals vs. {}'.format(X_norm.columns[2]))\n",
    "\n",
    "sns.regplot(y,results.fittedvalues,ax=axes[3])\n",
    "axes[3].set_xlabel('Predicted')\n",
    "axes[3].set_ylabel('Real')\n",
    "axes[3].set_title('Real vs. Predicted')\n"
   ]
  },
  {
   "cell_type": "markdown",
   "metadata": {},
   "source": [
    "# Controls"
   ]
  },
  {
   "cell_type": "code",
   "execution_count": 34,
   "metadata": {
    "scrolled": true
   },
   "outputs": [
    {
     "data": {
      "text/html": [
       "<div>\n",
       "<style scoped>\n",
       "    .dataframe tbody tr th:only-of-type {\n",
       "        vertical-align: middle;\n",
       "    }\n",
       "\n",
       "    .dataframe tbody tr th {\n",
       "        vertical-align: top;\n",
       "    }\n",
       "\n",
       "    .dataframe thead tr th {\n",
       "        text-align: left;\n",
       "    }\n",
       "</style>\n",
       "<table border=\"1\" class=\"dataframe\">\n",
       "  <thead>\n",
       "    <tr>\n",
       "      <th></th>\n",
       "      <th>shock: rBNST</th>\n",
       "      <th>TRAIT</th>\n",
       "      <th>STATE</th>\n",
       "    </tr>\n",
       "    <tr>\n",
       "      <th>Group</th>\n",
       "      <th>control</th>\n",
       "      <th>control</th>\n",
       "      <th>control</th>\n",
       "    </tr>\n",
       "  </thead>\n",
       "  <tbody>\n",
       "    <tr>\n",
       "      <th>0</th>\n",
       "      <td>0.608696</td>\n",
       "      <td>27.0</td>\n",
       "      <td>24.0</td>\n",
       "    </tr>\n",
       "    <tr>\n",
       "      <th>1</th>\n",
       "      <td>0.770967</td>\n",
       "      <td>27.0</td>\n",
       "      <td>26.0</td>\n",
       "    </tr>\n",
       "    <tr>\n",
       "      <th>2</th>\n",
       "      <td>0.587932</td>\n",
       "      <td>36.0</td>\n",
       "      <td>26.0</td>\n",
       "    </tr>\n",
       "    <tr>\n",
       "      <th>3</th>\n",
       "      <td>0.179488</td>\n",
       "      <td>21.0</td>\n",
       "      <td>21.0</td>\n",
       "    </tr>\n",
       "    <tr>\n",
       "      <th>4</th>\n",
       "      <td>0.577107</td>\n",
       "      <td>33.0</td>\n",
       "      <td>26.0</td>\n",
       "    </tr>\n",
       "  </tbody>\n",
       "</table>\n",
       "</div>"
      ],
      "text/plain": [
       "      shock: rBNST   TRAIT   STATE\n",
       "Group      control control control\n",
       "0         0.608696    27.0    24.0\n",
       "1         0.770967    27.0    26.0\n",
       "2         0.587932    36.0    26.0\n",
       "3         0.179488    21.0    21.0\n",
       "4         0.577107    33.0    26.0"
      ]
     },
     "execution_count": 34,
     "metadata": {},
     "output_type": "execute_result"
    }
   ],
   "source": [
    "con_lr_df = final_df[\n",
    "    [\n",
    "        ('shock: {}'.format(roi),'control'),\n",
    "        ('TRAIT','control'),('STATE','control'),\n",
    "    ]\n",
    "]\n",
    "\n",
    "con_lr_df.head()"
   ]
  },
  {
   "cell_type": "markdown",
   "metadata": {},
   "source": [
    "## Corrleations and VIFs"
   ]
  },
  {
   "cell_type": "code",
   "execution_count": 35,
   "metadata": {},
   "outputs": [
    {
     "name": "stderr",
     "output_type": "stream",
     "text": [
      "/home/climbach/anaconda3/lib/python3.7/site-packages/pandas/core/generic.py:3812: PerformanceWarning: dropping on a non-lexsorted multi-index without a level parameter may impact performance.\n",
      "  new_axis = axis.drop(labels, errors=errors)\n"
     ]
    },
    {
     "data": {
      "text/plain": [
       "<matplotlib.axes._subplots.AxesSubplot at 0x7f909d5b6748>"
      ]
     },
     "execution_count": 35,
     "metadata": {},
     "output_type": "execute_result"
    },
    {
     "data": {
      "image/png": "[encoded data removed]",
      "text/plain": [
       "<Figure size 432x288 with 2 Axes>"
      ]
     },
     "metadata": {
      "needs_background": "light"
     },
     "output_type": "display_data"
    }
   ],
   "source": [
    "sns.heatmap(con_lr_df.drop(columns='shock: {}'.format(roi)).corr(),vmin=-1,vmax=1,cmap='jet',annot=True,annot_kws={'size':12})"
   ]
  },
  {
   "cell_type": "code",
   "execution_count": 36,
   "metadata": {},
   "outputs": [],
   "source": [
    "import statsmodels.api as sm\n",
    "from sklearn.preprocessing import StandardScaler"
   ]
  },
  {
   "cell_type": "code",
   "execution_count": 37,
   "metadata": {},
   "outputs": [
    {
     "data": {
      "text/plain": [
       "MultiIndex(levels=[['STATE', 'SubID', 'TRAIT', 'shock: rBNST'], ['control', 'mean', 'uncon-con', 'uncontrol']],\n",
       "           codes=[[3, 2, 0], [0, 0, 0]],\n",
       "           names=[None, 'Group'])"
      ]
     },
     "execution_count": 37,
     "metadata": {},
     "output_type": "execute_result"
    }
   ],
   "source": [
    "con_lr_df.columns"
   ]
  },
  {
   "cell_type": "code",
   "execution_count": 38,
   "metadata": {},
   "outputs": [
    {
     "name": "stderr",
     "output_type": "stream",
     "text": [
      "/home/climbach/anaconda3/lib/python3.7/site-packages/numpy/core/fromnumeric.py:2389: FutureWarning: Method .ptp is deprecated and will be removed in a future version. Use numpy.ptp instead.\n",
      "  return ptp(axis=axis, out=out, **kwargs)\n"
     ]
    }
   ],
   "source": [
    "y = con_lr_df[('shock: {}'.format(roi),'control')]\n",
    "X = con_lr_df[[('TRAIT','control'),('STATE','control')]]\n",
    "\n",
    "ss = StandardScaler()\n",
    "X_norm = pd.DataFrame(ss.fit_transform(X),columns=X.columns)\n",
    "\n",
    "X_norm = sm.add_constant(X_norm)\n",
    "model = sm.OLS(y,X_norm)\n",
    "results = model.fit()"
   ]
  },
  {
   "cell_type": "markdown",
   "metadata": {},
   "source": [
    "### Linear regression OLS:\n",
    "- y: shock beta\n",
    "- X: TRAIT (mean and uncon-con), STATE (mena and uncon-con)"
   ]
  },
  {
   "cell_type": "code",
   "execution_count": 39,
   "metadata": {},
   "outputs": [
    {
     "data": {
      "text/html": [
       "<div>\n",
       "<style scoped>\n",
       "    .dataframe tbody tr th:only-of-type {\n",
       "        vertical-align: middle;\n",
       "    }\n",
       "\n",
       "    .dataframe tbody tr th {\n",
       "        vertical-align: top;\n",
       "    }\n",
       "\n",
       "    .dataframe thead th {\n",
       "        text-align: right;\n",
       "    }\n",
       "</style>\n",
       "<table border=\"1\" class=\"dataframe\">\n",
       "  <thead>\n",
       "    <tr style=\"text-align: right;\">\n",
       "      <th></th>\n",
       "      <th>const</th>\n",
       "      <th>(TRAIT, control)</th>\n",
       "      <th>(STATE, control)</th>\n",
       "    </tr>\n",
       "  </thead>\n",
       "  <tbody>\n",
       "    <tr>\n",
       "      <th>0</th>\n",
       "      <td>1.0</td>\n",
       "      <td>-0.945600</td>\n",
       "      <td>-0.873076</td>\n",
       "    </tr>\n",
       "    <tr>\n",
       "      <th>1</th>\n",
       "      <td>1.0</td>\n",
       "      <td>-0.945600</td>\n",
       "      <td>-0.618255</td>\n",
       "    </tr>\n",
       "    <tr>\n",
       "      <th>2</th>\n",
       "      <td>1.0</td>\n",
       "      <td>0.131442</td>\n",
       "      <td>-0.618255</td>\n",
       "    </tr>\n",
       "    <tr>\n",
       "      <th>3</th>\n",
       "      <td>1.0</td>\n",
       "      <td>-1.663628</td>\n",
       "      <td>-1.255307</td>\n",
       "    </tr>\n",
       "    <tr>\n",
       "      <th>4</th>\n",
       "      <td>1.0</td>\n",
       "      <td>-0.227572</td>\n",
       "      <td>-0.618255</td>\n",
       "    </tr>\n",
       "  </tbody>\n",
       "</table>\n",
       "</div>"
      ],
      "text/plain": [
       "   const  (TRAIT, control)  (STATE, control)\n",
       "0    1.0         -0.945600         -0.873076\n",
       "1    1.0         -0.945600         -0.618255\n",
       "2    1.0          0.131442         -0.618255\n",
       "3    1.0         -1.663628         -1.255307\n",
       "4    1.0         -0.227572         -0.618255"
      ]
     },
     "execution_count": 39,
     "metadata": {},
     "output_type": "execute_result"
    }
   ],
   "source": [
    "X_norm.head()"
   ]
  },
  {
   "cell_type": "code",
   "execution_count": 40,
   "metadata": {},
   "outputs": [
    {
     "name": "stdout",
     "output_type": "stream",
     "text": [
      "                                 OLS Regression Results                                \n",
      "=======================================================================================\n",
      "Dep. Variable:     ('shock: rBNST', 'control')   R-squared:                       0.070\n",
      "Model:                                     OLS   Adj. R-squared:                  0.038\n",
      "Method:                          Least Squares   F-statistic:                     2.195\n",
      "Date:                         Fri, 27 Mar 2020   Prob (F-statistic):              0.120\n",
      "Time:                                 13:53:36   Log-Likelihood:                -19.038\n",
      "No. Observations:                           61   AIC:                             44.08\n",
      "Df Residuals:                               58   BIC:                             50.41\n",
      "Df Model:                                    2                                         \n",
      "Covariance Type:                     nonrobust                                         \n",
      "========================================================================================\n",
      "                           coef    std err          t      P>|t|      [0.025      0.975]\n",
      "----------------------------------------------------------------------------------------\n",
      "const                    0.3134      0.043      7.220      0.000       0.227       0.400\n",
      "('TRAIT', 'control')    -0.0786      0.050     -1.569      0.122      -0.179       0.022\n",
      "('STATE', 'control')    -0.0211      0.050     -0.420      0.676      -0.121       0.079\n",
      "==============================================================================\n",
      "Omnibus:                        2.904   Durbin-Watson:                   2.228\n",
      "Prob(Omnibus):                  0.234   Jarque-Bera (JB):                2.461\n",
      "Skew:                           0.094   Prob(JB):                        0.292\n",
      "Kurtosis:                       3.966   Cond. No.                         1.73\n",
      "==============================================================================\n",
      "\n",
      "Warnings:\n",
      "[1] Standard Errors assume that the covariance matrix of the errors is correctly specified.\n"
     ]
    }
   ],
   "source": [
    "print(results.summary())"
   ]
  },
  {
   "cell_type": "code",
   "execution_count": 41,
   "metadata": {},
   "outputs": [
    {
     "data": {
      "text/plain": [
       "Text(0.5, 1.0, 'Real vs. Predicted')"
      ]
     },
     "execution_count": 41,
     "metadata": {},
     "output_type": "execute_result"
    },
    {
     "data": {
      "image/png": "[encoded data removed]",
      "text/plain": [
       "<Figure size 1080x864 with 4 Axes>"
      ]
     },
     "metadata": {
      "needs_background": "light"
     },
     "output_type": "display_data"
    }
   ],
   "source": [
    "fig, axes = plt.subplots(nrows=2,ncols=2,figsize=(15,12),sharey=False)\n",
    "fig.subplots_adjust(wspace=None, hspace=0.45)\n",
    "\n",
    "axes = axes.flatten()\n",
    "\n",
    "sns.regplot(results.resid,results.fittedvalues,ax=axes[0])\n",
    "axes[0].set_xlabel('Predicted')\n",
    "axes[0].set_ylabel('Residuals')\n",
    "axes[0].set_title('Residuals vs. Predicted')\n",
    "\n",
    "sns.regplot(results.resid,X_norm.iloc[:,1],ax=axes[1])\n",
    "axes[1].set_xlabel('{}'.format(X_norm.columns[1]))\n",
    "axes[1].set_ylabel('Residual')\n",
    "axes[1].set_title('Residuals vs. {}'.format(X_norm.columns[1]))\n",
    "\n",
    "sns.regplot(results.resid,X_norm.iloc[:,2],ax=axes[2])\n",
    "axes[2].set_xlabel('{}'.format(X_norm.columns[2]))\n",
    "axes[2].set_ylabel('Residual')\n",
    "axes[2].set_title('Residuals vs. {}'.format(X_norm.columns[2]))\n",
    "\n",
    "sns.regplot(y,results.fittedvalues,ax=axes[3])\n",
    "axes[3].set_xlabel('Predicted')\n",
    "axes[3].set_ylabel('Real')\n",
    "axes[3].set_title('Real vs. Predicted')\n"
   ]
  },
  {
   "cell_type": "code",
   "execution_count": 43,
   "metadata": {},
   "outputs": [
    {
     "data": {
      "text/html": [
       "<div>\n",
       "<style scoped>\n",
       "    .dataframe tbody tr th:only-of-type {\n",
       "        vertical-align: middle;\n",
       "    }\n",
       "\n",
       "    .dataframe tbody tr th {\n",
       "        vertical-align: top;\n",
       "    }\n",
       "\n",
       "    .dataframe thead tr th {\n",
       "        text-align: left;\n",
       "    }\n",
       "\n",
       "    .dataframe thead tr:last-of-type th {\n",
       "        text-align: right;\n",
       "    }\n",
       "</style>\n",
       "<table border=\"1\" class=\"dataframe\">\n",
       "  <thead>\n",
       "    <tr>\n",
       "      <th></th>\n",
       "      <th></th>\n",
       "      <th>shock: rBNST</th>\n",
       "      <th>TRAIT</th>\n",
       "      <th>STATE</th>\n",
       "    </tr>\n",
       "    <tr>\n",
       "      <th></th>\n",
       "      <th>Group</th>\n",
       "      <th>uncontrol</th>\n",
       "      <th>uncontrol</th>\n",
       "      <th>uncontrol</th>\n",
       "    </tr>\n",
       "    <tr>\n",
       "      <th></th>\n",
       "      <th>Group</th>\n",
       "      <th></th>\n",
       "      <th></th>\n",
       "      <th></th>\n",
       "    </tr>\n",
       "  </thead>\n",
       "  <tbody>\n",
       "    <tr>\n",
       "      <th>shock: rBNST</th>\n",
       "      <th>uncontrol</th>\n",
       "      <td>1.000000</td>\n",
       "      <td>-0.089908</td>\n",
       "      <td>0.066727</td>\n",
       "    </tr>\n",
       "    <tr>\n",
       "      <th>TRAIT</th>\n",
       "      <th>uncontrol</th>\n",
       "      <td>-0.089908</td>\n",
       "      <td>1.000000</td>\n",
       "      <td>0.526327</td>\n",
       "    </tr>\n",
       "    <tr>\n",
       "      <th>STATE</th>\n",
       "      <th>uncontrol</th>\n",
       "      <td>0.066727</td>\n",
       "      <td>0.526327</td>\n",
       "      <td>1.000000</td>\n",
       "    </tr>\n",
       "  </tbody>\n",
       "</table>\n",
       "</div>"
      ],
      "text/plain": [
       "                       shock: rBNST     TRAIT     STATE\n",
       "Group                     uncontrol uncontrol uncontrol\n",
       "             Group                                     \n",
       "shock: rBNST uncontrol     1.000000 -0.089908  0.066727\n",
       "TRAIT        uncontrol    -0.089908  1.000000  0.526327\n",
       "STATE        uncontrol     0.066727  0.526327  1.000000"
      ]
     },
     "execution_count": 43,
     "metadata": {},
     "output_type": "execute_result"
    }
   ],
   "source": [
    "uncon_lr_df.corr(method='spearman')"
   ]
  },
  {
   "cell_type": "code",
   "execution_count": 44,
   "metadata": {},
   "outputs": [
    {
     "data": {
      "text/html": [
       "<div>\n",
       "<style scoped>\n",
       "    .dataframe tbody tr th:only-of-type {\n",
       "        vertical-align: middle;\n",
       "    }\n",
       "\n",
       "    .dataframe tbody tr th {\n",
       "        vertical-align: top;\n",
       "    }\n",
       "\n",
       "    .dataframe thead tr th {\n",
       "        text-align: left;\n",
       "    }\n",
       "\n",
       "    .dataframe thead tr:last-of-type th {\n",
       "        text-align: right;\n",
       "    }\n",
       "</style>\n",
       "<table border=\"1\" class=\"dataframe\">\n",
       "  <thead>\n",
       "    <tr>\n",
       "      <th></th>\n",
       "      <th></th>\n",
       "      <th>shock: rBNST</th>\n",
       "      <th>TRAIT</th>\n",
       "      <th>STATE</th>\n",
       "    </tr>\n",
       "    <tr>\n",
       "      <th></th>\n",
       "      <th>Group</th>\n",
       "      <th>control</th>\n",
       "      <th>control</th>\n",
       "      <th>control</th>\n",
       "    </tr>\n",
       "    <tr>\n",
       "      <th></th>\n",
       "      <th>Group</th>\n",
       "      <th></th>\n",
       "      <th></th>\n",
       "      <th></th>\n",
       "    </tr>\n",
       "  </thead>\n",
       "  <tbody>\n",
       "    <tr>\n",
       "      <th>shock: rBNST</th>\n",
       "      <th>control</th>\n",
       "      <td>1.000000</td>\n",
       "      <td>-0.242692</td>\n",
       "      <td>-0.178022</td>\n",
       "    </tr>\n",
       "    <tr>\n",
       "      <th>TRAIT</th>\n",
       "      <th>control</th>\n",
       "      <td>-0.242692</td>\n",
       "      <td>1.000000</td>\n",
       "      <td>0.568445</td>\n",
       "    </tr>\n",
       "    <tr>\n",
       "      <th>STATE</th>\n",
       "      <th>control</th>\n",
       "      <td>-0.178022</td>\n",
       "      <td>0.568445</td>\n",
       "      <td>1.000000</td>\n",
       "    </tr>\n",
       "  </tbody>\n",
       "</table>\n",
       "</div>"
      ],
      "text/plain": [
       "                     shock: rBNST     TRAIT     STATE\n",
       "Group                     control   control   control\n",
       "             Group                                   \n",
       "shock: rBNST control     1.000000 -0.242692 -0.178022\n",
       "TRAIT        control    -0.242692  1.000000  0.568445\n",
       "STATE        control    -0.178022  0.568445  1.000000"
      ]
     },
     "execution_count": 44,
     "metadata": {},
     "output_type": "execute_result"
    }
   ],
   "source": [
    "con_lr_df.corr(method='spearman')"
   ]
  },
  {
   "cell_type": "code",
   "execution_count": null,
   "metadata": {},
   "outputs": [],
   "source": []
  }
 ],
 "metadata": {
  "kernelspec": {
   "display_name": "Python 3",
   "language": "python",
   "name": "python3"
  },
  "language_info": {
   "codemirror_mode": {
    "name": "ipython",
    "version": 3
   },
   "file_extension": ".py",
   "mimetype": "text/x-python",
   "name": "python",
   "nbconvert_exporter": "python",
   "pygments_lexer": "ipython3",
   "version": "3.7.3"
  }
 },
 "nbformat": 4,
 "nbformat_minor": 4
}
