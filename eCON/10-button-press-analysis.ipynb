{
 "cells": [
  {
   "cell_type": "code",
   "execution_count": 1,
   "metadata": {},
   "outputs": [
    {
     "data": {
      "text/html": [
       "<script>\n",
       "code_show=true; \n",
       "function code_toggle() {\n",
       " if (code_show){\n",
       " $('div.input').hide();\n",
       " } else {\n",
       " $('div.input').show();\n",
       " }\n",
       " code_show = !code_show\n",
       "} \n",
       "$( document ).ready(code_toggle);\n",
       "</script>\n",
       "<form action=\"javascript:code_toggle()\"><input type=\"submit\" value=\"Click here to toggle on/off the raw code.\"></form>"
      ],
      "text/plain": [
       "<IPython.core.display.HTML object>"
      ]
     },
     "execution_count": 1,
     "metadata": {},
     "output_type": "execute_result"
    }
   ],
   "source": [
    "from IPython.display import HTML\n",
    "\n",
    "HTML('''<script>\n",
    "code_show=true; \n",
    "function code_toggle() {\n",
    " if (code_show){\n",
    " $('div.input').hide();\n",
    " } else {\n",
    " $('div.input').show();\n",
    " }\n",
    " code_show = !code_show\n",
    "} \n",
    "$( document ).ready(code_toggle);\n",
    "</script>\n",
    "<form action=\"javascript:code_toggle()\"><input type=\"submit\" value=\"Click here to toggle on/off the raw code.\"></form>''')\n"
   ]
  },
  {
   "cell_type": "code",
   "execution_count": 2,
   "metadata": {},
   "outputs": [],
   "source": [
    "import pandas as pd\n",
    "import numpy as np\n",
    "import os\n",
    "from os.path import join, isdir, dirname, basename, exists\n",
    "import itertools\n",
    "\n",
    "import matplotlib.pyplot as plt\n",
    "import seaborn as sns; sns.set(context=\"paper\",style=\"white\",font_scale=1.25)\n",
    "from glob import glob\n",
    "\n",
    "import matplotlib as mpl"
   ]
  },
  {
   "cell_type": "code",
   "execution_count": 3,
   "metadata": {},
   "outputs": [],
   "source": [
    "# Load the data that contains shock betas for all participants\n",
    "beta_df = pd.read_csv('Individual_betas_from_ROI_analysis_S.csv')"
   ]
  },
  {
   "cell_type": "code",
   "execution_count": 4,
   "metadata": {},
   "outputs": [
    {
     "data": {
      "text/html": [
       "<div>\n",
       "<style scoped>\n",
       "    .dataframe tbody tr th:only-of-type {\n",
       "        vertical-align: middle;\n",
       "    }\n",
       "\n",
       "    .dataframe tbody tr th {\n",
       "        vertical-align: top;\n",
       "    }\n",
       "\n",
       "    .dataframe thead th {\n",
       "        text-align: right;\n",
       "    }\n",
       "</style>\n",
       "<table border=\"1\" class=\"dataframe\">\n",
       "  <thead>\n",
       "    <tr style=\"text-align: right;\">\n",
       "      <th></th>\n",
       "      <th>Pair</th>\n",
       "      <th>Subject</th>\n",
       "      <th>Group</th>\n",
       "      <th>ROI</th>\n",
       "      <th>shock</th>\n",
       "    </tr>\n",
       "  </thead>\n",
       "  <tbody>\n",
       "    <tr>\n",
       "      <th>0</th>\n",
       "      <td>0</td>\n",
       "      <td>CON001</td>\n",
       "      <td>control</td>\n",
       "      <td>vmPFC</td>\n",
       "      <td>0.085120</td>\n",
       "    </tr>\n",
       "    <tr>\n",
       "      <th>1</th>\n",
       "      <td>0</td>\n",
       "      <td>CON001</td>\n",
       "      <td>control</td>\n",
       "      <td>PCC1</td>\n",
       "      <td>-0.556800</td>\n",
       "    </tr>\n",
       "    <tr>\n",
       "      <th>2</th>\n",
       "      <td>0</td>\n",
       "      <td>CON001</td>\n",
       "      <td>control</td>\n",
       "      <td>PCC2</td>\n",
       "      <td>-1.211220</td>\n",
       "    </tr>\n",
       "    <tr>\n",
       "      <th>3</th>\n",
       "      <td>0</td>\n",
       "      <td>CON001</td>\n",
       "      <td>control</td>\n",
       "      <td>rPAG1</td>\n",
       "      <td>0.038015</td>\n",
       "    </tr>\n",
       "    <tr>\n",
       "      <th>4</th>\n",
       "      <td>0</td>\n",
       "      <td>CON001</td>\n",
       "      <td>control</td>\n",
       "      <td>lPAG1</td>\n",
       "      <td>0.388202</td>\n",
       "    </tr>\n",
       "  </tbody>\n",
       "</table>\n",
       "</div>"
      ],
      "text/plain": [
       "   Pair Subject    Group    ROI     shock\n",
       "0     0  CON001  control  vmPFC  0.085120\n",
       "1     0  CON001  control   PCC1 -0.556800\n",
       "2     0  CON001  control   PCC2 -1.211220\n",
       "3     0  CON001  control  rPAG1  0.038015\n",
       "4     0  CON001  control  lPAG1  0.388202"
      ]
     },
     "execution_count": 4,
     "metadata": {},
     "output_type": "execute_result"
    }
   ],
   "source": [
    "beta_df = beta_df[['Pair','Subject','Group','ROI','shock']]\n",
    "beta_df.head()"
   ]
  },
  {
   "cell_type": "code",
   "execution_count": 5,
   "metadata": {},
   "outputs": [],
   "source": [
    "eCON= '/data/bswift-1/Pessoa_Lab/eCON'\n",
    "DATPAT = join(eCON,'onsetdir/{subj}/subj{subj}_run{run}.dat')\n",
    "yoked = pd.read_excel(join(eCON,'onsetdir/CON_yoked_table.xlsx'))\n",
    "yoked = yoked.query('use == 1').reset_index()"
   ]
  },
  {
   "cell_type": "code",
   "execution_count": 6,
   "metadata": {},
   "outputs": [
    {
     "data": {
      "text/plain": [
       "'/data/bswift-1/Pessoa_Lab/eCON/onsetdir/001/subj001_run0.dat'"
      ]
     },
     "execution_count": 6,
     "metadata": {},
     "output_type": "execute_result"
    }
   ],
   "source": [
    "DATPAT.format(subj='001',run=0)"
   ]
  },
  {
   "cell_type": "code",
   "execution_count": 7,
   "metadata": {},
   "outputs": [],
   "source": [
    "# load the data from the .dat (json) file into a dictionary  \n",
    "from json import load\n",
    "\n",
    "path = DATPAT.format(subj='CON016', run=0)\n",
    "with open(path, 'r') as f:\n",
    "    data = load(f)"
   ]
  },
  {
   "cell_type": "code",
   "execution_count": 8,
   "metadata": {},
   "outputs": [
    {
     "name": "stdout",
     "output_type": "stream",
     "text": [
      "{'BlockDur': [...],\n",
      " 'BlockOffset': [...],\n",
      " 'BlockOnset': [...],\n",
      " 'DiffProgress': [...],\n",
      " 'Escapes': [...],\n",
      " 'Quit': [],\n",
      " 'RunDur': 455.0000139699764,\n",
      " 'ShockDur': [...],\n",
      " 'ShockLvl': '3.5',\n",
      " 'ShockOffset': [...],\n",
      " 'ShockOnset': [...],\n",
      " 'nonEscapes': [...],\n",
      " 'ySubj': 'CON007'}\n"
     ]
    }
   ],
   "source": [
    "from pprint import pprint\n",
    "pprint(data, depth=1, compact=True)"
   ]
  },
  {
   "cell_type": "code",
   "execution_count": 9,
   "metadata": {},
   "outputs": [],
   "source": [
    "df = pd.DataFrame()\n",
    "for i, row in yoked.iterrows():\n",
    "    subj = row['uncontrol']\n",
    "    runs = np.arange(6)[row.loc['run0':'run5'].astype(bool)]\n",
    "    for j, run in enumerate(runs):\n",
    "        path = DATPAT.format(subj=subj, run=run)\n",
    "        with open(path, 'r') as f:\n",
    "            data = load(f)\n",
    "            \n",
    "        numEsc = len(list(itertools.chain(*data['Escapes'])))\n",
    "        numNonEsc = len(data['nonEscapes'])\n",
    "        tmp_df_uncon = pd.DataFrame([subj,j,numNonEsc],index=['Subject','run','buttPress']).T\n",
    "        tmp_df_con = pd.DataFrame([row['control'],j,numEsc],index=['Subject','run','buttPress']).T\n",
    "        df = pd.concat([df,tmp_df_con,tmp_df_uncon],axis=0,ignore_index=True)"
   ]
  },
  {
   "cell_type": "code",
   "execution_count": 10,
   "metadata": {},
   "outputs": [
    {
     "data": {
      "text/html": [
       "<div>\n",
       "<style scoped>\n",
       "    .dataframe tbody tr th:only-of-type {\n",
       "        vertical-align: middle;\n",
       "    }\n",
       "\n",
       "    .dataframe tbody tr th {\n",
       "        vertical-align: top;\n",
       "    }\n",
       "\n",
       "    .dataframe thead th {\n",
       "        text-align: right;\n",
       "    }\n",
       "</style>\n",
       "<table border=\"1\" class=\"dataframe\">\n",
       "  <thead>\n",
       "    <tr style=\"text-align: right;\">\n",
       "      <th></th>\n",
       "      <th>Pair</th>\n",
       "      <th>Subject</th>\n",
       "      <th>Group</th>\n",
       "      <th>ROI</th>\n",
       "      <th>shock</th>\n",
       "    </tr>\n",
       "  </thead>\n",
       "  <tbody>\n",
       "    <tr>\n",
       "      <th>0</th>\n",
       "      <td>0</td>\n",
       "      <td>CON001</td>\n",
       "      <td>control</td>\n",
       "      <td>vmPFC</td>\n",
       "      <td>0.085120</td>\n",
       "    </tr>\n",
       "    <tr>\n",
       "      <th>1</th>\n",
       "      <td>0</td>\n",
       "      <td>CON001</td>\n",
       "      <td>control</td>\n",
       "      <td>PCC1</td>\n",
       "      <td>-0.556800</td>\n",
       "    </tr>\n",
       "    <tr>\n",
       "      <th>2</th>\n",
       "      <td>0</td>\n",
       "      <td>CON001</td>\n",
       "      <td>control</td>\n",
       "      <td>PCC2</td>\n",
       "      <td>-1.211220</td>\n",
       "    </tr>\n",
       "    <tr>\n",
       "      <th>3</th>\n",
       "      <td>0</td>\n",
       "      <td>CON001</td>\n",
       "      <td>control</td>\n",
       "      <td>rPAG1</td>\n",
       "      <td>0.038015</td>\n",
       "    </tr>\n",
       "    <tr>\n",
       "      <th>4</th>\n",
       "      <td>0</td>\n",
       "      <td>CON001</td>\n",
       "      <td>control</td>\n",
       "      <td>lPAG1</td>\n",
       "      <td>0.388202</td>\n",
       "    </tr>\n",
       "  </tbody>\n",
       "</table>\n",
       "</div>"
      ],
      "text/plain": [
       "   Pair Subject    Group    ROI     shock\n",
       "0     0  CON001  control  vmPFC  0.085120\n",
       "1     0  CON001  control   PCC1 -0.556800\n",
       "2     0  CON001  control   PCC2 -1.211220\n",
       "3     0  CON001  control  rPAG1  0.038015\n",
       "4     0  CON001  control  lPAG1  0.388202"
      ]
     },
     "execution_count": 10,
     "metadata": {},
     "output_type": "execute_result"
    }
   ],
   "source": [
    "beta_df.head()"
   ]
  },
  {
   "cell_type": "code",
   "execution_count": 11,
   "metadata": {},
   "outputs": [],
   "source": [
    "beta_df = beta_df.groupby(['Pair','Subject','Group','ROI']).mean().unstack('ROI').reset_index()\n",
    "beta_df.columns = list(beta_df.columns.get_level_values(0)[:3]) + list(beta_df.columns.get_level_values(1)[3:])"
   ]
  },
  {
   "cell_type": "code",
   "execution_count": 12,
   "metadata": {},
   "outputs": [],
   "source": [
    "df = df.groupby('Subject')[['buttPress']].sum().reset_index()\n",
    "df = beta_df.merge(df,left_on='Subject',right_on='Subject')\n",
    "df['Pair'] = df.Pair.apply(lambda n: \"P{:02d}\".format(n))"
   ]
  },
  {
   "cell_type": "code",
   "execution_count": 13,
   "metadata": {},
   "outputs": [
    {
     "data": {
      "text/html": [
       "<div>\n",
       "<style scoped>\n",
       "    .dataframe tbody tr th:only-of-type {\n",
       "        vertical-align: middle;\n",
       "    }\n",
       "\n",
       "    .dataframe tbody tr th {\n",
       "        vertical-align: top;\n",
       "    }\n",
       "\n",
       "    .dataframe thead th {\n",
       "        text-align: right;\n",
       "    }\n",
       "</style>\n",
       "<table border=\"1\" class=\"dataframe\">\n",
       "  <thead>\n",
       "    <tr style=\"text-align: right;\">\n",
       "      <th></th>\n",
       "      <th>Pair</th>\n",
       "      <th>Subject</th>\n",
       "      <th>Group</th>\n",
       "      <th>ACC</th>\n",
       "      <th>Amygdala_BLBM_La_L</th>\n",
       "      <th>Amygdala_BLBM_La_R</th>\n",
       "      <th>Amygdala_CeME_L</th>\n",
       "      <th>Amygdala_CeME_R</th>\n",
       "      <th>PCC1</th>\n",
       "      <th>PCC2</th>\n",
       "      <th>...</th>\n",
       "      <th>rBNST</th>\n",
       "      <th>rCa</th>\n",
       "      <th>rPAG1</th>\n",
       "      <th>rPI</th>\n",
       "      <th>rPa</th>\n",
       "      <th>rVS</th>\n",
       "      <th>rdAI</th>\n",
       "      <th>rvAI</th>\n",
       "      <th>vmPFC</th>\n",
       "      <th>buttPress</th>\n",
       "    </tr>\n",
       "  </thead>\n",
       "  <tbody>\n",
       "    <tr>\n",
       "      <th>0</th>\n",
       "      <td>P00</td>\n",
       "      <td>CON001</td>\n",
       "      <td>control</td>\n",
       "      <td>0.512425</td>\n",
       "      <td>0.020962</td>\n",
       "      <td>0.064592</td>\n",
       "      <td>0.140545</td>\n",
       "      <td>0.395817</td>\n",
       "      <td>-0.556800</td>\n",
       "      <td>-1.211220</td>\n",
       "      <td>...</td>\n",
       "      <td>0.608696</td>\n",
       "      <td>0.265977</td>\n",
       "      <td>0.038015</td>\n",
       "      <td>0.304744</td>\n",
       "      <td>0.162571</td>\n",
       "      <td>0.194686</td>\n",
       "      <td>0.791671</td>\n",
       "      <td>0.652609</td>\n",
       "      <td>0.085120</td>\n",
       "      <td>120</td>\n",
       "    </tr>\n",
       "    <tr>\n",
       "      <th>1</th>\n",
       "      <td>P00</td>\n",
       "      <td>CON031</td>\n",
       "      <td>uncontrol</td>\n",
       "      <td>0.852019</td>\n",
       "      <td>-0.068020</td>\n",
       "      <td>0.196660</td>\n",
       "      <td>0.304366</td>\n",
       "      <td>0.627032</td>\n",
       "      <td>-0.027830</td>\n",
       "      <td>-0.820852</td>\n",
       "      <td>...</td>\n",
       "      <td>1.162880</td>\n",
       "      <td>0.396182</td>\n",
       "      <td>0.728670</td>\n",
       "      <td>1.241220</td>\n",
       "      <td>0.389171</td>\n",
       "      <td>0.255183</td>\n",
       "      <td>1.489490</td>\n",
       "      <td>0.800131</td>\n",
       "      <td>0.176639</td>\n",
       "      <td>33</td>\n",
       "    </tr>\n",
       "    <tr>\n",
       "      <th>2</th>\n",
       "      <td>P01</td>\n",
       "      <td>CON002</td>\n",
       "      <td>control</td>\n",
       "      <td>0.726613</td>\n",
       "      <td>0.094369</td>\n",
       "      <td>0.363922</td>\n",
       "      <td>0.416970</td>\n",
       "      <td>1.595080</td>\n",
       "      <td>0.343354</td>\n",
       "      <td>-0.314477</td>\n",
       "      <td>...</td>\n",
       "      <td>0.770967</td>\n",
       "      <td>0.279723</td>\n",
       "      <td>0.707898</td>\n",
       "      <td>0.778731</td>\n",
       "      <td>0.148607</td>\n",
       "      <td>0.166463</td>\n",
       "      <td>1.635360</td>\n",
       "      <td>0.824822</td>\n",
       "      <td>-0.031076</td>\n",
       "      <td>178</td>\n",
       "    </tr>\n",
       "    <tr>\n",
       "      <th>3</th>\n",
       "      <td>P01</td>\n",
       "      <td>CON021</td>\n",
       "      <td>uncontrol</td>\n",
       "      <td>0.977422</td>\n",
       "      <td>0.717683</td>\n",
       "      <td>0.499325</td>\n",
       "      <td>0.529843</td>\n",
       "      <td>1.469510</td>\n",
       "      <td>-0.015002</td>\n",
       "      <td>-0.672903</td>\n",
       "      <td>...</td>\n",
       "      <td>0.097088</td>\n",
       "      <td>0.325529</td>\n",
       "      <td>0.930600</td>\n",
       "      <td>1.082580</td>\n",
       "      <td>0.557659</td>\n",
       "      <td>0.478082</td>\n",
       "      <td>1.620790</td>\n",
       "      <td>1.103020</td>\n",
       "      <td>-0.312602</td>\n",
       "      <td>157</td>\n",
       "    </tr>\n",
       "    <tr>\n",
       "      <th>4</th>\n",
       "      <td>P02</td>\n",
       "      <td>CON003</td>\n",
       "      <td>control</td>\n",
       "      <td>0.601748</td>\n",
       "      <td>0.649260</td>\n",
       "      <td>-0.462635</td>\n",
       "      <td>0.220737</td>\n",
       "      <td>2.265060</td>\n",
       "      <td>0.034745</td>\n",
       "      <td>-0.060986</td>\n",
       "      <td>...</td>\n",
       "      <td>0.587932</td>\n",
       "      <td>0.300094</td>\n",
       "      <td>0.667791</td>\n",
       "      <td>1.129670</td>\n",
       "      <td>-0.137363</td>\n",
       "      <td>0.253448</td>\n",
       "      <td>1.066070</td>\n",
       "      <td>0.596786</td>\n",
       "      <td>0.196039</td>\n",
       "      <td>178</td>\n",
       "    </tr>\n",
       "  </tbody>\n",
       "</table>\n",
       "<p>5 rows × 28 columns</p>\n",
       "</div>"
      ],
      "text/plain": [
       "  Pair Subject      Group       ACC  Amygdala_BLBM_La_L  Amygdala_BLBM_La_R  \\\n",
       "0  P00  CON001    control  0.512425            0.020962            0.064592   \n",
       "1  P00  CON031  uncontrol  0.852019           -0.068020            0.196660   \n",
       "2  P01  CON002    control  0.726613            0.094369            0.363922   \n",
       "3  P01  CON021  uncontrol  0.977422            0.717683            0.499325   \n",
       "4  P02  CON003    control  0.601748            0.649260           -0.462635   \n",
       "\n",
       "   Amygdala_CeME_L  Amygdala_CeME_R      PCC1      PCC2  ...     rBNST  \\\n",
       "0         0.140545         0.395817 -0.556800 -1.211220  ...  0.608696   \n",
       "1         0.304366         0.627032 -0.027830 -0.820852  ...  1.162880   \n",
       "2         0.416970         1.595080  0.343354 -0.314477  ...  0.770967   \n",
       "3         0.529843         1.469510 -0.015002 -0.672903  ...  0.097088   \n",
       "4         0.220737         2.265060  0.034745 -0.060986  ...  0.587932   \n",
       "\n",
       "        rCa     rPAG1       rPI       rPa       rVS      rdAI      rvAI  \\\n",
       "0  0.265977  0.038015  0.304744  0.162571  0.194686  0.791671  0.652609   \n",
       "1  0.396182  0.728670  1.241220  0.389171  0.255183  1.489490  0.800131   \n",
       "2  0.279723  0.707898  0.778731  0.148607  0.166463  1.635360  0.824822   \n",
       "3  0.325529  0.930600  1.082580  0.557659  0.478082  1.620790  1.103020   \n",
       "4  0.300094  0.667791  1.129670 -0.137363  0.253448  1.066070  0.596786   \n",
       "\n",
       "      vmPFC  buttPress  \n",
       "0  0.085120        120  \n",
       "1  0.176639         33  \n",
       "2 -0.031076        178  \n",
       "3 -0.312602        157  \n",
       "4  0.196039        178  \n",
       "\n",
       "[5 rows x 28 columns]"
      ]
     },
     "execution_count": 13,
     "metadata": {},
     "output_type": "execute_result"
    }
   ],
   "source": [
    "df.head()"
   ]
  },
  {
   "cell_type": "code",
   "execution_count": 14,
   "metadata": {},
   "outputs": [
    {
     "data": {
      "image/png": "[encoded data removed]",
      "text/plain": [
       "<Figure size 432x288 with 1 Axes>"
      ]
     },
     "metadata": {
      "needs_background": "light"
     },
     "output_type": "display_data"
    }
   ],
   "source": [
    "df.corrwith(df.buttPress,method='spearman').sort_values()[:-1].plot('bar')\n",
    "plt.tight_layout()\n",
    "plt.savefig('ROI_buttpress_corr.png',dpi=300)"
   ]
  },
  {
   "cell_type": "code",
   "execution_count": 15,
   "metadata": {},
   "outputs": [
    {
     "data": {
      "text/html": [
       "<div>\n",
       "<style scoped>\n",
       "    .dataframe tbody tr th:only-of-type {\n",
       "        vertical-align: middle;\n",
       "    }\n",
       "\n",
       "    .dataframe tbody tr th {\n",
       "        vertical-align: top;\n",
       "    }\n",
       "\n",
       "    .dataframe thead th {\n",
       "        text-align: right;\n",
       "    }\n",
       "</style>\n",
       "<table border=\"1\" class=\"dataframe\">\n",
       "  <thead>\n",
       "    <tr style=\"text-align: right;\">\n",
       "      <th></th>\n",
       "      <th>Pair</th>\n",
       "      <th>Subject</th>\n",
       "      <th>Group</th>\n",
       "      <th>ACC</th>\n",
       "      <th>Amygdala_BLBM_La_L</th>\n",
       "      <th>Amygdala_BLBM_La_R</th>\n",
       "      <th>Amygdala_CeME_L</th>\n",
       "      <th>Amygdala_CeME_R</th>\n",
       "      <th>PCC1</th>\n",
       "      <th>PCC2</th>\n",
       "      <th>...</th>\n",
       "      <th>lvAI</th>\n",
       "      <th>rBNST</th>\n",
       "      <th>rCa</th>\n",
       "      <th>rPAG1</th>\n",
       "      <th>rPI</th>\n",
       "      <th>rPa</th>\n",
       "      <th>rVS</th>\n",
       "      <th>rdAI</th>\n",
       "      <th>rvAI</th>\n",
       "      <th>vmPFC</th>\n",
       "    </tr>\n",
       "  </thead>\n",
       "  <tbody>\n",
       "    <tr>\n",
       "      <th>0</th>\n",
       "      <td>P00</td>\n",
       "      <td>CON001</td>\n",
       "      <td>control</td>\n",
       "      <td>0.512425</td>\n",
       "      <td>0.020962</td>\n",
       "      <td>0.064592</td>\n",
       "      <td>0.140545</td>\n",
       "      <td>0.395817</td>\n",
       "      <td>-0.556800</td>\n",
       "      <td>-1.211220</td>\n",
       "      <td>...</td>\n",
       "      <td>1.110790</td>\n",
       "      <td>0.608696</td>\n",
       "      <td>0.265977</td>\n",
       "      <td>0.038015</td>\n",
       "      <td>0.304744</td>\n",
       "      <td>0.162571</td>\n",
       "      <td>0.194686</td>\n",
       "      <td>0.791671</td>\n",
       "      <td>0.652609</td>\n",
       "      <td>0.085120</td>\n",
       "    </tr>\n",
       "    <tr>\n",
       "      <th>1</th>\n",
       "      <td>P00</td>\n",
       "      <td>CON031</td>\n",
       "      <td>uncontrol</td>\n",
       "      <td>0.852019</td>\n",
       "      <td>-0.068020</td>\n",
       "      <td>0.196660</td>\n",
       "      <td>0.304366</td>\n",
       "      <td>0.627032</td>\n",
       "      <td>-0.027830</td>\n",
       "      <td>-0.820852</td>\n",
       "      <td>...</td>\n",
       "      <td>0.897951</td>\n",
       "      <td>1.162880</td>\n",
       "      <td>0.396182</td>\n",
       "      <td>0.728670</td>\n",
       "      <td>1.241220</td>\n",
       "      <td>0.389171</td>\n",
       "      <td>0.255183</td>\n",
       "      <td>1.489490</td>\n",
       "      <td>0.800131</td>\n",
       "      <td>0.176639</td>\n",
       "    </tr>\n",
       "    <tr>\n",
       "      <th>2</th>\n",
       "      <td>P01</td>\n",
       "      <td>CON002</td>\n",
       "      <td>control</td>\n",
       "      <td>0.726613</td>\n",
       "      <td>0.094369</td>\n",
       "      <td>0.363922</td>\n",
       "      <td>0.416970</td>\n",
       "      <td>1.595080</td>\n",
       "      <td>0.343354</td>\n",
       "      <td>-0.314477</td>\n",
       "      <td>...</td>\n",
       "      <td>0.768762</td>\n",
       "      <td>0.770967</td>\n",
       "      <td>0.279723</td>\n",
       "      <td>0.707898</td>\n",
       "      <td>0.778731</td>\n",
       "      <td>0.148607</td>\n",
       "      <td>0.166463</td>\n",
       "      <td>1.635360</td>\n",
       "      <td>0.824822</td>\n",
       "      <td>-0.031076</td>\n",
       "    </tr>\n",
       "    <tr>\n",
       "      <th>3</th>\n",
       "      <td>P01</td>\n",
       "      <td>CON021</td>\n",
       "      <td>uncontrol</td>\n",
       "      <td>0.977422</td>\n",
       "      <td>0.717683</td>\n",
       "      <td>0.499325</td>\n",
       "      <td>0.529843</td>\n",
       "      <td>1.469510</td>\n",
       "      <td>-0.015002</td>\n",
       "      <td>-0.672903</td>\n",
       "      <td>...</td>\n",
       "      <td>0.628817</td>\n",
       "      <td>0.097088</td>\n",
       "      <td>0.325529</td>\n",
       "      <td>0.930600</td>\n",
       "      <td>1.082580</td>\n",
       "      <td>0.557659</td>\n",
       "      <td>0.478082</td>\n",
       "      <td>1.620790</td>\n",
       "      <td>1.103020</td>\n",
       "      <td>-0.312602</td>\n",
       "    </tr>\n",
       "    <tr>\n",
       "      <th>4</th>\n",
       "      <td>P02</td>\n",
       "      <td>CON003</td>\n",
       "      <td>control</td>\n",
       "      <td>0.601748</td>\n",
       "      <td>0.649260</td>\n",
       "      <td>-0.462635</td>\n",
       "      <td>0.220737</td>\n",
       "      <td>2.265060</td>\n",
       "      <td>0.034745</td>\n",
       "      <td>-0.060986</td>\n",
       "      <td>...</td>\n",
       "      <td>0.296808</td>\n",
       "      <td>0.587932</td>\n",
       "      <td>0.300094</td>\n",
       "      <td>0.667791</td>\n",
       "      <td>1.129670</td>\n",
       "      <td>-0.137363</td>\n",
       "      <td>0.253448</td>\n",
       "      <td>1.066070</td>\n",
       "      <td>0.596786</td>\n",
       "      <td>0.196039</td>\n",
       "    </tr>\n",
       "  </tbody>\n",
       "</table>\n",
       "<p>5 rows × 27 columns</p>\n",
       "</div>"
      ],
      "text/plain": [
       "  Pair Subject      Group       ACC  Amygdala_BLBM_La_L  Amygdala_BLBM_La_R  \\\n",
       "0  P00  CON001    control  0.512425            0.020962            0.064592   \n",
       "1  P00  CON031  uncontrol  0.852019           -0.068020            0.196660   \n",
       "2  P01  CON002    control  0.726613            0.094369            0.363922   \n",
       "3  P01  CON021  uncontrol  0.977422            0.717683            0.499325   \n",
       "4  P02  CON003    control  0.601748            0.649260           -0.462635   \n",
       "\n",
       "   Amygdala_CeME_L  Amygdala_CeME_R      PCC1      PCC2  ...      lvAI  \\\n",
       "0         0.140545         0.395817 -0.556800 -1.211220  ...  1.110790   \n",
       "1         0.304366         0.627032 -0.027830 -0.820852  ...  0.897951   \n",
       "2         0.416970         1.595080  0.343354 -0.314477  ...  0.768762   \n",
       "3         0.529843         1.469510 -0.015002 -0.672903  ...  0.628817   \n",
       "4         0.220737         2.265060  0.034745 -0.060986  ...  0.296808   \n",
       "\n",
       "      rBNST       rCa     rPAG1       rPI       rPa       rVS      rdAI  \\\n",
       "0  0.608696  0.265977  0.038015  0.304744  0.162571  0.194686  0.791671   \n",
       "1  1.162880  0.396182  0.728670  1.241220  0.389171  0.255183  1.489490   \n",
       "2  0.770967  0.279723  0.707898  0.778731  0.148607  0.166463  1.635360   \n",
       "3  0.097088  0.325529  0.930600  1.082580  0.557659  0.478082  1.620790   \n",
       "4  0.587932  0.300094  0.667791  1.129670 -0.137363  0.253448  1.066070   \n",
       "\n",
       "       rvAI     vmPFC  \n",
       "0  0.652609  0.085120  \n",
       "1  0.800131  0.176639  \n",
       "2  0.824822 -0.031076  \n",
       "3  1.103020 -0.312602  \n",
       "4  0.596786  0.196039  \n",
       "\n",
       "[5 rows x 27 columns]"
      ]
     },
     "execution_count": 15,
     "metadata": {},
     "output_type": "execute_result"
    }
   ],
   "source": [
    "beta_df['Pair'] = beta_df.Pair.apply(lambda x: 'P{:02d}'.format(x))\n",
    "beta_df.head()"
   ]
  },
  {
   "cell_type": "code",
   "execution_count": 16,
   "metadata": {},
   "outputs": [],
   "source": [
    "buttonPress_df = df[['Pair','Group','buttPress']].pivot(index='Pair',columns='Group',values='buttPress')\n",
    "buttonPress_df['BPdiff'] = buttonPress_df.uncontrol.subtract(buttonPress_df.control)"
   ]
  },
  {
   "cell_type": "code",
   "execution_count": 17,
   "metadata": {},
   "outputs": [
    {
     "data": {
      "text/html": [
       "<div>\n",
       "<style scoped>\n",
       "    .dataframe tbody tr th:only-of-type {\n",
       "        vertical-align: middle;\n",
       "    }\n",
       "\n",
       "    .dataframe tbody tr th {\n",
       "        vertical-align: top;\n",
       "    }\n",
       "\n",
       "    .dataframe thead th {\n",
       "        text-align: right;\n",
       "    }\n",
       "</style>\n",
       "<table border=\"1\" class=\"dataframe\">\n",
       "  <thead>\n",
       "    <tr style=\"text-align: right;\">\n",
       "      <th>Group</th>\n",
       "      <th>control</th>\n",
       "      <th>uncontrol</th>\n",
       "      <th>BPdiff</th>\n",
       "    </tr>\n",
       "    <tr>\n",
       "      <th>Pair</th>\n",
       "      <th></th>\n",
       "      <th></th>\n",
       "      <th></th>\n",
       "    </tr>\n",
       "  </thead>\n",
       "  <tbody>\n",
       "    <tr>\n",
       "      <th>P00</th>\n",
       "      <td>120</td>\n",
       "      <td>33</td>\n",
       "      <td>-87</td>\n",
       "    </tr>\n",
       "    <tr>\n",
       "      <th>P01</th>\n",
       "      <td>178</td>\n",
       "      <td>157</td>\n",
       "      <td>-21</td>\n",
       "    </tr>\n",
       "    <tr>\n",
       "      <th>P02</th>\n",
       "      <td>178</td>\n",
       "      <td>121</td>\n",
       "      <td>-57</td>\n",
       "    </tr>\n",
       "    <tr>\n",
       "      <th>P03</th>\n",
       "      <td>178</td>\n",
       "      <td>155</td>\n",
       "      <td>-23</td>\n",
       "    </tr>\n",
       "    <tr>\n",
       "      <th>P04</th>\n",
       "      <td>178</td>\n",
       "      <td>95</td>\n",
       "      <td>-83</td>\n",
       "    </tr>\n",
       "  </tbody>\n",
       "</table>\n",
       "</div>"
      ],
      "text/plain": [
       "Group  control  uncontrol  BPdiff\n",
       "Pair                             \n",
       "P00        120         33     -87\n",
       "P01        178        157     -21\n",
       "P02        178        121     -57\n",
       "P03        178        155     -23\n",
       "P04        178         95     -83"
      ]
     },
     "execution_count": 17,
     "metadata": {},
     "output_type": "execute_result"
    }
   ],
   "source": [
    "buttonPress_df.head()"
   ]
  },
  {
   "cell_type": "code",
   "execution_count": 18,
   "metadata": {},
   "outputs": [
    {
     "data": {
      "text/html": [
       "<div>\n",
       "<style scoped>\n",
       "    .dataframe tbody tr th:only-of-type {\n",
       "        vertical-align: middle;\n",
       "    }\n",
       "\n",
       "    .dataframe tbody tr th {\n",
       "        vertical-align: top;\n",
       "    }\n",
       "\n",
       "    .dataframe thead th {\n",
       "        text-align: right;\n",
       "    }\n",
       "</style>\n",
       "<table border=\"1\" class=\"dataframe\">\n",
       "  <thead>\n",
       "    <tr style=\"text-align: right;\">\n",
       "      <th>Group</th>\n",
       "      <th>control</th>\n",
       "      <th>uncontrol</th>\n",
       "      <th>BPdiff</th>\n",
       "    </tr>\n",
       "    <tr>\n",
       "      <th>Pair</th>\n",
       "      <th></th>\n",
       "      <th></th>\n",
       "      <th></th>\n",
       "    </tr>\n",
       "  </thead>\n",
       "  <tbody>\n",
       "    <tr>\n",
       "      <th>P07</th>\n",
       "      <td>178</td>\n",
       "      <td>0</td>\n",
       "      <td>-178</td>\n",
       "    </tr>\n",
       "  </tbody>\n",
       "</table>\n",
       "</div>"
      ],
      "text/plain": [
       "Group  control  uncontrol  BPdiff\n",
       "Pair                             \n",
       "P07        178          0    -178"
      ]
     },
     "execution_count": 18,
     "metadata": {},
     "output_type": "execute_result"
    }
   ],
   "source": [
    "buttonPress_df[buttonPress_df['uncontrol']==0]"
   ]
  },
  {
   "cell_type": "code",
   "execution_count": 26,
   "metadata": {},
   "outputs": [
    {
     "data": {
      "text/html": [
       "<div>\n",
       "<style scoped>\n",
       "    .dataframe tbody tr th:only-of-type {\n",
       "        vertical-align: middle;\n",
       "    }\n",
       "\n",
       "    .dataframe tbody tr th {\n",
       "        vertical-align: top;\n",
       "    }\n",
       "\n",
       "    .dataframe thead th {\n",
       "        text-align: right;\n",
       "    }\n",
       "</style>\n",
       "<table border=\"1\" class=\"dataframe\">\n",
       "  <thead>\n",
       "    <tr style=\"text-align: right;\">\n",
       "      <th></th>\n",
       "      <th>Pair</th>\n",
       "      <th>Subject</th>\n",
       "      <th>Group</th>\n",
       "      <th>ACC</th>\n",
       "      <th>Amygdala_BLBM_La_L</th>\n",
       "      <th>Amygdala_BLBM_La_R</th>\n",
       "      <th>Amygdala_CeME_L</th>\n",
       "      <th>Amygdala_CeME_R</th>\n",
       "      <th>PCC1</th>\n",
       "      <th>PCC2</th>\n",
       "      <th>...</th>\n",
       "      <th>lvAI</th>\n",
       "      <th>rBNST</th>\n",
       "      <th>rCa</th>\n",
       "      <th>rPAG1</th>\n",
       "      <th>rPI</th>\n",
       "      <th>rPa</th>\n",
       "      <th>rVS</th>\n",
       "      <th>rdAI</th>\n",
       "      <th>rvAI</th>\n",
       "      <th>vmPFC</th>\n",
       "    </tr>\n",
       "  </thead>\n",
       "  <tbody>\n",
       "    <tr>\n",
       "      <th>14</th>\n",
       "      <td>P07</td>\n",
       "      <td>CON008</td>\n",
       "      <td>control</td>\n",
       "      <td>0.509657</td>\n",
       "      <td>-0.219623</td>\n",
       "      <td>-0.123485</td>\n",
       "      <td>0.366649</td>\n",
       "      <td>0.018372</td>\n",
       "      <td>0.279808</td>\n",
       "      <td>-0.282278</td>\n",
       "      <td>...</td>\n",
       "      <td>-0.007320</td>\n",
       "      <td>-0.163700</td>\n",
       "      <td>0.252144</td>\n",
       "      <td>0.575878</td>\n",
       "      <td>0.290141</td>\n",
       "      <td>0.077996</td>\n",
       "      <td>0.232358</td>\n",
       "      <td>0.336946</td>\n",
       "      <td>0.250328</td>\n",
       "      <td>0.062829</td>\n",
       "    </tr>\n",
       "    <tr>\n",
       "      <th>15</th>\n",
       "      <td>P07</td>\n",
       "      <td>CON053</td>\n",
       "      <td>uncontrol</td>\n",
       "      <td>0.107821</td>\n",
       "      <td>-0.271611</td>\n",
       "      <td>-0.018312</td>\n",
       "      <td>0.363088</td>\n",
       "      <td>0.107553</td>\n",
       "      <td>-0.157790</td>\n",
       "      <td>-0.318913</td>\n",
       "      <td>...</td>\n",
       "      <td>0.137861</td>\n",
       "      <td>-0.032243</td>\n",
       "      <td>-0.090120</td>\n",
       "      <td>0.421200</td>\n",
       "      <td>0.193666</td>\n",
       "      <td>0.044061</td>\n",
       "      <td>0.037022</td>\n",
       "      <td>0.248176</td>\n",
       "      <td>0.380267</td>\n",
       "      <td>-0.122965</td>\n",
       "    </tr>\n",
       "  </tbody>\n",
       "</table>\n",
       "<p>2 rows × 27 columns</p>\n",
       "</div>"
      ],
      "text/plain": [
       "   Pair Subject      Group       ACC  Amygdala_BLBM_La_L  Amygdala_BLBM_La_R  \\\n",
       "14  P07  CON008    control  0.509657           -0.219623           -0.123485   \n",
       "15  P07  CON053  uncontrol  0.107821           -0.271611           -0.018312   \n",
       "\n",
       "    Amygdala_CeME_L  Amygdala_CeME_R      PCC1      PCC2  ...      lvAI  \\\n",
       "14         0.366649         0.018372  0.279808 -0.282278  ... -0.007320   \n",
       "15         0.363088         0.107553 -0.157790 -0.318913  ...  0.137861   \n",
       "\n",
       "       rBNST       rCa     rPAG1       rPI       rPa       rVS      rdAI  \\\n",
       "14 -0.163700  0.252144  0.575878  0.290141  0.077996  0.232358  0.336946   \n",
       "15 -0.032243 -0.090120  0.421200  0.193666  0.044061  0.037022  0.248176   \n",
       "\n",
       "        rvAI     vmPFC  \n",
       "14  0.250328  0.062829  \n",
       "15  0.380267 -0.122965  \n",
       "\n",
       "[2 rows x 27 columns]"
      ]
     },
     "execution_count": 26,
     "metadata": {},
     "output_type": "execute_result"
    }
   ],
   "source": [
    "beta_df[beta_df['Pair'] == 'P07']"
   ]
  },
  {
   "cell_type": "code",
   "execution_count": 23,
   "metadata": {},
   "outputs": [
    {
     "data": {
      "text/html": [
       "<div>\n",
       "<style scoped>\n",
       "    .dataframe tbody tr th:only-of-type {\n",
       "        vertical-align: middle;\n",
       "    }\n",
       "\n",
       "    .dataframe tbody tr th {\n",
       "        vertical-align: top;\n",
       "    }\n",
       "\n",
       "    .dataframe thead th {\n",
       "        text-align: right;\n",
       "    }\n",
       "</style>\n",
       "<table border=\"1\" class=\"dataframe\">\n",
       "  <thead>\n",
       "    <tr style=\"text-align: right;\">\n",
       "      <th>Group</th>\n",
       "      <th>control</th>\n",
       "      <th>uncontrol</th>\n",
       "      <th>BPdiff</th>\n",
       "      <th>BPdiff_stdz</th>\n",
       "    </tr>\n",
       "    <tr>\n",
       "      <th>Pair</th>\n",
       "      <th></th>\n",
       "      <th></th>\n",
       "      <th></th>\n",
       "      <th></th>\n",
       "    </tr>\n",
       "  </thead>\n",
       "  <tbody>\n",
       "    <tr>\n",
       "      <th>P00</th>\n",
       "      <td>120</td>\n",
       "      <td>33</td>\n",
       "      <td>-87</td>\n",
       "      <td>-0.866438</td>\n",
       "    </tr>\n",
       "    <tr>\n",
       "      <th>P01</th>\n",
       "      <td>178</td>\n",
       "      <td>157</td>\n",
       "      <td>-21</td>\n",
       "      <td>0.373619</td>\n",
       "    </tr>\n",
       "    <tr>\n",
       "      <th>P02</th>\n",
       "      <td>178</td>\n",
       "      <td>121</td>\n",
       "      <td>-57</td>\n",
       "      <td>-0.302776</td>\n",
       "    </tr>\n",
       "    <tr>\n",
       "      <th>P03</th>\n",
       "      <td>178</td>\n",
       "      <td>155</td>\n",
       "      <td>-23</td>\n",
       "      <td>0.336041</td>\n",
       "    </tr>\n",
       "    <tr>\n",
       "      <th>P04</th>\n",
       "      <td>178</td>\n",
       "      <td>95</td>\n",
       "      <td>-83</td>\n",
       "      <td>-0.791283</td>\n",
       "    </tr>\n",
       "  </tbody>\n",
       "</table>\n",
       "</div>"
      ],
      "text/plain": [
       "Group  control  uncontrol  BPdiff  BPdiff_stdz\n",
       "Pair                                          \n",
       "P00        120         33     -87    -0.866438\n",
       "P01        178        157     -21     0.373619\n",
       "P02        178        121     -57    -0.302776\n",
       "P03        178        155     -23     0.336041\n",
       "P04        178         95     -83    -0.791283"
      ]
     },
     "execution_count": 23,
     "metadata": {},
     "output_type": "execute_result"
    }
   ],
   "source": [
    "from sklearn.preprocessing import StandardScaler\n",
    "ss = StandardScaler()\n",
    "buttonPress_df['BPdiff_stdz'] = ss.fit_transform(buttonPress_df[['BPdiff']])\n",
    "buttonPress_df.head()"
   ]
  },
  {
   "cell_type": "markdown",
   "metadata": {},
   "source": [
    "### Add difference in button press as a covariate"
   ]
  },
  {
   "cell_type": "code",
   "execution_count": 24,
   "metadata": {},
   "outputs": [],
   "source": [
    "rba_df = pd.read_csv('~/Desktop/Pessoa_Lab/eCON/dataset/data_for_RBA/uncon_v_con_shock_MR_ROI24_with_covariates.txt',delimiter = '\\t',index_col='Subj')\n",
    "rba_df = rba_df.join(buttonPress_df['BPdiff_stdz'])\n",
    "rba_df.index.name = 'Subj'\n",
    "rba_df.reset_index(inplace=True)\n",
    "rba_df.to_csv('uncon_v_con_shock_MR_ROI24_with_covariates/uncon_v_con_shock_MR_ROI24_with_covariates.txt',sep='\\t',index=False,float_format='%.4f')"
   ]
  },
  {
   "cell_type": "code",
   "execution_count": 43,
   "metadata": {},
   "outputs": [],
   "source": [
    "rba_df.groupby('Subj')[['TRAITmean','TRAITdiff','STATEmean','STATEdiff','BPdiff_stdz']].mean().to_csv('/data/bswift-1/Pessoa_Lab/eCON/dataset/covariates.txt',sep='\\t',float_format='%.4f')"
   ]
  },
  {
   "cell_type": "code",
   "execution_count": 29,
   "metadata": {},
   "outputs": [],
   "source": [
    "def perm_rel_sample(samp,n_perms=10000):\n",
    "    n, k, samp_dist = len(samp), 0, []\n",
    "    mean_h1 = np.abs(np.mean(samp))\n",
    "    for n in range(n_perms):\n",
    "        mean_h0 = np.mean([val*np.random.choice([1,-1],) for val in samp])\n",
    "        samp_dist.append(mean_h0)\n",
    "        k += np.abs(mean_h0) > mean_h1\n",
    "    return(samp_dist,(k+1)/(n_perms+1))"
   ]
  },
  {
   "cell_type": "code",
   "execution_count": 30,
   "metadata": {},
   "outputs": [],
   "source": [
    "samp_dist, p_val = perm_rel_sample(buttonPress_df.uncontrol.subtract(buttonPress_df.control),10000)"
   ]
  },
  {
   "cell_type": "code",
   "execution_count": 31,
   "metadata": {},
   "outputs": [
    {
     "name": "stdout",
     "output_type": "stream",
     "text": [
      "Paired Samples T-test p-value: 0.00000015\n",
      "Paired Samples permutation test p-value: 0.00009999\n"
     ]
    }
   ],
   "source": [
    "from scipy.stats import ttest_1samp\n",
    "print('Paired Samples T-test p-value: %.8f' %(ttest_1samp(buttonPress_df.uncontrol.subtract(buttonPress_df.control).values,0)[1]))\n",
    "print('Paired Samples permutation test p-value: %.8f' %(p_val))"
   ]
  },
  {
   "cell_type": "code",
   "execution_count": 32,
   "metadata": {},
   "outputs": [
    {
     "data": {
      "text/plain": [
       "<matplotlib.lines.Line2D at 0x7f11678469e8>"
      ]
     },
     "execution_count": 32,
     "metadata": {},
     "output_type": "execute_result"
    },
    {
     "data": {
      "image/png": "[encoded data removed]",
      "text/plain": [
       "<Figure size 432x288 with 1 Axes>"
      ]
     },
     "metadata": {
      "needs_background": "light"
     },
     "output_type": "display_data"
    }
   ],
   "source": [
    "_=plt.hist(samp_dist,bins=25,alpha=0.45)\n",
    "plt.axvline(x=np.mean(buttonPress_df.uncontrol.subtract(buttonPress_df.control).values),c='red',label='Observed mean')\n",
    "plt.axvline(x=np.mean(samp_dist),c='blue',label='Mean of \\nsampling dsitribution')"
   ]
  },
  {
   "cell_type": "code",
   "execution_count": 33,
   "metadata": {},
   "outputs": [
    {
     "data": {
      "text/plain": [
       "Text(0.5, 0, 'Number of button press: (uncontrol-control)')"
      ]
     },
     "execution_count": 33,
     "metadata": {},
     "output_type": "execute_result"
    },
    {
     "data": {
      "image/png": "[encoded data removed]",
      "text/plain": [
       "<Figure size 432x288 with 1 Axes>"
      ]
     },
     "metadata": {
      "needs_background": "light"
     },
     "output_type": "display_data"
    }
   ],
   "source": [
    "(buttonPress_df.uncontrol - buttonPress_df.control).plot(kind='hist',bins=25)\n",
    "plt.xlabel('Number of button press: (uncontrol-control)')"
   ]
  },
  {
   "cell_type": "code",
   "execution_count": 39,
   "metadata": {},
   "outputs": [
    {
     "data": {
      "text/plain": [
       "<matplotlib.axes._subplots.AxesSubplot at 0x7f113647f518>"
      ]
     },
     "execution_count": 39,
     "metadata": {},
     "output_type": "execute_result"
    },
    {
     "data": {
      "image/png": "[encoded data removed]",
      "text/plain": [
       "<Figure size 432x288 with 1 Axes>"
      ]
     },
     "metadata": {
      "needs_background": "light"
     },
     "output_type": "display_data"
    }
   ],
   "source": [
    "buttonPress_df.control.plot('hist',bins=50)"
   ]
  },
  {
   "cell_type": "code",
   "execution_count": 42,
   "metadata": {},
   "outputs": [
    {
     "data": {
      "text/plain": [
       "(56,)"
      ]
     },
     "execution_count": 42,
     "metadata": {},
     "output_type": "execute_result"
    }
   ],
   "source": [
    "buttonPress_df.control[buttonPress_df.control == 178].shape"
   ]
  },
  {
   "cell_type": "code",
   "execution_count": 57,
   "metadata": {},
   "outputs": [],
   "source": [
    "con_df = pd.DataFrame(columns=['Subject','run','trial','buttPress'])\n",
    "for i, row in yoked.iterrows():\n",
    "    subj = row['uncontrol']\n",
    "    runs = np.arange(6)[row.loc['run0':'run5'].astype(bool)]\n",
    "    for j, run in enumerate(runs,start=1):\n",
    "        path = DATPAT.format(subj=subj, run=run)\n",
    "        with open(path, 'r') as f:\n",
    "            data = load(f)\n",
    "        \n",
    "        for k,event in enumerate(data['Escapes'],start=1):\n",
    "            tmp_df = pd.DataFrame([data['ySubj'],j,k,len(event)],index=['Subject','run','trial','buttPress']).T\n",
    "            con_df = con_df.append(tmp_df,ignore_index=True)\n",
    "            \n",
    "con_df['buttPress'] = con_df['buttPress'].astype(float)"
   ]
  },
  {
   "cell_type": "code",
   "execution_count": 59,
   "metadata": {},
   "outputs": [
    {
     "data": {
      "text/plain": [
       "Text(0.5, 0, '(Run, Trial)')"
      ]
     },
     "execution_count": 59,
     "metadata": {},
     "output_type": "execute_result"
    },
    {
     "data": {
      "image/png": "[encoded data removed]",
      "text/plain": [
       "<Figure size 720x432 with 1 Axes>"
      ]
     },
     "metadata": {
      "needs_background": "light"
     },
     "output_type": "display_data"
    }
   ],
   "source": [
    "con_df.groupby(['run','trial'])['buttPress'].mean().round().plot('bar',figsize=(10,6),fontsize=14)\n",
    "plt.ylabel('# of Button Press')\n",
    "plt.xlabel('(Run, Trial)')"
   ]
  },
  {
   "cell_type": "code",
   "execution_count": null,
   "metadata": {},
   "outputs": [],
   "source": []
  },
  {
   "cell_type": "code",
   "execution_count": null,
   "metadata": {},
   "outputs": [],
   "source": []
  }
 ],
 "metadata": {
  "kernelspec": {
   "display_name": "Python 3",
   "language": "python",
   "name": "python3"
  },
  "language_info": {
   "codemirror_mode": {
    "name": "ipython",
    "version": 3
   },
   "file_extension": ".py",
   "mimetype": "text/x-python",
   "name": "python",
   "nbconvert_exporter": "python",
   "pygments_lexer": "ipython3",
   "version": "3.7.3"
  }
 },
 "nbformat": 4,
 "nbformat_minor": 4
}
