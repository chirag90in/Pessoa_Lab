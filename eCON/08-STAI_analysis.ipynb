{
 "cells": [
  {
   "cell_type": "code",
   "execution_count": 1,
   "metadata": {},
   "outputs": [
    {
     "data": {
      "text/html": [
       "<script>\n",
       "code_show=true; \n",
       "function code_toggle() {\n",
       " if (code_show){\n",
       " $('div.input').hide();\n",
       " } else {\n",
       " $('div.input').show();\n",
       " }\n",
       " code_show = !code_show\n",
       "} \n",
       "$( document ).ready(code_toggle);\n",
       "</script>\n",
       "<form action=\"javascript:code_toggle()\"><input type=\"submit\" value=\"Click here to toggle on/off the raw code.\"></form>"
      ],
      "text/plain": [
       "<IPython.core.display.HTML object>"
      ]
     },
     "execution_count": 1,
     "metadata": {},
     "output_type": "execute_result"
    }
   ],
   "source": [
    "from IPython.display import HTML\n",
    "\n",
    "HTML('''<script>\n",
    "code_show=true; \n",
    "function code_toggle() {\n",
    " if (code_show){\n",
    " $('div.input').hide();\n",
    " } else {\n",
    " $('div.input').show();\n",
    " }\n",
    " code_show = !code_show\n",
    "} \n",
    "$( document ).ready(code_toggle);\n",
    "</script>\n",
    "<form action=\"javascript:code_toggle()\"><input type=\"submit\" value=\"Click here to toggle on/off the raw code.\"></form>''')\n"
   ]
  },
  {
   "cell_type": "code",
   "execution_count": null,
   "metadata": {},
   "outputs": [],
   "source": [
    "import numpy as np\n",
    "import pandas as pd\n",
    "\n",
    "import seaborn as sns\n",
    "import matplotlib.pyplot as plt\n",
    "\n",
    "from statsmodels.stats.outliers_influence import variance_inflation_factor\n",
    "import statsmodels.api as sm\n",
    "\n",
    "%matplotlib inline"
   ]
  },
  {
   "cell_type": "code",
   "execution_count": 2,
   "metadata": {},
   "outputs": [
    {
     "data": {
      "text/html": [
       "<div>\n",
       "<style scoped>\n",
       "    .dataframe tbody tr th:only-of-type {\n",
       "        vertical-align: middle;\n",
       "    }\n",
       "\n",
       "    .dataframe tbody tr th {\n",
       "        vertical-align: top;\n",
       "    }\n",
       "\n",
       "    .dataframe thead th {\n",
       "        text-align: right;\n",
       "    }\n",
       "</style>\n",
       "<table border=\"1\" class=\"dataframe\">\n",
       "  <thead>\n",
       "    <tr style=\"text-align: right;\">\n",
       "      <th></th>\n",
       "      <th>SubID</th>\n",
       "      <th>Group</th>\n",
       "      <th>SCORING</th>\n",
       "      <th>STATE</th>\n",
       "      <th>PAIR SCORE</th>\n",
       "    </tr>\n",
       "  </thead>\n",
       "  <tbody>\n",
       "    <tr>\n",
       "      <th>0</th>\n",
       "      <td>CON_001</td>\n",
       "      <td>control</td>\n",
       "      <td>27</td>\n",
       "      <td>24</td>\n",
       "      <td>27.0</td>\n",
       "    </tr>\n",
       "    <tr>\n",
       "      <th>1</th>\n",
       "      <td>CON_002</td>\n",
       "      <td>control</td>\n",
       "      <td>27</td>\n",
       "      <td>26</td>\n",
       "      <td>36.0</td>\n",
       "    </tr>\n",
       "    <tr>\n",
       "      <th>2</th>\n",
       "      <td>CON_003</td>\n",
       "      <td>control</td>\n",
       "      <td>36</td>\n",
       "      <td>26</td>\n",
       "      <td>37.0</td>\n",
       "    </tr>\n",
       "    <tr>\n",
       "      <th>3</th>\n",
       "      <td>CON_004</td>\n",
       "      <td>control</td>\n",
       "      <td>21</td>\n",
       "      <td>21</td>\n",
       "      <td>24.0</td>\n",
       "    </tr>\n",
       "    <tr>\n",
       "      <th>4</th>\n",
       "      <td>CON_005</td>\n",
       "      <td>control</td>\n",
       "      <td>33</td>\n",
       "      <td>26</td>\n",
       "      <td>33.0</td>\n",
       "    </tr>\n",
       "  </tbody>\n",
       "</table>\n",
       "</div>"
      ],
      "text/plain": [
       "     SubID    Group  SCORING  STATE  PAIR SCORE\n",
       "0  CON_001  control       27     24        27.0\n",
       "1  CON_002  control       27     26        36.0\n",
       "2  CON_003  control       36     26        37.0\n",
       "3  CON_004  control       21     21        24.0\n",
       "4  CON_005  control       33     26        33.0"
      ]
     },
     "execution_count": 2,
     "metadata": {},
     "output_type": "execute_result"
    }
   ],
   "source": [
    "scores = pd.read_excel('../../STAIscores/scores.xlsx')\n",
    "scores.head()"
   ]
  },
  {
   "cell_type": "code",
   "execution_count": 3,
   "metadata": {},
   "outputs": [],
   "source": [
    "scores['SubID'] = scores['SubID'].apply(lambda name: ''.join(name.strip().split(\"_\")))"
   ]
  },
  {
   "cell_type": "code",
   "execution_count": 4,
   "metadata": {},
   "outputs": [
    {
     "data": {
      "text/html": [
       "<div>\n",
       "<style scoped>\n",
       "    .dataframe tbody tr th:only-of-type {\n",
       "        vertical-align: middle;\n",
       "    }\n",
       "\n",
       "    .dataframe tbody tr th {\n",
       "        vertical-align: top;\n",
       "    }\n",
       "\n",
       "    .dataframe thead th {\n",
       "        text-align: right;\n",
       "    }\n",
       "</style>\n",
       "<table border=\"1\" class=\"dataframe\">\n",
       "  <thead>\n",
       "    <tr style=\"text-align: right;\">\n",
       "      <th></th>\n",
       "      <th>SubID</th>\n",
       "      <th>Group</th>\n",
       "      <th>SCORING</th>\n",
       "      <th>STATE</th>\n",
       "      <th>PAIR SCORE</th>\n",
       "    </tr>\n",
       "  </thead>\n",
       "  <tbody>\n",
       "    <tr>\n",
       "      <th>0</th>\n",
       "      <td>CON001</td>\n",
       "      <td>control</td>\n",
       "      <td>27</td>\n",
       "      <td>24</td>\n",
       "      <td>27.0</td>\n",
       "    </tr>\n",
       "    <tr>\n",
       "      <th>1</th>\n",
       "      <td>CON002</td>\n",
       "      <td>control</td>\n",
       "      <td>27</td>\n",
       "      <td>26</td>\n",
       "      <td>36.0</td>\n",
       "    </tr>\n",
       "    <tr>\n",
       "      <th>2</th>\n",
       "      <td>CON003</td>\n",
       "      <td>control</td>\n",
       "      <td>36</td>\n",
       "      <td>26</td>\n",
       "      <td>37.0</td>\n",
       "    </tr>\n",
       "    <tr>\n",
       "      <th>3</th>\n",
       "      <td>CON004</td>\n",
       "      <td>control</td>\n",
       "      <td>21</td>\n",
       "      <td>21</td>\n",
       "      <td>24.0</td>\n",
       "    </tr>\n",
       "    <tr>\n",
       "      <th>4</th>\n",
       "      <td>CON005</td>\n",
       "      <td>control</td>\n",
       "      <td>33</td>\n",
       "      <td>26</td>\n",
       "      <td>33.0</td>\n",
       "    </tr>\n",
       "  </tbody>\n",
       "</table>\n",
       "</div>"
      ],
      "text/plain": [
       "    SubID    Group  SCORING  STATE  PAIR SCORE\n",
       "0  CON001  control       27     24        27.0\n",
       "1  CON002  control       27     26        36.0\n",
       "2  CON003  control       36     26        37.0\n",
       "3  CON004  control       21     21        24.0\n",
       "4  CON005  control       33     26        33.0"
      ]
     },
     "execution_count": 4,
     "metadata": {},
     "output_type": "execute_result"
    }
   ],
   "source": [
    "scores.head()"
   ]
  },
  {
   "cell_type": "code",
   "execution_count": 5,
   "metadata": {},
   "outputs": [
    {
     "data": {
      "text/html": [
       "<div>\n",
       "<style scoped>\n",
       "    .dataframe tbody tr th:only-of-type {\n",
       "        vertical-align: middle;\n",
       "    }\n",
       "\n",
       "    .dataframe tbody tr th {\n",
       "        vertical-align: top;\n",
       "    }\n",
       "\n",
       "    .dataframe thead th {\n",
       "        text-align: right;\n",
       "    }\n",
       "</style>\n",
       "<table border=\"1\" class=\"dataframe\">\n",
       "  <thead>\n",
       "    <tr style=\"text-align: right;\">\n",
       "      <th></th>\n",
       "      <th>SubID</th>\n",
       "      <th>Group</th>\n",
       "      <th>SCORING</th>\n",
       "      <th>STATE</th>\n",
       "      <th>PAIR SCORE</th>\n",
       "    </tr>\n",
       "  </thead>\n",
       "  <tbody>\n",
       "    <tr>\n",
       "      <th>121</th>\n",
       "      <td>CON119</td>\n",
       "      <td>uncontrol</td>\n",
       "      <td>38</td>\n",
       "      <td>30</td>\n",
       "      <td>37.0</td>\n",
       "    </tr>\n",
       "    <tr>\n",
       "      <th>122</th>\n",
       "      <td>CON120</td>\n",
       "      <td>uncontrol</td>\n",
       "      <td>35</td>\n",
       "      <td>35</td>\n",
       "      <td>37.0</td>\n",
       "    </tr>\n",
       "    <tr>\n",
       "      <th>123</th>\n",
       "      <td>CON121</td>\n",
       "      <td>uncontrol</td>\n",
       "      <td>53</td>\n",
       "      <td>55</td>\n",
       "      <td>54.0</td>\n",
       "    </tr>\n",
       "    <tr>\n",
       "      <th>124</th>\n",
       "      <td>CON123</td>\n",
       "      <td>uncontrol</td>\n",
       "      <td>30</td>\n",
       "      <td>23</td>\n",
       "      <td>26.0</td>\n",
       "    </tr>\n",
       "    <tr>\n",
       "      <th>125</th>\n",
       "      <td>CON125</td>\n",
       "      <td>uncontrol</td>\n",
       "      <td>38</td>\n",
       "      <td>30</td>\n",
       "      <td>41.0</td>\n",
       "    </tr>\n",
       "  </tbody>\n",
       "</table>\n",
       "</div>"
      ],
      "text/plain": [
       "      SubID      Group  SCORING  STATE  PAIR SCORE\n",
       "121  CON119  uncontrol       38     30        37.0\n",
       "122  CON120  uncontrol       35     35        37.0\n",
       "123  CON121  uncontrol       53     55        54.0\n",
       "124  CON123  uncontrol       30     23        26.0\n",
       "125  CON125  uncontrol       38     30        41.0"
      ]
     },
     "execution_count": 5,
     "metadata": {},
     "output_type": "execute_result"
    }
   ],
   "source": [
    "scores.tail()"
   ]
  },
  {
   "cell_type": "code",
   "execution_count": 6,
   "metadata": {},
   "outputs": [],
   "source": [
    "yoked = pd.read_excel('../../onsetdir/CON_yoked_table.xlsx')\n",
    "yoked = yoked.query(\"use == 0\")"
   ]
  },
  {
   "cell_type": "code",
   "execution_count": 9,
   "metadata": {},
   "outputs": [],
   "source": [
    "scores = scores[~scores['SubID'].isin(yoked.control.values)]"
   ]
  },
  {
   "cell_type": "code",
   "execution_count": 10,
   "metadata": {},
   "outputs": [
    {
     "data": {
      "text/plain": [
       "(122, 5)"
      ]
     },
     "execution_count": 10,
     "metadata": {},
     "output_type": "execute_result"
    }
   ],
   "source": [
    "scores.shape"
   ]
  },
  {
   "cell_type": "code",
   "execution_count": 31,
   "metadata": {},
   "outputs": [],
   "source": [
    "def plotcorr(df,group):\n",
    "    plt.figure(figsize=(6,4))\n",
    "    sns.heatmap(df[['SCORING','STATE']].corr(),vmin=-1,vmax=1,cmap='jet',annot=True, fmt='.2f', annot_kws={\"size\": 14})\n",
    "    plt.tick_params(axis='both',labelsize=14)\n",
    "    plt.title(group)"
   ]
  },
  {
   "cell_type": "code",
   "execution_count": 32,
   "metadata": {},
   "outputs": [
    {
     "data": {
      "text/plain": [
       "[None, None]"
      ]
     },
     "execution_count": 32,
     "metadata": {},
     "output_type": "execute_result"
    },
    {
     "data": {
      "image/png": "[encoded data removed]",
      "text/plain": [
       "<Figure size 432x288 with 2 Axes>"
      ]
     },
     "metadata": {
      "needs_background": "light"
     },
     "output_type": "display_data"
    },
    {
     "data": {
      "image/png": "[encoded data removed]",
      "text/plain": [
       "<Figure size 432x288 with 2 Axes>"
      ]
     },
     "metadata": {
      "needs_background": "light"
     },
     "output_type": "display_data"
    }
   ],
   "source": [
    "[plotcorr(scores,group) for group in ['uncontrol','control']]"
   ]
  },
  {
   "cell_type": "code",
   "execution_count": 25,
   "metadata": {},
   "outputs": [
    {
     "data": {
      "text/plain": [
       "array([24, 26, 26, 21, 26, 36, 36, 22, 26, 21, 29, 21, 31, 20, 32, 40, 33,\n",
       "       29, 29, 33, 41, 24, 20, 27, 54, 42, 47, 39, 37, 47, 41, 33, 38, 24,\n",
       "       25, 36, 39, 42, 27, 31, 30, 31, 41, 25, 25, 42, 33, 31, 21, 23, 26,\n",
       "       34, 28, 24, 23, 28, 20, 30, 24, 26, 42])"
      ]
     },
     "execution_count": 25,
     "metadata": {},
     "output_type": "execute_result"
    }
   ],
   "source": [
    "scores[scores['Group']=='control']['STATE'].values "
   ]
  },
  {
   "cell_type": "code",
   "execution_count": 29,
   "metadata": {},
   "outputs": [
    {
     "data": {
      "text/plain": [
       "array([27, 27, 36, 21, 33, 37, 34, 22, 26, 22, 34, 26, 30, 20, 33, 55, 46,\n",
       "       36, 34, 43, 41, 40, 26, 44, 27, 31, 37, 36, 42, 51, 49, 36, 41, 26,\n",
       "       34, 30, 30, 55, 37, 47, 32, 44, 38, 54, 31, 41, 33, 34, 23, 31, 36,\n",
       "       39, 27, 37, 37, 24, 28, 34, 26, 37, 41])"
      ]
     },
     "execution_count": 29,
     "metadata": {},
     "output_type": "execute_result"
    }
   ],
   "source": [
    "scores[scores['Group']=='control']['SCORING'].values "
   ]
  },
  {
   "cell_type": "code",
   "execution_count": 26,
   "metadata": {},
   "outputs": [
    {
     "data": {
      "text/plain": [
       "array([26, 21, 30, 30, 29, 32, 30, 24, 30, 39, 20, 22, 38, 38, 57, 33, 42,\n",
       "       23, 24, 30, 25, 26, 33, 35, 30, 28, 41, 33, 27, 44, 23, 21, 25, 23,\n",
       "       32, 23, 30, 20, 31, 27, 38, 21, 23, 26, 33, 52, 36, 33, 21, 23, 32,\n",
       "       29, 34, 23, 32, 47, 30, 35, 55, 23, 30])"
      ]
     },
     "execution_count": 26,
     "metadata": {},
     "output_type": "execute_result"
    }
   ],
   "source": [
    "scores[scores['Group']=='uncontrol']['STATE'].values"
   ]
  },
  {
   "cell_type": "code",
   "execution_count": 30,
   "metadata": {},
   "outputs": [
    {
     "data": {
      "text/plain": [
       "array([34, 29, 28, 36, 37, 33, 37, 35, 33, 41, 24, 27, 26, 42, 39, 54, 41,\n",
       "       28, 22, 34, 30, 27, 30, 43, 35, 36, 51, 29, 42, 50, 29, 40, 44, 51,\n",
       "       33, 28, 38, 22, 46, 27, 48, 32, 34, 35, 31, 35, 29, 37, 24, 29, 36,\n",
       "       30, 40, 24, 27, 40, 38, 35, 53, 30, 38])"
      ]
     },
     "execution_count": 30,
     "metadata": {},
     "output_type": "execute_result"
    }
   ],
   "source": [
    "scores[scores['Group']=='uncontrol']['SCORING'].values "
   ]
  },
  {
   "cell_type": "code",
   "execution_count": null,
   "metadata": {},
   "outputs": [],
   "source": []
  }
 ],
 "metadata": {
  "kernelspec": {
   "display_name": "Python 3",
   "language": "python",
   "name": "python3"
  },
  "language_info": {
   "codemirror_mode": {
    "name": "ipython",
    "version": 3
   },
   "file_extension": ".py",
   "mimetype": "text/x-python",
   "name": "python",
   "nbconvert_exporter": "python",
   "pygments_lexer": "ipython3",
   "version": "3.7.3"
  }
 },
 "nbformat": 4,
 "nbformat_minor": 4
}
