{
 "cells": [
  {
   "cell_type": "code",
   "execution_count": 1,
   "metadata": {},
   "outputs": [
    {
     "data": {
      "text/html": [
       "<script>\n",
       "code_show=true; \n",
       "function code_toggle() {\n",
       " if (code_show){\n",
       " $('div.input').hide();\n",
       " } else {\n",
       " $('div.input').show();\n",
       " }\n",
       " code_show = !code_show\n",
       "} \n",
       "$( document ).ready(code_toggle);\n",
       "</script>\n",
       "<form action=\"javascript:code_toggle()\"><input type=\"submit\" value=\"Click here to toggle on/off the raw code.\"></form>"
      ],
      "text/plain": [
       "<IPython.core.display.HTML object>"
      ]
     },
     "execution_count": 1,
     "metadata": {},
     "output_type": "execute_result"
    }
   ],
   "source": [
    "from IPython.display import HTML\n",
    "\n",
    "HTML('''<script>\n",
    "code_show=true; \n",
    "function code_toggle() {\n",
    " if (code_show){\n",
    " $('div.input').hide();\n",
    " } else {\n",
    " $('div.input').show();\n",
    " }\n",
    " code_show = !code_show\n",
    "} \n",
    "$( document ).ready(code_toggle);\n",
    "</script>\n",
    "<form action=\"javascript:code_toggle()\"><input type=\"submit\" value=\"Click here to toggle on/off the raw code.\"></form>''')\n"
   ]
  },
  {
   "cell_type": "markdown",
   "metadata": {},
   "source": [
    "# **Trial-by-trial Analysis of SCR and brain response for shock**"
   ]
  },
  {
   "cell_type": "code",
   "execution_count": 2,
   "metadata": {},
   "outputs": [],
   "source": [
    "import pandas as pd\n",
    "import numpy as np\n",
    "import os\n",
    "from os.path import join, isdir, dirname, basename, exists\n",
    "from os import mkdir\n",
    "import glob as glob\n",
    "import matplotlib.pyplot as plt\n",
    "import seaborn as sns; sns.set(context=\"paper\",style=\"white\",font_scale=1.5)"
   ]
  },
  {
   "cell_type": "code",
   "execution_count": 3,
   "metadata": {},
   "outputs": [],
   "source": [
    "eCON = '/data/bswift-1/Pessoa_Lab/eCON'\n",
    "SCR_betapath = join(eCON,'SCR_new/dataset/results_ShockUncensored/{subj}/{group}lable/splitted_regs/shock_IM/{subj}_bucket_REML_clean.1D')\n",
    "roi_betapath = join(eCON,'dataset/results_ShockUncensored/{subj}/{group}lable/splitted_regs/ROI_{roi}/noProx/shock_IM/{subj}_bucket_REML.1D')\n",
    "yoked = pd.read_excel(join(eCON,'SCR_new/scripts/CON_yoked_table.xlsx'))\n",
    "yoked = yoked.query('use == 1')"
   ]
  },
  {
   "cell_type": "code",
   "execution_count": 4,
   "metadata": {},
   "outputs": [],
   "source": [
    "rois = 'rvAI rdAI lvAI ldAI rPI lPI rBNST lBNST ACC\\\n",
    "        Amygdala_BLBM_La_R Amygdala_CeME_R Amygdala_BLBM_La_L Amygdala_CeME_L\\\n",
    "        rCa lCa rPa lPa rVS lVS vmPFC PCC1 PCC2 rPAG1 lPAG1'.split()\n",
    "\n",
    "#rois = 'Amygdala_BLBM_La_R Amygdala_CeME_R Amygdala_BLBM_La_L Amygdala_CeME_L lPa rVS lVS'.split()\n",
    "\n",
    "#rois = 'lBNST rBNST'.split()"
   ]
  },
  {
   "cell_type": "code",
   "execution_count": 5,
   "metadata": {},
   "outputs": [
    {
     "data": {
      "text/plain": [
       "24"
      ]
     },
     "execution_count": 5,
     "metadata": {},
     "output_type": "execute_result"
    },
    {
     "data": {
      "image/png": "[encoded data removed]",
      "text/plain": [
       "<Figure size 720x72 with 1 Axes>"
      ]
     },
     "metadata": {
      "needs_background": "light"
     },
     "output_type": "display_data"
    }
   ],
   "source": [
    "pal = sns.color_palette()\n",
    "sns.palplot(pal)\n",
    "len(rois)"
   ]
  },
  {
   "cell_type": "code",
   "execution_count": 6,
   "metadata": {},
   "outputs": [],
   "source": [
    "if not exists('data/ROIs_SCR_trial_by_trial.csv'):    \n",
    "    df = pd.DataFrame()\n",
    "    for i, row in yoked.iterrows():\n",
    "        for kind in ['control','uncontrol']:\n",
    "            #print(row[kind])\n",
    "            scr_beta = np.loadtxt(SCR_betapath.format(subj=row[kind],group=kind))[25::2]\n",
    "            roi_beta = np.vstack([np.loadtxt(roi_betapath.format(subj=row[kind],roi=roi,group=kind))[25::2] for roi in rois]).T\n",
    "            all_betas = np.concatenate((scr_beta[:,None],roi_beta),axis=1)\n",
    "\n",
    "            tmp_df = pd.DataFrame(all_betas,columns=['SCR']+rois)\n",
    "            tmp_df['SubjID'] = row[kind]\n",
    "            tmp_df['Group'] = kind\n",
    "            tmp_df['Pair'] = 'P{:02d}'.format(i)\n",
    "            df = pd.concat([df,tmp_df],axis =0)\n",
    "    df.to_csv('data/ROIs_SCR_trial_by_trial.csv',sep='\\t',index=False,float_format='%.4f')\n",
    "else:\n",
    "    df = pd.read_csv('data/ROIs_SCR_trial_by_trial.csv',sep='\\t')"
   ]
  },
  {
   "cell_type": "code",
   "execution_count": 7,
   "metadata": {},
   "outputs": [
    {
     "data": {
      "text/html": [
       "<div>\n",
       "<style scoped>\n",
       "    .dataframe tbody tr th:only-of-type {\n",
       "        vertical-align: middle;\n",
       "    }\n",
       "\n",
       "    .dataframe tbody tr th {\n",
       "        vertical-align: top;\n",
       "    }\n",
       "\n",
       "    .dataframe thead th {\n",
       "        text-align: right;\n",
       "    }\n",
       "</style>\n",
       "<table border=\"1\" class=\"dataframe\">\n",
       "  <thead>\n",
       "    <tr style=\"text-align: right;\">\n",
       "      <th></th>\n",
       "      <th>SCR</th>\n",
       "      <th>rvAI</th>\n",
       "      <th>rdAI</th>\n",
       "      <th>lvAI</th>\n",
       "      <th>ldAI</th>\n",
       "      <th>rPI</th>\n",
       "      <th>lPI</th>\n",
       "      <th>rBNST</th>\n",
       "      <th>lBNST</th>\n",
       "      <th>ACC</th>\n",
       "      <th>...</th>\n",
       "      <th>rVS</th>\n",
       "      <th>lVS</th>\n",
       "      <th>vmPFC</th>\n",
       "      <th>PCC1</th>\n",
       "      <th>PCC2</th>\n",
       "      <th>rPAG1</th>\n",
       "      <th>lPAG1</th>\n",
       "      <th>SubjID</th>\n",
       "      <th>Group</th>\n",
       "      <th>Pair</th>\n",
       "    </tr>\n",
       "  </thead>\n",
       "  <tbody>\n",
       "    <tr>\n",
       "      <th>0</th>\n",
       "      <td>8.6095</td>\n",
       "      <td>1.7816</td>\n",
       "      <td>2.1119</td>\n",
       "      <td>-1.0575</td>\n",
       "      <td>2.9644</td>\n",
       "      <td>3.1084</td>\n",
       "      <td>2.7786</td>\n",
       "      <td>6.3267</td>\n",
       "      <td>4.8373</td>\n",
       "      <td>2.6326</td>\n",
       "      <td>...</td>\n",
       "      <td>1.6020</td>\n",
       "      <td>1.2372</td>\n",
       "      <td>2.3129</td>\n",
       "      <td>-0.4296</td>\n",
       "      <td>3.8005</td>\n",
       "      <td>-1.0777</td>\n",
       "      <td>2.3216</td>\n",
       "      <td>CON001</td>\n",
       "      <td>control</td>\n",
       "      <td>P00</td>\n",
       "    </tr>\n",
       "    <tr>\n",
       "      <th>1</th>\n",
       "      <td>7.5032</td>\n",
       "      <td>0.8163</td>\n",
       "      <td>3.1294</td>\n",
       "      <td>3.0831</td>\n",
       "      <td>2.2152</td>\n",
       "      <td>1.6196</td>\n",
       "      <td>1.1714</td>\n",
       "      <td>1.7676</td>\n",
       "      <td>5.3251</td>\n",
       "      <td>1.4518</td>\n",
       "      <td>...</td>\n",
       "      <td>2.2677</td>\n",
       "      <td>1.9963</td>\n",
       "      <td>-0.3372</td>\n",
       "      <td>-0.0760</td>\n",
       "      <td>-3.4675</td>\n",
       "      <td>2.0552</td>\n",
       "      <td>2.2137</td>\n",
       "      <td>CON001</td>\n",
       "      <td>control</td>\n",
       "      <td>P00</td>\n",
       "    </tr>\n",
       "    <tr>\n",
       "      <th>2</th>\n",
       "      <td>3.7038</td>\n",
       "      <td>0.7600</td>\n",
       "      <td>0.8769</td>\n",
       "      <td>1.8224</td>\n",
       "      <td>0.4235</td>\n",
       "      <td>0.1772</td>\n",
       "      <td>-0.0432</td>\n",
       "      <td>1.0671</td>\n",
       "      <td>0.5296</td>\n",
       "      <td>0.4522</td>\n",
       "      <td>...</td>\n",
       "      <td>-0.2517</td>\n",
       "      <td>0.3197</td>\n",
       "      <td>-0.3279</td>\n",
       "      <td>-0.6165</td>\n",
       "      <td>-2.1564</td>\n",
       "      <td>0.6921</td>\n",
       "      <td>0.5358</td>\n",
       "      <td>CON001</td>\n",
       "      <td>control</td>\n",
       "      <td>P00</td>\n",
       "    </tr>\n",
       "    <tr>\n",
       "      <th>3</th>\n",
       "      <td>3.9272</td>\n",
       "      <td>1.3462</td>\n",
       "      <td>1.6302</td>\n",
       "      <td>1.1834</td>\n",
       "      <td>1.1492</td>\n",
       "      <td>0.4893</td>\n",
       "      <td>0.7290</td>\n",
       "      <td>3.6859</td>\n",
       "      <td>3.2630</td>\n",
       "      <td>0.6793</td>\n",
       "      <td>...</td>\n",
       "      <td>0.4042</td>\n",
       "      <td>0.6645</td>\n",
       "      <td>-0.0219</td>\n",
       "      <td>-0.2998</td>\n",
       "      <td>-0.3902</td>\n",
       "      <td>0.0272</td>\n",
       "      <td>1.4309</td>\n",
       "      <td>CON001</td>\n",
       "      <td>control</td>\n",
       "      <td>P00</td>\n",
       "    </tr>\n",
       "    <tr>\n",
       "      <th>4</th>\n",
       "      <td>6.9194</td>\n",
       "      <td>1.9489</td>\n",
       "      <td>0.9176</td>\n",
       "      <td>1.0883</td>\n",
       "      <td>0.7360</td>\n",
       "      <td>1.0265</td>\n",
       "      <td>0.9546</td>\n",
       "      <td>0.8350</td>\n",
       "      <td>3.2508</td>\n",
       "      <td>0.4319</td>\n",
       "      <td>...</td>\n",
       "      <td>0.9831</td>\n",
       "      <td>1.1389</td>\n",
       "      <td>0.0599</td>\n",
       "      <td>-0.9693</td>\n",
       "      <td>0.3075</td>\n",
       "      <td>-0.8291</td>\n",
       "      <td>0.1176</td>\n",
       "      <td>CON001</td>\n",
       "      <td>control</td>\n",
       "      <td>P00</td>\n",
       "    </tr>\n",
       "  </tbody>\n",
       "</table>\n",
       "<p>5 rows × 28 columns</p>\n",
       "</div>"
      ],
      "text/plain": [
       "      SCR    rvAI    rdAI    lvAI    ldAI     rPI     lPI   rBNST   lBNST  \\\n",
       "0  8.6095  1.7816  2.1119 -1.0575  2.9644  3.1084  2.7786  6.3267  4.8373   \n",
       "1  7.5032  0.8163  3.1294  3.0831  2.2152  1.6196  1.1714  1.7676  5.3251   \n",
       "2  3.7038  0.7600  0.8769  1.8224  0.4235  0.1772 -0.0432  1.0671  0.5296   \n",
       "3  3.9272  1.3462  1.6302  1.1834  1.1492  0.4893  0.7290  3.6859  3.2630   \n",
       "4  6.9194  1.9489  0.9176  1.0883  0.7360  1.0265  0.9546  0.8350  3.2508   \n",
       "\n",
       "      ACC  ...     rVS     lVS   vmPFC    PCC1    PCC2   rPAG1   lPAG1  \\\n",
       "0  2.6326  ...  1.6020  1.2372  2.3129 -0.4296  3.8005 -1.0777  2.3216   \n",
       "1  1.4518  ...  2.2677  1.9963 -0.3372 -0.0760 -3.4675  2.0552  2.2137   \n",
       "2  0.4522  ... -0.2517  0.3197 -0.3279 -0.6165 -2.1564  0.6921  0.5358   \n",
       "3  0.6793  ...  0.4042  0.6645 -0.0219 -0.2998 -0.3902  0.0272  1.4309   \n",
       "4  0.4319  ...  0.9831  1.1389  0.0599 -0.9693  0.3075 -0.8291  0.1176   \n",
       "\n",
       "   SubjID    Group  Pair  \n",
       "0  CON001  control   P00  \n",
       "1  CON001  control   P00  \n",
       "2  CON001  control   P00  \n",
       "3  CON001  control   P00  \n",
       "4  CON001  control   P00  \n",
       "\n",
       "[5 rows x 28 columns]"
      ]
     },
     "execution_count": 7,
     "metadata": {},
     "output_type": "execute_result"
    }
   ],
   "source": [
    "df.head()"
   ]
  },
  {
   "cell_type": "markdown",
   "metadata": {},
   "source": [
    "# **Plot: ROI shock response vs. SCR shock response**"
   ]
  },
  {
   "cell_type": "code",
   "execution_count": 8,
   "metadata": {},
   "outputs": [],
   "source": [
    "cmap = plt.get_cmap('Set1')\n",
    "def plot_SCR_ROI_corr(roi):\n",
    "    fig = plt.figure(figsize=(6,5))\n",
    "    sns.regplot('SCR',roi,df[df['Group']=='control'],color=cmap.colors[1],\n",
    "                scatter_kws= {'edgecolors':'black','s':50,'alpha':0.5,'color':cmap.colors[1]},label='control',robust=True)\n",
    "    sns.regplot('SCR',roi,df[df['Group']=='uncontrol'],color=cmap.colors[0],\n",
    "                scatter_kws={'edgecolors':'black','s':50,'alpha':0.5,'color':cmap.colors[0]},label='uncontrol',robust=True)\n",
    "    plt.xlabel('Skin Conductance\\n[Shock] (A.U.)')\n",
    "    plt.ylabel('{}\\n[Shock] (A.U.)'.format(roi))\n",
    "    plt.ylim([-4,6])\n",
    "    plt.legend()\n",
    "    #plt.title('trial by trial')\n",
    "    plt.tight_layout()\n",
    "    plt.savefig(join(eCON,'scripts/tmp_preproc2/figures/{}_SCR_correlation_tbt.png').format(roi),dpi=600)"
   ]
  },
  {
   "cell_type": "code",
   "execution_count": 9,
   "metadata": {},
   "outputs": [
    {
     "data": {
      "image/png": "[encoded data removed]",
      "text/plain": [
       "<Figure size 432x360 with 1 Axes>"
      ]
     },
     "metadata": {
      "needs_background": "light"
     },
     "output_type": "display_data"
    }
   ],
   "source": [
    "plot_SCR_ROI_corr('rCa')"
   ]
  },
  {
   "cell_type": "code",
   "execution_count": 29,
   "metadata": {},
   "outputs": [
    {
     "data": {
      "text/html": [
       "<div>\n",
       "<style scoped>\n",
       "    .dataframe tbody tr th:only-of-type {\n",
       "        vertical-align: middle;\n",
       "    }\n",
       "\n",
       "    .dataframe tbody tr th {\n",
       "        vertical-align: top;\n",
       "    }\n",
       "\n",
       "    .dataframe thead th {\n",
       "        text-align: right;\n",
       "    }\n",
       "</style>\n",
       "<table border=\"1\" class=\"dataframe\">\n",
       "  <thead>\n",
       "    <tr style=\"text-align: right;\">\n",
       "      <th></th>\n",
       "      <th>Pair</th>\n",
       "      <th>SubjID</th>\n",
       "      <th>SCR</th>\n",
       "      <th>rBNST</th>\n",
       "    </tr>\n",
       "  </thead>\n",
       "  <tbody>\n",
       "    <tr>\n",
       "      <th>0</th>\n",
       "      <td>P00</td>\n",
       "      <td>CON001</td>\n",
       "      <td>8.6095</td>\n",
       "      <td>6.3267</td>\n",
       "    </tr>\n",
       "    <tr>\n",
       "      <th>1</th>\n",
       "      <td>P00</td>\n",
       "      <td>CON001</td>\n",
       "      <td>7.5032</td>\n",
       "      <td>1.7676</td>\n",
       "    </tr>\n",
       "    <tr>\n",
       "      <th>2</th>\n",
       "      <td>P00</td>\n",
       "      <td>CON001</td>\n",
       "      <td>3.7038</td>\n",
       "      <td>1.0671</td>\n",
       "    </tr>\n",
       "    <tr>\n",
       "      <th>3</th>\n",
       "      <td>P00</td>\n",
       "      <td>CON001</td>\n",
       "      <td>3.9272</td>\n",
       "      <td>3.6859</td>\n",
       "    </tr>\n",
       "    <tr>\n",
       "      <th>4</th>\n",
       "      <td>P00</td>\n",
       "      <td>CON001</td>\n",
       "      <td>6.9194</td>\n",
       "      <td>0.8350</td>\n",
       "    </tr>\n",
       "  </tbody>\n",
       "</table>\n",
       "</div>"
      ],
      "text/plain": [
       "  Pair  SubjID     SCR   rBNST\n",
       "0  P00  CON001  8.6095  6.3267\n",
       "1  P00  CON001  7.5032  1.7676\n",
       "2  P00  CON001  3.7038  1.0671\n",
       "3  P00  CON001  3.9272  3.6859\n",
       "4  P00  CON001  6.9194  0.8350"
      ]
     },
     "execution_count": 29,
     "metadata": {},
     "output_type": "execute_result"
    }
   ],
   "source": [
    "df[['Pair','SubjID','SCR','rBNST']][df['Group']=='control'].head()"
   ]
  },
  {
   "cell_type": "code",
   "execution_count": 28,
   "metadata": {},
   "outputs": [
    {
     "data": {
      "text/html": [
       "<div>\n",
       "<style scoped>\n",
       "    .dataframe tbody tr th:only-of-type {\n",
       "        vertical-align: middle;\n",
       "    }\n",
       "\n",
       "    .dataframe tbody tr th {\n",
       "        vertical-align: top;\n",
       "    }\n",
       "\n",
       "    .dataframe thead th {\n",
       "        text-align: right;\n",
       "    }\n",
       "</style>\n",
       "<table border=\"1\" class=\"dataframe\">\n",
       "  <thead>\n",
       "    <tr style=\"text-align: right;\">\n",
       "      <th></th>\n",
       "      <th>Pair</th>\n",
       "      <th>SubjID</th>\n",
       "      <th>SCR</th>\n",
       "      <th>rBNST</th>\n",
       "    </tr>\n",
       "  </thead>\n",
       "  <tbody>\n",
       "    <tr>\n",
       "      <th>20</th>\n",
       "      <td>P00</td>\n",
       "      <td>CON031</td>\n",
       "      <td>3.7651</td>\n",
       "      <td>6.3590</td>\n",
       "    </tr>\n",
       "    <tr>\n",
       "      <th>21</th>\n",
       "      <td>P00</td>\n",
       "      <td>CON031</td>\n",
       "      <td>2.1986</td>\n",
       "      <td>-5.7982</td>\n",
       "    </tr>\n",
       "    <tr>\n",
       "      <th>22</th>\n",
       "      <td>P00</td>\n",
       "      <td>CON031</td>\n",
       "      <td>1.6647</td>\n",
       "      <td>4.5201</td>\n",
       "    </tr>\n",
       "    <tr>\n",
       "      <th>23</th>\n",
       "      <td>P00</td>\n",
       "      <td>CON031</td>\n",
       "      <td>-0.2975</td>\n",
       "      <td>0.1619</td>\n",
       "    </tr>\n",
       "    <tr>\n",
       "      <th>24</th>\n",
       "      <td>P00</td>\n",
       "      <td>CON031</td>\n",
       "      <td>0.8757</td>\n",
       "      <td>4.2613</td>\n",
       "    </tr>\n",
       "  </tbody>\n",
       "</table>\n",
       "</div>"
      ],
      "text/plain": [
       "   Pair  SubjID     SCR   rBNST\n",
       "20  P00  CON031  3.7651  6.3590\n",
       "21  P00  CON031  2.1986 -5.7982\n",
       "22  P00  CON031  1.6647  4.5201\n",
       "23  P00  CON031 -0.2975  0.1619\n",
       "24  P00  CON031  0.8757  4.2613"
      ]
     },
     "execution_count": 28,
     "metadata": {},
     "output_type": "execute_result"
    }
   ],
   "source": [
    "df[['Pair','SubjID','SCR','rBNST']][df['Group']=='uncontrol'].head()"
   ]
  },
  {
   "cell_type": "code",
   "execution_count": 30,
   "metadata": {},
   "outputs": [
    {
     "data": {
      "text/html": [
       "<div>\n",
       "<style scoped>\n",
       "    .dataframe tbody tr th:only-of-type {\n",
       "        vertical-align: middle;\n",
       "    }\n",
       "\n",
       "    .dataframe tbody tr th {\n",
       "        vertical-align: top;\n",
       "    }\n",
       "\n",
       "    .dataframe thead th {\n",
       "        text-align: right;\n",
       "    }\n",
       "</style>\n",
       "<table border=\"1\" class=\"dataframe\">\n",
       "  <thead>\n",
       "    <tr style=\"text-align: right;\">\n",
       "      <th></th>\n",
       "      <th>SCR</th>\n",
       "      <th>rvAI</th>\n",
       "      <th>rdAI</th>\n",
       "      <th>lvAI</th>\n",
       "      <th>ldAI</th>\n",
       "      <th>rPI</th>\n",
       "      <th>lPI</th>\n",
       "      <th>rBNST</th>\n",
       "      <th>lBNST</th>\n",
       "      <th>ACC</th>\n",
       "      <th>...</th>\n",
       "      <th>lPa</th>\n",
       "      <th>rVS</th>\n",
       "      <th>lVS</th>\n",
       "      <th>vmPFC</th>\n",
       "      <th>PCC1</th>\n",
       "      <th>PCC2</th>\n",
       "      <th>rPAG1</th>\n",
       "      <th>lPAG1</th>\n",
       "      <th>SubjID</th>\n",
       "      <th>Group</th>\n",
       "    </tr>\n",
       "    <tr>\n",
       "      <th>Pair</th>\n",
       "      <th></th>\n",
       "      <th></th>\n",
       "      <th></th>\n",
       "      <th></th>\n",
       "      <th></th>\n",
       "      <th></th>\n",
       "      <th></th>\n",
       "      <th></th>\n",
       "      <th></th>\n",
       "      <th></th>\n",
       "      <th></th>\n",
       "      <th></th>\n",
       "      <th></th>\n",
       "      <th></th>\n",
       "      <th></th>\n",
       "      <th></th>\n",
       "      <th></th>\n",
       "      <th></th>\n",
       "      <th></th>\n",
       "      <th></th>\n",
       "      <th></th>\n",
       "    </tr>\n",
       "  </thead>\n",
       "  <tbody>\n",
       "    <tr>\n",
       "      <th>P00</th>\n",
       "      <td>8.6095</td>\n",
       "      <td>1.7816</td>\n",
       "      <td>2.1119</td>\n",
       "      <td>-1.0575</td>\n",
       "      <td>2.9644</td>\n",
       "      <td>3.1084</td>\n",
       "      <td>2.7786</td>\n",
       "      <td>6.3267</td>\n",
       "      <td>4.8373</td>\n",
       "      <td>2.6326</td>\n",
       "      <td>...</td>\n",
       "      <td>2.6542</td>\n",
       "      <td>1.6020</td>\n",
       "      <td>1.2372</td>\n",
       "      <td>2.3129</td>\n",
       "      <td>-0.4296</td>\n",
       "      <td>3.8005</td>\n",
       "      <td>-1.0777</td>\n",
       "      <td>2.3216</td>\n",
       "      <td>CON001</td>\n",
       "      <td>control</td>\n",
       "    </tr>\n",
       "    <tr>\n",
       "      <th>P00</th>\n",
       "      <td>7.5032</td>\n",
       "      <td>0.8163</td>\n",
       "      <td>3.1294</td>\n",
       "      <td>3.0831</td>\n",
       "      <td>2.2152</td>\n",
       "      <td>1.6196</td>\n",
       "      <td>1.1714</td>\n",
       "      <td>1.7676</td>\n",
       "      <td>5.3251</td>\n",
       "      <td>1.4518</td>\n",
       "      <td>...</td>\n",
       "      <td>2.8288</td>\n",
       "      <td>2.2677</td>\n",
       "      <td>1.9963</td>\n",
       "      <td>-0.3372</td>\n",
       "      <td>-0.0760</td>\n",
       "      <td>-3.4675</td>\n",
       "      <td>2.0552</td>\n",
       "      <td>2.2137</td>\n",
       "      <td>CON001</td>\n",
       "      <td>control</td>\n",
       "    </tr>\n",
       "    <tr>\n",
       "      <th>P00</th>\n",
       "      <td>3.7038</td>\n",
       "      <td>0.7600</td>\n",
       "      <td>0.8769</td>\n",
       "      <td>1.8224</td>\n",
       "      <td>0.4235</td>\n",
       "      <td>0.1772</td>\n",
       "      <td>-0.0432</td>\n",
       "      <td>1.0671</td>\n",
       "      <td>0.5296</td>\n",
       "      <td>0.4522</td>\n",
       "      <td>...</td>\n",
       "      <td>0.7408</td>\n",
       "      <td>-0.2517</td>\n",
       "      <td>0.3197</td>\n",
       "      <td>-0.3279</td>\n",
       "      <td>-0.6165</td>\n",
       "      <td>-2.1564</td>\n",
       "      <td>0.6921</td>\n",
       "      <td>0.5358</td>\n",
       "      <td>CON001</td>\n",
       "      <td>control</td>\n",
       "    </tr>\n",
       "    <tr>\n",
       "      <th>P00</th>\n",
       "      <td>3.9272</td>\n",
       "      <td>1.3462</td>\n",
       "      <td>1.6302</td>\n",
       "      <td>1.1834</td>\n",
       "      <td>1.1492</td>\n",
       "      <td>0.4893</td>\n",
       "      <td>0.7290</td>\n",
       "      <td>3.6859</td>\n",
       "      <td>3.2630</td>\n",
       "      <td>0.6793</td>\n",
       "      <td>...</td>\n",
       "      <td>1.0341</td>\n",
       "      <td>0.4042</td>\n",
       "      <td>0.6645</td>\n",
       "      <td>-0.0219</td>\n",
       "      <td>-0.2998</td>\n",
       "      <td>-0.3902</td>\n",
       "      <td>0.0272</td>\n",
       "      <td>1.4309</td>\n",
       "      <td>CON001</td>\n",
       "      <td>control</td>\n",
       "    </tr>\n",
       "    <tr>\n",
       "      <th>P00</th>\n",
       "      <td>6.9194</td>\n",
       "      <td>1.9489</td>\n",
       "      <td>0.9176</td>\n",
       "      <td>1.0883</td>\n",
       "      <td>0.7360</td>\n",
       "      <td>1.0265</td>\n",
       "      <td>0.9546</td>\n",
       "      <td>0.8350</td>\n",
       "      <td>3.2508</td>\n",
       "      <td>0.4319</td>\n",
       "      <td>...</td>\n",
       "      <td>0.8989</td>\n",
       "      <td>0.9831</td>\n",
       "      <td>1.1389</td>\n",
       "      <td>0.0599</td>\n",
       "      <td>-0.9693</td>\n",
       "      <td>0.3075</td>\n",
       "      <td>-0.8291</td>\n",
       "      <td>0.1176</td>\n",
       "      <td>CON001</td>\n",
       "      <td>control</td>\n",
       "    </tr>\n",
       "  </tbody>\n",
       "</table>\n",
       "<p>5 rows × 27 columns</p>\n",
       "</div>"
      ],
      "text/plain": [
       "         SCR    rvAI    rdAI    lvAI    ldAI     rPI     lPI   rBNST   lBNST  \\\n",
       "Pair                                                                           \n",
       "P00   8.6095  1.7816  2.1119 -1.0575  2.9644  3.1084  2.7786  6.3267  4.8373   \n",
       "P00   7.5032  0.8163  3.1294  3.0831  2.2152  1.6196  1.1714  1.7676  5.3251   \n",
       "P00   3.7038  0.7600  0.8769  1.8224  0.4235  0.1772 -0.0432  1.0671  0.5296   \n",
       "P00   3.9272  1.3462  1.6302  1.1834  1.1492  0.4893  0.7290  3.6859  3.2630   \n",
       "P00   6.9194  1.9489  0.9176  1.0883  0.7360  1.0265  0.9546  0.8350  3.2508   \n",
       "\n",
       "         ACC  ...     lPa     rVS     lVS   vmPFC    PCC1    PCC2   rPAG1  \\\n",
       "Pair          ...                                                           \n",
       "P00   2.6326  ...  2.6542  1.6020  1.2372  2.3129 -0.4296  3.8005 -1.0777   \n",
       "P00   1.4518  ...  2.8288  2.2677  1.9963 -0.3372 -0.0760 -3.4675  2.0552   \n",
       "P00   0.4522  ...  0.7408 -0.2517  0.3197 -0.3279 -0.6165 -2.1564  0.6921   \n",
       "P00   0.6793  ...  1.0341  0.4042  0.6645 -0.0219 -0.2998 -0.3902  0.0272   \n",
       "P00   0.4319  ...  0.8989  0.9831  1.1389  0.0599 -0.9693  0.3075 -0.8291   \n",
       "\n",
       "       lPAG1  SubjID    Group  \n",
       "Pair                           \n",
       "P00   2.3216  CON001  control  \n",
       "P00   2.2137  CON001  control  \n",
       "P00   0.5358  CON001  control  \n",
       "P00   1.4309  CON001  control  \n",
       "P00   0.1176  CON001  control  \n",
       "\n",
       "[5 rows x 27 columns]"
      ]
     },
     "execution_count": 30,
     "metadata": {},
     "output_type": "execute_result"
    }
   ],
   "source": [
    "df.set_index('Pair',inplace=True)\n",
    "df.head()"
   ]
  },
  {
   "cell_type": "code",
   "execution_count": 36,
   "metadata": {},
   "outputs": [
    {
     "data": {
      "text/html": [
       "<div>\n",
       "<style scoped>\n",
       "    .dataframe tbody tr th:only-of-type {\n",
       "        vertical-align: middle;\n",
       "    }\n",
       "\n",
       "    .dataframe tbody tr th {\n",
       "        vertical-align: top;\n",
       "    }\n",
       "\n",
       "    .dataframe thead th {\n",
       "        text-align: right;\n",
       "    }\n",
       "</style>\n",
       "<table border=\"1\" class=\"dataframe\">\n",
       "  <thead>\n",
       "    <tr style=\"text-align: right;\">\n",
       "      <th></th>\n",
       "      <th>rBNST</th>\n",
       "      <th>SCR</th>\n",
       "    </tr>\n",
       "    <tr>\n",
       "      <th>Pair</th>\n",
       "      <th></th>\n",
       "      <th></th>\n",
       "    </tr>\n",
       "  </thead>\n",
       "  <tbody>\n",
       "    <tr>\n",
       "      <th>P00</th>\n",
       "      <td>0.0323</td>\n",
       "      <td>-4.8444</td>\n",
       "    </tr>\n",
       "    <tr>\n",
       "      <th>P00</th>\n",
       "      <td>-7.5658</td>\n",
       "      <td>-5.3046</td>\n",
       "    </tr>\n",
       "    <tr>\n",
       "      <th>P00</th>\n",
       "      <td>3.4530</td>\n",
       "      <td>-2.0391</td>\n",
       "    </tr>\n",
       "    <tr>\n",
       "      <th>P00</th>\n",
       "      <td>-3.5240</td>\n",
       "      <td>-4.2247</td>\n",
       "    </tr>\n",
       "    <tr>\n",
       "      <th>P00</th>\n",
       "      <td>3.4263</td>\n",
       "      <td>-6.0437</td>\n",
       "    </tr>\n",
       "  </tbody>\n",
       "</table>\n",
       "</div>"
      ],
      "text/plain": [
       "       rBNST     SCR\n",
       "Pair                \n",
       "P00   0.0323 -4.8444\n",
       "P00  -7.5658 -5.3046\n",
       "P00   3.4530 -2.0391\n",
       "P00  -3.5240 -4.2247\n",
       "P00   3.4263 -6.0437"
      ]
     },
     "execution_count": 36,
     "metadata": {},
     "output_type": "execute_result"
    }
   ],
   "source": [
    "paired_df = df[['rBNST','SCR']][df['Group']=='uncontrol'] - df[['rBNST','SCR']][df['Group']=='control']\n",
    "paired_df.rename(columns={'rBNST':'rBNST_diff','SCR':'SCR_diff'})\n",
    "paired_df.head()"
   ]
  },
  {
   "cell_type": "code",
   "execution_count": 37,
   "metadata": {},
   "outputs": [],
   "source": [
    "paired_df.to_csv('data/uncon_v_con_rBNST_SCR.txt',sep='\\t',float_format='%.4f')"
   ]
  },
  {
   "cell_type": "markdown",
   "metadata": {},
   "source": [
    "## **Standard paired t-tests for each ROI**\n",
    "1. For each participant get correlation value for ROI and SCR trial-by-trial responses.\n",
    "2. Z-transform the correlation value (r)\n",
    "3. Take the paired difference of the transformed correlation value"
   ]
  },
  {
   "cell_type": "code",
   "execution_count": 10,
   "metadata": {},
   "outputs": [],
   "source": [
    "from scipy.stats import pearsonr, spearmanr, ttest_rel, ttest_1samp\n",
    "import math"
   ]
  },
  {
   "cell_type": "code",
   "execution_count": 11,
   "metadata": {},
   "outputs": [],
   "source": [
    "def ttest_SCR_roi(roi):\n",
    "    con = []; uncon = []\n",
    "    for i, row in yoked.iterrows():\n",
    "        con_roi = df[(df['Pair']=='P{:02d}'.format(i)) & (df['Group']=='control')][roi].values\n",
    "        uncon_roi = df[(df['Pair']=='P{:02d}'.format(i)) & (df['Group']=='uncontrol')][roi].values\n",
    "\n",
    "        con_SCR = df[(df['Pair']=='P{:02d}'.format(i)) & (df['Group']=='control')]['SCR'].values\n",
    "        uncon_SCR = df[(df['Pair']=='P{:02d}'.format(i)) & (df['Group']=='uncontrol')]['SCR'].values\n",
    "\n",
    "        con_rp,_ = pearsonr(con_roi,con_SCR)\n",
    "        uncon_rp,_ = pearsonr(uncon_roi,uncon_SCR)\n",
    "\n",
    "        con_zp = math.atanh(con_rp)\n",
    "        uncon_zp = math.atanh(uncon_rp)\n",
    "\n",
    "        con.append(con_zp); uncon.append(uncon_zp)\n",
    "        \n",
    "    print(roi,': t = %.4f, p = %.4f' %(ttest_1samp(np.subtract(uncon,con),0)))\n",
    "    "
   ]
  },
  {
   "cell_type": "code",
   "execution_count": 12,
   "metadata": {},
   "outputs": [
    {
     "name": "stdout",
     "output_type": "stream",
     "text": [
      "rvAI : t = 0.3479, p = 0.7292\n",
      "rdAI : t = 0.6232, p = 0.5357\n",
      "lvAI : t = 0.9848, p = 0.3290\n",
      "ldAI : t = 0.7212, p = 0.4738\n",
      "rPI : t = 0.0819, p = 0.9350\n",
      "lPI : t = -0.0164, p = 0.9870\n",
      "rBNST : t = 2.4714, p = 0.0165\n",
      "lBNST : t = 1.9189, p = 0.0601\n",
      "ACC : t = 0.1675, p = 0.8676\n",
      "Amygdala_BLBM_La_R : t = -0.9422, p = 0.3502\n",
      "Amygdala_CeME_R : t = 1.9133, p = 0.0608\n",
      "Amygdala_BLBM_La_L : t = -0.5999, p = 0.5510\n",
      "Amygdala_CeME_L : t = -0.0670, p = 0.9469\n",
      "rCa : t = 2.2911, p = 0.0257\n",
      "lCa : t = 0.5553, p = 0.5809\n",
      "rPa : t = 0.6814, p = 0.4984\n",
      "lPa : t = 1.7269, p = 0.0897\n",
      "rVS : t = 0.5553, p = 0.5809\n",
      "lVS : t = 0.6814, p = 0.4984\n",
      "vmPFC : t = -0.1096, p = 0.9131\n",
      "PCC1 : t = 0.2288, p = 0.8199\n",
      "PCC2 : t = -0.9251, p = 0.3589\n",
      "rPAG1 : t = 1.5615, p = 0.1240\n",
      "lPAG1 : t = -1.6530, p = 0.1039\n",
      "[None, None, None, None, None, None, None, None, None, None, None, None, None, None, None, None, None, None, None, None, None, None, None, None]\n"
     ]
    }
   ],
   "source": [
    "print([ttest_SCR_roi(roi) for roi in rois])"
   ]
  },
  {
   "cell_type": "code",
   "execution_count": 13,
   "metadata": {},
   "outputs": [],
   "source": [
    "def get_zcorr_df(roi):\n",
    "    rba_df = pd.DataFrame()\n",
    "    for roi in rois:\n",
    "        for i, row in yoked.iterrows():\n",
    "            con_roi = df[(df['Pair']=='P{:02d}'.format(i)) & (df['Group']=='control')][roi].values\n",
    "            uncon_roi = df[(df['Pair']=='P{:02d}'.format(i)) & (df['Group']=='uncontrol')][roi].values\n",
    "\n",
    "            con_SCR = df[(df['Pair']=='P{:02d}'.format(i)) & (df['Group']=='control')]['SCR'].values\n",
    "            uncon_SCR = df[(df['Pair']=='P{:02d}'.format(i)) & (df['Group']=='uncontrol')]['SCR'].values\n",
    "\n",
    "            con_rp,_ = pearsonr(con_roi,con_SCR)\n",
    "            uncon_rp,_ = pearsonr(uncon_roi,uncon_SCR)\n",
    "\n",
    "            con_zp = math.atanh(con_rp)\n",
    "            uncon_zp = math.atanh(uncon_rp)\n",
    "\n",
    "            #con.append(con_zp); uncon.append(uncon_zp)\n",
    "            # Y is the difference (uncon-con) of z-transformed correlation coefficient\n",
    "            tmp_df = pd.DataFrame(['P{:02}'.format(i), roi, uncon_zp-con_zp],index=['Pair','ROI','Y']).T\n",
    "            rba_df = pd.concat([rba_df,tmp_df],axis=0)\n",
    "\n",
    "    return rba_df\n",
    "    #print(roi,':',ttest_1samp(np.subtract(uncon,con),0))"
   ]
  },
  {
   "cell_type": "code",
   "execution_count": 19,
   "metadata": {},
   "outputs": [],
   "source": [
    "rba_df = get_zcorr_df(rois)\n",
    "rba_df['Y'] = rba_df['Y'].astype(float)"
   ]
  },
  {
   "cell_type": "markdown",
   "metadata": {},
   "source": [
    "Use the following pivot commad if you want a column for each roi\n",
    "> rba_df.pivot(index='Pair',columns='ROI')"
   ]
  },
  {
   "cell_type": "markdown",
   "metadata": {},
   "source": [
    "Later if you want to add covarites, setting 'Pair' column as the index would help in joining the STAI scores to the rba dataframe\n",
    "> rba_df.set_index('Pair',inplace=True)"
   ]
  },
  {
   "cell_type": "code",
   "execution_count": 20,
   "metadata": {},
   "outputs": [
    {
     "data": {
      "text/html": [
       "<div>\n",
       "<style scoped>\n",
       "    .dataframe tbody tr th:only-of-type {\n",
       "        vertical-align: middle;\n",
       "    }\n",
       "\n",
       "    .dataframe tbody tr th {\n",
       "        vertical-align: top;\n",
       "    }\n",
       "\n",
       "    .dataframe thead th {\n",
       "        text-align: right;\n",
       "    }\n",
       "</style>\n",
       "<table border=\"1\" class=\"dataframe\">\n",
       "  <thead>\n",
       "    <tr style=\"text-align: right;\">\n",
       "      <th></th>\n",
       "      <th>Pair</th>\n",
       "      <th>ROI</th>\n",
       "      <th>Y</th>\n",
       "    </tr>\n",
       "  </thead>\n",
       "  <tbody>\n",
       "    <tr>\n",
       "      <th>0</th>\n",
       "      <td>P00</td>\n",
       "      <td>rvAI</td>\n",
       "      <td>-0.775176</td>\n",
       "    </tr>\n",
       "    <tr>\n",
       "      <th>0</th>\n",
       "      <td>P01</td>\n",
       "      <td>rvAI</td>\n",
       "      <td>0.924890</td>\n",
       "    </tr>\n",
       "    <tr>\n",
       "      <th>0</th>\n",
       "      <td>P02</td>\n",
       "      <td>rvAI</td>\n",
       "      <td>-0.089983</td>\n",
       "    </tr>\n",
       "    <tr>\n",
       "      <th>0</th>\n",
       "      <td>P03</td>\n",
       "      <td>rvAI</td>\n",
       "      <td>-0.547892</td>\n",
       "    </tr>\n",
       "    <tr>\n",
       "      <th>0</th>\n",
       "      <td>P04</td>\n",
       "      <td>rvAI</td>\n",
       "      <td>0.004476</td>\n",
       "    </tr>\n",
       "  </tbody>\n",
       "</table>\n",
       "</div>"
      ],
      "text/plain": [
       "  Pair   ROI         Y\n",
       "0  P00  rvAI -0.775176\n",
       "0  P01  rvAI  0.924890\n",
       "0  P02  rvAI -0.089983\n",
       "0  P03  rvAI -0.547892\n",
       "0  P04  rvAI  0.004476"
      ]
     },
     "execution_count": 20,
     "metadata": {},
     "output_type": "execute_result"
    }
   ],
   "source": [
    "rba_df.head()"
   ]
  },
  {
   "cell_type": "markdown",
   "metadata": {},
   "source": [
    "## To run an intercept model on rBNST save a dataset with just rBNST"
   ]
  },
  {
   "cell_type": "code",
   "execution_count": 21,
   "metadata": {},
   "outputs": [],
   "source": [
    "rba_df[rba_df['ROI']=='rBNST'].to_csv('data/uncon_v_con_rBNST_SCR_zcorr.txt',sep='\\t',float_format='%.4f',index=False)"
   ]
  },
  {
   "cell_type": "code",
   "execution_count": 22,
   "metadata": {},
   "outputs": [
    {
     "name": "stdout",
     "output_type": "stream",
     "text": [
      "<class 'pandas.core.frame.DataFrame'>\n",
      "Int64Index: 1368 entries, 0 to 0\n",
      "Data columns (total 3 columns):\n",
      "Pair    1368 non-null object\n",
      "ROI     1368 non-null object\n",
      "Y       1368 non-null float64\n",
      "dtypes: float64(1), object(2)\n",
      "memory usage: 42.8+ KB\n"
     ]
    }
   ],
   "source": [
    "rba_df.info()"
   ]
  },
  {
   "cell_type": "markdown",
   "metadata": {},
   "source": [
    "## Get the STAI scores to be used as covariates"
   ]
  },
  {
   "cell_type": "code",
   "execution_count": 55,
   "metadata": {},
   "outputs": [
    {
     "name": "stdout",
     "output_type": "stream",
     "text": [
      "    SubID    Group  TRAIT  STATE\n",
      "0  CON001  control     27     24\n",
      "1  CON002  control     27     26\n",
      "2  CON003  control     36     26\n",
      "3  CON004  control     21     21\n",
      "4  CON005  control     33     26\n",
      "      SubID      Group  TRAIT  STATE\n",
      "121  CON119  uncontrol     38     30\n",
      "122  CON120  uncontrol     35     35\n",
      "123  CON121  uncontrol     53     55\n",
      "124  CON123  uncontrol     30     23\n",
      "125  CON125  uncontrol     38     30\n"
     ]
    }
   ],
   "source": [
    "scores = pd.read_excel(join(eCON,'STAIscores/scores.xlsx'))\n",
    "scores.rename(columns={'SCORING':'TRAIT'},inplace=True)\n",
    "scores.drop(columns=['PAIR SCORE'],inplace=True)\n",
    "scores['SubID'] = scores['SubID'].apply(lambda name: ''.join(name.strip().split(\"_\")))\n",
    "print(scores.head())\n",
    "print(scores.tail())"
   ]
  },
  {
   "cell_type": "code",
   "execution_count": 56,
   "metadata": {},
   "outputs": [],
   "source": [
    "new_score_df = pd.DataFrame()\n",
    "for i,row in yoked.iterrows():\n",
    "    conTrait = scores[scores['SubID'] == row['control']]['TRAIT'].values[0]\n",
    "    unconTrait = scores[scores['SubID'] == row['uncontrol']]['TRAIT'].values[0]\n",
    "    \n",
    "    conState = scores[scores['SubID'] == row['control']]['STATE'].values[0]\n",
    "    unconState = scores[scores['SubID'] == row['uncontrol']]['STATE'].values[0]\n",
    "    \n",
    "    tmp_df = pd.DataFrame(['P{:02d}'.format(i),row['uncontrol'],row['control'],\n",
    "                           unconTrait,conTrait,unconTrait-conTrait,np.mean([unconTrait,conTrait]),\n",
    "                           unconState,conState,unconState-conState,np.mean([unconState,conState])],\n",
    "                          index=['Pair',('SubID','uncontrol'),('SubID','control'),\n",
    "                                  ('TRAIT','uncontrol'),('TRAIT','control'),('TRAIT','uncon-con'),('TRAIT','mean'),\n",
    "                                  ('STATE','uncontrol'),('STATE','control'),('STATE','uncon-con'),('STATE','mean')]).T\n",
    "    \n",
    "    new_score_df = pd.concat([new_score_df,tmp_df],axis=0)\n",
    "    \n",
    "new_score_df.set_index('Pair',inplace=True)\n",
    "\n",
    "\n",
    "new_score_df.columns = pd.MultiIndex.from_tuples(new_score_df.columns)"
   ]
  },
  {
   "cell_type": "code",
   "execution_count": 57,
   "metadata": {},
   "outputs": [
    {
     "name": "stdout",
     "output_type": "stream",
     "text": [
      "         SubID             TRAIT                             STATE          \\\n",
      "     uncontrol control uncontrol control uncon-con  mean uncontrol control   \n",
      "Pair                                                                         \n",
      "P00     CON031  CON001        27      27         0    27        22      24   \n",
      "P01     CON021  CON002        36      27         9  31.5        30      26   \n",
      "P02     CON022  CON003        37      36         1  36.5        29      26   \n",
      "P03     CON030  CON004        24      21         3  22.5        20      21   \n",
      "P04     CON023  CON005        33      33         0    33        32      26   \n",
      "\n",
      "                      \n",
      "     uncon-con  mean  \n",
      "Pair                  \n",
      "P00         -2    23  \n",
      "P01          4    28  \n",
      "P02          3  27.5  \n",
      "P03         -1  20.5  \n",
      "P04          6    29  \n",
      "         SubID             TRAIT                             STATE          \\\n",
      "     uncontrol control uncontrol control uncon-con  mean uncontrol control   \n",
      "Pair                                                                         \n",
      "P55     CON119  CON107        38      37         1  37.5        30      24   \n",
      "P56     CON118  CON108        40      37         3  38.5        47      23   \n",
      "P57     CON116  CON109        27      24         3  25.5        32      28   \n",
      "P58     CON114  CON111        24      28        -4    26        23      20   \n",
      "P59     CON113  CON112        40      34         6    37        34      30   \n",
      "\n",
      "                      \n",
      "     uncon-con  mean  \n",
      "Pair                  \n",
      "P55          6    27  \n",
      "P56         24    35  \n",
      "P57          4    30  \n",
      "P58          3  21.5  \n",
      "P59          4    32  \n"
     ]
    }
   ],
   "source": [
    "print(new_score_df.head())\n",
    "print(new_score_df.tail())"
   ]
  },
  {
   "cell_type": "markdown",
   "metadata": {},
   "source": [
    "## Normalize the STAI score"
   ]
  },
  {
   "cell_type": "code",
   "execution_count": 58,
   "metadata": {},
   "outputs": [],
   "source": [
    "from sklearn.preprocessing import StandardScaler\n",
    "\n",
    "ss = StandardScaler()\n",
    "scores_norm = pd.DataFrame(ss.fit_transform(new_score_df[[('STATE', 'mean'),('STATE','uncon-con'),('TRAIT', 'mean'),('TRAIT','uncon-con')]]),\n",
    "                          columns=['STATEmean','STATEdiff','TRAITmean','TRAITdiff'],index=new_score_df.index)\n"
   ]
  },
  {
   "cell_type": "code",
   "execution_count": 59,
   "metadata": {},
   "outputs": [
    {
     "data": {
      "text/html": [
       "<div>\n",
       "<style scoped>\n",
       "    .dataframe tbody tr th:only-of-type {\n",
       "        vertical-align: middle;\n",
       "    }\n",
       "\n",
       "    .dataframe tbody tr th {\n",
       "        vertical-align: top;\n",
       "    }\n",
       "\n",
       "    .dataframe thead th {\n",
       "        text-align: right;\n",
       "    }\n",
       "</style>\n",
       "<table border=\"1\" class=\"dataframe\">\n",
       "  <thead>\n",
       "    <tr style=\"text-align: right;\">\n",
       "      <th></th>\n",
       "      <th>STATEmean</th>\n",
       "      <th>STATEdiff</th>\n",
       "      <th>TRAITmean</th>\n",
       "      <th>TRAITdiff</th>\n",
       "    </tr>\n",
       "    <tr>\n",
       "      <th>Pair</th>\n",
       "      <th></th>\n",
       "      <th></th>\n",
       "      <th></th>\n",
       "      <th></th>\n",
       "    </tr>\n",
       "  </thead>\n",
       "  <tbody>\n",
       "    <tr>\n",
       "      <th>P00</th>\n",
       "      <td>-1.213278</td>\n",
       "      <td>-0.144191</td>\n",
       "      <td>-0.988402</td>\n",
       "      <td>-0.055850</td>\n",
       "    </tr>\n",
       "    <tr>\n",
       "      <th>P01</th>\n",
       "      <td>-0.419284</td>\n",
       "      <td>0.496243</td>\n",
       "      <td>-0.407588</td>\n",
       "      <td>3.127601</td>\n",
       "    </tr>\n",
       "    <tr>\n",
       "      <th>P02</th>\n",
       "      <td>-0.498684</td>\n",
       "      <td>0.389504</td>\n",
       "      <td>0.237760</td>\n",
       "      <td>0.297867</td>\n",
       "    </tr>\n",
       "    <tr>\n",
       "      <th>P03</th>\n",
       "      <td>-1.610275</td>\n",
       "      <td>-0.037452</td>\n",
       "      <td>-1.569215</td>\n",
       "      <td>1.005300</td>\n",
       "    </tr>\n",
       "    <tr>\n",
       "      <th>P04</th>\n",
       "      <td>-0.260486</td>\n",
       "      <td>0.709720</td>\n",
       "      <td>-0.213984</td>\n",
       "      <td>-0.055850</td>\n",
       "    </tr>\n",
       "  </tbody>\n",
       "</table>\n",
       "</div>"
      ],
      "text/plain": [
       "      STATEmean  STATEdiff  TRAITmean  TRAITdiff\n",
       "Pair                                            \n",
       "P00   -1.213278  -0.144191  -0.988402  -0.055850\n",
       "P01   -0.419284   0.496243  -0.407588   3.127601\n",
       "P02   -0.498684   0.389504   0.237760   0.297867\n",
       "P03   -1.610275  -0.037452  -1.569215   1.005300\n",
       "P04   -0.260486   0.709720  -0.213984  -0.055850"
      ]
     },
     "execution_count": 59,
     "metadata": {},
     "output_type": "execute_result"
    }
   ],
   "source": [
    "scores_norm.head()"
   ]
  },
  {
   "cell_type": "code",
   "execution_count": null,
   "metadata": {},
   "outputs": [],
   "source": []
  },
  {
   "cell_type": "code",
   "execution_count": null,
   "metadata": {},
   "outputs": [],
   "source": []
  },
  {
   "cell_type": "code",
   "execution_count": null,
   "metadata": {},
   "outputs": [],
   "source": []
  },
  {
   "cell_type": "code",
   "execution_count": null,
   "metadata": {},
   "outputs": [],
   "source": []
  },
  {
   "cell_type": "code",
   "execution_count": null,
   "metadata": {},
   "outputs": [],
   "source": []
  },
  {
   "cell_type": "code",
   "execution_count": null,
   "metadata": {},
   "outputs": [],
   "source": []
  },
  {
   "cell_type": "code",
   "execution_count": null,
   "metadata": {},
   "outputs": [],
   "source": []
  },
  {
   "cell_type": "markdown",
   "metadata": {},
   "source": [
    "# Plot of averaged response\n",
    "All trials averaged with each perticipant"
   ]
  },
  {
   "cell_type": "code",
   "execution_count": 18,
   "metadata": {},
   "outputs": [],
   "source": [
    "ROI_SCR_avreaged_resp_df = df.groupby(['Pair','Group','SubjID']).mean().reset_index()"
   ]
  },
  {
   "cell_type": "code",
   "execution_count": 30,
   "metadata": {},
   "outputs": [
    {
     "data": {
      "image/png": "[encoded data removed]",
      "text/plain": [
       "<Figure size 432x360 with 1 Axes>"
      ]
     },
     "metadata": {},
     "output_type": "display_data"
    }
   ],
   "source": [
    "cmap = plt.get_cmap('Set1')\n",
    "fig = plt.figure(figsize=(6,5))\n",
    "sns.regplot('SCR','rBNST',\n",
    "            ROI_SCR_avreaged_resp_df[ROI_SCR_avreaged_resp_df['Group']=='uncontrol'],color=cmap.colors[0],\n",
    "            scatter_kws={'edgecolors':'black','s':50,'alpha':0.5,'color':cmap.colors[0]},label='uncontrol',robust=True)\n",
    "sns.regplot('SCR','rBNST',\n",
    "            ROI_SCR_avreaged_resp_df[ROI_SCR_avreaged_resp_df['Group']=='control'],color=cmap.colors[1],\n",
    "            scatter_kws={'edgecolors':'black','s':50,'alpha':0.5,'color':cmap.colors[1]},label='control',robust=True)\n",
    "\n",
    "plt.xlabel('Skin Conductance\\n[Shock] (A.U.)')\n",
    "plt.ylabel('rBNST\\n[Shock] (A.U.)')\n",
    "plt.ylim(-0.75,1.75)\n",
    "plt.title(' trial-averaged')\n",
    "plt.legend()\n",
    "plt.tight_layout()\n",
    "plt.savefig(join(eCON,'scripts/tmp_preproc2/figures/{}_SCR_correlation_taveg.png').format('rBNST'),dpi=600)"
   ]
  },
  {
   "cell_type": "code",
   "execution_count": null,
   "metadata": {},
   "outputs": [],
   "source": []
  }
 ],
 "metadata": {
  "kernelspec": {
   "display_name": "Python 3",
   "language": "python",
   "name": "python3"
  },
  "language_info": {
   "codemirror_mode": {
    "name": "ipython",
    "version": 3
   },
   "file_extension": ".py",
   "mimetype": "text/x-python",
   "name": "python",
   "nbconvert_exporter": "python",
   "pygments_lexer": "ipython3",
   "version": "3.7.3"
  }
 },
 "nbformat": 4,
 "nbformat_minor": 4
}
