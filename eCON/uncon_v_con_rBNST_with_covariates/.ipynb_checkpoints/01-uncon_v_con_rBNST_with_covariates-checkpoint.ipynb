{
 "cells": [
  {
   "cell_type": "markdown",
   "metadata": {},
   "source": [
    "# **Population effect in right BST**\n",
    "\n",
    "effect: contrast of shock response between uncontrol and control participants"
   ]
  },
  {
   "cell_type": "code",
   "execution_count": null,
   "metadata": {},
   "outputs": [],
   "source": [
    "library(brms) # for the analysis\n",
    "#library(ggmcmc)\n",
    "#library(ggthemes)\n",
    "#library(ggridges)"
   ]
  },
  {
   "cell_type": "markdown",
   "metadata": {},
   "source": [
    "## **Model**\n",
    "\n",
    "$$Y \\sim N(\\mu, \\sigma^{2}_{\\epsilon})$$\n",
    "$$\\mu = A + \\alpha*TM + \\beta*TD + \\gamma*SM + \\delta*SD + \\epsilon$$\n",
    "\n",
    "Where TM, TD, SM, and SD are covariates:\n",
    "\n",
    "TM: ***trait*** mean  \n",
    "TD: ***train*** difference (uncon - con)  \n",
    "SM: ***state*** mean  \n",
    "SD: ***state*** difference (uncon - con)\n",
    "\n",
    "## **Priors**\n",
    "\n",
    "$$A \\sim N(0,100)$$\n",
    "$$\\alpha \\sim N(0,100)$$\n",
    "$$\\beta \\sim N(0,100)$$\n",
    "$$\\gamma \\sim N(0,100)$$\n",
    "$$\\delta \\sim N(0,100)$$\n",
    "$$\\sigma_{\\epsilon} \\sim Cauchy(0,100)$$"
   ]
  },
  {
   "cell_type": "code",
   "execution_count": null,
   "metadata": {},
   "outputs": [],
   "source": [
    "setwd(\"C:/Users/Chirag/Box/Box/UMD/Project_UMD/eCON/RBA/uncon_v_con_rBNST_with_covariates\")\n",
    "\n",
    "df <- read.table('uncon_v_con_rBNST_with_covariates.txt',header=TRUE)\n",
    "prior1 <- c(prior(normal(0,100),class=Intercept),\n",
    "            prior(normal(0,100),class=b, coef=\"TRAITmean\"),\n",
    "            prior(normal(0,100),class=b, coef=\"TRAITdiff\"),\n",
    "            prior(normal(0,100),class=b, coef=\"STATEmean\"),\n",
    "            prior(normal(0,100),class=b, coef=\"STATEdiff\"),\n",
    "            prior(cauchy(0,100),class=sigma)\n",
    "           )\n",
    "\n",
    "bmod1 <- brm(Y ~ TRAITmean + TRAITdiff + STATEmean + STATEdiff, \n",
    "             data = df, \n",
    "             family = gaussian(),\n",
    "             prior = prior1, \n",
    "             warmup = 2000, iter = 5000,\n",
    "             chains = 4,\n",
    "             cores  = 2)"
   ]
  },
  {
   "cell_type": "markdown",
   "metadata": {},
   "source": [
    "## **Model Summary**"
   ]
  },
  {
   "cell_type": "code",
   "execution_count": null,
   "metadata": {},
   "outputs": [],
   "source": [
    "summary(bmod1)"
   ]
  },
  {
   "cell_type": "markdown",
   "metadata": {},
   "source": [
    "## **Posteriors**"
   ]
  },
  {
   "cell_type": "code",
   "execution_count": null,
   "metadata": {},
   "outputs": [],
   "source": []
  }
 ],
 "metadata": {
  "kernelspec": {
   "display_name": "R",
   "language": "R",
   "name": "ir"
  },
  "language_info": {
   "codemirror_mode": "r",
   "file_extension": ".r",
   "mimetype": "text/x-r-source",
   "name": "R",
   "pygments_lexer": "r",
   "version": "3.6.0"
  }
 },
 "nbformat": 4,
 "nbformat_minor": 4
}
