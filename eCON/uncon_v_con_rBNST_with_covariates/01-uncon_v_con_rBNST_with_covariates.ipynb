{
 "cells": [
  {
   "cell_type": "markdown",
   "metadata": {},
   "source": [
    "# **Population effect in right BST**\n",
    "\n",
    "effect: contrast of shock response between uncontrol and control participants"
   ]
  },
  {
   "cell_type": "code",
   "execution_count": 1,
   "metadata": {},
   "outputs": [
    {
     "name": "stderr",
     "output_type": "stream",
     "text": [
      "Loading required package: Rcpp\n",
      "\n",
      "Loading 'brms' package (version 2.12.0). Useful instructions\n",
      "can be found by typing help('brms'). A more detailed introduction\n",
      "to the package is available through vignette('brms_overview').\n",
      "\n",
      "\n",
      "Attaching package: ‘brms’\n",
      "\n",
      "\n",
      "The following object is masked from ‘package:stats’:\n",
      "\n",
      "    ar\n",
      "\n",
      "\n"
     ]
    }
   ],
   "source": [
    "library(brms) # for the analysis\n",
    "#library(ggmcmc)\n",
    "#library(ggthemes)\n",
    "#library(ggridges)"
   ]
  },
  {
   "cell_type": "markdown",
   "metadata": {},
   "source": [
    "## **Model**\n",
    "\n",
    "$$Y \\sim N(\\mu, \\sigma^{2}_{\\epsilon})$$\n",
    "$$\\mu = A + \\alpha*TM + \\beta*TD + \\gamma*SM + \\delta*SD + \\epsilon$$\n",
    "\n",
    "Where TM, TD, SM, and SD are covariates:\n",
    "\n",
    "TM: ***trait*** mean  \n",
    "TD: ***train*** difference (uncon - con)  \n",
    "SM: ***state*** mean  \n",
    "SD: ***state*** difference (uncon - con)\n",
    "\n",
    "## **Priors**\n",
    "\n",
    "$$A \\sim N(0,100)$$\n",
    "$$\\alpha \\sim N(0,100)$$\n",
    "$$\\beta \\sim N(0,100)$$\n",
    "$$\\gamma \\sim N(0,100)$$\n",
    "$$\\delta \\sim N(0,100)$$\n",
    "$$\\sigma_{\\epsilon} \\sim Cauchy(0,100)$$"
   ]
  },
  {
   "cell_type": "code",
   "execution_count": 2,
   "metadata": {},
   "outputs": [
    {
     "name": "stderr",
     "output_type": "stream",
     "text": [
      "Compiling the C++ model\n",
      "\n",
      "Start sampling\n",
      "\n"
     ]
    }
   ],
   "source": [
    "#setwd(\"C:/Users/Chirag/Box/Box/UMD/Project_UMD/eCON/RBA/uncon_v_con_rBNST_with_covariates\")\n",
    "\n",
    "df <- read.table('uncon_v_con_shock_MR_rBNST_with_covariates2.txt',header=TRUE)\n",
    "prior1 <- c(prior(normal(0,100),class=Intercept),\n",
    "            prior(normal(0,100),class=b, coef=\"TRAITmean\"),\n",
    "            prior(normal(0,100),class=b, coef=\"TRAITdiff\"),\n",
    "            prior(normal(0,100),class=b, coef=\"STATEmean\"),\n",
    "            prior(normal(0,100),class=b, coef=\"STATEdiff\"),\n",
    "            prior(cauchy(0,100),class=sigma)\n",
    "           )\n",
    "\n",
    "bmod1 <- brm(Y ~ TRAITmean + TRAITdiff + STATEmean + STATEdiff, \n",
    "             data = df, \n",
    "             family = gaussian(),\n",
    "             prior = prior1, \n",
    "             warmup = 2000, iter = 5000,\n",
    "             chains = 4,\n",
    "             cores  = 2)"
   ]
  },
  {
   "cell_type": "markdown",
   "metadata": {},
   "source": [
    "## **Model Summary**"
   ]
  },
  {
   "cell_type": "code",
   "execution_count": 4,
   "metadata": {},
   "outputs": [
    {
     "data": {
      "text/plain": [
       " Family: gaussian \n",
       "  Links: mu = identity; sigma = identity \n",
       "Formula: Y ~ TRAITmean + TRAITdiff + STATEmean + STATEdiff \n",
       "   Data: df (Number of observations: 61) \n",
       "Samples: 4 chains, each with iter = 5000; warmup = 2000; thin = 1;\n",
       "         total post-warmup samples = 12000\n",
       "\n",
       "Population-Level Effects: \n",
       "          Estimate Est.Error l-95% CI u-95% CI Rhat Bulk_ESS Tail_ESS\n",
       "Intercept     0.11      0.06    -0.01     0.23 1.00    15633     8149\n",
       "TRAITmean    -0.05      0.08    -0.21     0.10 1.00    11498     8964\n",
       "TRAITdiff     0.06      0.06    -0.06     0.19 1.00    13616     9018\n",
       "STATEmean     0.21      0.08     0.05     0.36 1.00    11667     8548\n",
       "STATEdiff     0.05      0.06    -0.07     0.17 1.00    14789     9350\n",
       "\n",
       "Family Specific Parameters: \n",
       "      Estimate Est.Error l-95% CI u-95% CI Rhat Bulk_ESS Tail_ESS\n",
       "sigma     0.48      0.05     0.40     0.58 1.00    14430     8653\n",
       "\n",
       "Samples were drawn using sampling(NUTS). For each parameter, Bulk_ESS\n",
       "and Tail_ESS are effective sample size measures, and Rhat is the potential\n",
       "scale reduction factor on split chains (at convergence, Rhat = 1)."
      ]
     },
     "metadata": {},
     "output_type": "display_data"
    }
   ],
   "source": [
    "summary(bmod1)"
   ]
  },
  {
   "cell_type": "code",
   "execution_count": null,
   "metadata": {},
   "outputs": [],
   "source": []
  }
 ],
 "metadata": {
  "kernelspec": {
   "display_name": "R",
   "language": "R",
   "name": "ir"
  },
  "language_info": {
   "codemirror_mode": "r",
   "file_extension": ".r",
   "mimetype": "text/x-r-source",
   "name": "R",
   "pygments_lexer": "r",
   "version": "3.6.0"
  }
 },
 "nbformat": 4,
 "nbformat_minor": 4
}
