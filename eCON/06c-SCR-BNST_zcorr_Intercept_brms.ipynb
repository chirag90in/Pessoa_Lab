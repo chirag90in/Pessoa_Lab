{
 "cells": [
  {
   "cell_type": "code",
   "execution_count": 49,
   "metadata": {},
   "outputs": [
    {
     "data": {
      "text/html": [
       "<script>  \n",
       "code_show=true; \n",
       "function code_toggle() {\n",
       "  if (code_show){\n",
       "    $('div.input').hide();\n",
       "  } else {\n",
       "    $('div.input').show();\n",
       "  }\n",
       "  code_show = !code_show\n",
       "}  \n",
       "$( document ).ready(code_toggle);\n",
       "</script>\n",
       "  <form action=\"javascript:code_toggle()\">\n",
       "    <input type=\"submit\" value=\"Click here to toggle on/off the raw code.\">\n",
       " </form>"
      ]
     },
     "metadata": {},
     "output_type": "display_data"
    }
   ],
   "source": [
    "library(IRdisplay)\n",
    "\n",
    "display_html(\n",
    "'<script>  \n",
    "code_show=true; \n",
    "function code_toggle() {\n",
    "  if (code_show){\n",
    "    $(\\'div.input\\').hide();\n",
    "  } else {\n",
    "    $(\\'div.input\\').show();\n",
    "  }\n",
    "  code_show = !code_show\n",
    "}  \n",
    "$( document ).ready(code_toggle);\n",
    "</script>\n",
    "  <form action=\"javascript:code_toggle()\">\n",
    "    <input type=\"submit\" value=\"Click here to toggle on/off the raw code.\">\n",
    " </form>'\n",
    ")"
   ]
  },
  {
   "cell_type": "markdown",
   "metadata": {},
   "source": [
    "# **Right BST and SCR correlation difference**\n",
    "\n",
    "**This is an intercept model in which the dependent variable (Y) is the difference (uncon-con) of the SCR-BST correlation coefficient.**\n",
    "\n",
    "## **Model**\n",
    "\n",
    "$$Y \\sim N(\\mu,\\sigma^{2}_{\\epsilon})$$\n",
    "$$\\mu = \\beta_{uncon-con}$$\n",
    "\n",
    "$Y = z[corr(rBST_{uncon},SCR_{uncon})] - z[corr(rBST_{con},SCR_{con})]$  \n",
    "*rBST: rBST trial-by-trial (TBT) betas*  \n",
    "*SCR: skin conductance TBT betas*  \n",
    "\n",
    "## **Priors**\n",
    "$$N(0,100): \\beta_{uncon-con}$$\n",
    "$$Cauchy(0,100): \\sigma_{\\epsilon}$$"
   ]
  },
  {
   "cell_type": "code",
   "execution_count": 30,
   "metadata": {},
   "outputs": [],
   "source": [
    "library(brms)\n",
    "library(haven) # to load the SPSS .sav file\n",
    "library(tidyverse) # needed for data manipulation.\n",
    "library(RColorBrewer) # needed for some extra colours in one of the graphs\n",
    "library(ggmcmc)\n",
    "library(ggthemes)\n",
    "library(ggridges)\n",
    "\n",
    "# IMPORT VISUALIZATION LIBRARIES:\n",
    "library(data.table)\n",
    "library(ggplot2)\n",
    "library(ggridges)\n",
    "library(dplyr)\n",
    "library(tidyr)\n",
    "library(scales)\n",
    "library(viridis)"
   ]
  },
  {
   "cell_type": "code",
   "execution_count": 31,
   "metadata": {},
   "outputs": [],
   "source": [
    "df <- read.table('data//uncon_v_con_rBNST_SCR_zcorr.txt',header = TRUE)"
   ]
  },
  {
   "cell_type": "code",
   "execution_count": 32,
   "metadata": {},
   "outputs": [
    {
     "data": {
      "text/html": [
       "<table>\n",
       "<caption>A data.frame: 6 × 3</caption>\n",
       "<thead>\n",
       "\t<tr><th></th><th scope=col>Pair</th><th scope=col>ROI</th><th scope=col>Y</th></tr>\n",
       "\t<tr><th></th><th scope=col>&lt;fct&gt;</th><th scope=col>&lt;fct&gt;</th><th scope=col>&lt;dbl&gt;</th></tr>\n",
       "</thead>\n",
       "<tbody>\n",
       "\t<tr><th scope=row>1</th><td>P00</td><td>rBNST</td><td>-0.4154</td></tr>\n",
       "\t<tr><th scope=row>2</th><td>P01</td><td>rBNST</td><td> 0.6998</td></tr>\n",
       "\t<tr><th scope=row>3</th><td>P02</td><td>rBNST</td><td>-0.6481</td></tr>\n",
       "\t<tr><th scope=row>4</th><td>P03</td><td>rBNST</td><td>-0.4741</td></tr>\n",
       "\t<tr><th scope=row>5</th><td>P04</td><td>rBNST</td><td> 1.1773</td></tr>\n",
       "\t<tr><th scope=row>6</th><td>P05</td><td>rBNST</td><td> 0.0210</td></tr>\n",
       "</tbody>\n",
       "</table>\n"
      ],
      "text/latex": [
       "A data.frame: 6 × 3\n",
       "\\begin{tabular}{r|lll}\n",
       "  & Pair & ROI & Y\\\\\n",
       "  & <fct> & <fct> & <dbl>\\\\\n",
       "\\hline\n",
       "\t1 & P00 & rBNST & -0.4154\\\\\n",
       "\t2 & P01 & rBNST &  0.6998\\\\\n",
       "\t3 & P02 & rBNST & -0.6481\\\\\n",
       "\t4 & P03 & rBNST & -0.4741\\\\\n",
       "\t5 & P04 & rBNST &  1.1773\\\\\n",
       "\t6 & P05 & rBNST &  0.0210\\\\\n",
       "\\end{tabular}\n"
      ],
      "text/markdown": [
       "\n",
       "A data.frame: 6 × 3\n",
       "\n",
       "| <!--/--> | Pair &lt;fct&gt; | ROI &lt;fct&gt; | Y &lt;dbl&gt; |\n",
       "|---|---|---|---|\n",
       "| 1 | P00 | rBNST | -0.4154 |\n",
       "| 2 | P01 | rBNST |  0.6998 |\n",
       "| 3 | P02 | rBNST | -0.6481 |\n",
       "| 4 | P03 | rBNST | -0.4741 |\n",
       "| 5 | P04 | rBNST |  1.1773 |\n",
       "| 6 | P05 | rBNST |  0.0210 |\n",
       "\n"
      ],
      "text/plain": [
       "  Pair ROI   Y      \n",
       "1 P00  rBNST -0.4154\n",
       "2 P01  rBNST  0.6998\n",
       "3 P02  rBNST -0.6481\n",
       "4 P03  rBNST -0.4741\n",
       "5 P04  rBNST  1.1773\n",
       "6 P05  rBNST  0.0210"
      ]
     },
     "metadata": {},
     "output_type": "display_data"
    }
   ],
   "source": [
    "head(df)"
   ]
  },
  {
   "cell_type": "code",
   "execution_count": 33,
   "metadata": {},
   "outputs": [
    {
     "data": {
      "text/html": [
       "<style>\n",
       ".list-inline {list-style: none; margin:0; padding: 0}\n",
       ".list-inline>li {display: inline-block}\n",
       ".list-inline>li:not(:last-child)::after {content: \"\\00b7\"; padding: 0 .5ex}\n",
       "</style>\n",
       "<ol class=list-inline><li>'Pair'</li><li>'ROI'</li><li>'Y'</li></ol>\n"
      ],
      "text/latex": [
       "\\begin{enumerate*}\n",
       "\\item 'Pair'\n",
       "\\item 'ROI'\n",
       "\\item 'Y'\n",
       "\\end{enumerate*}\n"
      ],
      "text/markdown": [
       "1. 'Pair'\n",
       "2. 'ROI'\n",
       "3. 'Y'\n",
       "\n",
       "\n"
      ],
      "text/plain": [
       "[1] \"Pair\" \"ROI\"  \"Y\"   "
      ]
     },
     "metadata": {},
     "output_type": "display_data"
    }
   ],
   "source": [
    "colnames(df)"
   ]
  },
  {
   "cell_type": "code",
   "execution_count": 34,
   "metadata": {},
   "outputs": [],
   "source": [
    "prior1 <- c(prior(normal(0,100),class=Intercept),\n",
    "            prior(cauchy(0,100),class=sigma))"
   ]
  },
  {
   "cell_type": "code",
   "execution_count": 35,
   "metadata": {},
   "outputs": [
    {
     "name": "stderr",
     "output_type": "stream",
     "text": [
      "Compiling the C++ model\n",
      "\n",
      "recompiling to avoid crashing R session\n",
      "\n",
      "Start sampling\n",
      "\n"
     ]
    }
   ],
   "source": [
    "bmod1 <- brm(Y ~ 1, \n",
    "             data = df, \n",
    "             family = gaussian(),\n",
    "             prior = prior1, \n",
    "             warmup = 2000, iter = 5000,\n",
    "             chains = 4,\n",
    "             cores  = 2)"
   ]
  },
  {
   "cell_type": "code",
   "execution_count": 39,
   "metadata": {},
   "outputs": [
    {
     "data": {
      "text/plain": [
       " Family: gaussian \n",
       "  Links: mu = identity; sigma = identity \n",
       "Formula: Y ~ 1 \n",
       "   Data: df (Number of observations: 57) \n",
       "Samples: 4 chains, each with iter = 5000; warmup = 2000; thin = 1;\n",
       "         total post-warmup samples = 12000\n",
       "\n",
       "Population-Level Effects: \n",
       "          Estimate Est.Error l-95% CI u-95% CI Rhat Bulk_ESS Tail_ESS\n",
       "Intercept     0.21      0.09     0.03     0.38 1.00     9417     7719\n",
       "\n",
       "Family Specific Parameters: \n",
       "      Estimate Est.Error l-95% CI u-95% CI Rhat Bulk_ESS Tail_ESS\n",
       "sigma     0.65      0.06     0.54     0.79 1.00     8964     7455\n",
       "\n",
       "Samples were drawn using sampling(NUTS). For each parameter, Bulk_ESS\n",
       "and Tail_ESS are effective sample size measures, and Rhat is the potential\n",
       "scale reduction factor on split chains (at convergence, Rhat = 1)."
      ]
     },
     "metadata": {},
     "output_type": "display_data"
    }
   ],
   "source": [
    "summary(bmod1)"
   ]
  },
  {
   "cell_type": "code",
   "execution_count": 40,
   "metadata": {},
   "outputs": [],
   "source": [
    "data <- fixef(bmod1,summary = FALSE)"
   ]
  },
  {
   "cell_type": "code",
   "execution_count": 42,
   "metadata": {},
   "outputs": [],
   "source": [
    "rois <- colnames(data)"
   ]
  },
  {
   "cell_type": "code",
   "execution_count": 44,
   "metadata": {},
   "outputs": [
    {
     "name": "stderr",
     "output_type": "stream",
     "text": [
      "Warning message in melt(data_trans, id = c(\"ROI\", \"X\")):\n",
      "“The melt generic in data.table has been passed a data.frame and will attempt to redirect to the relevant reshape2 method; please note that reshape2 is deprecated, and this redirection is now deprecated as well. To continue using melt methods from reshape2 while both libraries are attached, e.g. melt.list, you can prepend the namespace like reshape2::melt(data_trans). In the next version, this warning will become an error.”\n"
     ]
    }
   ],
   "source": [
    "nobj=dim(data)[1]\n",
    "data_stats = data.frame(1:length(rois))\n",
    "\n",
    "# create ROI column instead of numerics to match threat table above\n",
    "\n",
    "data_stats$ROI <- rois\n",
    "data_stats$mean <- colMeans(data)\n",
    "data_stats$P <- colSums(data > 0)/nobj\n",
    "data_stats$Pn <- data_stats$P\n",
    "\n",
    "\n",
    "for (i in 1:length(rois)) {\n",
    "  if (data_stats$P[i]<.5){data_stats$Pn[i]=1-data_stats$P[i]}\n",
    "}\n",
    "\n",
    "\n",
    "# this will order the distributions correctly\n",
    "data_stats <- data_stats[order(data_stats$mean),]\n",
    "\n",
    "\n",
    "\n",
    "data_trans <- as.data.frame(t(as.matrix(data)))\n",
    "data_trans <- tibble::rownames_to_column(data_trans, \"ROI\")\n",
    "data_trans$X <- 1:nrow(data_trans)\n",
    "\n",
    "\n",
    "\n",
    "\n",
    "# merge values & stats into one table by ROI\n",
    "\n",
    "data_merge <- merge(data_stats, data_trans, by = \"ROI\")\n",
    "data_merge <- data_merge[order(data_merge$X),]\n",
    "\n",
    "# Transform data into long form\n",
    "\n",
    "\n",
    "# Melt dataframe by ROI\n",
    "library(data.table)\n",
    "\n",
    "data_long <- melt(data_trans, id=c(\"ROI\",\"X\"))"
   ]
  },
  {
   "cell_type": "code",
   "execution_count": 45,
   "metadata": {},
   "outputs": [],
   "source": [
    "data_long <- data_long[order(data_long$X),]\n",
    "\n",
    "\n",
    "# This is incredibly clunky, but for the sake of time adding stats by ensuring orders are all the same and repeating each value 2000 times... Tried a few different methods with no success for some reason. \n",
    "\n",
    "data_long$mean <- rep(data_merge$mean, each = nobj)\n",
    "data_long$P <- rep(data_merge$P, each =nobj)\n",
    "data_long$Pn <- rep(data_merge$Pn, each =nobj)"
   ]
  },
  {
   "cell_type": "code",
   "execution_count": 47,
   "metadata": {},
   "outputs": [
    {
     "name": "stderr",
     "output_type": "stream",
     "text": [
      "Picking joint bandwidth of 0.0121\n",
      "\n",
      "Warning message in min(x):\n",
      "“no non-missing arguments to min; returning Inf”\n",
      "Warning message in max(x):\n",
      "“no non-missing arguments to max; returning -Inf”\n"
     ]
    },
    {
     "data": {
      "image/png": "[encoded data removed]",
      "text/plain": [
       "plot without title"
      ]
     },
     "metadata": {
      "image/png": {
       "height": 420,
       "width": 420
      }
     },
     "output_type": "display_data"
    }
   ],
   "source": [
    "# set your labels here so you don't have to change within the plot below: \n",
    "format(round(1, 2), nsmall = 2)\n",
    "\n",
    "y.axis.labs <- format(round(data_stats$P,2), nsmall = 2)                        # y axis labels\n",
    "sec.y.axis.labs <- data_stats$ROI                             # second y axis labels (probabilities)\n",
    "\n",
    "\n",
    " # X AXIS LABELS NEED TO CHANGE TO CORRESPOND TO DATA SET! UNCOMMENT WHICHEVER MATCHES\n",
    "\n",
    "# Uncomment for THREAT\n",
    "x.axis.labs <- c( \"control > uncontrol\", \"0\", \"uncontrol > control\")                 # x axis labels  THREAT\n",
    "x.labs.pos <- c(-0.2, 0, 0.2)                                             # x axis position THREAT\n",
    "\n",
    "\n",
    "# Uncomment for VALENCE\n",
    "#x.axis.labs <- c(\"Neutral > Positive\", \"0\", \"Positive > Neutral\")         # x axis labels  VALENCE\n",
    "#x.labs.pos  <- c(-0.1,0,0.2)                                              # x axis position VALENCE\n",
    "\n",
    "# Uncomment for INTERACTION\n",
    "#x.axis.labs <- NULL                                                       # x axis labels  INTERACTION, not sure what to put.\n",
    "#x.labs.pos <- NULL                                                        # a axis position INTERACTION, change when labels decided\n",
    "\n",
    "#graph.title <- data.name                                   # graph title \n",
    "legend.title <- \"Probability\"                              # legend title\n",
    "y.axis.title <- NULL                                       # for now ...\n",
    "x.axis.title <- NULL                                       # for now...\n",
    "\n",
    "# GRAPH DATA \n",
    "dataset <- data_long\n",
    "x.values <- data_long$value                               # x values\n",
    "y.values <- data_long$ROI                                 # y values\n",
    "y.values.RO <- data_long$value                            # values to reorder Y by\n",
    "distrib.fill <- data_long$Pn                              # fill graph with probabilities\n",
    "group <- data_long$ROI\n",
    "\n",
    "# Other aspects\n",
    "gradient.colors <- c(\"yellow\",\"#C9182B\",\"#41245C\")        # change gradient colors here (currently, yellow - purple)\n",
    "label.size <- 12                                         # adjust ROI and probability y-axis font size\n",
    "title.size <- 28                                          # adjust graph title size \n",
    "x.axis.size <- 12                                        # adjust x-axis label sizes\n",
    "\n",
    "# here is where you can change information about the graph and add other characteristics using ggplot and ggridges\n",
    "\n",
    "\n",
    "ggplot(dataset, aes(x = x.values, y = as.numeric(reorder(y.values, y.values.RO)), \n",
    "                    fill = distrib.fill, group = group)) +                        # scale = spacing, alpha = transparency\n",
    "  coord_cartesian(xlim = c(-0.5, 0.5)) +\n",
    "  stat_density_ridges(quantile_lines = TRUE, \n",
    "                      quantiles = 2, \n",
    "                      alpha = .95, \n",
    "                      scale = 2.55,\n",
    "                      color = \"black\",\n",
    "                      size = .35\n",
    "                     ) +            # divide into two quantiles (show mean)\n",
    "  geom_vline(xintercept = 0, linetype=\"solid\",color = \"black\",alpha = .95, size = .45) +    #create line at X = 0\n",
    "  scale_fill_gradientn(colors = viridis_pal(direction = 1, option = \"inferno\")(20),                         # set gradient\n",
    "                       limits = c(.85,1),                                # which probabilites matter?\n",
    "                       na.value = \"#909497\",                                # if not in limits, gray out\n",
    "                       name = legend.title) +                            # name legend\n",
    "  scale_y_continuous(breaks = 1:length(rois),                            # A VERY HACK-Y WAY TO HAVE TWO Y AXES W DISCRETE DATA\n",
    "                     expand = c(0,0),\n",
    "                     labels = y.axis.labs,                               # Trick ggplot into thinking data is continuous...\n",
    "                     sec.axis = sec_axis(~.,                             # Second axis to show probabilities\n",
    "                                         breaks = 1:length(rois),\n",
    "                                         labels = sec.y.axis.labs)) +\n",
    "  #theme_ridges(font_size = label.size, grid = TRUE, center_axis_labels = TRUE) +  # theme info\n",
    "  #ggtitle(graph.title)+ \n",
    "  #theme_bw() +# graph title\n",
    " #theme_ridges(grid = FALSE) + \n",
    "  theme(   \n",
    "    panel.background = element_blank(),\n",
    "    legend.position = \"none\",\n",
    "    #panel.grid.major.y = element_line(color = \"grey\"), \n",
    "    plot.title = element_text(hjust = 0.5, size = title.size),            # plot title size and position\n",
    "    axis.text.y = element_text(size=label.size),                               # y-axis text size\n",
    "    axis.line.x = element_line(color = \"gray\"),\n",
    "    axis.text.y.right = element_text(size = label.size),                  # y-axis info for right axis\n",
    "    axis.text.x = element_text(size = x.axis.size),\n",
    "    #plot.margin = unit(c(0,0,0,0), \"cm\"),\n",
    "    axis.ticks.x = element_blank(),\n",
    "    axis.ticks.y = element_blank(),\n",
    "    legend.title.align = 5)+\n",
    "  guides(shape = guide_legend(label.position = \"bottom\",\n",
    "                              title.positon = \"bottom\",\n",
    "                              title.vjust = 0.4)) +          \n",
    "  labs(\n",
    "    x = NULL,                                                         # Add or not add X and Y labels\n",
    "    y = NULL) +\n",
    "  scale_x_continuous(breaks = x.labs.pos, labels = c(x.axis.labs))"
   ]
  },
  {
   "cell_type": "code",
   "execution_count": null,
   "metadata": {},
   "outputs": [],
   "source": []
  }
 ],
 "metadata": {
  "kernelspec": {
   "display_name": "R",
   "language": "R",
   "name": "ir"
  },
  "language_info": {
   "codemirror_mode": "r",
   "file_extension": ".r",
   "mimetype": "text/x-r-source",
   "name": "R",
   "pygments_lexer": "r",
   "version": "3.6.0"
  }
 },
 "nbformat": 4,
 "nbformat_minor": 4
}
