{
 "cells": [
  {
   "cell_type": "code",
   "execution_count": 1,
   "metadata": {},
   "outputs": [
    {
     "data": {
      "text/html": [
       "<script>\n",
       "code_show=true; \n",
       "function code_toggle() {\n",
       " if (code_show){\n",
       " $('div.input').hide();\n",
       " } else {\n",
       " $('div.input').show();\n",
       " }\n",
       " code_show = !code_show\n",
       "} \n",
       "$( document ).ready(code_toggle);\n",
       "</script>\n",
       "<form action=\"javascript:code_toggle()\"><input type=\"submit\" value=\"Click here to toggle on/off the raw code.\"></form>"
      ],
      "text/plain": [
       "<IPython.core.display.HTML object>"
      ]
     },
     "execution_count": 1,
     "metadata": {},
     "output_type": "execute_result"
    }
   ],
   "source": [
    "from IPython.display import HTML\n",
    "\n",
    "HTML('''<script>\n",
    "code_show=true; \n",
    "function code_toggle() {\n",
    " if (code_show){\n",
    " $('div.input').hide();\n",
    " } else {\n",
    " $('div.input').show();\n",
    " }\n",
    " code_show = !code_show\n",
    "} \n",
    "$( document ).ready(code_toggle);\n",
    "</script>\n",
    "<form action=\"javascript:code_toggle()\"><input type=\"submit\" value=\"Click here to toggle on/off the raw code.\"></form>''')\n"
   ]
  },
  {
   "cell_type": "code",
   "execution_count": 2,
   "metadata": {},
   "outputs": [],
   "source": [
    "import pandas as pd\n",
    "import numpy as np\n",
    "import os\n",
    "from os.path import join, isdir, dirname, basename, exists\n",
    "from os import mkdir\n",
    "#import nibabel as nib\n",
    "import glob as glob\n",
    "import matplotlib.pyplot as plt\n",
    "import seaborn as sns; sns.set(context=\"paper\",style=\"white\",font_scale=1.5)"
   ]
  },
  {
   "cell_type": "code",
   "execution_count": 13,
   "metadata": {},
   "outputs": [],
   "source": [
    "CON = '/data/bswift-1/Pessoa_Lab/eCON'\n",
    "#bucket_path = join(eCON,'dataset/results_ShockUncensored/{subj}/{group}/splitted_regs/ROI_analysis/noProx/buttonPress/{subj}_bucket_REML_clean.1D') # old ROIs\n",
    "bucket_path = join(eCON,'dataset/results_ShockUncensored/{subj}/{group}/splitted_regs/ROI_final/noProx/buttonPress/{subj}_bucket_REML_clean.1D') # new ROIs"
   ]
  },
  {
   "cell_type": "code",
   "execution_count": 14,
   "metadata": {},
   "outputs": [
    {
     "data": {
      "text/plain": [
       "(24, 45)"
      ]
     },
     "execution_count": 14,
     "metadata": {},
     "output_type": "execute_result"
    }
   ],
   "source": [
    "np.loadtxt(bucket_path.format(subj='CON001',group='controllable')).shape"
   ]
  },
  {
   "cell_type": "code",
   "execution_count": 15,
   "metadata": {},
   "outputs": [],
   "source": [
    "yoked = pd.read_excel(join(eCON,'onsetdir/CON_yoked_table.xlsx'))\n",
    "yoked = yoked.query('use == 1')"
   ]
  },
  {
   "cell_type": "code",
   "execution_count": 16,
   "metadata": {},
   "outputs": [],
   "source": [
    "rois = {'old':'rBNST lBNST rdAI rvAI vmPFC PCC1 rPAG lPAG PCC2 ldAI\\\n",
    "                lvAI rPI lPI rCa lCa rPa lPa rVS lVS Amygdala_BLBM_La_L\\\n",
    "                Amygdala_BLBM_La_R Amygdala_CeME_L Amygdala_CeME_R ACC'.split(),\n",
    "        'new':['L Amygdala (BLBM)',\n",
    "               'R Amygdala (BLBM)',\n",
    "               'L Amygdala (CeME)',\n",
    "               'R Amygdala (CeME)',\n",
    "               'L aMCC',\n",
    "               'R aMCC',\n",
    "               'L Thalamus (emoproxI shock intersection)',\n",
    "               'R Thalamus (emoproxI shock intersection)',\n",
    "               'L Anterior dorsal insula',\n",
    "               'R Anterior dorsal insula',\n",
    "               'L Mid posterior insula',\n",
    "               'R Mid posterior insula',\n",
    "               'L Anterior ventral insula (anterior pole)',\n",
    "               'R Anterior ventral insula (anterior pole)',\n",
    "               'vmPFC (new 5mm sphere from Hartley paper)',\n",
    "               'L BST',\n",
    "               'L Anterior hippocampus',\n",
    "               'L PAG',\n",
    "               'PCC (1)',\n",
    "               'PCC (2)',\n",
    "               'R  BST',\n",
    "               'R Anterior hippocampus',\n",
    "               'R PAG',\n",
    "               'vmPFC (from out lab)']\n",
    "       }"
   ]
  },
  {
   "cell_type": "code",
   "execution_count": 18,
   "metadata": {},
   "outputs": [
    {
     "name": "stdout",
     "output_type": "stream",
     "text": [
      "Total number of ROIs:  24\n"
     ]
    }
   ],
   "source": [
    "print('Total number of ROIs: ',len(rois['new']))"
   ]
  },
  {
   "cell_type": "code",
   "execution_count": 19,
   "metadata": {},
   "outputs": [],
   "source": [
    "def combine_beta(beta,t):\n",
    "    weights = (t/beta)**2\n",
    "    combined_beta = np.sum(weights*beta,axis=1)/np.sum(weights,axis=1)\n",
    "    return combined_beta"
   ]
  },
  {
   "cell_type": "code",
   "execution_count": 21,
   "metadata": {},
   "outputs": [],
   "source": [
    "if exists('data/Individual_betas_from_ROI_final_S_buttonPress.csv'):\n",
    "    main_df = pd.read_csv('data/Individual_betas_from_ROI_final_S_buttonPress.csv')\n",
    "else:\n",
    "    main_df = pd.DataFrame()\n",
    "    for i, row in yoked.iterrows():\n",
    "        pair = i\n",
    "        for kind in ['control','uncontrol']:\n",
    "            subj = row[kind]\n",
    "            nruns = np.sum(row.loc['run0':'run5'].astype(bool))\n",
    "            group = kind+'lable'\n",
    "            data = np.loadtxt(bucket_path.format(subj=subj,group=group))\n",
    "            shock_est = data[:,25:][:,:nruns*2]\n",
    "            beta = shock_est[:,::2]\n",
    "            t = shock_est[:,1::2]\n",
    "            combined_beta = combine_beta(beta=beta,t=t)\n",
    "            tmp_df = pd.DataFrame(combined_beta,index=rois['new']).T\n",
    "            tmp_df['Pair'] = 'P{:02d}'.format(i)\n",
    "            tmp_df['Subject'] = subj\n",
    "            tmp_df['Group'] = kind\n",
    "            main_df = pd.concat([main_df,tmp_df],axis=0,ignore_index=True)\n",
    "            \n",
    "    main_df = pd.melt(main_df,id_vars=['Pair','Subject','Group'],var_name='ROI',value_name='beta')\n",
    "    main_df.to_csv('data/Individual_betas_from_ROI_final_S_buttonPress.csv',index=False)"
   ]
  },
  {
   "cell_type": "code",
   "execution_count": 22,
   "metadata": {},
   "outputs": [
    {
     "data": {
      "image/png": "[encoded data removed]",
      "text/plain": [
       "<Figure size 720x72 with 1 Axes>"
      ]
     },
     "metadata": {
      "needs_background": "light"
     },
     "output_type": "display_data"
    }
   ],
   "source": [
    "pal = sns.color_palette()\n",
    "sns.palplot(pal)"
   ]
  },
  {
   "cell_type": "code",
   "execution_count": 23,
   "metadata": {},
   "outputs": [
    {
     "data": {
      "text/plain": [
       "array(['P00', 'P01', 'P02', 'P03', 'P04', 'P05', 'P06', 'P07', 'P08',\n",
       "       'P09', 'P10', 'P11', 'P12', 'P13', 'P14', 'P15', 'P16', 'P17',\n",
       "       'P18', 'P19', 'P20', 'P21', 'P22', 'P23', 'P24', 'P25', 'P26',\n",
       "       'P27', 'P28', 'P29', 'P30', 'P31', 'P32', 'P33', 'P34', 'P35',\n",
       "       'P36', 'P37', 'P38', 'P40', 'P41', 'P42', 'P43', 'P44', 'P45',\n",
       "       'P46', 'P47', 'P48', 'P49', 'P50', 'P51', 'P53', 'P54', 'P55',\n",
       "       'P56', 'P57', 'P58', 'P59', 'P60', 'P61', 'P62'], dtype=object)"
      ]
     },
     "execution_count": 23,
     "metadata": {},
     "output_type": "execute_result"
    }
   ],
   "source": [
    "main_df.Pair.unique()"
   ]
  },
  {
   "cell_type": "code",
   "execution_count": null,
   "metadata": {},
   "outputs": [],
   "source": []
  }
 ],
 "metadata": {
  "kernelspec": {
   "display_name": "Python 3",
   "language": "python",
   "name": "python3"
  },
  "language_info": {
   "codemirror_mode": {
    "name": "ipython",
    "version": 3
   },
   "file_extension": ".py",
   "mimetype": "text/x-python",
   "name": "python",
   "nbconvert_exporter": "python",
   "pygments_lexer": "ipython3",
   "version": "3.7.3"
  }
 },
 "nbformat": 4,
 "nbformat_minor": 4
}
