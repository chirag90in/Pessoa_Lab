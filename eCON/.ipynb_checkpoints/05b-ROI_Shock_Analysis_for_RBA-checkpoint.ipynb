{
 "cells": [
  {
   "cell_type": "code",
   "execution_count": 1,
   "metadata": {},
   "outputs": [
    {
     "data": {
      "text/html": [
       "<script>\n",
       "code_show=true; \n",
       "function code_toggle() {\n",
       " if (code_show){\n",
       " $('div.input').hide();\n",
       " } else {\n",
       " $('div.input').show();\n",
       " }\n",
       " code_show = !code_show\n",
       "} \n",
       "$( document ).ready(code_toggle);\n",
       "</script>\n",
       "<form action=\"javascript:code_toggle()\"><input type=\"submit\" value=\"Click here to toggle on/off the raw code.\"></form>"
      ],
      "text/plain": [
       "<IPython.core.display.HTML object>"
      ]
     },
     "execution_count": 1,
     "metadata": {},
     "output_type": "execute_result"
    }
   ],
   "source": [
    "from IPython.display import HTML\n",
    "\n",
    "HTML('''<script>\n",
    "code_show=true; \n",
    "function code_toggle() {\n",
    " if (code_show){\n",
    " $('div.input').hide();\n",
    " } else {\n",
    " $('div.input').show();\n",
    " }\n",
    " code_show = !code_show\n",
    "} \n",
    "$( document ).ready(code_toggle);\n",
    "</script>\n",
    "<form action=\"javascript:code_toggle()\"><input type=\"submit\" value=\"Click here to toggle on/off the raw code.\"></form>''')\n"
   ]
  },
  {
   "cell_type": "code",
   "execution_count": 2,
   "metadata": {},
   "outputs": [],
   "source": [
    "import pandas as pd\n",
    "import numpy as np\n",
    "import os\n",
    "from os.path import join, isdir, dirname, basename, exists\n",
    "from os import mkdir\n",
    "#import nibabel as nib\n",
    "import glob as glob\n",
    "import matplotlib.pyplot as plt\n",
    "import seaborn as sns; sns.set(context=\"paper\",style=\"white\",font_scale=1.5)"
   ]
  },
  {
   "cell_type": "code",
   "execution_count": 3,
   "metadata": {},
   "outputs": [],
   "source": [
    "eCON = '/data/bswift-1/Pessoa_Lab/eCON'\n",
    "bucket_path = join(eCON,'dataset/results_ShockUncensored/{subj}/{group}/splitted_regs/ROI_analysis/noProx/buttonPress/{subj}_bucket_REML_clean.1D')"
   ]
  },
  {
   "cell_type": "code",
   "execution_count": 4,
   "metadata": {},
   "outputs": [
    {
     "data": {
      "text/plain": [
       "(24, 45)"
      ]
     },
     "execution_count": 4,
     "metadata": {},
     "output_type": "execute_result"
    }
   ],
   "source": [
    "np.loadtxt(bucket_path.format(subj='CON001',group='controllable')).shape"
   ]
  },
  {
   "cell_type": "code",
   "execution_count": 5,
   "metadata": {},
   "outputs": [],
   "source": [
    "yoked = pd.read_excel(join(eCON,'onsetdir/CON_yoked_table.xlsx'))\n",
    "yoked = yoked.query('use == 1')"
   ]
  },
  {
   "cell_type": "code",
   "execution_count": 6,
   "metadata": {},
   "outputs": [],
   "source": [
    "rois = 'rBNST lBNST rdAI rvAI vmPFC PCC1 rPAG lPAG PCC2 ldAI\\\n",
    "        lvAI rPI lPI rCa lCa rPa lPa rVS lVS Amygdala_BLBM_La_L\\\n",
    "        Amygdala_BLBM_La_R Amygdala_CeME_L Amygdala_CeME_R ACC'.split()"
   ]
  },
  {
   "cell_type": "code",
   "execution_count": 7,
   "metadata": {},
   "outputs": [
    {
     "data": {
      "text/plain": [
       "24"
      ]
     },
     "execution_count": 7,
     "metadata": {},
     "output_type": "execute_result"
    }
   ],
   "source": [
    "len(rois)"
   ]
  },
  {
   "cell_type": "code",
   "execution_count": 8,
   "metadata": {},
   "outputs": [],
   "source": [
    "def combine_beta(beta,t):\n",
    "    weights = (t/beta)**2\n",
    "    combined_beta = np.sum(weights*beta,axis=1)/np.sum(weights,axis=1)\n",
    "    return combined_beta"
   ]
  },
  {
   "cell_type": "code",
   "execution_count": 9,
   "metadata": {},
   "outputs": [],
   "source": [
    "if exists('Individual_betas_from_ROI_analysis_S_buttonPress.csv'):\n",
    "    main_df = pd.read_csv('Individual_betas_from_ROI_analysis_S_buttonPress.csv')\n",
    "else:\n",
    "    main_df = pd.DataFrame()\n",
    "    for i, row in yoked.iterrows():\n",
    "        pair = i\n",
    "        for kind in ['control','uncontrol']:\n",
    "            subj = row[kind]\n",
    "            nruns = np.sum(row.loc['run0':'run5'].astype(bool))\n",
    "            group = kind+'lable'\n",
    "            data = np.loadtxt(bucket_path.format(subj=subj,group=group))\n",
    "            shock_est = data[:,25:][:,:nruns*2]\n",
    "            beta = shock_est[:,::2]\n",
    "            t = shock_est[:,1::2]\n",
    "            combined_beta = combine_beta(beta=beta,t=t)\n",
    "            tmp_df = pd.DataFrame(combined_beta,index=rois).T\n",
    "            tmp_df['Pair'] = 'P{:02d}'.format(i)\n",
    "            tmp_df['Subject'] = subj\n",
    "            tmp_df['Group'] = kind\n",
    "            main_df = pd.concat([main_df,tmp_df],axis=0,ignore_index=True)\n",
    "            \n",
    "    main_df = pd.melt(main_df,id_vars=['Pair','Subject','Group'],var_name='ROI',value_name='beta')\n",
    "    main_df.to_csv('Individual_betas_from_ROI_analysis_S_buttonPress.csv',index=False)"
   ]
  },
  {
   "cell_type": "code",
   "execution_count": 10,
   "metadata": {},
   "outputs": [
    {
     "data": {
      "image/png": "[encoded data removed]",
      "text/plain": [
       "<matplotlib.figure.Figure at 0x7f8ab2564cf8>"
      ]
     },
     "metadata": {},
     "output_type": "display_data"
    }
   ],
   "source": [
    "pal = sns.color_palette()\n",
    "sns.palplot(pal)"
   ]
  },
  {
   "cell_type": "code",
   "execution_count": null,
   "metadata": {},
   "outputs": [],
   "source": []
  }
 ],
 "metadata": {
  "kernelspec": {
   "display_name": "Python 3",
   "language": "python",
   "name": "python3"
  },
  "language_info": {
   "codemirror_mode": {
    "name": "ipython",
    "version": 3
   },
   "file_extension": ".py",
   "mimetype": "text/x-python",
   "name": "python",
   "nbconvert_exporter": "python",
   "pygments_lexer": "ipython3",
   "version": "3.7.3"
  }
 },
 "nbformat": 4,
 "nbformat_minor": 4
}
