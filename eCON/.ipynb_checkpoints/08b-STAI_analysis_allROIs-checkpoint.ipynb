{
 "cells": [
  {
   "cell_type": "code",
   "execution_count": 1,
   "metadata": {},
   "outputs": [
    {
     "data": {
      "text/html": [
       "<script>\n",
       "code_show=true; \n",
       "function code_toggle() {\n",
       " if (code_show){\n",
       " $('div.input').hide();\n",
       " } else {\n",
       " $('div.input').show();\n",
       " }\n",
       " code_show = !code_show\n",
       "} \n",
       "$( document ).ready(code_toggle);\n",
       "</script>\n",
       "<form action=\"javascript:code_toggle()\"><input type=\"submit\" value=\"Click here to toggle on/off the raw code.\"></form>"
      ],
      "text/plain": [
       "<IPython.core.display.HTML object>"
      ]
     },
     "execution_count": 1,
     "metadata": {},
     "output_type": "execute_result"
    }
   ],
   "source": [
    "from IPython.display import HTML\n",
    "\n",
    "HTML('''<script>\n",
    "code_show=true; \n",
    "function code_toggle() {\n",
    " if (code_show){\n",
    " $('div.input').hide();\n",
    " } else {\n",
    " $('div.input').show();\n",
    " }\n",
    " code_show = !code_show\n",
    "} \n",
    "$( document ).ready(code_toggle);\n",
    "</script>\n",
    "<form action=\"javascript:code_toggle()\"><input type=\"submit\" value=\"Click here to toggle on/off the raw code.\"></form>''')\n"
   ]
  },
  {
   "cell_type": "code",
   "execution_count": 2,
   "metadata": {},
   "outputs": [],
   "source": [
    "import numpy as np\n",
    "import pandas as pd\n",
    "\n",
    "from os.path import join\n",
    "\n",
    "import seaborn as sns\n",
    "sns.set(font_scale=1.5)\n",
    "import matplotlib.pyplot as plt\n",
    "\n",
    "from statsmodels.stats.outliers_influence import variance_inflation_factor\n",
    "import statsmodels.api as sm\n",
    "\n",
    "%matplotlib inline"
   ]
  },
  {
   "cell_type": "code",
   "execution_count": 3,
   "metadata": {},
   "outputs": [],
   "source": [
    "## Load the State and Trait scores\n",
    "eCON = '/data/bswift-1/Pessoa_Lab/eCON'\n",
    "scores = pd.read_excel(join(eCON,'STAIscores/scores.xlsx'))\n",
    "scores.rename(columns={'SCORING':'TRAIT'},inplace=True)\n",
    "scores.drop(columns=['PAIR SCORE'],inplace=True)\n",
    "scores['SubID'] = scores['SubID'].apply(lambda name: ''.join(name.strip().split(\"_\")))"
   ]
  },
  {
   "cell_type": "code",
   "execution_count": 4,
   "metadata": {},
   "outputs": [],
   "source": [
    "# ROIs to be included in the RBA\n",
    "rois = 'vmPFC PCC1 PCC2 rPAG1 lPAG1 rvAI rdAI lvAI ldAI rPI lPI rBNST lBNST ACC\\\n",
    "        Amygdala_BLBM_La_R Amygdala_CeME_R Amygdala_BLBM_La_L Amygdala_CeME_L\\\n",
    "        rCa lCa rPa lPa rVS lVS'.split()"
   ]
  },
  {
   "cell_type": "markdown",
   "metadata": {},
   "source": [
    "## List of ROIs to included in RBA"
   ]
  },
  {
   "cell_type": "code",
   "execution_count": 5,
   "metadata": {},
   "outputs": [
    {
     "name": "stdout",
     "output_type": "stream",
     "text": [
      "1 vmPFC\n",
      "2 PCC1\n",
      "3 PCC2\n",
      "4 rPAG1\n",
      "5 lPAG1\n",
      "6 rvAI\n",
      "7 rdAI\n",
      "8 lvAI\n",
      "9 ldAI\n",
      "10 rPI\n",
      "11 lPI\n",
      "12 rBNST\n",
      "13 lBNST\n",
      "14 ACC\n",
      "15 Amygdala_BLBM_La_R\n",
      "16 Amygdala_CeME_R\n",
      "17 Amygdala_BLBM_La_L\n",
      "18 Amygdala_CeME_L\n",
      "19 rCa\n",
      "20 lCa\n",
      "21 rPa\n",
      "22 lPa\n",
      "23 rVS\n",
      "24 lVS\n"
     ]
    }
   ],
   "source": [
    "for i,roi in enumerate(rois):\n",
    "    print(i+1,roi)"
   ]
  },
  {
   "cell_type": "code",
   "execution_count": 6,
   "metadata": {},
   "outputs": [],
   "source": [
    "# Load the data that contains shock betas for all participants\n",
    "#beta_df = pd.read_csv('Individual_betas_from_ROI_analysis_S.csv')\n",
    "beta_df = pd.read_csv('Individual_betas_from_ROI_analysis_S_buttonPress.csv')"
   ]
  },
  {
   "cell_type": "code",
   "execution_count": 7,
   "metadata": {},
   "outputs": [],
   "source": [
    "# Get only the shock betas for the rois mentioned above from beta_df and save it as a new df (all_roi_df)\n",
    "all_rois_df = beta_df[beta_df['ROI'].isin(rois)][['Pair','Subject','Group','ROI','shock']]"
   ]
  },
  {
   "cell_type": "code",
   "execution_count": 8,
   "metadata": {},
   "outputs": [],
   "source": [
    "# Pivot the table such that shock betas for every roi are put in separate columns\n",
    "all_rois_df = all_rois_df.groupby(['Pair','Subject','Group','ROI'])['shock'].mean().unstack()\n",
    "# Reset the columns because groupby create the creates multiple index columns\n",
    "all_rois_df.reset_index(inplace=True)"
   ]
  },
  {
   "cell_type": "code",
   "execution_count": 9,
   "metadata": {},
   "outputs": [],
   "source": [
    "# Extract the shock beta values from both goups, and subtract one from the other (uncontrol - control)\n",
    "all_rois_pair_df = all_rois_df[all_rois_df['Group']=='uncontrol'][rois].values - all_rois_df[all_rois_df['Group']=='control'][rois].values\n",
    "all_rois_pair_df = pd.DataFrame(all_rois_pair_df,columns=rois, index=all_rois_df.Pair.unique())\n",
    "all_rois_pair_df.index.name = 'Pair'"
   ]
  },
  {
   "cell_type": "code",
   "execution_count": 10,
   "metadata": {},
   "outputs": [
    {
     "data": {
      "text/html": [
       "<div>\n",
       "<style scoped>\n",
       "    .dataframe tbody tr th:only-of-type {\n",
       "        vertical-align: middle;\n",
       "    }\n",
       "\n",
       "    .dataframe tbody tr th {\n",
       "        vertical-align: top;\n",
       "    }\n",
       "\n",
       "    .dataframe thead th {\n",
       "        text-align: right;\n",
       "    }\n",
       "</style>\n",
       "<table border=\"1\" class=\"dataframe\">\n",
       "  <thead>\n",
       "    <tr style=\"text-align: right;\">\n",
       "      <th></th>\n",
       "      <th>Pair</th>\n",
       "      <th>vmPFC</th>\n",
       "      <th>PCC1</th>\n",
       "      <th>PCC2</th>\n",
       "      <th>rPAG1</th>\n",
       "      <th>lPAG1</th>\n",
       "      <th>rvAI</th>\n",
       "      <th>rdAI</th>\n",
       "      <th>lvAI</th>\n",
       "      <th>ldAI</th>\n",
       "      <th>...</th>\n",
       "      <th>Amygdala_BLBM_La_R</th>\n",
       "      <th>Amygdala_CeME_R</th>\n",
       "      <th>Amygdala_BLBM_La_L</th>\n",
       "      <th>Amygdala_CeME_L</th>\n",
       "      <th>rCa</th>\n",
       "      <th>lCa</th>\n",
       "      <th>rPa</th>\n",
       "      <th>lPa</th>\n",
       "      <th>rVS</th>\n",
       "      <th>lVS</th>\n",
       "    </tr>\n",
       "  </thead>\n",
       "  <tbody>\n",
       "    <tr>\n",
       "      <th>0</th>\n",
       "      <td>0</td>\n",
       "      <td>0.061974</td>\n",
       "      <td>0.535461</td>\n",
       "      <td>0.760914</td>\n",
       "      <td>0.495969</td>\n",
       "      <td>-0.451896</td>\n",
       "      <td>0.046489</td>\n",
       "      <td>0.648584</td>\n",
       "      <td>-0.540089</td>\n",
       "      <td>0.300404</td>\n",
       "      <td>...</td>\n",
       "      <td>0.096397</td>\n",
       "      <td>0.207224</td>\n",
       "      <td>-0.072796</td>\n",
       "      <td>0.030751</td>\n",
       "      <td>0.098111</td>\n",
       "      <td>0.042832</td>\n",
       "      <td>0.157946</td>\n",
       "      <td>-0.167957</td>\n",
       "      <td>0.042832</td>\n",
       "      <td>0.157946</td>\n",
       "    </tr>\n",
       "    <tr>\n",
       "      <th>1</th>\n",
       "      <td>1</td>\n",
       "      <td>-0.461823</td>\n",
       "      <td>-0.462739</td>\n",
       "      <td>-0.771434</td>\n",
       "      <td>0.079340</td>\n",
       "      <td>0.413959</td>\n",
       "      <td>0.108630</td>\n",
       "      <td>-0.271890</td>\n",
       "      <td>-0.308349</td>\n",
       "      <td>1.218100</td>\n",
       "      <td>...</td>\n",
       "      <td>-0.047622</td>\n",
       "      <td>-0.537300</td>\n",
       "      <td>0.353990</td>\n",
       "      <td>0.114286</td>\n",
       "      <td>-0.011058</td>\n",
       "      <td>0.389697</td>\n",
       "      <td>0.370927</td>\n",
       "      <td>0.125187</td>\n",
       "      <td>0.389697</td>\n",
       "      <td>0.370927</td>\n",
       "    </tr>\n",
       "    <tr>\n",
       "      <th>2</th>\n",
       "      <td>2</td>\n",
       "      <td>-0.044374</td>\n",
       "      <td>-0.129197</td>\n",
       "      <td>-0.048552</td>\n",
       "      <td>-0.676538</td>\n",
       "      <td>-0.567866</td>\n",
       "      <td>0.230604</td>\n",
       "      <td>0.459570</td>\n",
       "      <td>1.207188</td>\n",
       "      <td>0.028170</td>\n",
       "      <td>...</td>\n",
       "      <td>0.785362</td>\n",
       "      <td>-2.391624</td>\n",
       "      <td>-0.537284</td>\n",
       "      <td>0.868075</td>\n",
       "      <td>0.162808</td>\n",
       "      <td>0.236890</td>\n",
       "      <td>0.172011</td>\n",
       "      <td>0.508861</td>\n",
       "      <td>0.236890</td>\n",
       "      <td>0.172011</td>\n",
       "    </tr>\n",
       "    <tr>\n",
       "      <th>3</th>\n",
       "      <td>3</td>\n",
       "      <td>-0.085311</td>\n",
       "      <td>-0.058997</td>\n",
       "      <td>0.181371</td>\n",
       "      <td>-0.419337</td>\n",
       "      <td>0.317521</td>\n",
       "      <td>-0.338808</td>\n",
       "      <td>-0.127940</td>\n",
       "      <td>1.097847</td>\n",
       "      <td>0.658705</td>\n",
       "      <td>...</td>\n",
       "      <td>-0.167847</td>\n",
       "      <td>-1.459092</td>\n",
       "      <td>0.052690</td>\n",
       "      <td>-1.394684</td>\n",
       "      <td>-0.003267</td>\n",
       "      <td>-0.044543</td>\n",
       "      <td>-0.183029</td>\n",
       "      <td>0.158041</td>\n",
       "      <td>-0.044543</td>\n",
       "      <td>-0.183029</td>\n",
       "    </tr>\n",
       "    <tr>\n",
       "      <th>4</th>\n",
       "      <td>4</td>\n",
       "      <td>-0.544613</td>\n",
       "      <td>0.654251</td>\n",
       "      <td>-0.631836</td>\n",
       "      <td>0.520582</td>\n",
       "      <td>-0.819158</td>\n",
       "      <td>-0.367514</td>\n",
       "      <td>0.236270</td>\n",
       "      <td>-0.062703</td>\n",
       "      <td>0.380526</td>\n",
       "      <td>...</td>\n",
       "      <td>0.167565</td>\n",
       "      <td>-0.321546</td>\n",
       "      <td>0.256969</td>\n",
       "      <td>0.139230</td>\n",
       "      <td>0.210034</td>\n",
       "      <td>-0.040166</td>\n",
       "      <td>0.615495</td>\n",
       "      <td>0.469583</td>\n",
       "      <td>-0.040166</td>\n",
       "      <td>0.615495</td>\n",
       "    </tr>\n",
       "  </tbody>\n",
       "</table>\n",
       "<p>5 rows × 25 columns</p>\n",
       "</div>"
      ],
      "text/plain": [
       "   Pair     vmPFC      PCC1      PCC2     rPAG1     lPAG1      rvAI      rdAI  \\\n",
       "0     0  0.061974  0.535461  0.760914  0.495969 -0.451896  0.046489  0.648584   \n",
       "1     1 -0.461823 -0.462739 -0.771434  0.079340  0.413959  0.108630 -0.271890   \n",
       "2     2 -0.044374 -0.129197 -0.048552 -0.676538 -0.567866  0.230604  0.459570   \n",
       "3     3 -0.085311 -0.058997  0.181371 -0.419337  0.317521 -0.338808 -0.127940   \n",
       "4     4 -0.544613  0.654251 -0.631836  0.520582 -0.819158 -0.367514  0.236270   \n",
       "\n",
       "       lvAI      ldAI  ...  Amygdala_BLBM_La_R  Amygdala_CeME_R  \\\n",
       "0 -0.540089  0.300404  ...            0.096397         0.207224   \n",
       "1 -0.308349  1.218100  ...           -0.047622        -0.537300   \n",
       "2  1.207188  0.028170  ...            0.785362        -2.391624   \n",
       "3  1.097847  0.658705  ...           -0.167847        -1.459092   \n",
       "4 -0.062703  0.380526  ...            0.167565        -0.321546   \n",
       "\n",
       "   Amygdala_BLBM_La_L  Amygdala_CeME_L       rCa       lCa       rPa  \\\n",
       "0           -0.072796         0.030751  0.098111  0.042832  0.157946   \n",
       "1            0.353990         0.114286 -0.011058  0.389697  0.370927   \n",
       "2           -0.537284         0.868075  0.162808  0.236890  0.172011   \n",
       "3            0.052690        -1.394684 -0.003267 -0.044543 -0.183029   \n",
       "4            0.256969         0.139230  0.210034 -0.040166  0.615495   \n",
       "\n",
       "        lPa       rVS       lVS  \n",
       "0 -0.167957  0.042832  0.157946  \n",
       "1  0.125187  0.389697  0.370927  \n",
       "2  0.508861  0.236890  0.172011  \n",
       "3  0.158041 -0.044543 -0.183029  \n",
       "4  0.469583 -0.040166  0.615495  \n",
       "\n",
       "[5 rows x 25 columns]"
      ]
     },
     "execution_count": 10,
     "metadata": {},
     "output_type": "execute_result"
    }
   ],
   "source": [
    "all_rois_pair_df.reset_index(inplace = True)\n",
    "all_rois_pair_df.head()"
   ]
  },
  {
   "cell_type": "code",
   "execution_count": 11,
   "metadata": {},
   "outputs": [],
   "source": [
    "new_score_df = pd.DataFrame()\n",
    "for pair in all_rois_df.Pair.unique():\n",
    "    con = all_rois_df[(all_rois_df['Pair']==pair) & (all_rois_df['Group'] == 'control')]['Subject'].values[0]\n",
    "    uncon = all_rois_df[(all_rois_df['Pair']==pair) & (all_rois_df['Group'] == 'uncontrol')]['Subject'].values[0]\n",
    "    \n",
    "    \n",
    "    conTrait = scores[scores['SubID'] == con]['TRAIT'].values[0]\n",
    "    unconTrait = scores[scores['SubID'] == uncon]['TRAIT'].values[0]\n",
    "    \n",
    "    conState = scores[scores['SubID'] == con]['STATE'].values[0]\n",
    "    unconState = scores[scores['SubID'] == uncon]['STATE'].values[0]\n",
    "    \n",
    "    tmp_df = pd.DataFrame([pair,uncon,con,\n",
    "                           unconTrait,conTrait,unconTrait-conTrait,np.mean([unconTrait,conTrait]),\n",
    "                           unconState,conState,unconState-conState,np.mean([unconState,conState])],\n",
    "                          index=['Pair',('SubID','uncontrol'),('SubID','control'),\n",
    "                                  ('TRAIT','uncontrol'),('TRAIT','control'),('TRAIT','uncon-con'),('TRAIT','mean'),\n",
    "                                  ('STATE','uncontrol'),('STATE','control'),('STATE','uncon-con'),('STATE','mean')]).T\n",
    "    \n",
    "    new_score_df = pd.concat([new_score_df,tmp_df],axis=0)\n",
    "    \n",
    "new_score_df.set_index('Pair',inplace=True)"
   ]
  },
  {
   "cell_type": "code",
   "execution_count": 12,
   "metadata": {},
   "outputs": [],
   "source": [
    "# drop unimportant columns from the STAI scores df (new_score_Df)\n",
    "new_score_df = new_score_df[[('TRAIT','uncon-con'),('TRAIT','mean'),('STATE','uncon-con'),('STATE','mean')]]"
   ]
  },
  {
   "cell_type": "code",
   "execution_count": 13,
   "metadata": {},
   "outputs": [],
   "source": [
    "# Convert the numerical columns of new_score_df to float\n",
    "for col in new_score_df.columns:\n",
    "    new_score_df[col] = new_score_df[col].astype(float)"
   ]
  },
  {
   "cell_type": "code",
   "execution_count": 14,
   "metadata": {},
   "outputs": [
    {
     "data": {
      "text/html": [
       "<div>\n",
       "<style scoped>\n",
       "    .dataframe tbody tr th:only-of-type {\n",
       "        vertical-align: middle;\n",
       "    }\n",
       "\n",
       "    .dataframe tbody tr th {\n",
       "        vertical-align: top;\n",
       "    }\n",
       "\n",
       "    .dataframe thead th {\n",
       "        text-align: right;\n",
       "    }\n",
       "</style>\n",
       "<table border=\"1\" class=\"dataframe\">\n",
       "  <thead>\n",
       "    <tr style=\"text-align: right;\">\n",
       "      <th></th>\n",
       "      <th>(TRAIT, uncon-con)</th>\n",
       "      <th>(TRAIT, mean)</th>\n",
       "      <th>(STATE, uncon-con)</th>\n",
       "      <th>(STATE, mean)</th>\n",
       "    </tr>\n",
       "    <tr>\n",
       "      <th>Pair</th>\n",
       "      <th></th>\n",
       "      <th></th>\n",
       "      <th></th>\n",
       "      <th></th>\n",
       "    </tr>\n",
       "  </thead>\n",
       "  <tbody>\n",
       "    <tr>\n",
       "      <th>0</th>\n",
       "      <td>0.0</td>\n",
       "      <td>27.0</td>\n",
       "      <td>-2.0</td>\n",
       "      <td>23.0</td>\n",
       "    </tr>\n",
       "    <tr>\n",
       "      <th>1</th>\n",
       "      <td>9.0</td>\n",
       "      <td>31.5</td>\n",
       "      <td>4.0</td>\n",
       "      <td>28.0</td>\n",
       "    </tr>\n",
       "    <tr>\n",
       "      <th>2</th>\n",
       "      <td>1.0</td>\n",
       "      <td>36.5</td>\n",
       "      <td>3.0</td>\n",
       "      <td>27.5</td>\n",
       "    </tr>\n",
       "    <tr>\n",
       "      <th>3</th>\n",
       "      <td>3.0</td>\n",
       "      <td>22.5</td>\n",
       "      <td>-1.0</td>\n",
       "      <td>20.5</td>\n",
       "    </tr>\n",
       "    <tr>\n",
       "      <th>4</th>\n",
       "      <td>0.0</td>\n",
       "      <td>33.0</td>\n",
       "      <td>6.0</td>\n",
       "      <td>29.0</td>\n",
       "    </tr>\n",
       "  </tbody>\n",
       "</table>\n",
       "</div>"
      ],
      "text/plain": [
       "      (TRAIT, uncon-con)  (TRAIT, mean)  (STATE, uncon-con)  (STATE, mean)\n",
       "Pair                                                                      \n",
       "0                    0.0           27.0                -2.0           23.0\n",
       "1                    9.0           31.5                 4.0           28.0\n",
       "2                    1.0           36.5                 3.0           27.5\n",
       "3                    3.0           22.5                -1.0           20.5\n",
       "4                    0.0           33.0                 6.0           29.0"
      ]
     },
     "execution_count": 14,
     "metadata": {},
     "output_type": "execute_result"
    }
   ],
   "source": [
    "new_score_df.head()"
   ]
  },
  {
   "cell_type": "code",
   "execution_count": 15,
   "metadata": {},
   "outputs": [],
   "source": [
    "# Reformat the tupled column names for (TRAIT, uncon-con) (TRAIT, mean) (STATE, uncon-con) (STATE, mean)\n",
    "col_to_drop = []\n",
    "for col in new_score_df.columns:\n",
    "    if type(col) is tuple:\n",
    "        \n",
    "        col_to_drop.append(col)\n",
    "        \n",
    "        STAI, kind = col\n",
    "        \n",
    "        if '-' in kind:\n",
    "            kind = 'diff'\n",
    "            \n",
    "        new_score_df[''.join([STAI,kind])] = new_score_df[col]\n",
    "        \n",
    "new_score_df.drop(columns=col_to_drop,inplace=True)"
   ]
  },
  {
   "cell_type": "code",
   "execution_count": 16,
   "metadata": {},
   "outputs": [
    {
     "data": {
      "text/html": [
       "<div>\n",
       "<style scoped>\n",
       "    .dataframe tbody tr th:only-of-type {\n",
       "        vertical-align: middle;\n",
       "    }\n",
       "\n",
       "    .dataframe tbody tr th {\n",
       "        vertical-align: top;\n",
       "    }\n",
       "\n",
       "    .dataframe thead th {\n",
       "        text-align: right;\n",
       "    }\n",
       "</style>\n",
       "<table border=\"1\" class=\"dataframe\">\n",
       "  <thead>\n",
       "    <tr style=\"text-align: right;\">\n",
       "      <th></th>\n",
       "      <th>TRAITdiff</th>\n",
       "      <th>TRAITmean</th>\n",
       "      <th>STATEdiff</th>\n",
       "      <th>STATEmean</th>\n",
       "    </tr>\n",
       "    <tr>\n",
       "      <th>Pair</th>\n",
       "      <th></th>\n",
       "      <th></th>\n",
       "      <th></th>\n",
       "      <th></th>\n",
       "    </tr>\n",
       "  </thead>\n",
       "  <tbody>\n",
       "    <tr>\n",
       "      <th>0</th>\n",
       "      <td>0.0</td>\n",
       "      <td>27.0</td>\n",
       "      <td>-2.0</td>\n",
       "      <td>23.0</td>\n",
       "    </tr>\n",
       "    <tr>\n",
       "      <th>1</th>\n",
       "      <td>9.0</td>\n",
       "      <td>31.5</td>\n",
       "      <td>4.0</td>\n",
       "      <td>28.0</td>\n",
       "    </tr>\n",
       "    <tr>\n",
       "      <th>2</th>\n",
       "      <td>1.0</td>\n",
       "      <td>36.5</td>\n",
       "      <td>3.0</td>\n",
       "      <td>27.5</td>\n",
       "    </tr>\n",
       "    <tr>\n",
       "      <th>3</th>\n",
       "      <td>3.0</td>\n",
       "      <td>22.5</td>\n",
       "      <td>-1.0</td>\n",
       "      <td>20.5</td>\n",
       "    </tr>\n",
       "    <tr>\n",
       "      <th>4</th>\n",
       "      <td>0.0</td>\n",
       "      <td>33.0</td>\n",
       "      <td>6.0</td>\n",
       "      <td>29.0</td>\n",
       "    </tr>\n",
       "  </tbody>\n",
       "</table>\n",
       "</div>"
      ],
      "text/plain": [
       "      TRAITdiff  TRAITmean  STATEdiff  STATEmean\n",
       "Pair                                            \n",
       "0           0.0       27.0       -2.0       23.0\n",
       "1           9.0       31.5        4.0       28.0\n",
       "2           1.0       36.5        3.0       27.5\n",
       "3           3.0       22.5       -1.0       20.5\n",
       "4           0.0       33.0        6.0       29.0"
      ]
     },
     "execution_count": 16,
     "metadata": {},
     "output_type": "execute_result"
    }
   ],
   "source": [
    "new_score_df.head()"
   ]
  },
  {
   "cell_type": "code",
   "execution_count": 17,
   "metadata": {},
   "outputs": [],
   "source": [
    "# Standardize the four STAI scores\n",
    "from sklearn.preprocessing import StandardScaler\n",
    "ss = StandardScaler()\n",
    "new_score_df_norm = pd.DataFrame(ss.fit_transform(new_score_df),\n",
    "                                 columns=new_score_df.columns,\n",
    "                                 index=new_score_df.index)"
   ]
  },
  {
   "cell_type": "code",
   "execution_count": 18,
   "metadata": {},
   "outputs": [
    {
     "data": {
      "text/html": [
       "<div>\n",
       "<style scoped>\n",
       "    .dataframe tbody tr th:only-of-type {\n",
       "        vertical-align: middle;\n",
       "    }\n",
       "\n",
       "    .dataframe tbody tr th {\n",
       "        vertical-align: top;\n",
       "    }\n",
       "\n",
       "    .dataframe thead th {\n",
       "        text-align: right;\n",
       "    }\n",
       "</style>\n",
       "<table border=\"1\" class=\"dataframe\">\n",
       "  <thead>\n",
       "    <tr style=\"text-align: right;\">\n",
       "      <th></th>\n",
       "      <th>ROI</th>\n",
       "      <th>Y</th>\n",
       "    </tr>\n",
       "    <tr>\n",
       "      <th>Pair</th>\n",
       "      <th></th>\n",
       "      <th></th>\n",
       "    </tr>\n",
       "  </thead>\n",
       "  <tbody>\n",
       "    <tr>\n",
       "      <th>0</th>\n",
       "      <td>vmPFC</td>\n",
       "      <td>0.061974</td>\n",
       "    </tr>\n",
       "    <tr>\n",
       "      <th>1</th>\n",
       "      <td>vmPFC</td>\n",
       "      <td>-0.461823</td>\n",
       "    </tr>\n",
       "    <tr>\n",
       "      <th>2</th>\n",
       "      <td>vmPFC</td>\n",
       "      <td>-0.044374</td>\n",
       "    </tr>\n",
       "    <tr>\n",
       "      <th>3</th>\n",
       "      <td>vmPFC</td>\n",
       "      <td>-0.085311</td>\n",
       "    </tr>\n",
       "    <tr>\n",
       "      <th>4</th>\n",
       "      <td>vmPFC</td>\n",
       "      <td>-0.544613</td>\n",
       "    </tr>\n",
       "  </tbody>\n",
       "</table>\n",
       "</div>"
      ],
      "text/plain": [
       "        ROI         Y\n",
       "Pair                 \n",
       "0     vmPFC  0.061974\n",
       "1     vmPFC -0.461823\n",
       "2     vmPFC -0.044374\n",
       "3     vmPFC -0.085311\n",
       "4     vmPFC -0.544613"
      ]
     },
     "execution_count": 18,
     "metadata": {},
     "output_type": "execute_result"
    }
   ],
   "source": [
    "# Melt the allall_rois_pair_df such that all shock beta values are put one column, and every beta is marked by the roi which it belongs to by another column 'ROI' nex to it\n",
    "all_rois_pair_df_melted = all_rois_pair_df.melt(id_vars='Pair',var_name='ROI',value_name='Y')\n",
    "all_rois_pair_df_melted.set_index('Pair',inplace=True)\n",
    "all_rois_pair_df_melted.head()"
   ]
  },
  {
   "cell_type": "code",
   "execution_count": 19,
   "metadata": {},
   "outputs": [],
   "source": [
    "# Join (on index 'Pair') the STAI score (new_score_df) and the roi shock beta (all_rois_pair_df_melted) dataframes\n",
    "full_df = all_rois_pair_df_melted.join(new_score_df_norm)\n",
    "full_df.reset_index(inplace=True)\n",
    "full_df['Subj'] = full_df['Pair'].apply(lambda x: 'P{:02d}'.format(x))\n",
    "full_df.drop(columns = 'Pair',inplace=True)\n",
    "col_order = ['Subj','ROI','Y','TRAITmean','TRAITdiff','STATEmean','STATEdiff']"
   ]
  },
  {
   "cell_type": "code",
   "execution_count": 20,
   "metadata": {},
   "outputs": [
    {
     "name": "stdout",
     "output_type": "stream",
     "text": [
      "     ROI         Y  TRAITdiff  TRAITmean  STATEdiff  STATEmean Subj\n",
      "0  vmPFC  0.061974  -0.040647  -1.003049  -0.181211  -1.230659  P00\n",
      "1   PCC1  0.535461  -0.040647  -1.003049  -0.181211  -1.230659  P00\n",
      "2   PCC2  0.760914  -0.040647  -1.003049  -0.181211  -1.230659  P00\n",
      "3  rPAG1  0.495969  -0.040647  -1.003049  -0.181211  -1.230659  P00\n",
      "4  lPAG1 -0.451896  -0.040647  -1.003049  -0.181211  -1.230659  P00\n",
      "      ROI         Y  TRAITdiff  TRAITmean  STATEdiff  STATEmean Subj\n",
      "1459  lCa  0.262880  -1.103272   0.572285  -1.177055   0.830403  P62\n",
      "1460  rPa  0.121845  -1.103272   0.572285  -1.177055   0.830403  P62\n",
      "1461  lPa -0.106715  -1.103272   0.572285  -1.177055   0.830403  P62\n",
      "1462  rVS  0.262880  -1.103272   0.572285  -1.177055   0.830403  P62\n",
      "1463  lVS  0.121845  -1.103272   0.572285  -1.177055   0.830403  P62\n"
     ]
    }
   ],
   "source": [
    "print(full_df.head())\n",
    "print(full_df.tail())"
   ]
  },
  {
   "cell_type": "raw",
   "metadata": {},
   "source": [
    "full_df[col_order].to_csv(join(eCON,'dataset/data_for_RBA/uncon_v_con_ROI24_with_covariates.txt'),sep='\\t',float_format='%.4f',index=False)"
   ]
  },
  {
   "cell_type": "code",
   "execution_count": 21,
   "metadata": {},
   "outputs": [],
   "source": [
    "full_df[col_order].to_csv('data/uncon_v_con_ROI24_with_covariates.txt',sep='\\t',float_format='%.4f',index=False)"
   ]
  },
  {
   "cell_type": "code",
   "execution_count": 22,
   "metadata": {},
   "outputs": [],
   "source": [
    "full_df[full_df['ROI']=='rBNST'][col_order].drop(columns='ROI').to_csv('data/uncon_v_con_rBNST_with_covariates.txt',sep='\\t',float_format='%.4f',index=False)"
   ]
  },
  {
   "cell_type": "markdown",
   "metadata": {},
   "source": [
    "# Distribution of Y (shock beta contrast [uncon-con])"
   ]
  },
  {
   "cell_type": "code",
   "execution_count": 23,
   "metadata": {},
   "outputs": [
    {
     "data": {
      "text/plain": [
       "Text(0.75, 150, 'Skeweness=0.145')"
      ]
     },
     "execution_count": 23,
     "metadata": {},
     "output_type": "execute_result"
    },
    {
     "data": {
      "image/png": "[encoded data removed]",
      "text/plain": [
       "<Figure size 576x432 with 1 Axes>"
      ]
     },
     "metadata": {
      "needs_background": "light"
     },
     "output_type": "display_data"
    }
   ],
   "source": [
    "plt.figure(figsize = (8,6))\n",
    "sns.distplot(full_df.Y,kde=False)\n",
    "plt.text(x=0.75,y=150, s='Skeweness=%.3f' %(full_df.Y.skew()),fontdict={'size':14})"
   ]
  },
  {
   "cell_type": "markdown",
   "metadata": {},
   "source": [
    "There is minor skewness but there are also a few outliers. Hence use student-t distribution for Y in RBA."
   ]
  },
  {
   "cell_type": "code",
   "execution_count": null,
   "metadata": {},
   "outputs": [],
   "source": []
  }
 ],
 "metadata": {
  "kernelspec": {
   "display_name": "Python 3",
   "language": "python",
   "name": "python3"
  },
  "language_info": {
   "codemirror_mode": {
    "name": "ipython",
    "version": 3
   },
   "file_extension": ".py",
   "mimetype": "text/x-python",
   "name": "python",
   "nbconvert_exporter": "python",
   "pygments_lexer": "ipython3",
   "version": "3.7.3"
  }
 },
 "nbformat": 4,
 "nbformat_minor": 4
}
