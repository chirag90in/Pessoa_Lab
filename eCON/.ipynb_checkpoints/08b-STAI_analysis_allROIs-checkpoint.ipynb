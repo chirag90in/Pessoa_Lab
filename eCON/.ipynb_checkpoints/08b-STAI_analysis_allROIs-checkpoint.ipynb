{
 "cells": [
  {
   "cell_type": "code",
   "execution_count": 1,
   "metadata": {},
   "outputs": [
    {
     "data": {
      "text/html": [
       "<script>\n",
       "code_show=true; \n",
       "function code_toggle() {\n",
       " if (code_show){\n",
       " $('div.input').hide();\n",
       " } else {\n",
       " $('div.input').show();\n",
       " }\n",
       " code_show = !code_show\n",
       "} \n",
       "$( document ).ready(code_toggle);\n",
       "</script>\n",
       "<form action=\"javascript:code_toggle()\"><input type=\"submit\" value=\"Click here to toggle on/off the raw code.\"></form>"
      ],
      "text/plain": [
       "<IPython.core.display.HTML object>"
      ]
     },
     "execution_count": 1,
     "metadata": {},
     "output_type": "execute_result"
    }
   ],
   "source": [
    "from IPython.display import HTML\n",
    "\n",
    "HTML('''<script>\n",
    "code_show=true; \n",
    "function code_toggle() {\n",
    " if (code_show){\n",
    " $('div.input').hide();\n",
    " } else {\n",
    " $('div.input').show();\n",
    " }\n",
    " code_show = !code_show\n",
    "} \n",
    "$( document ).ready(code_toggle);\n",
    "</script>\n",
    "<form action=\"javascript:code_toggle()\"><input type=\"submit\" value=\"Click here to toggle on/off the raw code.\"></form>''')\n"
   ]
  },
  {
   "cell_type": "code",
   "execution_count": 2,
   "metadata": {},
   "outputs": [],
   "source": [
    "import numpy as np\n",
    "import pandas as pd\n",
    "\n",
    "from os.path import join\n",
    "\n",
    "import seaborn as sns\n",
    "sns.set(font_scale=1.5)\n",
    "import matplotlib.pyplot as plt\n",
    "\n",
    "from statsmodels.stats.outliers_influence import variance_inflation_factor\n",
    "import statsmodels.api as sm\n",
    "\n",
    "%matplotlib inline"
   ]
  },
  {
   "cell_type": "code",
   "execution_count": 3,
   "metadata": {},
   "outputs": [],
   "source": [
    "## Load the State and Trait scores\n",
    "eCON = '/data/bswift-1/Pessoa_Lab/eCON'\n",
    "scores = pd.read_excel(join(eCON,'STAIscores/scores.xlsx'))\n",
    "scores.rename(columns={'SCORING':'TRAIT'},inplace=True)\n",
    "scores.drop(columns=['PAIR SCORE'],inplace=True)\n",
    "scores['SubID'] = scores['SubID'].apply(lambda name: ''.join(name.strip().split(\"_\")))"
   ]
  },
  {
   "cell_type": "code",
   "execution_count": 13,
   "metadata": {},
   "outputs": [],
   "source": [
    "# ROIs to be included in the RBA\n",
    "rois = 'vmPFC PCC1 PCC2 rPAG lPAG rvAI rdAI lvAI ldAI rPI lPI rBNST lBNST ACC\\\n",
    "        Amygdala_BLBM_La_R Amygdala_CeME_R Amygdala_BLBM_La_L Amygdala_CeME_L\\\n",
    "        rCa lCa rPa lPa rVS lVS'.split()"
   ]
  },
  {
   "cell_type": "markdown",
   "metadata": {},
   "source": [
    "## List of ROIs to included in RBA"
   ]
  },
  {
   "cell_type": "code",
   "execution_count": 14,
   "metadata": {},
   "outputs": [
    {
     "name": "stdout",
     "output_type": "stream",
     "text": [
      "1 vmPFC\n",
      "2 PCC1\n",
      "3 PCC2\n",
      "4 rPAG\n",
      "5 lPAG\n",
      "6 rvAI\n",
      "7 rdAI\n",
      "8 lvAI\n",
      "9 ldAI\n",
      "10 rPI\n",
      "11 lPI\n",
      "12 rBNST\n",
      "13 lBNST\n",
      "14 ACC\n",
      "15 Amygdala_BLBM_La_R\n",
      "16 Amygdala_CeME_R\n",
      "17 Amygdala_BLBM_La_L\n",
      "18 Amygdala_CeME_L\n",
      "19 rCa\n",
      "20 lCa\n",
      "21 rPa\n",
      "22 lPa\n",
      "23 rVS\n",
      "24 lVS\n"
     ]
    }
   ],
   "source": [
    "for i,roi in enumerate(rois):\n",
    "    print(i+1,roi)"
   ]
  },
  {
   "cell_type": "code",
   "execution_count": 15,
   "metadata": {},
   "outputs": [],
   "source": [
    "# Load the data that contains shock betas for all participants\n",
    "#beta_df = pd.read_csv('Individual_betas_from_ROI_analysis_S.csv')\n",
    "beta_df = pd.read_csv('Individual_betas_from_ROI_analysis_S_buttonPress.csv')"
   ]
  },
  {
   "cell_type": "code",
   "execution_count": 16,
   "metadata": {},
   "outputs": [],
   "source": [
    "# Get only the shock betas for the rois mentioned above from beta_df and save it as a new df (all_roi_df)\n",
    "all_rois_df = beta_df[beta_df['ROI'].isin(rois)][['Pair','Subject','Group','ROI','beta']]"
   ]
  },
  {
   "cell_type": "code",
   "execution_count": 17,
   "metadata": {},
   "outputs": [],
   "source": [
    "# Pivot the table such that shock betas for every roi are put in separate columns\n",
    "all_rois_df = all_rois_df.groupby(['Pair','Subject','Group','ROI'])['beta'].mean().unstack()\n",
    "# Reset the columns because groupby create the creates multiple index columns\n",
    "all_rois_df.reset_index(inplace=True)"
   ]
  },
  {
   "cell_type": "code",
   "execution_count": 18,
   "metadata": {},
   "outputs": [],
   "source": [
    "# Extract the shock beta values from both goups, and subtract one from the other (uncontrol - control)\n",
    "all_rois_pair_df = all_rois_df[all_rois_df['Group']=='uncontrol'][rois].values - all_rois_df[all_rois_df['Group']=='control'][rois].values\n",
    "all_rois_pair_df = pd.DataFrame(all_rois_pair_df,columns=rois, index=all_rois_df.Pair.unique())\n",
    "all_rois_pair_df.index.name = 'Pair'"
   ]
  },
  {
   "cell_type": "code",
   "execution_count": 19,
   "metadata": {},
   "outputs": [
    {
     "data": {
      "text/html": [
       "<div>\n",
       "<style scoped>\n",
       "    .dataframe tbody tr th:only-of-type {\n",
       "        vertical-align: middle;\n",
       "    }\n",
       "\n",
       "    .dataframe tbody tr th {\n",
       "        vertical-align: top;\n",
       "    }\n",
       "\n",
       "    .dataframe thead th {\n",
       "        text-align: right;\n",
       "    }\n",
       "</style>\n",
       "<table border=\"1\" class=\"dataframe\">\n",
       "  <thead>\n",
       "    <tr style=\"text-align: right;\">\n",
       "      <th></th>\n",
       "      <th>Pair</th>\n",
       "      <th>vmPFC</th>\n",
       "      <th>PCC1</th>\n",
       "      <th>PCC2</th>\n",
       "      <th>rPAG</th>\n",
       "      <th>lPAG</th>\n",
       "      <th>rvAI</th>\n",
       "      <th>rdAI</th>\n",
       "      <th>lvAI</th>\n",
       "      <th>ldAI</th>\n",
       "      <th>...</th>\n",
       "      <th>Amygdala_BLBM_La_R</th>\n",
       "      <th>Amygdala_CeME_R</th>\n",
       "      <th>Amygdala_BLBM_La_L</th>\n",
       "      <th>Amygdala_CeME_L</th>\n",
       "      <th>rCa</th>\n",
       "      <th>lCa</th>\n",
       "      <th>rPa</th>\n",
       "      <th>lPa</th>\n",
       "      <th>rVS</th>\n",
       "      <th>lVS</th>\n",
       "    </tr>\n",
       "  </thead>\n",
       "  <tbody>\n",
       "    <tr>\n",
       "      <th>0</th>\n",
       "      <td>P00</td>\n",
       "      <td>-0.054422</td>\n",
       "      <td>0.510746</td>\n",
       "      <td>0.373305</td>\n",
       "      <td>0.742407</td>\n",
       "      <td>-0.094870</td>\n",
       "      <td>0.217674</td>\n",
       "      <td>0.718224</td>\n",
       "      <td>-0.200550</td>\n",
       "      <td>0.307470</td>\n",
       "      <td>...</td>\n",
       "      <td>0.130619</td>\n",
       "      <td>0.231618</td>\n",
       "      <td>-0.083950</td>\n",
       "      <td>0.182758</td>\n",
       "      <td>0.078734</td>\n",
       "      <td>-0.061356</td>\n",
       "      <td>0.345429</td>\n",
       "      <td>0.025556</td>\n",
       "      <td>0.229500</td>\n",
       "      <td>0.267240</td>\n",
       "    </tr>\n",
       "    <tr>\n",
       "      <th>1</th>\n",
       "      <td>P01</td>\n",
       "      <td>-0.314688</td>\n",
       "      <td>-0.314805</td>\n",
       "      <td>-0.340549</td>\n",
       "      <td>0.195783</td>\n",
       "      <td>0.604223</td>\n",
       "      <td>0.255941</td>\n",
       "      <td>-0.079674</td>\n",
       "      <td>-0.193876</td>\n",
       "      <td>1.114953</td>\n",
       "      <td>...</td>\n",
       "      <td>0.217202</td>\n",
       "      <td>-0.123463</td>\n",
       "      <td>0.872065</td>\n",
       "      <td>0.091433</td>\n",
       "      <td>0.037642</td>\n",
       "      <td>0.074169</td>\n",
       "      <td>0.002690</td>\n",
       "      <td>0.309495</td>\n",
       "      <td>0.406163</td>\n",
       "      <td>0.772699</td>\n",
       "    </tr>\n",
       "    <tr>\n",
       "      <th>2</th>\n",
       "      <td>P02</td>\n",
       "      <td>-0.244115</td>\n",
       "      <td>-0.262159</td>\n",
       "      <td>-0.191688</td>\n",
       "      <td>-0.822900</td>\n",
       "      <td>-0.201661</td>\n",
       "      <td>-0.008536</td>\n",
       "      <td>0.291348</td>\n",
       "      <td>0.455112</td>\n",
       "      <td>-0.009914</td>\n",
       "      <td>...</td>\n",
       "      <td>0.526144</td>\n",
       "      <td>-2.019130</td>\n",
       "      <td>-0.622731</td>\n",
       "      <td>0.517025</td>\n",
       "      <td>0.018105</td>\n",
       "      <td>0.330122</td>\n",
       "      <td>0.200926</td>\n",
       "      <td>0.179117</td>\n",
       "      <td>0.536354</td>\n",
       "      <td>0.411100</td>\n",
       "    </tr>\n",
       "    <tr>\n",
       "      <th>3</th>\n",
       "      <td>P03</td>\n",
       "      <td>-0.236480</td>\n",
       "      <td>-0.234531</td>\n",
       "      <td>0.154024</td>\n",
       "      <td>-0.558640</td>\n",
       "      <td>0.071113</td>\n",
       "      <td>-0.336705</td>\n",
       "      <td>0.027717</td>\n",
       "      <td>0.906893</td>\n",
       "      <td>0.663435</td>\n",
       "      <td>...</td>\n",
       "      <td>-0.146609</td>\n",
       "      <td>-0.845896</td>\n",
       "      <td>0.077962</td>\n",
       "      <td>-1.145497</td>\n",
       "      <td>-0.058214</td>\n",
       "      <td>0.180903</td>\n",
       "      <td>0.044822</td>\n",
       "      <td>0.134032</td>\n",
       "      <td>-0.146908</td>\n",
       "      <td>-0.049464</td>\n",
       "    </tr>\n",
       "    <tr>\n",
       "      <th>4</th>\n",
       "      <td>P04</td>\n",
       "      <td>-0.531118</td>\n",
       "      <td>0.466587</td>\n",
       "      <td>-0.364676</td>\n",
       "      <td>0.685925</td>\n",
       "      <td>-0.406346</td>\n",
       "      <td>-0.273708</td>\n",
       "      <td>0.317377</td>\n",
       "      <td>-0.245136</td>\n",
       "      <td>0.458202</td>\n",
       "      <td>...</td>\n",
       "      <td>0.129951</td>\n",
       "      <td>-0.159148</td>\n",
       "      <td>-0.114695</td>\n",
       "      <td>0.198329</td>\n",
       "      <td>0.231403</td>\n",
       "      <td>0.487123</td>\n",
       "      <td>0.177450</td>\n",
       "      <td>0.010834</td>\n",
       "      <td>0.622764</td>\n",
       "      <td>0.220425</td>\n",
       "    </tr>\n",
       "  </tbody>\n",
       "</table>\n",
       "<p>5 rows × 25 columns</p>\n",
       "</div>"
      ],
      "text/plain": [
       "  Pair     vmPFC      PCC1      PCC2      rPAG      lPAG      rvAI      rdAI  \\\n",
       "0  P00 -0.054422  0.510746  0.373305  0.742407 -0.094870  0.217674  0.718224   \n",
       "1  P01 -0.314688 -0.314805 -0.340549  0.195783  0.604223  0.255941 -0.079674   \n",
       "2  P02 -0.244115 -0.262159 -0.191688 -0.822900 -0.201661 -0.008536  0.291348   \n",
       "3  P03 -0.236480 -0.234531  0.154024 -0.558640  0.071113 -0.336705  0.027717   \n",
       "4  P04 -0.531118  0.466587 -0.364676  0.685925 -0.406346 -0.273708  0.317377   \n",
       "\n",
       "       lvAI      ldAI  ...  Amygdala_BLBM_La_R  Amygdala_CeME_R  \\\n",
       "0 -0.200550  0.307470  ...            0.130619         0.231618   \n",
       "1 -0.193876  1.114953  ...            0.217202        -0.123463   \n",
       "2  0.455112 -0.009914  ...            0.526144        -2.019130   \n",
       "3  0.906893  0.663435  ...           -0.146609        -0.845896   \n",
       "4 -0.245136  0.458202  ...            0.129951        -0.159148   \n",
       "\n",
       "   Amygdala_BLBM_La_L  Amygdala_CeME_L       rCa       lCa       rPa  \\\n",
       "0           -0.083950         0.182758  0.078734 -0.061356  0.345429   \n",
       "1            0.872065         0.091433  0.037642  0.074169  0.002690   \n",
       "2           -0.622731         0.517025  0.018105  0.330122  0.200926   \n",
       "3            0.077962        -1.145497 -0.058214  0.180903  0.044822   \n",
       "4           -0.114695         0.198329  0.231403  0.487123  0.177450   \n",
       "\n",
       "        lPa       rVS       lVS  \n",
       "0  0.025556  0.229500  0.267240  \n",
       "1  0.309495  0.406163  0.772699  \n",
       "2  0.179117  0.536354  0.411100  \n",
       "3  0.134032 -0.146908 -0.049464  \n",
       "4  0.010834  0.622764  0.220425  \n",
       "\n",
       "[5 rows x 25 columns]"
      ]
     },
     "execution_count": 19,
     "metadata": {},
     "output_type": "execute_result"
    }
   ],
   "source": [
    "all_rois_pair_df.reset_index(inplace = True)\n",
    "all_rois_pair_df.head()"
   ]
  },
  {
   "cell_type": "code",
   "execution_count": 20,
   "metadata": {},
   "outputs": [],
   "source": [
    "new_score_df = pd.DataFrame()\n",
    "for pair in all_rois_df.Pair.unique():\n",
    "    con = all_rois_df[(all_rois_df['Pair']==pair) & (all_rois_df['Group'] == 'control')]['Subject'].values[0]\n",
    "    uncon = all_rois_df[(all_rois_df['Pair']==pair) & (all_rois_df['Group'] == 'uncontrol')]['Subject'].values[0]\n",
    "    \n",
    "    \n",
    "    conTrait = scores[scores['SubID'] == con]['TRAIT'].values[0]\n",
    "    unconTrait = scores[scores['SubID'] == uncon]['TRAIT'].values[0]\n",
    "    \n",
    "    conState = scores[scores['SubID'] == con]['STATE'].values[0]\n",
    "    unconState = scores[scores['SubID'] == uncon]['STATE'].values[0]\n",
    "    \n",
    "    tmp_df = pd.DataFrame([pair,uncon,con,\n",
    "                           unconTrait,conTrait,unconTrait-conTrait,np.mean([unconTrait,conTrait]),\n",
    "                           unconState,conState,unconState-conState,np.mean([unconState,conState])],\n",
    "                          index=['Pair',('SubID','uncontrol'),('SubID','control'),\n",
    "                                  ('TRAIT','uncontrol'),('TRAIT','control'),('TRAIT','uncon-con'),('TRAIT','mean'),\n",
    "                                  ('STATE','uncontrol'),('STATE','control'),('STATE','uncon-con'),('STATE','mean')]).T\n",
    "    \n",
    "    new_score_df = pd.concat([new_score_df,tmp_df],axis=0)\n",
    "    \n",
    "new_score_df.set_index('Pair',inplace=True)"
   ]
  },
  {
   "cell_type": "code",
   "execution_count": 21,
   "metadata": {},
   "outputs": [],
   "source": [
    "# drop unimportant columns from the STAI scores df (new_score_Df)\n",
    "new_score_df = new_score_df[[('TRAIT','uncon-con'),('TRAIT','mean'),('STATE','uncon-con'),('STATE','mean')]]"
   ]
  },
  {
   "cell_type": "code",
   "execution_count": 22,
   "metadata": {},
   "outputs": [],
   "source": [
    "# Convert the numerical columns of new_score_df to float\n",
    "for col in new_score_df.columns:\n",
    "    new_score_df[col] = new_score_df[col].astype(float)"
   ]
  },
  {
   "cell_type": "code",
   "execution_count": 23,
   "metadata": {},
   "outputs": [
    {
     "data": {
      "text/html": [
       "<div>\n",
       "<style scoped>\n",
       "    .dataframe tbody tr th:only-of-type {\n",
       "        vertical-align: middle;\n",
       "    }\n",
       "\n",
       "    .dataframe tbody tr th {\n",
       "        vertical-align: top;\n",
       "    }\n",
       "\n",
       "    .dataframe thead th {\n",
       "        text-align: right;\n",
       "    }\n",
       "</style>\n",
       "<table border=\"1\" class=\"dataframe\">\n",
       "  <thead>\n",
       "    <tr style=\"text-align: right;\">\n",
       "      <th></th>\n",
       "      <th>(TRAIT, uncon-con)</th>\n",
       "      <th>(TRAIT, mean)</th>\n",
       "      <th>(STATE, uncon-con)</th>\n",
       "      <th>(STATE, mean)</th>\n",
       "    </tr>\n",
       "    <tr>\n",
       "      <th>Pair</th>\n",
       "      <th></th>\n",
       "      <th></th>\n",
       "      <th></th>\n",
       "      <th></th>\n",
       "    </tr>\n",
       "  </thead>\n",
       "  <tbody>\n",
       "    <tr>\n",
       "      <th>P00</th>\n",
       "      <td>0.0</td>\n",
       "      <td>27.0</td>\n",
       "      <td>-2.0</td>\n",
       "      <td>23.0</td>\n",
       "    </tr>\n",
       "    <tr>\n",
       "      <th>P01</th>\n",
       "      <td>9.0</td>\n",
       "      <td>31.5</td>\n",
       "      <td>4.0</td>\n",
       "      <td>28.0</td>\n",
       "    </tr>\n",
       "    <tr>\n",
       "      <th>P02</th>\n",
       "      <td>1.0</td>\n",
       "      <td>36.5</td>\n",
       "      <td>3.0</td>\n",
       "      <td>27.5</td>\n",
       "    </tr>\n",
       "    <tr>\n",
       "      <th>P03</th>\n",
       "      <td>3.0</td>\n",
       "      <td>22.5</td>\n",
       "      <td>-1.0</td>\n",
       "      <td>20.5</td>\n",
       "    </tr>\n",
       "    <tr>\n",
       "      <th>P04</th>\n",
       "      <td>0.0</td>\n",
       "      <td>33.0</td>\n",
       "      <td>6.0</td>\n",
       "      <td>29.0</td>\n",
       "    </tr>\n",
       "  </tbody>\n",
       "</table>\n",
       "</div>"
      ],
      "text/plain": [
       "      (TRAIT, uncon-con)  (TRAIT, mean)  (STATE, uncon-con)  (STATE, mean)\n",
       "Pair                                                                      \n",
       "P00                  0.0           27.0                -2.0           23.0\n",
       "P01                  9.0           31.5                 4.0           28.0\n",
       "P02                  1.0           36.5                 3.0           27.5\n",
       "P03                  3.0           22.5                -1.0           20.5\n",
       "P04                  0.0           33.0                 6.0           29.0"
      ]
     },
     "execution_count": 23,
     "metadata": {},
     "output_type": "execute_result"
    }
   ],
   "source": [
    "new_score_df.head()"
   ]
  },
  {
   "cell_type": "code",
   "execution_count": 24,
   "metadata": {},
   "outputs": [],
   "source": [
    "# Reformat the tupled column names for (TRAIT, uncon-con) (TRAIT, mean) (STATE, uncon-con) (STATE, mean)\n",
    "col_to_drop = []\n",
    "for col in new_score_df.columns:\n",
    "    if type(col) is tuple:\n",
    "        \n",
    "        col_to_drop.append(col)\n",
    "        \n",
    "        STAI, kind = col\n",
    "        \n",
    "        if '-' in kind:\n",
    "            kind = 'diff'\n",
    "            \n",
    "        new_score_df[''.join([STAI,kind])] = new_score_df[col]\n",
    "        \n",
    "new_score_df.drop(columns=col_to_drop,inplace=True)"
   ]
  },
  {
   "cell_type": "code",
   "execution_count": 25,
   "metadata": {},
   "outputs": [
    {
     "data": {
      "text/html": [
       "<div>\n",
       "<style scoped>\n",
       "    .dataframe tbody tr th:only-of-type {\n",
       "        vertical-align: middle;\n",
       "    }\n",
       "\n",
       "    .dataframe tbody tr th {\n",
       "        vertical-align: top;\n",
       "    }\n",
       "\n",
       "    .dataframe thead th {\n",
       "        text-align: right;\n",
       "    }\n",
       "</style>\n",
       "<table border=\"1\" class=\"dataframe\">\n",
       "  <thead>\n",
       "    <tr style=\"text-align: right;\">\n",
       "      <th></th>\n",
       "      <th>TRAITdiff</th>\n",
       "      <th>TRAITmean</th>\n",
       "      <th>STATEdiff</th>\n",
       "      <th>STATEmean</th>\n",
       "    </tr>\n",
       "    <tr>\n",
       "      <th>Pair</th>\n",
       "      <th></th>\n",
       "      <th></th>\n",
       "      <th></th>\n",
       "      <th></th>\n",
       "    </tr>\n",
       "  </thead>\n",
       "  <tbody>\n",
       "    <tr>\n",
       "      <th>P00</th>\n",
       "      <td>0.0</td>\n",
       "      <td>27.0</td>\n",
       "      <td>-2.0</td>\n",
       "      <td>23.0</td>\n",
       "    </tr>\n",
       "    <tr>\n",
       "      <th>P01</th>\n",
       "      <td>9.0</td>\n",
       "      <td>31.5</td>\n",
       "      <td>4.0</td>\n",
       "      <td>28.0</td>\n",
       "    </tr>\n",
       "    <tr>\n",
       "      <th>P02</th>\n",
       "      <td>1.0</td>\n",
       "      <td>36.5</td>\n",
       "      <td>3.0</td>\n",
       "      <td>27.5</td>\n",
       "    </tr>\n",
       "    <tr>\n",
       "      <th>P03</th>\n",
       "      <td>3.0</td>\n",
       "      <td>22.5</td>\n",
       "      <td>-1.0</td>\n",
       "      <td>20.5</td>\n",
       "    </tr>\n",
       "    <tr>\n",
       "      <th>P04</th>\n",
       "      <td>0.0</td>\n",
       "      <td>33.0</td>\n",
       "      <td>6.0</td>\n",
       "      <td>29.0</td>\n",
       "    </tr>\n",
       "  </tbody>\n",
       "</table>\n",
       "</div>"
      ],
      "text/plain": [
       "      TRAITdiff  TRAITmean  STATEdiff  STATEmean\n",
       "Pair                                            \n",
       "P00         0.0       27.0       -2.0       23.0\n",
       "P01         9.0       31.5        4.0       28.0\n",
       "P02         1.0       36.5        3.0       27.5\n",
       "P03         3.0       22.5       -1.0       20.5\n",
       "P04         0.0       33.0        6.0       29.0"
      ]
     },
     "execution_count": 25,
     "metadata": {},
     "output_type": "execute_result"
    }
   ],
   "source": [
    "new_score_df.head()"
   ]
  },
  {
   "cell_type": "code",
   "execution_count": 26,
   "metadata": {},
   "outputs": [],
   "source": [
    "# Standardize the four STAI scores\n",
    "from sklearn.preprocessing import StandardScaler\n",
    "ss = StandardScaler()\n",
    "new_score_df_norm = pd.DataFrame(ss.fit_transform(new_score_df),\n",
    "                                 columns=new_score_df.columns,\n",
    "                                 index=new_score_df.index)"
   ]
  },
  {
   "cell_type": "code",
   "execution_count": 27,
   "metadata": {},
   "outputs": [
    {
     "data": {
      "text/html": [
       "<div>\n",
       "<style scoped>\n",
       "    .dataframe tbody tr th:only-of-type {\n",
       "        vertical-align: middle;\n",
       "    }\n",
       "\n",
       "    .dataframe tbody tr th {\n",
       "        vertical-align: top;\n",
       "    }\n",
       "\n",
       "    .dataframe thead th {\n",
       "        text-align: right;\n",
       "    }\n",
       "</style>\n",
       "<table border=\"1\" class=\"dataframe\">\n",
       "  <thead>\n",
       "    <tr style=\"text-align: right;\">\n",
       "      <th></th>\n",
       "      <th>ROI</th>\n",
       "      <th>Y</th>\n",
       "    </tr>\n",
       "    <tr>\n",
       "      <th>Pair</th>\n",
       "      <th></th>\n",
       "      <th></th>\n",
       "    </tr>\n",
       "  </thead>\n",
       "  <tbody>\n",
       "    <tr>\n",
       "      <th>P00</th>\n",
       "      <td>vmPFC</td>\n",
       "      <td>-0.054422</td>\n",
       "    </tr>\n",
       "    <tr>\n",
       "      <th>P01</th>\n",
       "      <td>vmPFC</td>\n",
       "      <td>-0.314688</td>\n",
       "    </tr>\n",
       "    <tr>\n",
       "      <th>P02</th>\n",
       "      <td>vmPFC</td>\n",
       "      <td>-0.244115</td>\n",
       "    </tr>\n",
       "    <tr>\n",
       "      <th>P03</th>\n",
       "      <td>vmPFC</td>\n",
       "      <td>-0.236480</td>\n",
       "    </tr>\n",
       "    <tr>\n",
       "      <th>P04</th>\n",
       "      <td>vmPFC</td>\n",
       "      <td>-0.531118</td>\n",
       "    </tr>\n",
       "  </tbody>\n",
       "</table>\n",
       "</div>"
      ],
      "text/plain": [
       "        ROI         Y\n",
       "Pair                 \n",
       "P00   vmPFC -0.054422\n",
       "P01   vmPFC -0.314688\n",
       "P02   vmPFC -0.244115\n",
       "P03   vmPFC -0.236480\n",
       "P04   vmPFC -0.531118"
      ]
     },
     "execution_count": 27,
     "metadata": {},
     "output_type": "execute_result"
    }
   ],
   "source": [
    "# Melt the allall_rois_pair_df such that all shock beta values are put one column, and every beta is marked by the roi which it belongs to by another column 'ROI' nex to it\n",
    "all_rois_pair_df_melted = all_rois_pair_df.melt(id_vars='Pair',var_name='ROI',value_name='Y')\n",
    "all_rois_pair_df_melted.set_index('Pair',inplace=True)\n",
    "all_rois_pair_df_melted.head()"
   ]
  },
  {
   "cell_type": "code",
   "execution_count": 32,
   "metadata": {},
   "outputs": [],
   "source": [
    "# Join (on index 'Pair') the STAI score (new_score_df) and the roi shock beta (all_rois_pair_df_melted) dataframes\n",
    "full_df = all_rois_pair_df_melted.join(new_score_df_norm)\n",
    "full_df.reset_index(inplace=True)\n",
    "full_df['Subj'] = full_df['Pair']\n",
    "full_df.drop(columns = 'Pair',inplace=True)\n",
    "col_order = ['Subj','ROI','Y','TRAITmean','TRAITdiff','STATEmean','STATEdiff']"
   ]
  },
  {
   "cell_type": "code",
   "execution_count": null,
   "metadata": {},
   "outputs": [],
   "source": []
  },
  {
   "cell_type": "code",
   "execution_count": 33,
   "metadata": {},
   "outputs": [
    {
     "name": "stdout",
     "output_type": "stream",
     "text": [
      "     ROI         Y  TRAITdiff  TRAITmean  STATEdiff  STATEmean Subj\n",
      "0  vmPFC -0.054422  -0.040647  -1.003049  -0.181211  -1.230659  P00\n",
      "1   PCC1  0.510746  -0.040647  -1.003049  -0.181211  -1.230659  P00\n",
      "2   PCC2  0.373305  -0.040647  -1.003049  -0.181211  -1.230659  P00\n",
      "3   rPAG  0.742407  -0.040647  -1.003049  -0.181211  -1.230659  P00\n",
      "4   lPAG -0.094870  -0.040647  -1.003049  -0.181211  -1.230659  P00\n",
      "      ROI         Y  TRAITdiff  TRAITmean  STATEdiff  STATEmean Subj\n",
      "1459  lCa -0.175988  -1.103272   0.572285  -1.177055   0.830403  P62\n",
      "1460  rPa  0.125831  -1.103272   0.572285  -1.177055   0.830403  P62\n",
      "1461  lPa  0.216568  -1.103272   0.572285  -1.177055   0.830403  P62\n",
      "1462  rVS -0.012240  -1.103272   0.572285  -1.177055   0.830403  P62\n",
      "1463  lVS -0.263019  -1.103272   0.572285  -1.177055   0.830403  P62\n"
     ]
    }
   ],
   "source": [
    "print(full_df.head())\n",
    "print(full_df.tail())"
   ]
  },
  {
   "cell_type": "code",
   "execution_count": 34,
   "metadata": {},
   "outputs": [],
   "source": [
    "full_df[col_order].to_csv('uncon_v_con_shock_MR_ROI24_with_covariates/uncon_v_con_shock_MR_ROI24_with_covariates2.txt',sep='\\t',float_format='%.4f',index=False)"
   ]
  },
  {
   "cell_type": "code",
   "execution_count": 35,
   "metadata": {},
   "outputs": [],
   "source": [
    "full_df[full_df['ROI']=='rBNST'][col_order].drop(columns='ROI').to_csv('uncon_v_con_rBNST_with_covariates/uncon_v_con_shock_MR_rBNST_with_covariates2.txt',sep='\\t',float_format='%.4f',index=False)"
   ]
  },
  {
   "cell_type": "markdown",
   "metadata": {},
   "source": [
    "# Distribution of Y (shock beta contrast [uncon-con])"
   ]
  },
  {
   "cell_type": "code",
   "execution_count": 36,
   "metadata": {},
   "outputs": [
    {
     "data": {
      "text/plain": [
       "Text(0.75, 150, 'Skeweness=0.345')"
      ]
     },
     "execution_count": 36,
     "metadata": {},
     "output_type": "execute_result"
    },
    {
     "data": {
      "image/png": "[encoded data removed]",
      "text/plain": [
       "<Figure size 576x432 with 1 Axes>"
      ]
     },
     "metadata": {
      "needs_background": "light"
     },
     "output_type": "display_data"
    }
   ],
   "source": [
    "plt.figure(figsize = (8,6))\n",
    "sns.distplot(full_df.Y,kde=False)\n",
    "plt.text(x=0.75,y=150, s='Skeweness=%.3f' %(full_df.Y.skew()),fontdict={'size':14})"
   ]
  },
  {
   "cell_type": "markdown",
   "metadata": {},
   "source": [
    "There is minor skewness but there are also a few outliers. Hence use student-t distribution for Y in RBA."
   ]
  },
  {
   "cell_type": "code",
   "execution_count": null,
   "metadata": {},
   "outputs": [],
   "source": []
  }
 ],
 "metadata": {
  "kernelspec": {
   "display_name": "Python 3",
   "language": "python",
   "name": "python3"
  },
  "language_info": {
   "codemirror_mode": {
    "name": "ipython",
    "version": 3
   },
   "file_extension": ".py",
   "mimetype": "text/x-python",
   "name": "python",
   "nbconvert_exporter": "python",
   "pygments_lexer": "ipython3",
   "version": "3.7.3"
  }
 },
 "nbformat": 4,
 "nbformat_minor": 4
}
